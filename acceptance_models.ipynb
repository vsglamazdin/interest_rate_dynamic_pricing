{
 "cells": [
  {
   "cell_type": "code",
   "execution_count": null,
   "metadata": {
    "execution": {
     "iopub.execute_input": "2023-01-20T08:36:45.512862Z",
     "iopub.status.busy": "2023-01-20T08:36:45.512561Z",
     "iopub.status.idle": "2023-01-20T08:36:45.857169Z",
     "shell.execute_reply": "2023-01-20T08:36:45.855963Z",
     "shell.execute_reply.started": "2023-01-20T08:36:45.512828Z"
    }
   },
   "outputs": [
    {
     "name": "stdout",
     "output_type": "stream",
     "text": [
      "Archive:  archive.zip\r\n",
      "replace test_data.csv? [y]es, [n]o, [A]ll, [N]one, [r]ename: "
     ]
    }
   ],
   "source": [
    "!unzip archive.zip"
   ]
  },
  {
   "cell_type": "code",
   "execution_count": 1,
   "metadata": {
    "execution": {
     "iopub.execute_input": "2023-03-20T11:50:16.641362Z",
     "iopub.status.busy": "2023-03-20T11:50:16.640948Z",
     "iopub.status.idle": "2023-03-20T11:50:21.618896Z",
     "shell.execute_reply": "2023-03-20T11:50:21.617464Z",
     "shell.execute_reply.started": "2023-03-20T11:50:16.641236Z"
    },
    "tags": []
   },
   "outputs": [],
   "source": [
    "import numpy as np\n",
    "import pandas as pd\n",
    "import matplotlib.pyplot as plt\n",
    "import seaborn as sns\n",
    "\n",
    "from sklearn.model_selection import train_test_split, GridSearchCV, cross_val_score, StratifiedKFold\n",
    "from sklearn.metrics import roc_auc_score\n",
    "from sklearn.preprocessing import StandardScaler, OneHotEncoder\n",
    "from category_encoders.target_encoder import TargetEncoder\n",
    "from sklearn.linear_model import LogisticRegression\n",
    "from sklearn.ensemble import RandomForestClassifier\n",
    "from sklearn.compose import ColumnTransformer\n",
    "from sklearn.pipeline import Pipeline\n",
    "from sklearn.calibration import calibration_curve\n",
    "\n",
    "from lightgbm import LGBMClassifier\n",
    "from optuna import create_study\n",
    "from optuna.samplers import TPESampler\n",
    "\n",
    "from tqdm import tqdm_notebook\n",
    "import joblib\n",
    "\n",
    "import warnings\n",
    "warnings.filterwarnings('ignore')"
   ]
  },
  {
   "cell_type": "code",
   "execution_count": 2,
   "metadata": {
    "execution": {
     "iopub.execute_input": "2023-03-20T11:50:21.630334Z",
     "iopub.status.busy": "2023-03-20T11:50:21.630020Z",
     "iopub.status.idle": "2023-03-20T11:50:21.830584Z",
     "shell.execute_reply": "2023-03-20T11:50:21.829657Z",
     "shell.execute_reply.started": "2023-03-20T11:50:21.630280Z"
    },
    "tags": []
   },
   "outputs": [
    {
     "data": {
      "text/html": [
       "<div>\n",
       "<style scoped>\n",
       "    .dataframe tbody tr th:only-of-type {\n",
       "        vertical-align: middle;\n",
       "    }\n",
       "\n",
       "    .dataframe tbody tr th {\n",
       "        vertical-align: top;\n",
       "    }\n",
       "\n",
       "    .dataframe thead th {\n",
       "        text-align: right;\n",
       "    }\n",
       "</style>\n",
       "<table border=\"1\" class=\"dataframe\">\n",
       "  <thead>\n",
       "    <tr style=\"text-align: right;\">\n",
       "      <th></th>\n",
       "      <th>Tier</th>\n",
       "      <th>FICO</th>\n",
       "      <th>Term</th>\n",
       "      <th>Amount</th>\n",
       "      <th>Previous_Rate</th>\n",
       "      <th>Competition_rate</th>\n",
       "      <th>Rate</th>\n",
       "      <th>Cost_Funds</th>\n",
       "      <th>Partner Bin</th>\n",
       "      <th>Car_Type_N</th>\n",
       "      <th>Car_Type_R</th>\n",
       "      <th>Car_Type_U</th>\n",
       "      <th>Accept</th>\n",
       "    </tr>\n",
       "  </thead>\n",
       "  <tbody>\n",
       "    <tr>\n",
       "      <th>0</th>\n",
       "      <td>2</td>\n",
       "      <td>725</td>\n",
       "      <td>72</td>\n",
       "      <td>30500.0</td>\n",
       "      <td>5</td>\n",
       "      <td>6.09</td>\n",
       "      <td>4.99</td>\n",
       "      <td>1.1200</td>\n",
       "      <td>2</td>\n",
       "      <td>0</td>\n",
       "      <td>1</td>\n",
       "      <td>0</td>\n",
       "      <td>0</td>\n",
       "    </tr>\n",
       "    <tr>\n",
       "      <th>1</th>\n",
       "      <td>1</td>\n",
       "      <td>739</td>\n",
       "      <td>60</td>\n",
       "      <td>25995.0</td>\n",
       "      <td>-10</td>\n",
       "      <td>4.79</td>\n",
       "      <td>4.79</td>\n",
       "      <td>1.9590</td>\n",
       "      <td>2</td>\n",
       "      <td>0</td>\n",
       "      <td>0</td>\n",
       "      <td>1</td>\n",
       "      <td>0</td>\n",
       "    </tr>\n",
       "    <tr>\n",
       "      <th>2</th>\n",
       "      <td>1</td>\n",
       "      <td>781</td>\n",
       "      <td>60</td>\n",
       "      <td>39000.0</td>\n",
       "      <td>-10</td>\n",
       "      <td>4.25</td>\n",
       "      <td>4.25</td>\n",
       "      <td>1.1200</td>\n",
       "      <td>2</td>\n",
       "      <td>1</td>\n",
       "      <td>0</td>\n",
       "      <td>0</td>\n",
       "      <td>0</td>\n",
       "    </tr>\n",
       "    <tr>\n",
       "      <th>3</th>\n",
       "      <td>2</td>\n",
       "      <td>718</td>\n",
       "      <td>72</td>\n",
       "      <td>30000.0</td>\n",
       "      <td>-10</td>\n",
       "      <td>5.39</td>\n",
       "      <td>5.44</td>\n",
       "      <td>1.3363</td>\n",
       "      <td>1</td>\n",
       "      <td>1</td>\n",
       "      <td>0</td>\n",
       "      <td>0</td>\n",
       "      <td>1</td>\n",
       "    </tr>\n",
       "    <tr>\n",
       "      <th>4</th>\n",
       "      <td>2</td>\n",
       "      <td>703</td>\n",
       "      <td>72</td>\n",
       "      <td>38000.0</td>\n",
       "      <td>-10</td>\n",
       "      <td>5.75</td>\n",
       "      <td>6.29</td>\n",
       "      <td>1.1338</td>\n",
       "      <td>1</td>\n",
       "      <td>0</td>\n",
       "      <td>0</td>\n",
       "      <td>1</td>\n",
       "      <td>0</td>\n",
       "    </tr>\n",
       "  </tbody>\n",
       "</table>\n",
       "</div>"
      ],
      "text/plain": [
       "   Tier  FICO  Term   Amount  Previous_Rate  Competition_rate  Rate  \\\n",
       "0     2   725    72  30500.0              5              6.09  4.99   \n",
       "1     1   739    60  25995.0            -10              4.79  4.79   \n",
       "2     1   781    60  39000.0            -10              4.25  4.25   \n",
       "3     2   718    72  30000.0            -10              5.39  5.44   \n",
       "4     2   703    72  38000.0            -10              5.75  6.29   \n",
       "\n",
       "   Cost_Funds  Partner Bin  Car_Type_N  Car_Type_R  Car_Type_U  Accept  \n",
       "0      1.1200            2           0           1           0       0  \n",
       "1      1.9590            2           0           0           1       0  \n",
       "2      1.1200            2           1           0           0       0  \n",
       "3      1.3363            1           1           0           0       1  \n",
       "4      1.1338            1           0           0           1       0  "
      ]
     },
     "execution_count": 2,
     "metadata": {},
     "output_type": "execute_result"
    }
   ],
   "source": [
    "train_data = pd.read_csv('train_data.csv')\n",
    "train_data.head()"
   ]
  },
  {
   "cell_type": "code",
   "execution_count": 3,
   "metadata": {
    "execution": {
     "iopub.execute_input": "2023-03-20T11:50:21.832161Z",
     "iopub.status.busy": "2023-03-20T11:50:21.831931Z",
     "iopub.status.idle": "2023-03-20T11:50:22.006194Z",
     "shell.execute_reply": "2023-03-20T11:50:22.005219Z",
     "shell.execute_reply.started": "2023-03-20T11:50:21.832121Z"
    },
    "tags": []
   },
   "outputs": [
    {
     "data": {
      "text/html": [
       "<div>\n",
       "<style scoped>\n",
       "    .dataframe tbody tr th:only-of-type {\n",
       "        vertical-align: middle;\n",
       "    }\n",
       "\n",
       "    .dataframe tbody tr th {\n",
       "        vertical-align: top;\n",
       "    }\n",
       "\n",
       "    .dataframe thead th {\n",
       "        text-align: right;\n",
       "    }\n",
       "</style>\n",
       "<table border=\"1\" class=\"dataframe\">\n",
       "  <thead>\n",
       "    <tr style=\"text-align: right;\">\n",
       "      <th></th>\n",
       "      <th>Tier</th>\n",
       "      <th>FICO</th>\n",
       "      <th>Term</th>\n",
       "      <th>Amount</th>\n",
       "      <th>Previous_Rate</th>\n",
       "      <th>Competition_rate</th>\n",
       "      <th>Rate</th>\n",
       "      <th>Cost_Funds</th>\n",
       "      <th>Partner Bin</th>\n",
       "      <th>Car_Type_N</th>\n",
       "      <th>Car_Type_R</th>\n",
       "      <th>Car_Type_U</th>\n",
       "      <th>Accept</th>\n",
       "    </tr>\n",
       "  </thead>\n",
       "  <tbody>\n",
       "    <tr>\n",
       "      <th>count</th>\n",
       "      <td>145659.000000</td>\n",
       "      <td>145659.000000</td>\n",
       "      <td>145659.000000</td>\n",
       "      <td>145659.000000</td>\n",
       "      <td>145659.000000</td>\n",
       "      <td>145659.000000</td>\n",
       "      <td>145659.000000</td>\n",
       "      <td>145659.000000</td>\n",
       "      <td>145659.000000</td>\n",
       "      <td>145659.000000</td>\n",
       "      <td>145659.000000</td>\n",
       "      <td>145659.000000</td>\n",
       "      <td>145659.000000</td>\n",
       "    </tr>\n",
       "    <tr>\n",
       "      <th>mean</th>\n",
       "      <td>1.928429</td>\n",
       "      <td>726.695556</td>\n",
       "      <td>56.822441</td>\n",
       "      <td>25996.819760</td>\n",
       "      <td>-6.001435</td>\n",
       "      <td>4.807957</td>\n",
       "      <td>5.623998</td>\n",
       "      <td>1.329209</td>\n",
       "      <td>2.029473</td>\n",
       "      <td>0.571815</td>\n",
       "      <td>0.226865</td>\n",
       "      <td>0.201320</td>\n",
       "      <td>0.220041</td>\n",
       "    </tr>\n",
       "    <tr>\n",
       "      <th>std</th>\n",
       "      <td>1.050519</td>\n",
       "      <td>44.727756</td>\n",
       "      <td>11.201037</td>\n",
       "      <td>11125.968255</td>\n",
       "      <td>7.499216</td>\n",
       "      <td>0.586018</td>\n",
       "      <td>1.545418</td>\n",
       "      <td>0.278368</td>\n",
       "      <td>0.911097</td>\n",
       "      <td>0.494817</td>\n",
       "      <td>0.418806</td>\n",
       "      <td>0.400988</td>\n",
       "      <td>0.414276</td>\n",
       "    </tr>\n",
       "    <tr>\n",
       "      <th>min</th>\n",
       "      <td>1.000000</td>\n",
       "      <td>594.000000</td>\n",
       "      <td>36.000000</td>\n",
       "      <td>4526.620000</td>\n",
       "      <td>-10.000000</td>\n",
       "      <td>2.990000</td>\n",
       "      <td>2.450000</td>\n",
       "      <td>1.020000</td>\n",
       "      <td>1.000000</td>\n",
       "      <td>0.000000</td>\n",
       "      <td>0.000000</td>\n",
       "      <td>0.000000</td>\n",
       "      <td>0.000000</td>\n",
       "    </tr>\n",
       "    <tr>\n",
       "      <th>25%</th>\n",
       "      <td>1.000000</td>\n",
       "      <td>692.000000</td>\n",
       "      <td>48.000000</td>\n",
       "      <td>17753.450000</td>\n",
       "      <td>-10.000000</td>\n",
       "      <td>4.390000</td>\n",
       "      <td>4.490000</td>\n",
       "      <td>1.110000</td>\n",
       "      <td>1.000000</td>\n",
       "      <td>0.000000</td>\n",
       "      <td>0.000000</td>\n",
       "      <td>0.000000</td>\n",
       "      <td>0.000000</td>\n",
       "    </tr>\n",
       "    <tr>\n",
       "      <th>50%</th>\n",
       "      <td>2.000000</td>\n",
       "      <td>726.000000</td>\n",
       "      <td>60.000000</td>\n",
       "      <td>25000.000000</td>\n",
       "      <td>-10.000000</td>\n",
       "      <td>4.790000</td>\n",
       "      <td>5.090000</td>\n",
       "      <td>1.262500</td>\n",
       "      <td>2.000000</td>\n",
       "      <td>1.000000</td>\n",
       "      <td>0.000000</td>\n",
       "      <td>0.000000</td>\n",
       "      <td>0.000000</td>\n",
       "    </tr>\n",
       "    <tr>\n",
       "      <th>75%</th>\n",
       "      <td>3.000000</td>\n",
       "      <td>762.000000</td>\n",
       "      <td>60.000000</td>\n",
       "      <td>33000.000000</td>\n",
       "      <td>-10.000000</td>\n",
       "      <td>5.190000</td>\n",
       "      <td>6.390000</td>\n",
       "      <td>1.419400</td>\n",
       "      <td>3.000000</td>\n",
       "      <td>1.000000</td>\n",
       "      <td>0.000000</td>\n",
       "      <td>0.000000</td>\n",
       "      <td>0.000000</td>\n",
       "    </tr>\n",
       "    <tr>\n",
       "      <th>max</th>\n",
       "      <td>4.000000</td>\n",
       "      <td>852.000000</td>\n",
       "      <td>72.000000</td>\n",
       "      <td>100000.000000</td>\n",
       "      <td>24.000000</td>\n",
       "      <td>6.450000</td>\n",
       "      <td>15.530000</td>\n",
       "      <td>2.127000</td>\n",
       "      <td>3.000000</td>\n",
       "      <td>1.000000</td>\n",
       "      <td>1.000000</td>\n",
       "      <td>1.000000</td>\n",
       "      <td>1.000000</td>\n",
       "    </tr>\n",
       "  </tbody>\n",
       "</table>\n",
       "</div>"
      ],
      "text/plain": [
       "                Tier           FICO           Term         Amount  \\\n",
       "count  145659.000000  145659.000000  145659.000000  145659.000000   \n",
       "mean        1.928429     726.695556      56.822441   25996.819760   \n",
       "std         1.050519      44.727756      11.201037   11125.968255   \n",
       "min         1.000000     594.000000      36.000000    4526.620000   \n",
       "25%         1.000000     692.000000      48.000000   17753.450000   \n",
       "50%         2.000000     726.000000      60.000000   25000.000000   \n",
       "75%         3.000000     762.000000      60.000000   33000.000000   \n",
       "max         4.000000     852.000000      72.000000  100000.000000   \n",
       "\n",
       "       Previous_Rate  Competition_rate           Rate     Cost_Funds  \\\n",
       "count  145659.000000     145659.000000  145659.000000  145659.000000   \n",
       "mean       -6.001435          4.807957       5.623998       1.329209   \n",
       "std         7.499216          0.586018       1.545418       0.278368   \n",
       "min       -10.000000          2.990000       2.450000       1.020000   \n",
       "25%       -10.000000          4.390000       4.490000       1.110000   \n",
       "50%       -10.000000          4.790000       5.090000       1.262500   \n",
       "75%       -10.000000          5.190000       6.390000       1.419400   \n",
       "max        24.000000          6.450000      15.530000       2.127000   \n",
       "\n",
       "         Partner Bin     Car_Type_N     Car_Type_R     Car_Type_U  \\\n",
       "count  145659.000000  145659.000000  145659.000000  145659.000000   \n",
       "mean        2.029473       0.571815       0.226865       0.201320   \n",
       "std         0.911097       0.494817       0.418806       0.400988   \n",
       "min         1.000000       0.000000       0.000000       0.000000   \n",
       "25%         1.000000       0.000000       0.000000       0.000000   \n",
       "50%         2.000000       1.000000       0.000000       0.000000   \n",
       "75%         3.000000       1.000000       0.000000       0.000000   \n",
       "max         3.000000       1.000000       1.000000       1.000000   \n",
       "\n",
       "              Accept  \n",
       "count  145659.000000  \n",
       "mean        0.220041  \n",
       "std         0.414276  \n",
       "min         0.000000  \n",
       "25%         0.000000  \n",
       "50%         0.000000  \n",
       "75%         0.000000  \n",
       "max         1.000000  "
      ]
     },
     "execution_count": 3,
     "metadata": {},
     "output_type": "execute_result"
    }
   ],
   "source": [
    "train_data.describe()"
   ]
  },
  {
   "cell_type": "code",
   "execution_count": 4,
   "metadata": {
    "execution": {
     "iopub.execute_input": "2023-03-20T11:50:22.007520Z",
     "iopub.status.busy": "2023-03-20T11:50:22.007314Z",
     "iopub.status.idle": "2023-03-20T11:50:22.091107Z",
     "shell.execute_reply": "2023-03-20T11:50:22.090268Z",
     "shell.execute_reply.started": "2023-03-20T11:50:22.007482Z"
    },
    "tags": []
   },
   "outputs": [
    {
     "data": {
      "text/html": [
       "<div>\n",
       "<style scoped>\n",
       "    .dataframe tbody tr th:only-of-type {\n",
       "        vertical-align: middle;\n",
       "    }\n",
       "\n",
       "    .dataframe tbody tr th {\n",
       "        vertical-align: top;\n",
       "    }\n",
       "\n",
       "    .dataframe thead th {\n",
       "        text-align: right;\n",
       "    }\n",
       "</style>\n",
       "<table border=\"1\" class=\"dataframe\">\n",
       "  <thead>\n",
       "    <tr style=\"text-align: right;\">\n",
       "      <th></th>\n",
       "      <th>Tier</th>\n",
       "      <th>FICO</th>\n",
       "      <th>Term</th>\n",
       "      <th>Amount</th>\n",
       "      <th>Previous_Rate</th>\n",
       "      <th>Competition_rate</th>\n",
       "      <th>Rate</th>\n",
       "      <th>Cost_Funds</th>\n",
       "      <th>Partner Bin</th>\n",
       "      <th>Car_Type_N</th>\n",
       "      <th>Car_Type_R</th>\n",
       "      <th>Car_Type_U</th>\n",
       "      <th>Accept</th>\n",
       "    </tr>\n",
       "  </thead>\n",
       "  <tbody>\n",
       "    <tr>\n",
       "      <th>0</th>\n",
       "      <td>4</td>\n",
       "      <td>656</td>\n",
       "      <td>60</td>\n",
       "      <td>19600.0</td>\n",
       "      <td>-10</td>\n",
       "      <td>5.49</td>\n",
       "      <td>7.89</td>\n",
       "      <td>1.80</td>\n",
       "      <td>1</td>\n",
       "      <td>1</td>\n",
       "      <td>0</td>\n",
       "      <td>0</td>\n",
       "      <td>0</td>\n",
       "    </tr>\n",
       "    <tr>\n",
       "      <th>1</th>\n",
       "      <td>2</td>\n",
       "      <td>708</td>\n",
       "      <td>60</td>\n",
       "      <td>25921.0</td>\n",
       "      <td>8</td>\n",
       "      <td>5.49</td>\n",
       "      <td>7.02</td>\n",
       "      <td>1.99</td>\n",
       "      <td>2</td>\n",
       "      <td>0</td>\n",
       "      <td>1</td>\n",
       "      <td>0</td>\n",
       "      <td>0</td>\n",
       "    </tr>\n",
       "    <tr>\n",
       "      <th>2</th>\n",
       "      <td>4</td>\n",
       "      <td>666</td>\n",
       "      <td>60</td>\n",
       "      <td>18542.0</td>\n",
       "      <td>-10</td>\n",
       "      <td>5.75</td>\n",
       "      <td>7.89</td>\n",
       "      <td>1.82</td>\n",
       "      <td>3</td>\n",
       "      <td>0</td>\n",
       "      <td>0</td>\n",
       "      <td>1</td>\n",
       "      <td>0</td>\n",
       "    </tr>\n",
       "    <tr>\n",
       "      <th>3</th>\n",
       "      <td>1</td>\n",
       "      <td>749</td>\n",
       "      <td>48</td>\n",
       "      <td>18000.0</td>\n",
       "      <td>-10</td>\n",
       "      <td>4.89</td>\n",
       "      <td>4.14</td>\n",
       "      <td>1.34</td>\n",
       "      <td>1</td>\n",
       "      <td>1</td>\n",
       "      <td>0</td>\n",
       "      <td>0</td>\n",
       "      <td>1</td>\n",
       "    </tr>\n",
       "    <tr>\n",
       "      <th>4</th>\n",
       "      <td>2</td>\n",
       "      <td>709</td>\n",
       "      <td>60</td>\n",
       "      <td>25000.0</td>\n",
       "      <td>-10</td>\n",
       "      <td>4.25</td>\n",
       "      <td>4.69</td>\n",
       "      <td>1.11</td>\n",
       "      <td>1</td>\n",
       "      <td>1</td>\n",
       "      <td>0</td>\n",
       "      <td>0</td>\n",
       "      <td>0</td>\n",
       "    </tr>\n",
       "  </tbody>\n",
       "</table>\n",
       "</div>"
      ],
      "text/plain": [
       "   Tier  FICO  Term   Amount  Previous_Rate  Competition_rate  Rate  \\\n",
       "0     4   656    60  19600.0            -10              5.49  7.89   \n",
       "1     2   708    60  25921.0              8              5.49  7.02   \n",
       "2     4   666    60  18542.0            -10              5.75  7.89   \n",
       "3     1   749    48  18000.0            -10              4.89  4.14   \n",
       "4     2   709    60  25000.0            -10              4.25  4.69   \n",
       "\n",
       "   Cost_Funds  Partner Bin  Car_Type_N  Car_Type_R  Car_Type_U  Accept  \n",
       "0        1.80            1           1           0           0       0  \n",
       "1        1.99            2           0           1           0       0  \n",
       "2        1.82            3           0           0           1       0  \n",
       "3        1.34            1           1           0           0       1  \n",
       "4        1.11            1           1           0           0       0  "
      ]
     },
     "execution_count": 4,
     "metadata": {},
     "output_type": "execute_result"
    }
   ],
   "source": [
    "test_data = pd.read_csv('test_data.csv')\n",
    "test_data.head()"
   ]
  },
  {
   "cell_type": "code",
   "execution_count": 5,
   "metadata": {
    "execution": {
     "iopub.execute_input": "2023-03-20T11:50:22.092464Z",
     "iopub.status.busy": "2023-03-20T11:50:22.092252Z",
     "iopub.status.idle": "2023-03-20T11:50:22.174770Z",
     "shell.execute_reply": "2023-03-20T11:50:22.173792Z",
     "shell.execute_reply.started": "2023-03-20T11:50:22.092425Z"
    },
    "tags": []
   },
   "outputs": [
    {
     "data": {
      "text/html": [
       "<div>\n",
       "<style scoped>\n",
       "    .dataframe tbody tr th:only-of-type {\n",
       "        vertical-align: middle;\n",
       "    }\n",
       "\n",
       "    .dataframe tbody tr th {\n",
       "        vertical-align: top;\n",
       "    }\n",
       "\n",
       "    .dataframe thead th {\n",
       "        text-align: right;\n",
       "    }\n",
       "</style>\n",
       "<table border=\"1\" class=\"dataframe\">\n",
       "  <thead>\n",
       "    <tr style=\"text-align: right;\">\n",
       "      <th></th>\n",
       "      <th>Tier</th>\n",
       "      <th>FICO</th>\n",
       "      <th>Term</th>\n",
       "      <th>Amount</th>\n",
       "      <th>Previous_Rate</th>\n",
       "      <th>Competition_rate</th>\n",
       "      <th>Rate</th>\n",
       "      <th>Cost_Funds</th>\n",
       "      <th>Partner Bin</th>\n",
       "      <th>Car_Type_N</th>\n",
       "      <th>Car_Type_R</th>\n",
       "      <th>Car_Type_U</th>\n",
       "      <th>Accept</th>\n",
       "    </tr>\n",
       "  </thead>\n",
       "  <tbody>\n",
       "    <tr>\n",
       "      <th>count</th>\n",
       "      <td>62426.000000</td>\n",
       "      <td>62426.000000</td>\n",
       "      <td>62426.000000</td>\n",
       "      <td>62426.000000</td>\n",
       "      <td>62426.000000</td>\n",
       "      <td>62426.000000</td>\n",
       "      <td>62426.000000</td>\n",
       "      <td>62426.000000</td>\n",
       "      <td>62426.000000</td>\n",
       "      <td>62426.000000</td>\n",
       "      <td>62426.000000</td>\n",
       "      <td>62426.000000</td>\n",
       "      <td>62426.000000</td>\n",
       "    </tr>\n",
       "    <tr>\n",
       "      <th>mean</th>\n",
       "      <td>1.924679</td>\n",
       "      <td>726.815061</td>\n",
       "      <td>56.777689</td>\n",
       "      <td>26039.140706</td>\n",
       "      <td>-5.993320</td>\n",
       "      <td>4.805026</td>\n",
       "      <td>5.620835</td>\n",
       "      <td>1.327908</td>\n",
       "      <td>2.030132</td>\n",
       "      <td>0.572982</td>\n",
       "      <td>0.226909</td>\n",
       "      <td>0.200109</td>\n",
       "      <td>0.220037</td>\n",
       "    </tr>\n",
       "    <tr>\n",
       "      <th>std</th>\n",
       "      <td>1.052197</td>\n",
       "      <td>44.913758</td>\n",
       "      <td>11.211280</td>\n",
       "      <td>11068.667027</td>\n",
       "      <td>7.513858</td>\n",
       "      <td>0.586453</td>\n",
       "      <td>1.550624</td>\n",
       "      <td>0.277319</td>\n",
       "      <td>0.910987</td>\n",
       "      <td>0.494649</td>\n",
       "      <td>0.418836</td>\n",
       "      <td>0.400085</td>\n",
       "      <td>0.414274</td>\n",
       "    </tr>\n",
       "    <tr>\n",
       "      <th>min</th>\n",
       "      <td>1.000000</td>\n",
       "      <td>587.000000</td>\n",
       "      <td>36.000000</td>\n",
       "      <td>5.000000</td>\n",
       "      <td>-10.000000</td>\n",
       "      <td>2.990000</td>\n",
       "      <td>2.590000</td>\n",
       "      <td>1.020000</td>\n",
       "      <td>1.000000</td>\n",
       "      <td>0.000000</td>\n",
       "      <td>0.000000</td>\n",
       "      <td>0.000000</td>\n",
       "      <td>0.000000</td>\n",
       "    </tr>\n",
       "    <tr>\n",
       "      <th>25%</th>\n",
       "      <td>1.000000</td>\n",
       "      <td>692.000000</td>\n",
       "      <td>48.000000</td>\n",
       "      <td>17843.192500</td>\n",
       "      <td>-10.000000</td>\n",
       "      <td>4.390000</td>\n",
       "      <td>4.490000</td>\n",
       "      <td>1.110000</td>\n",
       "      <td>1.000000</td>\n",
       "      <td>0.000000</td>\n",
       "      <td>0.000000</td>\n",
       "      <td>0.000000</td>\n",
       "      <td>0.000000</td>\n",
       "    </tr>\n",
       "    <tr>\n",
       "      <th>50%</th>\n",
       "      <td>2.000000</td>\n",
       "      <td>726.000000</td>\n",
       "      <td>60.000000</td>\n",
       "      <td>25000.000000</td>\n",
       "      <td>-10.000000</td>\n",
       "      <td>4.790000</td>\n",
       "      <td>5.090000</td>\n",
       "      <td>1.252500</td>\n",
       "      <td>2.000000</td>\n",
       "      <td>1.000000</td>\n",
       "      <td>0.000000</td>\n",
       "      <td>0.000000</td>\n",
       "      <td>0.000000</td>\n",
       "    </tr>\n",
       "    <tr>\n",
       "      <th>75%</th>\n",
       "      <td>3.000000</td>\n",
       "      <td>763.000000</td>\n",
       "      <td>60.000000</td>\n",
       "      <td>33000.000000</td>\n",
       "      <td>-10.000000</td>\n",
       "      <td>5.190000</td>\n",
       "      <td>6.340000</td>\n",
       "      <td>1.417500</td>\n",
       "      <td>3.000000</td>\n",
       "      <td>1.000000</td>\n",
       "      <td>0.000000</td>\n",
       "      <td>0.000000</td>\n",
       "      <td>0.000000</td>\n",
       "    </tr>\n",
       "    <tr>\n",
       "      <th>max</th>\n",
       "      <td>4.000000</td>\n",
       "      <td>854.000000</td>\n",
       "      <td>72.000000</td>\n",
       "      <td>100000.000000</td>\n",
       "      <td>24.000000</td>\n",
       "      <td>6.450000</td>\n",
       "      <td>13.900000</td>\n",
       "      <td>2.127000</td>\n",
       "      <td>3.000000</td>\n",
       "      <td>1.000000</td>\n",
       "      <td>1.000000</td>\n",
       "      <td>1.000000</td>\n",
       "      <td>1.000000</td>\n",
       "    </tr>\n",
       "  </tbody>\n",
       "</table>\n",
       "</div>"
      ],
      "text/plain": [
       "               Tier          FICO          Term         Amount  Previous_Rate  \\\n",
       "count  62426.000000  62426.000000  62426.000000   62426.000000   62426.000000   \n",
       "mean       1.924679    726.815061     56.777689   26039.140706      -5.993320   \n",
       "std        1.052197     44.913758     11.211280   11068.667027       7.513858   \n",
       "min        1.000000    587.000000     36.000000       5.000000     -10.000000   \n",
       "25%        1.000000    692.000000     48.000000   17843.192500     -10.000000   \n",
       "50%        2.000000    726.000000     60.000000   25000.000000     -10.000000   \n",
       "75%        3.000000    763.000000     60.000000   33000.000000     -10.000000   \n",
       "max        4.000000    854.000000     72.000000  100000.000000      24.000000   \n",
       "\n",
       "       Competition_rate          Rate    Cost_Funds   Partner Bin  \\\n",
       "count      62426.000000  62426.000000  62426.000000  62426.000000   \n",
       "mean           4.805026      5.620835      1.327908      2.030132   \n",
       "std            0.586453      1.550624      0.277319      0.910987   \n",
       "min            2.990000      2.590000      1.020000      1.000000   \n",
       "25%            4.390000      4.490000      1.110000      1.000000   \n",
       "50%            4.790000      5.090000      1.252500      2.000000   \n",
       "75%            5.190000      6.340000      1.417500      3.000000   \n",
       "max            6.450000     13.900000      2.127000      3.000000   \n",
       "\n",
       "         Car_Type_N    Car_Type_R    Car_Type_U        Accept  \n",
       "count  62426.000000  62426.000000  62426.000000  62426.000000  \n",
       "mean       0.572982      0.226909      0.200109      0.220037  \n",
       "std        0.494649      0.418836      0.400085      0.414274  \n",
       "min        0.000000      0.000000      0.000000      0.000000  \n",
       "25%        0.000000      0.000000      0.000000      0.000000  \n",
       "50%        1.000000      0.000000      0.000000      0.000000  \n",
       "75%        1.000000      0.000000      0.000000      0.000000  \n",
       "max        1.000000      1.000000      1.000000      1.000000  "
      ]
     },
     "execution_count": 5,
     "metadata": {},
     "output_type": "execute_result"
    }
   ],
   "source": [
    "test_data.describe()"
   ]
  },
  {
   "cell_type": "code",
   "execution_count": null,
   "metadata": {},
   "outputs": [],
   "source": []
  },
  {
   "cell_type": "markdown",
   "metadata": {
    "jp-MarkdownHeadingCollapsed": true,
    "tags": []
   },
   "source": [
    "## Logreg на Accept:"
   ]
  },
  {
   "cell_type": "code",
   "execution_count": 6,
   "metadata": {
    "execution": {
     "iopub.execute_input": "2023-03-20T11:50:22.176501Z",
     "iopub.status.busy": "2023-03-20T11:50:22.176204Z",
     "iopub.status.idle": "2023-03-20T11:50:22.181629Z",
     "shell.execute_reply": "2023-03-20T11:50:22.180696Z",
     "shell.execute_reply.started": "2023-03-20T11:50:22.176446Z"
    },
    "tags": []
   },
   "outputs": [],
   "source": [
    "num_cols = [\n",
    "    'FICO',\n",
    "    'Term',\n",
    "    'Amount',\n",
    "    'Previous_Rate',\n",
    "    'Competition_rate',\n",
    "#     'Rate',\n",
    "    'Cost_Funds'\n",
    "]\n",
    "\n",
    "cat_cols = [\n",
    "    'Tier',\n",
    "    'Partner Bin'\n",
    "]\n",
    "\n",
    "other = [\n",
    "    'Rate',\n",
    "    'Car_Type_N',\n",
    "    'Car_Type_R',\n",
    "    'Car_Type_U'\n",
    "]\n",
    "\n",
    "target_col = 'Accept'\n"
   ]
  },
  {
   "cell_type": "code",
   "execution_count": 24,
   "metadata": {
    "execution": {
     "iopub.execute_input": "2023-03-20T11:50:22.183217Z",
     "iopub.status.busy": "2023-03-20T11:50:22.182988Z",
     "iopub.status.idle": "2023-03-20T11:50:22.387110Z",
     "shell.execute_reply": "2023-03-20T11:50:22.386442Z",
     "shell.execute_reply.started": "2023-03-20T11:50:22.183177Z"
    },
    "tags": []
   },
   "outputs": [],
   "source": [
    "X, y = train_data.drop(target_col, axis=1), train_data[target_col]\n",
    "X_test, y_test = test_data.drop(target_col, axis=1), test_data[target_col]\n",
    "# X_test, y_test = train_data.drop(target_col, axis=1), train_data[target_col]\n",
    "# X, y = test_data.drop(target_col, axis=1), test_data[target_col]\n",
    "\n",
    "X_train, X_valid, y_train, y_valid = train_test_split(X, y, shuffle=True, stratify=y, test_size=0.25, random_state=19)"
   ]
  },
  {
   "cell_type": "code",
   "execution_count": 25,
   "metadata": {
    "execution": {
     "iopub.execute_input": "2023-03-20T11:50:22.388302Z",
     "iopub.status.busy": "2023-03-20T11:50:22.387985Z",
     "iopub.status.idle": "2023-03-20T11:50:22.393827Z",
     "shell.execute_reply": "2023-03-20T11:50:22.393335Z",
     "shell.execute_reply.started": "2023-03-20T11:50:22.388269Z"
    },
    "tags": []
   },
   "outputs": [],
   "source": [
    "column_transformer_mean_target = ColumnTransformer([\n",
    "    ('mean_target', TargetEncoder(cols=cat_cols), cat_cols),\n",
    "    ('scaling', StandardScaler(), num_cols),\n",
    "    ('pass', 'passthrough', other),\n",
    "])\n",
    "column_transformer_ohe = ColumnTransformer([\n",
    "    ('ohe', OneHotEncoder(handle_unknown='ignore'), cat_cols),\n",
    "    ('scaling', StandardScaler(), num_cols),\n",
    "    ('pass', 'passthrough', other),\n",
    "])\n",
    "\n",
    "pipeline_mean_target = Pipeline(\n",
    "    steps=[\n",
    "        ('preprocessing', column_transformer_mean_target),\n",
    "        ('model', LogisticRegression())\n",
    "    ]\n",
    ")\n",
    "pipeline_ohe = Pipeline(\n",
    "    steps=[\n",
    "        ('preprocessing', column_transformer_ohe),\n",
    "        ('model', LogisticRegression())\n",
    "    ]\n",
    ")"
   ]
  },
  {
   "cell_type": "markdown",
   "metadata": {},
   "source": [
    "### Target Encoding:"
   ]
  },
  {
   "cell_type": "markdown",
   "metadata": {
    "execution": {
     "iopub.execute_input": "2023-01-20T12:20:09.349232Z",
     "iopub.status.busy": "2023-01-20T12:20:09.348745Z",
     "iopub.status.idle": "2023-01-20T12:20:09.353021Z",
     "shell.execute_reply": "2023-01-20T12:20:09.352205Z",
     "shell.execute_reply.started": "2023-01-20T12:20:09.349013Z"
    },
    "tags": []
   },
   "source": [
    "#### Подбор гиперпараметров:"
   ]
  },
  {
   "cell_type": "code",
   "execution_count": 26,
   "metadata": {
    "execution": {
     "iopub.execute_input": "2023-03-20T11:50:22.394808Z",
     "iopub.status.busy": "2023-03-20T11:50:22.394536Z",
     "iopub.status.idle": "2023-03-20T11:56:01.228725Z",
     "shell.execute_reply": "2023-03-20T11:56:01.227516Z",
     "shell.execute_reply.started": "2023-03-20T11:50:22.394777Z"
    },
    "tags": []
   },
   "outputs": [
    {
     "name": "stderr",
     "output_type": "stream",
     "text": [
      "/Users/vsglamazdin/opt/anaconda3/envs/kernel_38/lib/python3.8/site-packages/scipy/optimize/_linesearch.py:416: LineSearchWarning: Rounding errors prevent the line search from converging\n",
      "  warn(msg, LineSearchWarning)\n",
      "/Users/vsglamazdin/opt/anaconda3/envs/kernel_38/lib/python3.8/site-packages/scipy/optimize/_linesearch.py:306: LineSearchWarning: The line search algorithm did not converge\n",
      "  warn('The line search algorithm did not converge', LineSearchWarning)\n",
      "/Users/vsglamazdin/opt/anaconda3/envs/kernel_38/lib/python3.8/site-packages/sklearn/utils/optimize.py:203: UserWarning: Line Search failed\n",
      "  warnings.warn(\"Line Search failed\")\n"
     ]
    },
    {
     "name": "stdout",
     "output_type": "stream",
     "text": [
      "CPU times: user 5.58 s, sys: 5.05 s, total: 10.6 s\n",
      "Wall time: 11min 59s\n"
     ]
    },
    {
     "data": {
      "text/html": [
       "<style>#sk-container-id-5 {color: black;background-color: white;}#sk-container-id-5 pre{padding: 0;}#sk-container-id-5 div.sk-toggleable {background-color: white;}#sk-container-id-5 label.sk-toggleable__label {cursor: pointer;display: block;width: 100%;margin-bottom: 0;padding: 0.3em;box-sizing: border-box;text-align: center;}#sk-container-id-5 label.sk-toggleable__label-arrow:before {content: \"▸\";float: left;margin-right: 0.25em;color: #696969;}#sk-container-id-5 label.sk-toggleable__label-arrow:hover:before {color: black;}#sk-container-id-5 div.sk-estimator:hover label.sk-toggleable__label-arrow:before {color: black;}#sk-container-id-5 div.sk-toggleable__content {max-height: 0;max-width: 0;overflow: hidden;text-align: left;background-color: #f0f8ff;}#sk-container-id-5 div.sk-toggleable__content pre {margin: 0.2em;color: black;border-radius: 0.25em;background-color: #f0f8ff;}#sk-container-id-5 input.sk-toggleable__control:checked~div.sk-toggleable__content {max-height: 200px;max-width: 100%;overflow: auto;}#sk-container-id-5 input.sk-toggleable__control:checked~label.sk-toggleable__label-arrow:before {content: \"▾\";}#sk-container-id-5 div.sk-estimator input.sk-toggleable__control:checked~label.sk-toggleable__label {background-color: #d4ebff;}#sk-container-id-5 div.sk-label input.sk-toggleable__control:checked~label.sk-toggleable__label {background-color: #d4ebff;}#sk-container-id-5 input.sk-hidden--visually {border: 0;clip: rect(1px 1px 1px 1px);clip: rect(1px, 1px, 1px, 1px);height: 1px;margin: -1px;overflow: hidden;padding: 0;position: absolute;width: 1px;}#sk-container-id-5 div.sk-estimator {font-family: monospace;background-color: #f0f8ff;border: 1px dotted black;border-radius: 0.25em;box-sizing: border-box;margin-bottom: 0.5em;}#sk-container-id-5 div.sk-estimator:hover {background-color: #d4ebff;}#sk-container-id-5 div.sk-parallel-item::after {content: \"\";width: 100%;border-bottom: 1px solid gray;flex-grow: 1;}#sk-container-id-5 div.sk-label:hover label.sk-toggleable__label {background-color: #d4ebff;}#sk-container-id-5 div.sk-serial::before {content: \"\";position: absolute;border-left: 1px solid gray;box-sizing: border-box;top: 0;bottom: 0;left: 50%;z-index: 0;}#sk-container-id-5 div.sk-serial {display: flex;flex-direction: column;align-items: center;background-color: white;padding-right: 0.2em;padding-left: 0.2em;position: relative;}#sk-container-id-5 div.sk-item {position: relative;z-index: 1;}#sk-container-id-5 div.sk-parallel {display: flex;align-items: stretch;justify-content: center;background-color: white;position: relative;}#sk-container-id-5 div.sk-item::before, #sk-container-id-5 div.sk-parallel-item::before {content: \"\";position: absolute;border-left: 1px solid gray;box-sizing: border-box;top: 0;bottom: 0;left: 50%;z-index: -1;}#sk-container-id-5 div.sk-parallel-item {display: flex;flex-direction: column;z-index: 1;position: relative;background-color: white;}#sk-container-id-5 div.sk-parallel-item:first-child::after {align-self: flex-end;width: 50%;}#sk-container-id-5 div.sk-parallel-item:last-child::after {align-self: flex-start;width: 50%;}#sk-container-id-5 div.sk-parallel-item:only-child::after {width: 0;}#sk-container-id-5 div.sk-dashed-wrapped {border: 1px dashed gray;margin: 0 0.4em 0.5em 0.4em;box-sizing: border-box;padding-bottom: 0.4em;background-color: white;}#sk-container-id-5 div.sk-label label {font-family: monospace;font-weight: bold;display: inline-block;line-height: 1.2em;}#sk-container-id-5 div.sk-label-container {text-align: center;}#sk-container-id-5 div.sk-container {/* jupyter's `normalize.less` sets `[hidden] { display: none; }` but bootstrap.min.css set `[hidden] { display: none !important; }` so we also need the `!important` here to be able to override the default hidden behavior on the sphinx rendered scikit-learn.org. See: https://github.com/scikit-learn/scikit-learn/issues/21755 */display: inline-block !important;position: relative;}#sk-container-id-5 div.sk-text-repr-fallback {display: none;}</style><div id=\"sk-container-id-5\" class=\"sk-top-container\"><div class=\"sk-text-repr-fallback\"><pre>GridSearchCV(cv=10,\n",
       "             estimator=Pipeline(steps=[(&#x27;preprocessing&#x27;,\n",
       "                                        ColumnTransformer(transformers=[(&#x27;mean_target&#x27;,\n",
       "                                                                         TargetEncoder(cols=[&#x27;Tier&#x27;,\n",
       "                                                                                             &#x27;Partner &#x27;\n",
       "                                                                                             &#x27;Bin&#x27;]),\n",
       "                                                                         [&#x27;Tier&#x27;,\n",
       "                                                                          &#x27;Partner &#x27;\n",
       "                                                                          &#x27;Bin&#x27;]),\n",
       "                                                                        (&#x27;scaling&#x27;,\n",
       "                                                                         StandardScaler(),\n",
       "                                                                         [&#x27;FICO&#x27;,\n",
       "                                                                          &#x27;Term&#x27;,\n",
       "                                                                          &#x27;Amount&#x27;,\n",
       "                                                                          &#x27;Previous_Rate&#x27;,\n",
       "                                                                          &#x27;Competition_rate&#x27;,\n",
       "                                                                          &#x27;Cost_Funds&#x27;]),\n",
       "                                                                        (&#x27;pass&#x27;,\n",
       "                                                                         &#x27;passthrough&#x27;,\n",
       "                                                                         [&#x27;Rate&#x27;,\n",
       "                                                                          &#x27;Car_Type_N&#x27;,\n",
       "                                                                          &#x27;Car_Type_R&#x27;,\n",
       "                                                                          &#x27;Car_Type_U&#x27;])...\n",
       "       1.00000000e-01, 3.16227766e-01, 1.00000000e+00, 3.16227766e+00,\n",
       "       1.00000000e+01, 3.16227766e+01, 1.00000000e+02, 3.16227766e+02,\n",
       "       1.00000000e+03, 3.16227766e+03, 1.00000000e+04, 3.16227766e+04,\n",
       "       1.00000000e+05, 3.16227766e+05, 1.00000000e+06]),\n",
       "                         &#x27;model__max_iter&#x27;: [100000], &#x27;model__penalty&#x27;: [&#x27;l2&#x27;],\n",
       "                         &#x27;model__random_state&#x27;: [19],\n",
       "                         &#x27;model__solver&#x27;: [&#x27;newton-cg&#x27;, &#x27;lbfgs&#x27;, &#x27;liblinear&#x27;,\n",
       "                                           &#x27;sag&#x27;, &#x27;saga&#x27;]},\n",
       "             scoring=&#x27;roc_auc&#x27;)</pre><b>In a Jupyter environment, please rerun this cell to show the HTML representation or trust the notebook. <br />On GitHub, the HTML representation is unable to render, please try loading this page with nbviewer.org.</b></div><div class=\"sk-container\" hidden><div class=\"sk-item sk-dashed-wrapped\"><div class=\"sk-label-container\"><div class=\"sk-label sk-toggleable\"><input class=\"sk-toggleable__control sk-hidden--visually\" id=\"sk-estimator-id-41\" type=\"checkbox\" ><label for=\"sk-estimator-id-41\" class=\"sk-toggleable__label sk-toggleable__label-arrow\">GridSearchCV</label><div class=\"sk-toggleable__content\"><pre>GridSearchCV(cv=10,\n",
       "             estimator=Pipeline(steps=[(&#x27;preprocessing&#x27;,\n",
       "                                        ColumnTransformer(transformers=[(&#x27;mean_target&#x27;,\n",
       "                                                                         TargetEncoder(cols=[&#x27;Tier&#x27;,\n",
       "                                                                                             &#x27;Partner &#x27;\n",
       "                                                                                             &#x27;Bin&#x27;]),\n",
       "                                                                         [&#x27;Tier&#x27;,\n",
       "                                                                          &#x27;Partner &#x27;\n",
       "                                                                          &#x27;Bin&#x27;]),\n",
       "                                                                        (&#x27;scaling&#x27;,\n",
       "                                                                         StandardScaler(),\n",
       "                                                                         [&#x27;FICO&#x27;,\n",
       "                                                                          &#x27;Term&#x27;,\n",
       "                                                                          &#x27;Amount&#x27;,\n",
       "                                                                          &#x27;Previous_Rate&#x27;,\n",
       "                                                                          &#x27;Competition_rate&#x27;,\n",
       "                                                                          &#x27;Cost_Funds&#x27;]),\n",
       "                                                                        (&#x27;pass&#x27;,\n",
       "                                                                         &#x27;passthrough&#x27;,\n",
       "                                                                         [&#x27;Rate&#x27;,\n",
       "                                                                          &#x27;Car_Type_N&#x27;,\n",
       "                                                                          &#x27;Car_Type_R&#x27;,\n",
       "                                                                          &#x27;Car_Type_U&#x27;])...\n",
       "       1.00000000e-01, 3.16227766e-01, 1.00000000e+00, 3.16227766e+00,\n",
       "       1.00000000e+01, 3.16227766e+01, 1.00000000e+02, 3.16227766e+02,\n",
       "       1.00000000e+03, 3.16227766e+03, 1.00000000e+04, 3.16227766e+04,\n",
       "       1.00000000e+05, 3.16227766e+05, 1.00000000e+06]),\n",
       "                         &#x27;model__max_iter&#x27;: [100000], &#x27;model__penalty&#x27;: [&#x27;l2&#x27;],\n",
       "                         &#x27;model__random_state&#x27;: [19],\n",
       "                         &#x27;model__solver&#x27;: [&#x27;newton-cg&#x27;, &#x27;lbfgs&#x27;, &#x27;liblinear&#x27;,\n",
       "                                           &#x27;sag&#x27;, &#x27;saga&#x27;]},\n",
       "             scoring=&#x27;roc_auc&#x27;)</pre></div></div></div><div class=\"sk-parallel\"><div class=\"sk-parallel-item\"><div class=\"sk-item\"><div class=\"sk-label-container\"><div class=\"sk-label sk-toggleable\"><input class=\"sk-toggleable__control sk-hidden--visually\" id=\"sk-estimator-id-42\" type=\"checkbox\" ><label for=\"sk-estimator-id-42\" class=\"sk-toggleable__label sk-toggleable__label-arrow\">estimator: Pipeline</label><div class=\"sk-toggleable__content\"><pre>Pipeline(steps=[(&#x27;preprocessing&#x27;,\n",
       "                 ColumnTransformer(transformers=[(&#x27;mean_target&#x27;,\n",
       "                                                  TargetEncoder(cols=[&#x27;Tier&#x27;,\n",
       "                                                                      &#x27;Partner &#x27;\n",
       "                                                                      &#x27;Bin&#x27;]),\n",
       "                                                  [&#x27;Tier&#x27;, &#x27;Partner Bin&#x27;]),\n",
       "                                                 (&#x27;scaling&#x27;, StandardScaler(),\n",
       "                                                  [&#x27;FICO&#x27;, &#x27;Term&#x27;, &#x27;Amount&#x27;,\n",
       "                                                   &#x27;Previous_Rate&#x27;,\n",
       "                                                   &#x27;Competition_rate&#x27;,\n",
       "                                                   &#x27;Cost_Funds&#x27;]),\n",
       "                                                 (&#x27;pass&#x27;, &#x27;passthrough&#x27;,\n",
       "                                                  [&#x27;Rate&#x27;, &#x27;Car_Type_N&#x27;,\n",
       "                                                   &#x27;Car_Type_R&#x27;,\n",
       "                                                   &#x27;Car_Type_U&#x27;])])),\n",
       "                (&#x27;model&#x27;, LogisticRegression())])</pre></div></div></div><div class=\"sk-serial\"><div class=\"sk-item\"><div class=\"sk-serial\"><div class=\"sk-item sk-dashed-wrapped\"><div class=\"sk-label-container\"><div class=\"sk-label sk-toggleable\"><input class=\"sk-toggleable__control sk-hidden--visually\" id=\"sk-estimator-id-43\" type=\"checkbox\" ><label for=\"sk-estimator-id-43\" class=\"sk-toggleable__label sk-toggleable__label-arrow\">preprocessing: ColumnTransformer</label><div class=\"sk-toggleable__content\"><pre>ColumnTransformer(transformers=[(&#x27;mean_target&#x27;,\n",
       "                                 TargetEncoder(cols=[&#x27;Tier&#x27;, &#x27;Partner Bin&#x27;]),\n",
       "                                 [&#x27;Tier&#x27;, &#x27;Partner Bin&#x27;]),\n",
       "                                (&#x27;scaling&#x27;, StandardScaler(),\n",
       "                                 [&#x27;FICO&#x27;, &#x27;Term&#x27;, &#x27;Amount&#x27;, &#x27;Previous_Rate&#x27;,\n",
       "                                  &#x27;Competition_rate&#x27;, &#x27;Cost_Funds&#x27;]),\n",
       "                                (&#x27;pass&#x27;, &#x27;passthrough&#x27;,\n",
       "                                 [&#x27;Rate&#x27;, &#x27;Car_Type_N&#x27;, &#x27;Car_Type_R&#x27;,\n",
       "                                  &#x27;Car_Type_U&#x27;])])</pre></div></div></div><div class=\"sk-parallel\"><div class=\"sk-parallel-item\"><div class=\"sk-item\"><div class=\"sk-label-container\"><div class=\"sk-label sk-toggleable\"><input class=\"sk-toggleable__control sk-hidden--visually\" id=\"sk-estimator-id-44\" type=\"checkbox\" ><label for=\"sk-estimator-id-44\" class=\"sk-toggleable__label sk-toggleable__label-arrow\">mean_target</label><div class=\"sk-toggleable__content\"><pre>[&#x27;Tier&#x27;, &#x27;Partner Bin&#x27;]</pre></div></div></div><div class=\"sk-serial\"><div class=\"sk-item\"><div class=\"sk-estimator sk-toggleable\"><input class=\"sk-toggleable__control sk-hidden--visually\" id=\"sk-estimator-id-45\" type=\"checkbox\" ><label for=\"sk-estimator-id-45\" class=\"sk-toggleable__label sk-toggleable__label-arrow\">TargetEncoder</label><div class=\"sk-toggleable__content\"><pre>TargetEncoder(cols=[&#x27;Tier&#x27;, &#x27;Partner Bin&#x27;])</pre></div></div></div></div></div></div><div class=\"sk-parallel-item\"><div class=\"sk-item\"><div class=\"sk-label-container\"><div class=\"sk-label sk-toggleable\"><input class=\"sk-toggleable__control sk-hidden--visually\" id=\"sk-estimator-id-46\" type=\"checkbox\" ><label for=\"sk-estimator-id-46\" class=\"sk-toggleable__label sk-toggleable__label-arrow\">scaling</label><div class=\"sk-toggleable__content\"><pre>[&#x27;FICO&#x27;, &#x27;Term&#x27;, &#x27;Amount&#x27;, &#x27;Previous_Rate&#x27;, &#x27;Competition_rate&#x27;, &#x27;Cost_Funds&#x27;]</pre></div></div></div><div class=\"sk-serial\"><div class=\"sk-item\"><div class=\"sk-estimator sk-toggleable\"><input class=\"sk-toggleable__control sk-hidden--visually\" id=\"sk-estimator-id-47\" type=\"checkbox\" ><label for=\"sk-estimator-id-47\" class=\"sk-toggleable__label sk-toggleable__label-arrow\">StandardScaler</label><div class=\"sk-toggleable__content\"><pre>StandardScaler()</pre></div></div></div></div></div></div><div class=\"sk-parallel-item\"><div class=\"sk-item\"><div class=\"sk-label-container\"><div class=\"sk-label sk-toggleable\"><input class=\"sk-toggleable__control sk-hidden--visually\" id=\"sk-estimator-id-48\" type=\"checkbox\" ><label for=\"sk-estimator-id-48\" class=\"sk-toggleable__label sk-toggleable__label-arrow\">pass</label><div class=\"sk-toggleable__content\"><pre>[&#x27;Rate&#x27;, &#x27;Car_Type_N&#x27;, &#x27;Car_Type_R&#x27;, &#x27;Car_Type_U&#x27;]</pre></div></div></div><div class=\"sk-serial\"><div class=\"sk-item\"><div class=\"sk-estimator sk-toggleable\"><input class=\"sk-toggleable__control sk-hidden--visually\" id=\"sk-estimator-id-49\" type=\"checkbox\" ><label for=\"sk-estimator-id-49\" class=\"sk-toggleable__label sk-toggleable__label-arrow\">passthrough</label><div class=\"sk-toggleable__content\"><pre>passthrough</pre></div></div></div></div></div></div></div></div><div class=\"sk-item\"><div class=\"sk-estimator sk-toggleable\"><input class=\"sk-toggleable__control sk-hidden--visually\" id=\"sk-estimator-id-50\" type=\"checkbox\" ><label for=\"sk-estimator-id-50\" class=\"sk-toggleable__label sk-toggleable__label-arrow\">LogisticRegression</label><div class=\"sk-toggleable__content\"><pre>LogisticRegression()</pre></div></div></div></div></div></div></div></div></div></div></div></div>"
      ],
      "text/plain": [
       "GridSearchCV(cv=10,\n",
       "             estimator=Pipeline(steps=[('preprocessing',\n",
       "                                        ColumnTransformer(transformers=[('mean_target',\n",
       "                                                                         TargetEncoder(cols=['Tier',\n",
       "                                                                                             'Partner '\n",
       "                                                                                             'Bin']),\n",
       "                                                                         ['Tier',\n",
       "                                                                          'Partner '\n",
       "                                                                          'Bin']),\n",
       "                                                                        ('scaling',\n",
       "                                                                         StandardScaler(),\n",
       "                                                                         ['FICO',\n",
       "                                                                          'Term',\n",
       "                                                                          'Amount',\n",
       "                                                                          'Previous_Rate',\n",
       "                                                                          'Competition_rate',\n",
       "                                                                          'Cost_Funds']),\n",
       "                                                                        ('pass',\n",
       "                                                                         'passthrough',\n",
       "                                                                         ['Rate',\n",
       "                                                                          'Car_Type_N',\n",
       "                                                                          'Car_Type_R',\n",
       "                                                                          'Car_Type_U'])...\n",
       "       1.00000000e-01, 3.16227766e-01, 1.00000000e+00, 3.16227766e+00,\n",
       "       1.00000000e+01, 3.16227766e+01, 1.00000000e+02, 3.16227766e+02,\n",
       "       1.00000000e+03, 3.16227766e+03, 1.00000000e+04, 3.16227766e+04,\n",
       "       1.00000000e+05, 3.16227766e+05, 1.00000000e+06]),\n",
       "                         'model__max_iter': [100000], 'model__penalty': ['l2'],\n",
       "                         'model__random_state': [19],\n",
       "                         'model__solver': ['newton-cg', 'lbfgs', 'liblinear',\n",
       "                                           'sag', 'saga']},\n",
       "             scoring='roc_auc')"
      ]
     },
     "execution_count": 26,
     "metadata": {},
     "output_type": "execute_result"
    }
   ],
   "source": [
    "%%time\n",
    "\n",
    "logreg_l2_params = {\n",
    "    'model__C': np.logspace(-5, 6, 23),\n",
    "    'model__penalty': ['l2'],\n",
    "    'model__solver': ['newton-cg', 'lbfgs', 'liblinear', 'sag', 'saga'],\n",
    "    'model__max_iter': [10**5],\n",
    "    'model__random_state': [19]\n",
    "}\n",
    "\n",
    "searcher_l2 = GridSearchCV(\n",
    "    pipeline_mean_target, \n",
    "    param_grid=logreg_l2_params,\n",
    "    scoring='roc_auc',\n",
    "    cv=10,\n",
    "    n_jobs=-1\n",
    ")\n",
    "\n",
    "searcher_l2.fit(X_train, y_train)"
   ]
  },
  {
   "cell_type": "code",
   "execution_count": 27,
   "metadata": {
    "execution": {
     "iopub.execute_input": "2023-03-20T11:56:01.231021Z",
     "iopub.status.busy": "2023-03-20T11:56:01.230555Z",
     "iopub.status.idle": "2023-03-20T11:56:01.236620Z",
     "shell.execute_reply": "2023-03-20T11:56:01.235744Z",
     "shell.execute_reply.started": "2023-03-20T11:56:01.230810Z"
    },
    "tags": []
   },
   "outputs": [
    {
     "data": {
      "text/plain": [
       "(0.8472357031988604,\n",
       " {'model__C': 1000.0,\n",
       "  'model__max_iter': 100000,\n",
       "  'model__penalty': 'l2',\n",
       "  'model__random_state': 19,\n",
       "  'model__solver': 'liblinear'})"
      ]
     },
     "execution_count": 27,
     "metadata": {},
     "output_type": "execute_result"
    }
   ],
   "source": [
    "searcher_l2.best_score_, searcher_l2.best_params_"
   ]
  },
  {
   "cell_type": "code",
   "execution_count": 28,
   "metadata": {
    "execution": {
     "iopub.execute_input": "2023-03-20T11:56:01.238109Z",
     "iopub.status.busy": "2023-03-20T11:56:01.237866Z",
     "iopub.status.idle": "2023-03-20T12:02:35.728399Z",
     "shell.execute_reply": "2023-03-20T12:02:35.727641Z",
     "shell.execute_reply.started": "2023-03-20T11:56:01.238055Z"
    },
    "tags": []
   },
   "outputs": [
    {
     "name": "stdout",
     "output_type": "stream",
     "text": [
      "CPU times: user 9.16 s, sys: 1.76 s, total: 10.9 s\n",
      "Wall time: 4min 38s\n"
     ]
    },
    {
     "data": {
      "text/html": [
       "<style>#sk-container-id-6 {color: black;background-color: white;}#sk-container-id-6 pre{padding: 0;}#sk-container-id-6 div.sk-toggleable {background-color: white;}#sk-container-id-6 label.sk-toggleable__label {cursor: pointer;display: block;width: 100%;margin-bottom: 0;padding: 0.3em;box-sizing: border-box;text-align: center;}#sk-container-id-6 label.sk-toggleable__label-arrow:before {content: \"▸\";float: left;margin-right: 0.25em;color: #696969;}#sk-container-id-6 label.sk-toggleable__label-arrow:hover:before {color: black;}#sk-container-id-6 div.sk-estimator:hover label.sk-toggleable__label-arrow:before {color: black;}#sk-container-id-6 div.sk-toggleable__content {max-height: 0;max-width: 0;overflow: hidden;text-align: left;background-color: #f0f8ff;}#sk-container-id-6 div.sk-toggleable__content pre {margin: 0.2em;color: black;border-radius: 0.25em;background-color: #f0f8ff;}#sk-container-id-6 input.sk-toggleable__control:checked~div.sk-toggleable__content {max-height: 200px;max-width: 100%;overflow: auto;}#sk-container-id-6 input.sk-toggleable__control:checked~label.sk-toggleable__label-arrow:before {content: \"▾\";}#sk-container-id-6 div.sk-estimator input.sk-toggleable__control:checked~label.sk-toggleable__label {background-color: #d4ebff;}#sk-container-id-6 div.sk-label input.sk-toggleable__control:checked~label.sk-toggleable__label {background-color: #d4ebff;}#sk-container-id-6 input.sk-hidden--visually {border: 0;clip: rect(1px 1px 1px 1px);clip: rect(1px, 1px, 1px, 1px);height: 1px;margin: -1px;overflow: hidden;padding: 0;position: absolute;width: 1px;}#sk-container-id-6 div.sk-estimator {font-family: monospace;background-color: #f0f8ff;border: 1px dotted black;border-radius: 0.25em;box-sizing: border-box;margin-bottom: 0.5em;}#sk-container-id-6 div.sk-estimator:hover {background-color: #d4ebff;}#sk-container-id-6 div.sk-parallel-item::after {content: \"\";width: 100%;border-bottom: 1px solid gray;flex-grow: 1;}#sk-container-id-6 div.sk-label:hover label.sk-toggleable__label {background-color: #d4ebff;}#sk-container-id-6 div.sk-serial::before {content: \"\";position: absolute;border-left: 1px solid gray;box-sizing: border-box;top: 0;bottom: 0;left: 50%;z-index: 0;}#sk-container-id-6 div.sk-serial {display: flex;flex-direction: column;align-items: center;background-color: white;padding-right: 0.2em;padding-left: 0.2em;position: relative;}#sk-container-id-6 div.sk-item {position: relative;z-index: 1;}#sk-container-id-6 div.sk-parallel {display: flex;align-items: stretch;justify-content: center;background-color: white;position: relative;}#sk-container-id-6 div.sk-item::before, #sk-container-id-6 div.sk-parallel-item::before {content: \"\";position: absolute;border-left: 1px solid gray;box-sizing: border-box;top: 0;bottom: 0;left: 50%;z-index: -1;}#sk-container-id-6 div.sk-parallel-item {display: flex;flex-direction: column;z-index: 1;position: relative;background-color: white;}#sk-container-id-6 div.sk-parallel-item:first-child::after {align-self: flex-end;width: 50%;}#sk-container-id-6 div.sk-parallel-item:last-child::after {align-self: flex-start;width: 50%;}#sk-container-id-6 div.sk-parallel-item:only-child::after {width: 0;}#sk-container-id-6 div.sk-dashed-wrapped {border: 1px dashed gray;margin: 0 0.4em 0.5em 0.4em;box-sizing: border-box;padding-bottom: 0.4em;background-color: white;}#sk-container-id-6 div.sk-label label {font-family: monospace;font-weight: bold;display: inline-block;line-height: 1.2em;}#sk-container-id-6 div.sk-label-container {text-align: center;}#sk-container-id-6 div.sk-container {/* jupyter's `normalize.less` sets `[hidden] { display: none; }` but bootstrap.min.css set `[hidden] { display: none !important; }` so we also need the `!important` here to be able to override the default hidden behavior on the sphinx rendered scikit-learn.org. See: https://github.com/scikit-learn/scikit-learn/issues/21755 */display: inline-block !important;position: relative;}#sk-container-id-6 div.sk-text-repr-fallback {display: none;}</style><div id=\"sk-container-id-6\" class=\"sk-top-container\"><div class=\"sk-text-repr-fallback\"><pre>GridSearchCV(cv=10,\n",
       "             estimator=Pipeline(steps=[(&#x27;preprocessing&#x27;,\n",
       "                                        ColumnTransformer(transformers=[(&#x27;mean_target&#x27;,\n",
       "                                                                         TargetEncoder(cols=[&#x27;Tier&#x27;,\n",
       "                                                                                             &#x27;Partner &#x27;\n",
       "                                                                                             &#x27;Bin&#x27;]),\n",
       "                                                                         [&#x27;Tier&#x27;,\n",
       "                                                                          &#x27;Partner &#x27;\n",
       "                                                                          &#x27;Bin&#x27;]),\n",
       "                                                                        (&#x27;scaling&#x27;,\n",
       "                                                                         StandardScaler(),\n",
       "                                                                         [&#x27;FICO&#x27;,\n",
       "                                                                          &#x27;Term&#x27;,\n",
       "                                                                          &#x27;Amount&#x27;,\n",
       "                                                                          &#x27;Previous_Rate&#x27;,\n",
       "                                                                          &#x27;Competition_rate&#x27;,\n",
       "                                                                          &#x27;Cost_Funds&#x27;]),\n",
       "                                                                        (&#x27;pass&#x27;,\n",
       "                                                                         &#x27;passthrough&#x27;,\n",
       "                                                                         [&#x27;Rate&#x27;,\n",
       "                                                                          &#x27;Car_Type_N&#x27;,\n",
       "                                                                          &#x27;Car_Type_R&#x27;,\n",
       "                                                                          &#x27;Car_Type_U&#x27;])...\n",
       "       1.00000000e-01, 3.16227766e-01, 1.00000000e+00, 3.16227766e+00,\n",
       "       1.00000000e+01, 3.16227766e+01, 1.00000000e+02, 3.16227766e+02,\n",
       "       1.00000000e+03, 3.16227766e+03, 1.00000000e+04, 3.16227766e+04,\n",
       "       1.00000000e+05, 3.16227766e+05, 1.00000000e+06]),\n",
       "                         &#x27;model__max_iter&#x27;: [100000], &#x27;model__penalty&#x27;: [&#x27;l1&#x27;],\n",
       "                         &#x27;model__random_state&#x27;: [19],\n",
       "                         &#x27;model__solver&#x27;: [&#x27;liblinear&#x27;, &#x27;saga&#x27;]},\n",
       "             scoring=&#x27;roc_auc&#x27;)</pre><b>In a Jupyter environment, please rerun this cell to show the HTML representation or trust the notebook. <br />On GitHub, the HTML representation is unable to render, please try loading this page with nbviewer.org.</b></div><div class=\"sk-container\" hidden><div class=\"sk-item sk-dashed-wrapped\"><div class=\"sk-label-container\"><div class=\"sk-label sk-toggleable\"><input class=\"sk-toggleable__control sk-hidden--visually\" id=\"sk-estimator-id-51\" type=\"checkbox\" ><label for=\"sk-estimator-id-51\" class=\"sk-toggleable__label sk-toggleable__label-arrow\">GridSearchCV</label><div class=\"sk-toggleable__content\"><pre>GridSearchCV(cv=10,\n",
       "             estimator=Pipeline(steps=[(&#x27;preprocessing&#x27;,\n",
       "                                        ColumnTransformer(transformers=[(&#x27;mean_target&#x27;,\n",
       "                                                                         TargetEncoder(cols=[&#x27;Tier&#x27;,\n",
       "                                                                                             &#x27;Partner &#x27;\n",
       "                                                                                             &#x27;Bin&#x27;]),\n",
       "                                                                         [&#x27;Tier&#x27;,\n",
       "                                                                          &#x27;Partner &#x27;\n",
       "                                                                          &#x27;Bin&#x27;]),\n",
       "                                                                        (&#x27;scaling&#x27;,\n",
       "                                                                         StandardScaler(),\n",
       "                                                                         [&#x27;FICO&#x27;,\n",
       "                                                                          &#x27;Term&#x27;,\n",
       "                                                                          &#x27;Amount&#x27;,\n",
       "                                                                          &#x27;Previous_Rate&#x27;,\n",
       "                                                                          &#x27;Competition_rate&#x27;,\n",
       "                                                                          &#x27;Cost_Funds&#x27;]),\n",
       "                                                                        (&#x27;pass&#x27;,\n",
       "                                                                         &#x27;passthrough&#x27;,\n",
       "                                                                         [&#x27;Rate&#x27;,\n",
       "                                                                          &#x27;Car_Type_N&#x27;,\n",
       "                                                                          &#x27;Car_Type_R&#x27;,\n",
       "                                                                          &#x27;Car_Type_U&#x27;])...\n",
       "       1.00000000e-01, 3.16227766e-01, 1.00000000e+00, 3.16227766e+00,\n",
       "       1.00000000e+01, 3.16227766e+01, 1.00000000e+02, 3.16227766e+02,\n",
       "       1.00000000e+03, 3.16227766e+03, 1.00000000e+04, 3.16227766e+04,\n",
       "       1.00000000e+05, 3.16227766e+05, 1.00000000e+06]),\n",
       "                         &#x27;model__max_iter&#x27;: [100000], &#x27;model__penalty&#x27;: [&#x27;l1&#x27;],\n",
       "                         &#x27;model__random_state&#x27;: [19],\n",
       "                         &#x27;model__solver&#x27;: [&#x27;liblinear&#x27;, &#x27;saga&#x27;]},\n",
       "             scoring=&#x27;roc_auc&#x27;)</pre></div></div></div><div class=\"sk-parallel\"><div class=\"sk-parallel-item\"><div class=\"sk-item\"><div class=\"sk-label-container\"><div class=\"sk-label sk-toggleable\"><input class=\"sk-toggleable__control sk-hidden--visually\" id=\"sk-estimator-id-52\" type=\"checkbox\" ><label for=\"sk-estimator-id-52\" class=\"sk-toggleable__label sk-toggleable__label-arrow\">estimator: Pipeline</label><div class=\"sk-toggleable__content\"><pre>Pipeline(steps=[(&#x27;preprocessing&#x27;,\n",
       "                 ColumnTransformer(transformers=[(&#x27;mean_target&#x27;,\n",
       "                                                  TargetEncoder(cols=[&#x27;Tier&#x27;,\n",
       "                                                                      &#x27;Partner &#x27;\n",
       "                                                                      &#x27;Bin&#x27;]),\n",
       "                                                  [&#x27;Tier&#x27;, &#x27;Partner Bin&#x27;]),\n",
       "                                                 (&#x27;scaling&#x27;, StandardScaler(),\n",
       "                                                  [&#x27;FICO&#x27;, &#x27;Term&#x27;, &#x27;Amount&#x27;,\n",
       "                                                   &#x27;Previous_Rate&#x27;,\n",
       "                                                   &#x27;Competition_rate&#x27;,\n",
       "                                                   &#x27;Cost_Funds&#x27;]),\n",
       "                                                 (&#x27;pass&#x27;, &#x27;passthrough&#x27;,\n",
       "                                                  [&#x27;Rate&#x27;, &#x27;Car_Type_N&#x27;,\n",
       "                                                   &#x27;Car_Type_R&#x27;,\n",
       "                                                   &#x27;Car_Type_U&#x27;])])),\n",
       "                (&#x27;model&#x27;, LogisticRegression())])</pre></div></div></div><div class=\"sk-serial\"><div class=\"sk-item\"><div class=\"sk-serial\"><div class=\"sk-item sk-dashed-wrapped\"><div class=\"sk-label-container\"><div class=\"sk-label sk-toggleable\"><input class=\"sk-toggleable__control sk-hidden--visually\" id=\"sk-estimator-id-53\" type=\"checkbox\" ><label for=\"sk-estimator-id-53\" class=\"sk-toggleable__label sk-toggleable__label-arrow\">preprocessing: ColumnTransformer</label><div class=\"sk-toggleable__content\"><pre>ColumnTransformer(transformers=[(&#x27;mean_target&#x27;,\n",
       "                                 TargetEncoder(cols=[&#x27;Tier&#x27;, &#x27;Partner Bin&#x27;]),\n",
       "                                 [&#x27;Tier&#x27;, &#x27;Partner Bin&#x27;]),\n",
       "                                (&#x27;scaling&#x27;, StandardScaler(),\n",
       "                                 [&#x27;FICO&#x27;, &#x27;Term&#x27;, &#x27;Amount&#x27;, &#x27;Previous_Rate&#x27;,\n",
       "                                  &#x27;Competition_rate&#x27;, &#x27;Cost_Funds&#x27;]),\n",
       "                                (&#x27;pass&#x27;, &#x27;passthrough&#x27;,\n",
       "                                 [&#x27;Rate&#x27;, &#x27;Car_Type_N&#x27;, &#x27;Car_Type_R&#x27;,\n",
       "                                  &#x27;Car_Type_U&#x27;])])</pre></div></div></div><div class=\"sk-parallel\"><div class=\"sk-parallel-item\"><div class=\"sk-item\"><div class=\"sk-label-container\"><div class=\"sk-label sk-toggleable\"><input class=\"sk-toggleable__control sk-hidden--visually\" id=\"sk-estimator-id-54\" type=\"checkbox\" ><label for=\"sk-estimator-id-54\" class=\"sk-toggleable__label sk-toggleable__label-arrow\">mean_target</label><div class=\"sk-toggleable__content\"><pre>[&#x27;Tier&#x27;, &#x27;Partner Bin&#x27;]</pre></div></div></div><div class=\"sk-serial\"><div class=\"sk-item\"><div class=\"sk-estimator sk-toggleable\"><input class=\"sk-toggleable__control sk-hidden--visually\" id=\"sk-estimator-id-55\" type=\"checkbox\" ><label for=\"sk-estimator-id-55\" class=\"sk-toggleable__label sk-toggleable__label-arrow\">TargetEncoder</label><div class=\"sk-toggleable__content\"><pre>TargetEncoder(cols=[&#x27;Tier&#x27;, &#x27;Partner Bin&#x27;])</pre></div></div></div></div></div></div><div class=\"sk-parallel-item\"><div class=\"sk-item\"><div class=\"sk-label-container\"><div class=\"sk-label sk-toggleable\"><input class=\"sk-toggleable__control sk-hidden--visually\" id=\"sk-estimator-id-56\" type=\"checkbox\" ><label for=\"sk-estimator-id-56\" class=\"sk-toggleable__label sk-toggleable__label-arrow\">scaling</label><div class=\"sk-toggleable__content\"><pre>[&#x27;FICO&#x27;, &#x27;Term&#x27;, &#x27;Amount&#x27;, &#x27;Previous_Rate&#x27;, &#x27;Competition_rate&#x27;, &#x27;Cost_Funds&#x27;]</pre></div></div></div><div class=\"sk-serial\"><div class=\"sk-item\"><div class=\"sk-estimator sk-toggleable\"><input class=\"sk-toggleable__control sk-hidden--visually\" id=\"sk-estimator-id-57\" type=\"checkbox\" ><label for=\"sk-estimator-id-57\" class=\"sk-toggleable__label sk-toggleable__label-arrow\">StandardScaler</label><div class=\"sk-toggleable__content\"><pre>StandardScaler()</pre></div></div></div></div></div></div><div class=\"sk-parallel-item\"><div class=\"sk-item\"><div class=\"sk-label-container\"><div class=\"sk-label sk-toggleable\"><input class=\"sk-toggleable__control sk-hidden--visually\" id=\"sk-estimator-id-58\" type=\"checkbox\" ><label for=\"sk-estimator-id-58\" class=\"sk-toggleable__label sk-toggleable__label-arrow\">pass</label><div class=\"sk-toggleable__content\"><pre>[&#x27;Rate&#x27;, &#x27;Car_Type_N&#x27;, &#x27;Car_Type_R&#x27;, &#x27;Car_Type_U&#x27;]</pre></div></div></div><div class=\"sk-serial\"><div class=\"sk-item\"><div class=\"sk-estimator sk-toggleable\"><input class=\"sk-toggleable__control sk-hidden--visually\" id=\"sk-estimator-id-59\" type=\"checkbox\" ><label for=\"sk-estimator-id-59\" class=\"sk-toggleable__label sk-toggleable__label-arrow\">passthrough</label><div class=\"sk-toggleable__content\"><pre>passthrough</pre></div></div></div></div></div></div></div></div><div class=\"sk-item\"><div class=\"sk-estimator sk-toggleable\"><input class=\"sk-toggleable__control sk-hidden--visually\" id=\"sk-estimator-id-60\" type=\"checkbox\" ><label for=\"sk-estimator-id-60\" class=\"sk-toggleable__label sk-toggleable__label-arrow\">LogisticRegression</label><div class=\"sk-toggleable__content\"><pre>LogisticRegression()</pre></div></div></div></div></div></div></div></div></div></div></div></div>"
      ],
      "text/plain": [
       "GridSearchCV(cv=10,\n",
       "             estimator=Pipeline(steps=[('preprocessing',\n",
       "                                        ColumnTransformer(transformers=[('mean_target',\n",
       "                                                                         TargetEncoder(cols=['Tier',\n",
       "                                                                                             'Partner '\n",
       "                                                                                             'Bin']),\n",
       "                                                                         ['Tier',\n",
       "                                                                          'Partner '\n",
       "                                                                          'Bin']),\n",
       "                                                                        ('scaling',\n",
       "                                                                         StandardScaler(),\n",
       "                                                                         ['FICO',\n",
       "                                                                          'Term',\n",
       "                                                                          'Amount',\n",
       "                                                                          'Previous_Rate',\n",
       "                                                                          'Competition_rate',\n",
       "                                                                          'Cost_Funds']),\n",
       "                                                                        ('pass',\n",
       "                                                                         'passthrough',\n",
       "                                                                         ['Rate',\n",
       "                                                                          'Car_Type_N',\n",
       "                                                                          'Car_Type_R',\n",
       "                                                                          'Car_Type_U'])...\n",
       "       1.00000000e-01, 3.16227766e-01, 1.00000000e+00, 3.16227766e+00,\n",
       "       1.00000000e+01, 3.16227766e+01, 1.00000000e+02, 3.16227766e+02,\n",
       "       1.00000000e+03, 3.16227766e+03, 1.00000000e+04, 3.16227766e+04,\n",
       "       1.00000000e+05, 3.16227766e+05, 1.00000000e+06]),\n",
       "                         'model__max_iter': [100000], 'model__penalty': ['l1'],\n",
       "                         'model__random_state': [19],\n",
       "                         'model__solver': ['liblinear', 'saga']},\n",
       "             scoring='roc_auc')"
      ]
     },
     "execution_count": 28,
     "metadata": {},
     "output_type": "execute_result"
    }
   ],
   "source": [
    "%%time\n",
    "\n",
    "logreg_l1_params = {\n",
    "    'model__C': np.logspace(-5, 6, 23),\n",
    "    'model__penalty': ['l1'],\n",
    "    'model__solver': ['liblinear', 'saga'],\n",
    "    'model__max_iter': [10**5],\n",
    "    'model__random_state': [19]\n",
    "}\n",
    "\n",
    "searcher_l1 = GridSearchCV(\n",
    "    pipeline_mean_target, \n",
    "    param_grid=logreg_l1_params,\n",
    "    scoring='roc_auc',\n",
    "    cv=10,\n",
    "    n_jobs=-1\n",
    ")\n",
    "\n",
    "searcher_l1.fit(X_train, y_train)"
   ]
  },
  {
   "cell_type": "code",
   "execution_count": 29,
   "metadata": {
    "execution": {
     "iopub.execute_input": "2023-03-20T12:02:35.730246Z",
     "iopub.status.busy": "2023-03-20T12:02:35.729928Z",
     "iopub.status.idle": "2023-03-20T12:02:35.736319Z",
     "shell.execute_reply": "2023-03-20T12:02:35.735569Z",
     "shell.execute_reply.started": "2023-03-20T12:02:35.730201Z"
    },
    "tags": []
   },
   "outputs": [
    {
     "data": {
      "text/plain": [
       "(0.8472322855648097,\n",
       " {'model__C': 31622.776601683792,\n",
       "  'model__max_iter': 100000,\n",
       "  'model__penalty': 'l1',\n",
       "  'model__random_state': 19,\n",
       "  'model__solver': 'saga'})"
      ]
     },
     "execution_count": 29,
     "metadata": {},
     "output_type": "execute_result"
    }
   ],
   "source": [
    "searcher_l1.best_score_, searcher_l1.best_params_"
   ]
  },
  {
   "cell_type": "markdown",
   "metadata": {},
   "source": [
    "#### Обучение модели с лучшими параметрами:"
   ]
  },
  {
   "cell_type": "code",
   "execution_count": 30,
   "metadata": {
    "execution": {
     "iopub.execute_input": "2023-03-20T12:02:35.738148Z",
     "iopub.status.busy": "2023-03-20T12:02:35.737827Z",
     "iopub.status.idle": "2023-03-20T12:02:37.581677Z",
     "shell.execute_reply": "2023-03-20T12:02:37.580519Z",
     "shell.execute_reply.started": "2023-03-20T12:02:35.738099Z"
    },
    "tags": []
   },
   "outputs": [
    {
     "name": "stdout",
     "output_type": "stream",
     "text": [
      "Train ROC-AUC = 0.8473265311579554\n",
      "Valid ROC-AUC = 0.8495438561552321\n",
      "Test ROC-AUC = 0.8435112461039513\n"
     ]
    }
   ],
   "source": [
    "best_mt_l2 = searcher_l2.best_params_\n",
    "pipeline_mt_l2 = Pipeline(\n",
    "    steps=[\n",
    "        ('preprocessing', column_transformer_mean_target),\n",
    "        ('model', LogisticRegression(**{key[7:]: best_mt_l2[key] for key in best_mt_l2}))\n",
    "    ]\n",
    ")\n",
    "pipeline_mt_l2.fit(X_train, y_train)\n",
    "y_pred_train = pipeline_mt_l2.predict_proba(X_train)[:, 1]\n",
    "y_pred_valid = pipeline_mt_l2.predict_proba(X_valid)[:, 1]\n",
    "y_pred_test = pipeline_mt_l2.predict_proba(X_test)[:, 1]\n",
    "print(f'Train ROC-AUC = {roc_auc_score(y_train, y_pred_train)}')\n",
    "print(f'Valid ROC-AUC = {roc_auc_score(y_valid, y_pred_valid)}')\n",
    "print(f'Test ROC-AUC = {roc_auc_score(y_test, y_pred_test)}')"
   ]
  },
  {
   "cell_type": "code",
   "execution_count": 31,
   "metadata": {
    "execution": {
     "iopub.execute_input": "2023-03-20T12:02:37.582746Z",
     "iopub.status.busy": "2023-03-20T12:02:37.582552Z",
     "iopub.status.idle": "2023-03-20T12:02:50.522810Z",
     "shell.execute_reply": "2023-03-20T12:02:50.521527Z",
     "shell.execute_reply.started": "2023-03-20T12:02:37.582715Z"
    },
    "tags": []
   },
   "outputs": [
    {
     "name": "stdout",
     "output_type": "stream",
     "text": [
      "Train ROC-AUC = 0.8473254077225413\n",
      "Valid ROC-AUC = 0.8495467825314812\n",
      "Test ROC-AUC = 0.8435106091477909\n"
     ]
    }
   ],
   "source": [
    "best_mt_l1 = searcher_l1.best_params_\n",
    "pipeline_mt_l1 = Pipeline(\n",
    "    steps=[\n",
    "        ('preprocessing', column_transformer_mean_target),\n",
    "        ('model', LogisticRegression(**{key[7:]: best_mt_l1[key] for key in best_mt_l1}))\n",
    "    ]\n",
    ")\n",
    "pipeline_mt_l1.fit(X_train, y_train)\n",
    "y_pred_train = pipeline_mt_l1.predict_proba(X_train)[:, 1]\n",
    "y_pred_valid = pipeline_mt_l1.predict_proba(X_valid)[:, 1]\n",
    "y_pred_test = pipeline_mt_l1.predict_proba(X_test)[:, 1]\n",
    "print(f'Train ROC-AUC = {roc_auc_score(y_train, y_pred_train)}')\n",
    "print(f'Valid ROC-AUC = {roc_auc_score(y_valid, y_pred_valid)}')\n",
    "print(f'Test ROC-AUC = {roc_auc_score(y_test, y_pred_test)}')"
   ]
  },
  {
   "cell_type": "code",
   "execution_count": null,
   "metadata": {},
   "outputs": [],
   "source": []
  },
  {
   "cell_type": "markdown",
   "metadata": {},
   "source": [
    "### OHE:"
   ]
  },
  {
   "cell_type": "markdown",
   "metadata": {
    "execution": {
     "iopub.execute_input": "2023-01-20T12:20:09.349232Z",
     "iopub.status.busy": "2023-01-20T12:20:09.348745Z",
     "iopub.status.idle": "2023-01-20T12:20:09.353021Z",
     "shell.execute_reply": "2023-01-20T12:20:09.352205Z",
     "shell.execute_reply.started": "2023-01-20T12:20:09.349013Z"
    },
    "tags": []
   },
   "source": [
    "#### Подбор гиперпараметров:"
   ]
  },
  {
   "cell_type": "code",
   "execution_count": 32,
   "metadata": {
    "execution": {
     "iopub.execute_input": "2023-03-20T12:02:50.784754Z",
     "iopub.status.busy": "2023-03-20T12:02:50.784468Z",
     "iopub.status.idle": "2023-03-20T12:07:01.529310Z",
     "shell.execute_reply": "2023-03-20T12:07:01.528212Z",
     "shell.execute_reply.started": "2023-03-20T12:02:50.784708Z"
    },
    "scrolled": true,
    "tags": []
   },
   "outputs": [
    {
     "name": "stderr",
     "output_type": "stream",
     "text": [
      "/Users/vsglamazdin/opt/anaconda3/envs/kernel_38/lib/python3.8/site-packages/scipy/optimize/_linesearch.py:306: LineSearchWarning: The line search algorithm did not converge\n",
      "  warn('The line search algorithm did not converge', LineSearchWarning)\n",
      "/Users/vsglamazdin/opt/anaconda3/envs/kernel_38/lib/python3.8/site-packages/sklearn/utils/optimize.py:203: UserWarning: Line Search failed\n",
      "  warnings.warn(\"Line Search failed\")\n",
      "/Users/vsglamazdin/opt/anaconda3/envs/kernel_38/lib/python3.8/site-packages/scipy/optimize/_linesearch.py:306: LineSearchWarning: The line search algorithm did not converge\n",
      "  warn('The line search algorithm did not converge', LineSearchWarning)\n",
      "/Users/vsglamazdin/opt/anaconda3/envs/kernel_38/lib/python3.8/site-packages/sklearn/utils/optimize.py:203: UserWarning: Line Search failed\n",
      "  warnings.warn(\"Line Search failed\")\n",
      "/Users/vsglamazdin/opt/anaconda3/envs/kernel_38/lib/python3.8/site-packages/scipy/optimize/_linesearch.py:416: LineSearchWarning: Rounding errors prevent the line search from converging\n",
      "  warn(msg, LineSearchWarning)\n",
      "/Users/vsglamazdin/opt/anaconda3/envs/kernel_38/lib/python3.8/site-packages/scipy/optimize/_linesearch.py:306: LineSearchWarning: The line search algorithm did not converge\n",
      "  warn('The line search algorithm did not converge', LineSearchWarning)\n",
      "/Users/vsglamazdin/opt/anaconda3/envs/kernel_38/lib/python3.8/site-packages/sklearn/utils/optimize.py:203: UserWarning: Line Search failed\n",
      "  warnings.warn(\"Line Search failed\")\n",
      "/Users/vsglamazdin/opt/anaconda3/envs/kernel_38/lib/python3.8/site-packages/scipy/optimize/_linesearch.py:306: LineSearchWarning: The line search algorithm did not converge\n",
      "  warn('The line search algorithm did not converge', LineSearchWarning)\n",
      "/Users/vsglamazdin/opt/anaconda3/envs/kernel_38/lib/python3.8/site-packages/sklearn/utils/optimize.py:203: UserWarning: Line Search failed\n",
      "  warnings.warn(\"Line Search failed\")\n",
      "/Users/vsglamazdin/opt/anaconda3/envs/kernel_38/lib/python3.8/site-packages/scipy/optimize/_linesearch.py:306: LineSearchWarning: The line search algorithm did not converge\n",
      "  warn('The line search algorithm did not converge', LineSearchWarning)\n",
      "/Users/vsglamazdin/opt/anaconda3/envs/kernel_38/lib/python3.8/site-packages/sklearn/utils/optimize.py:203: UserWarning: Line Search failed\n",
      "  warnings.warn(\"Line Search failed\")\n",
      "/Users/vsglamazdin/opt/anaconda3/envs/kernel_38/lib/python3.8/site-packages/scipy/optimize/_linesearch.py:416: LineSearchWarning: Rounding errors prevent the line search from converging\n",
      "  warn(msg, LineSearchWarning)\n",
      "/Users/vsglamazdin/opt/anaconda3/envs/kernel_38/lib/python3.8/site-packages/scipy/optimize/_linesearch.py:306: LineSearchWarning: The line search algorithm did not converge\n",
      "  warn('The line search algorithm did not converge', LineSearchWarning)\n",
      "/Users/vsglamazdin/opt/anaconda3/envs/kernel_38/lib/python3.8/site-packages/sklearn/utils/optimize.py:203: UserWarning: Line Search failed\n",
      "  warnings.warn(\"Line Search failed\")\n",
      "/Users/vsglamazdin/opt/anaconda3/envs/kernel_38/lib/python3.8/site-packages/scipy/optimize/_linesearch.py:306: LineSearchWarning: The line search algorithm did not converge\n",
      "  warn('The line search algorithm did not converge', LineSearchWarning)\n",
      "/Users/vsglamazdin/opt/anaconda3/envs/kernel_38/lib/python3.8/site-packages/sklearn/utils/optimize.py:203: UserWarning: Line Search failed\n",
      "  warnings.warn(\"Line Search failed\")\n",
      "/Users/vsglamazdin/opt/anaconda3/envs/kernel_38/lib/python3.8/site-packages/scipy/optimize/_linesearch.py:306: LineSearchWarning: The line search algorithm did not converge\n",
      "  warn('The line search algorithm did not converge', LineSearchWarning)\n",
      "/Users/vsglamazdin/opt/anaconda3/envs/kernel_38/lib/python3.8/site-packages/sklearn/utils/optimize.py:203: UserWarning: Line Search failed\n",
      "  warnings.warn(\"Line Search failed\")\n",
      "/Users/vsglamazdin/opt/anaconda3/envs/kernel_38/lib/python3.8/site-packages/scipy/optimize/_linesearch.py:306: LineSearchWarning: The line search algorithm did not converge\n",
      "  warn('The line search algorithm did not converge', LineSearchWarning)\n",
      "/Users/vsglamazdin/opt/anaconda3/envs/kernel_38/lib/python3.8/site-packages/sklearn/utils/optimize.py:203: UserWarning: Line Search failed\n",
      "  warnings.warn(\"Line Search failed\")\n"
     ]
    },
    {
     "name": "stdout",
     "output_type": "stream",
     "text": [
      "CPU times: user 6.82 s, sys: 7.19 s, total: 14 s\n",
      "Wall time: 3min 1s\n"
     ]
    },
    {
     "data": {
      "text/html": [
       "<style>#sk-container-id-7 {color: black;background-color: white;}#sk-container-id-7 pre{padding: 0;}#sk-container-id-7 div.sk-toggleable {background-color: white;}#sk-container-id-7 label.sk-toggleable__label {cursor: pointer;display: block;width: 100%;margin-bottom: 0;padding: 0.3em;box-sizing: border-box;text-align: center;}#sk-container-id-7 label.sk-toggleable__label-arrow:before {content: \"▸\";float: left;margin-right: 0.25em;color: #696969;}#sk-container-id-7 label.sk-toggleable__label-arrow:hover:before {color: black;}#sk-container-id-7 div.sk-estimator:hover label.sk-toggleable__label-arrow:before {color: black;}#sk-container-id-7 div.sk-toggleable__content {max-height: 0;max-width: 0;overflow: hidden;text-align: left;background-color: #f0f8ff;}#sk-container-id-7 div.sk-toggleable__content pre {margin: 0.2em;color: black;border-radius: 0.25em;background-color: #f0f8ff;}#sk-container-id-7 input.sk-toggleable__control:checked~div.sk-toggleable__content {max-height: 200px;max-width: 100%;overflow: auto;}#sk-container-id-7 input.sk-toggleable__control:checked~label.sk-toggleable__label-arrow:before {content: \"▾\";}#sk-container-id-7 div.sk-estimator input.sk-toggleable__control:checked~label.sk-toggleable__label {background-color: #d4ebff;}#sk-container-id-7 div.sk-label input.sk-toggleable__control:checked~label.sk-toggleable__label {background-color: #d4ebff;}#sk-container-id-7 input.sk-hidden--visually {border: 0;clip: rect(1px 1px 1px 1px);clip: rect(1px, 1px, 1px, 1px);height: 1px;margin: -1px;overflow: hidden;padding: 0;position: absolute;width: 1px;}#sk-container-id-7 div.sk-estimator {font-family: monospace;background-color: #f0f8ff;border: 1px dotted black;border-radius: 0.25em;box-sizing: border-box;margin-bottom: 0.5em;}#sk-container-id-7 div.sk-estimator:hover {background-color: #d4ebff;}#sk-container-id-7 div.sk-parallel-item::after {content: \"\";width: 100%;border-bottom: 1px solid gray;flex-grow: 1;}#sk-container-id-7 div.sk-label:hover label.sk-toggleable__label {background-color: #d4ebff;}#sk-container-id-7 div.sk-serial::before {content: \"\";position: absolute;border-left: 1px solid gray;box-sizing: border-box;top: 0;bottom: 0;left: 50%;z-index: 0;}#sk-container-id-7 div.sk-serial {display: flex;flex-direction: column;align-items: center;background-color: white;padding-right: 0.2em;padding-left: 0.2em;position: relative;}#sk-container-id-7 div.sk-item {position: relative;z-index: 1;}#sk-container-id-7 div.sk-parallel {display: flex;align-items: stretch;justify-content: center;background-color: white;position: relative;}#sk-container-id-7 div.sk-item::before, #sk-container-id-7 div.sk-parallel-item::before {content: \"\";position: absolute;border-left: 1px solid gray;box-sizing: border-box;top: 0;bottom: 0;left: 50%;z-index: -1;}#sk-container-id-7 div.sk-parallel-item {display: flex;flex-direction: column;z-index: 1;position: relative;background-color: white;}#sk-container-id-7 div.sk-parallel-item:first-child::after {align-self: flex-end;width: 50%;}#sk-container-id-7 div.sk-parallel-item:last-child::after {align-self: flex-start;width: 50%;}#sk-container-id-7 div.sk-parallel-item:only-child::after {width: 0;}#sk-container-id-7 div.sk-dashed-wrapped {border: 1px dashed gray;margin: 0 0.4em 0.5em 0.4em;box-sizing: border-box;padding-bottom: 0.4em;background-color: white;}#sk-container-id-7 div.sk-label label {font-family: monospace;font-weight: bold;display: inline-block;line-height: 1.2em;}#sk-container-id-7 div.sk-label-container {text-align: center;}#sk-container-id-7 div.sk-container {/* jupyter's `normalize.less` sets `[hidden] { display: none; }` but bootstrap.min.css set `[hidden] { display: none !important; }` so we also need the `!important` here to be able to override the default hidden behavior on the sphinx rendered scikit-learn.org. See: https://github.com/scikit-learn/scikit-learn/issues/21755 */display: inline-block !important;position: relative;}#sk-container-id-7 div.sk-text-repr-fallback {display: none;}</style><div id=\"sk-container-id-7\" class=\"sk-top-container\"><div class=\"sk-text-repr-fallback\"><pre>GridSearchCV(cv=10,\n",
       "             estimator=Pipeline(steps=[(&#x27;preprocessing&#x27;,\n",
       "                                        ColumnTransformer(transformers=[(&#x27;ohe&#x27;,\n",
       "                                                                         OneHotEncoder(handle_unknown=&#x27;ignore&#x27;),\n",
       "                                                                         [&#x27;Tier&#x27;,\n",
       "                                                                          &#x27;Partner &#x27;\n",
       "                                                                          &#x27;Bin&#x27;]),\n",
       "                                                                        (&#x27;scaling&#x27;,\n",
       "                                                                         StandardScaler(),\n",
       "                                                                         [&#x27;FICO&#x27;,\n",
       "                                                                          &#x27;Term&#x27;,\n",
       "                                                                          &#x27;Amount&#x27;,\n",
       "                                                                          &#x27;Previous_Rate&#x27;,\n",
       "                                                                          &#x27;Competition_rate&#x27;,\n",
       "                                                                          &#x27;Cost_Funds&#x27;]),\n",
       "                                                                        (&#x27;pass&#x27;,\n",
       "                                                                         &#x27;passthrough&#x27;,\n",
       "                                                                         [&#x27;Rate&#x27;,\n",
       "                                                                          &#x27;Car_Type_N&#x27;,\n",
       "                                                                          &#x27;Car_Type_R&#x27;,\n",
       "                                                                          &#x27;Car_Type_U&#x27;])])),\n",
       "                                       (&#x27;model&#x27;,...\n",
       "       1.00000000e-01, 3.16227766e-01, 1.00000000e+00, 3.16227766e+00,\n",
       "       1.00000000e+01, 3.16227766e+01, 1.00000000e+02, 3.16227766e+02,\n",
       "       1.00000000e+03, 3.16227766e+03, 1.00000000e+04, 3.16227766e+04,\n",
       "       1.00000000e+05, 3.16227766e+05, 1.00000000e+06]),\n",
       "                         &#x27;model__max_iter&#x27;: [100000], &#x27;model__penalty&#x27;: [&#x27;l2&#x27;],\n",
       "                         &#x27;model__random_state&#x27;: [19],\n",
       "                         &#x27;model__solver&#x27;: [&#x27;newton-cg&#x27;, &#x27;lbfgs&#x27;, &#x27;liblinear&#x27;,\n",
       "                                           &#x27;sag&#x27;, &#x27;saga&#x27;]},\n",
       "             scoring=&#x27;roc_auc&#x27;)</pre><b>In a Jupyter environment, please rerun this cell to show the HTML representation or trust the notebook. <br />On GitHub, the HTML representation is unable to render, please try loading this page with nbviewer.org.</b></div><div class=\"sk-container\" hidden><div class=\"sk-item sk-dashed-wrapped\"><div class=\"sk-label-container\"><div class=\"sk-label sk-toggleable\"><input class=\"sk-toggleable__control sk-hidden--visually\" id=\"sk-estimator-id-61\" type=\"checkbox\" ><label for=\"sk-estimator-id-61\" class=\"sk-toggleable__label sk-toggleable__label-arrow\">GridSearchCV</label><div class=\"sk-toggleable__content\"><pre>GridSearchCV(cv=10,\n",
       "             estimator=Pipeline(steps=[(&#x27;preprocessing&#x27;,\n",
       "                                        ColumnTransformer(transformers=[(&#x27;ohe&#x27;,\n",
       "                                                                         OneHotEncoder(handle_unknown=&#x27;ignore&#x27;),\n",
       "                                                                         [&#x27;Tier&#x27;,\n",
       "                                                                          &#x27;Partner &#x27;\n",
       "                                                                          &#x27;Bin&#x27;]),\n",
       "                                                                        (&#x27;scaling&#x27;,\n",
       "                                                                         StandardScaler(),\n",
       "                                                                         [&#x27;FICO&#x27;,\n",
       "                                                                          &#x27;Term&#x27;,\n",
       "                                                                          &#x27;Amount&#x27;,\n",
       "                                                                          &#x27;Previous_Rate&#x27;,\n",
       "                                                                          &#x27;Competition_rate&#x27;,\n",
       "                                                                          &#x27;Cost_Funds&#x27;]),\n",
       "                                                                        (&#x27;pass&#x27;,\n",
       "                                                                         &#x27;passthrough&#x27;,\n",
       "                                                                         [&#x27;Rate&#x27;,\n",
       "                                                                          &#x27;Car_Type_N&#x27;,\n",
       "                                                                          &#x27;Car_Type_R&#x27;,\n",
       "                                                                          &#x27;Car_Type_U&#x27;])])),\n",
       "                                       (&#x27;model&#x27;,...\n",
       "       1.00000000e-01, 3.16227766e-01, 1.00000000e+00, 3.16227766e+00,\n",
       "       1.00000000e+01, 3.16227766e+01, 1.00000000e+02, 3.16227766e+02,\n",
       "       1.00000000e+03, 3.16227766e+03, 1.00000000e+04, 3.16227766e+04,\n",
       "       1.00000000e+05, 3.16227766e+05, 1.00000000e+06]),\n",
       "                         &#x27;model__max_iter&#x27;: [100000], &#x27;model__penalty&#x27;: [&#x27;l2&#x27;],\n",
       "                         &#x27;model__random_state&#x27;: [19],\n",
       "                         &#x27;model__solver&#x27;: [&#x27;newton-cg&#x27;, &#x27;lbfgs&#x27;, &#x27;liblinear&#x27;,\n",
       "                                           &#x27;sag&#x27;, &#x27;saga&#x27;]},\n",
       "             scoring=&#x27;roc_auc&#x27;)</pre></div></div></div><div class=\"sk-parallel\"><div class=\"sk-parallel-item\"><div class=\"sk-item\"><div class=\"sk-label-container\"><div class=\"sk-label sk-toggleable\"><input class=\"sk-toggleable__control sk-hidden--visually\" id=\"sk-estimator-id-62\" type=\"checkbox\" ><label for=\"sk-estimator-id-62\" class=\"sk-toggleable__label sk-toggleable__label-arrow\">estimator: Pipeline</label><div class=\"sk-toggleable__content\"><pre>Pipeline(steps=[(&#x27;preprocessing&#x27;,\n",
       "                 ColumnTransformer(transformers=[(&#x27;ohe&#x27;,\n",
       "                                                  OneHotEncoder(handle_unknown=&#x27;ignore&#x27;),\n",
       "                                                  [&#x27;Tier&#x27;, &#x27;Partner Bin&#x27;]),\n",
       "                                                 (&#x27;scaling&#x27;, StandardScaler(),\n",
       "                                                  [&#x27;FICO&#x27;, &#x27;Term&#x27;, &#x27;Amount&#x27;,\n",
       "                                                   &#x27;Previous_Rate&#x27;,\n",
       "                                                   &#x27;Competition_rate&#x27;,\n",
       "                                                   &#x27;Cost_Funds&#x27;]),\n",
       "                                                 (&#x27;pass&#x27;, &#x27;passthrough&#x27;,\n",
       "                                                  [&#x27;Rate&#x27;, &#x27;Car_Type_N&#x27;,\n",
       "                                                   &#x27;Car_Type_R&#x27;,\n",
       "                                                   &#x27;Car_Type_U&#x27;])])),\n",
       "                (&#x27;model&#x27;, LogisticRegression())])</pre></div></div></div><div class=\"sk-serial\"><div class=\"sk-item\"><div class=\"sk-serial\"><div class=\"sk-item sk-dashed-wrapped\"><div class=\"sk-label-container\"><div class=\"sk-label sk-toggleable\"><input class=\"sk-toggleable__control sk-hidden--visually\" id=\"sk-estimator-id-63\" type=\"checkbox\" ><label for=\"sk-estimator-id-63\" class=\"sk-toggleable__label sk-toggleable__label-arrow\">preprocessing: ColumnTransformer</label><div class=\"sk-toggleable__content\"><pre>ColumnTransformer(transformers=[(&#x27;ohe&#x27;, OneHotEncoder(handle_unknown=&#x27;ignore&#x27;),\n",
       "                                 [&#x27;Tier&#x27;, &#x27;Partner Bin&#x27;]),\n",
       "                                (&#x27;scaling&#x27;, StandardScaler(),\n",
       "                                 [&#x27;FICO&#x27;, &#x27;Term&#x27;, &#x27;Amount&#x27;, &#x27;Previous_Rate&#x27;,\n",
       "                                  &#x27;Competition_rate&#x27;, &#x27;Cost_Funds&#x27;]),\n",
       "                                (&#x27;pass&#x27;, &#x27;passthrough&#x27;,\n",
       "                                 [&#x27;Rate&#x27;, &#x27;Car_Type_N&#x27;, &#x27;Car_Type_R&#x27;,\n",
       "                                  &#x27;Car_Type_U&#x27;])])</pre></div></div></div><div class=\"sk-parallel\"><div class=\"sk-parallel-item\"><div class=\"sk-item\"><div class=\"sk-label-container\"><div class=\"sk-label sk-toggleable\"><input class=\"sk-toggleable__control sk-hidden--visually\" id=\"sk-estimator-id-64\" type=\"checkbox\" ><label for=\"sk-estimator-id-64\" class=\"sk-toggleable__label sk-toggleable__label-arrow\">ohe</label><div class=\"sk-toggleable__content\"><pre>[&#x27;Tier&#x27;, &#x27;Partner Bin&#x27;]</pre></div></div></div><div class=\"sk-serial\"><div class=\"sk-item\"><div class=\"sk-estimator sk-toggleable\"><input class=\"sk-toggleable__control sk-hidden--visually\" id=\"sk-estimator-id-65\" type=\"checkbox\" ><label for=\"sk-estimator-id-65\" class=\"sk-toggleable__label sk-toggleable__label-arrow\">OneHotEncoder</label><div class=\"sk-toggleable__content\"><pre>OneHotEncoder(handle_unknown=&#x27;ignore&#x27;)</pre></div></div></div></div></div></div><div class=\"sk-parallel-item\"><div class=\"sk-item\"><div class=\"sk-label-container\"><div class=\"sk-label sk-toggleable\"><input class=\"sk-toggleable__control sk-hidden--visually\" id=\"sk-estimator-id-66\" type=\"checkbox\" ><label for=\"sk-estimator-id-66\" class=\"sk-toggleable__label sk-toggleable__label-arrow\">scaling</label><div class=\"sk-toggleable__content\"><pre>[&#x27;FICO&#x27;, &#x27;Term&#x27;, &#x27;Amount&#x27;, &#x27;Previous_Rate&#x27;, &#x27;Competition_rate&#x27;, &#x27;Cost_Funds&#x27;]</pre></div></div></div><div class=\"sk-serial\"><div class=\"sk-item\"><div class=\"sk-estimator sk-toggleable\"><input class=\"sk-toggleable__control sk-hidden--visually\" id=\"sk-estimator-id-67\" type=\"checkbox\" ><label for=\"sk-estimator-id-67\" class=\"sk-toggleable__label sk-toggleable__label-arrow\">StandardScaler</label><div class=\"sk-toggleable__content\"><pre>StandardScaler()</pre></div></div></div></div></div></div><div class=\"sk-parallel-item\"><div class=\"sk-item\"><div class=\"sk-label-container\"><div class=\"sk-label sk-toggleable\"><input class=\"sk-toggleable__control sk-hidden--visually\" id=\"sk-estimator-id-68\" type=\"checkbox\" ><label for=\"sk-estimator-id-68\" class=\"sk-toggleable__label sk-toggleable__label-arrow\">pass</label><div class=\"sk-toggleable__content\"><pre>[&#x27;Rate&#x27;, &#x27;Car_Type_N&#x27;, &#x27;Car_Type_R&#x27;, &#x27;Car_Type_U&#x27;]</pre></div></div></div><div class=\"sk-serial\"><div class=\"sk-item\"><div class=\"sk-estimator sk-toggleable\"><input class=\"sk-toggleable__control sk-hidden--visually\" id=\"sk-estimator-id-69\" type=\"checkbox\" ><label for=\"sk-estimator-id-69\" class=\"sk-toggleable__label sk-toggleable__label-arrow\">passthrough</label><div class=\"sk-toggleable__content\"><pre>passthrough</pre></div></div></div></div></div></div></div></div><div class=\"sk-item\"><div class=\"sk-estimator sk-toggleable\"><input class=\"sk-toggleable__control sk-hidden--visually\" id=\"sk-estimator-id-70\" type=\"checkbox\" ><label for=\"sk-estimator-id-70\" class=\"sk-toggleable__label sk-toggleable__label-arrow\">LogisticRegression</label><div class=\"sk-toggleable__content\"><pre>LogisticRegression()</pre></div></div></div></div></div></div></div></div></div></div></div></div>"
      ],
      "text/plain": [
       "GridSearchCV(cv=10,\n",
       "             estimator=Pipeline(steps=[('preprocessing',\n",
       "                                        ColumnTransformer(transformers=[('ohe',\n",
       "                                                                         OneHotEncoder(handle_unknown='ignore'),\n",
       "                                                                         ['Tier',\n",
       "                                                                          'Partner '\n",
       "                                                                          'Bin']),\n",
       "                                                                        ('scaling',\n",
       "                                                                         StandardScaler(),\n",
       "                                                                         ['FICO',\n",
       "                                                                          'Term',\n",
       "                                                                          'Amount',\n",
       "                                                                          'Previous_Rate',\n",
       "                                                                          'Competition_rate',\n",
       "                                                                          'Cost_Funds']),\n",
       "                                                                        ('pass',\n",
       "                                                                         'passthrough',\n",
       "                                                                         ['Rate',\n",
       "                                                                          'Car_Type_N',\n",
       "                                                                          'Car_Type_R',\n",
       "                                                                          'Car_Type_U'])])),\n",
       "                                       ('model',...\n",
       "       1.00000000e-01, 3.16227766e-01, 1.00000000e+00, 3.16227766e+00,\n",
       "       1.00000000e+01, 3.16227766e+01, 1.00000000e+02, 3.16227766e+02,\n",
       "       1.00000000e+03, 3.16227766e+03, 1.00000000e+04, 3.16227766e+04,\n",
       "       1.00000000e+05, 3.16227766e+05, 1.00000000e+06]),\n",
       "                         'model__max_iter': [100000], 'model__penalty': ['l2'],\n",
       "                         'model__random_state': [19],\n",
       "                         'model__solver': ['newton-cg', 'lbfgs', 'liblinear',\n",
       "                                           'sag', 'saga']},\n",
       "             scoring='roc_auc')"
      ]
     },
     "execution_count": 32,
     "metadata": {},
     "output_type": "execute_result"
    }
   ],
   "source": [
    "%%time\n",
    "\n",
    "logreg_l2_params = {\n",
    "    'model__C': np.logspace(-5, 6, 23),\n",
    "    'model__penalty': ['l2'],\n",
    "    'model__solver': ['newton-cg', 'lbfgs', 'liblinear', 'sag', 'saga'],\n",
    "    'model__max_iter': [10**5],\n",
    "    'model__random_state': [19]\n",
    "}\n",
    "\n",
    "searcher_l2 = GridSearchCV(\n",
    "    pipeline_ohe, \n",
    "    param_grid=logreg_l2_params,\n",
    "    scoring='roc_auc',\n",
    "    cv=10,\n",
    "    n_jobs=-1\n",
    ")\n",
    "\n",
    "searcher_l2.fit(X_train, y_train)"
   ]
  },
  {
   "cell_type": "code",
   "execution_count": 33,
   "metadata": {
    "execution": {
     "iopub.execute_input": "2023-03-20T12:07:01.530654Z",
     "iopub.status.busy": "2023-03-20T12:07:01.530424Z",
     "iopub.status.idle": "2023-03-20T12:07:01.535837Z",
     "shell.execute_reply": "2023-03-20T12:07:01.535051Z",
     "shell.execute_reply.started": "2023-03-20T12:07:01.530612Z"
    },
    "tags": []
   },
   "outputs": [
    {
     "data": {
      "text/plain": [
       "(0.8484410635257922,\n",
       " {'model__C': 100.0,\n",
       "  'model__max_iter': 100000,\n",
       "  'model__penalty': 'l2',\n",
       "  'model__random_state': 19,\n",
       "  'model__solver': 'lbfgs'})"
      ]
     },
     "execution_count": 33,
     "metadata": {},
     "output_type": "execute_result"
    }
   ],
   "source": [
    "searcher_l2.best_score_, searcher_l2.best_params_"
   ]
  },
  {
   "cell_type": "code",
   "execution_count": 34,
   "metadata": {
    "execution": {
     "iopub.execute_input": "2023-03-20T12:07:02.989455Z",
     "iopub.status.busy": "2023-03-20T12:07:02.989049Z",
     "iopub.status.idle": "2023-03-20T12:11:59.669213Z",
     "shell.execute_reply": "2023-03-20T12:11:59.668249Z",
     "shell.execute_reply.started": "2023-03-20T12:07:02.989419Z"
    },
    "tags": []
   },
   "outputs": [
    {
     "name": "stdout",
     "output_type": "stream",
     "text": [
      "CPU times: user 3.48 s, sys: 2.74 s, total: 6.21 s\n",
      "Wall time: 1min 48s\n"
     ]
    },
    {
     "data": {
      "text/html": [
       "<style>#sk-container-id-8 {color: black;background-color: white;}#sk-container-id-8 pre{padding: 0;}#sk-container-id-8 div.sk-toggleable {background-color: white;}#sk-container-id-8 label.sk-toggleable__label {cursor: pointer;display: block;width: 100%;margin-bottom: 0;padding: 0.3em;box-sizing: border-box;text-align: center;}#sk-container-id-8 label.sk-toggleable__label-arrow:before {content: \"▸\";float: left;margin-right: 0.25em;color: #696969;}#sk-container-id-8 label.sk-toggleable__label-arrow:hover:before {color: black;}#sk-container-id-8 div.sk-estimator:hover label.sk-toggleable__label-arrow:before {color: black;}#sk-container-id-8 div.sk-toggleable__content {max-height: 0;max-width: 0;overflow: hidden;text-align: left;background-color: #f0f8ff;}#sk-container-id-8 div.sk-toggleable__content pre {margin: 0.2em;color: black;border-radius: 0.25em;background-color: #f0f8ff;}#sk-container-id-8 input.sk-toggleable__control:checked~div.sk-toggleable__content {max-height: 200px;max-width: 100%;overflow: auto;}#sk-container-id-8 input.sk-toggleable__control:checked~label.sk-toggleable__label-arrow:before {content: \"▾\";}#sk-container-id-8 div.sk-estimator input.sk-toggleable__control:checked~label.sk-toggleable__label {background-color: #d4ebff;}#sk-container-id-8 div.sk-label input.sk-toggleable__control:checked~label.sk-toggleable__label {background-color: #d4ebff;}#sk-container-id-8 input.sk-hidden--visually {border: 0;clip: rect(1px 1px 1px 1px);clip: rect(1px, 1px, 1px, 1px);height: 1px;margin: -1px;overflow: hidden;padding: 0;position: absolute;width: 1px;}#sk-container-id-8 div.sk-estimator {font-family: monospace;background-color: #f0f8ff;border: 1px dotted black;border-radius: 0.25em;box-sizing: border-box;margin-bottom: 0.5em;}#sk-container-id-8 div.sk-estimator:hover {background-color: #d4ebff;}#sk-container-id-8 div.sk-parallel-item::after {content: \"\";width: 100%;border-bottom: 1px solid gray;flex-grow: 1;}#sk-container-id-8 div.sk-label:hover label.sk-toggleable__label {background-color: #d4ebff;}#sk-container-id-8 div.sk-serial::before {content: \"\";position: absolute;border-left: 1px solid gray;box-sizing: border-box;top: 0;bottom: 0;left: 50%;z-index: 0;}#sk-container-id-8 div.sk-serial {display: flex;flex-direction: column;align-items: center;background-color: white;padding-right: 0.2em;padding-left: 0.2em;position: relative;}#sk-container-id-8 div.sk-item {position: relative;z-index: 1;}#sk-container-id-8 div.sk-parallel {display: flex;align-items: stretch;justify-content: center;background-color: white;position: relative;}#sk-container-id-8 div.sk-item::before, #sk-container-id-8 div.sk-parallel-item::before {content: \"\";position: absolute;border-left: 1px solid gray;box-sizing: border-box;top: 0;bottom: 0;left: 50%;z-index: -1;}#sk-container-id-8 div.sk-parallel-item {display: flex;flex-direction: column;z-index: 1;position: relative;background-color: white;}#sk-container-id-8 div.sk-parallel-item:first-child::after {align-self: flex-end;width: 50%;}#sk-container-id-8 div.sk-parallel-item:last-child::after {align-self: flex-start;width: 50%;}#sk-container-id-8 div.sk-parallel-item:only-child::after {width: 0;}#sk-container-id-8 div.sk-dashed-wrapped {border: 1px dashed gray;margin: 0 0.4em 0.5em 0.4em;box-sizing: border-box;padding-bottom: 0.4em;background-color: white;}#sk-container-id-8 div.sk-label label {font-family: monospace;font-weight: bold;display: inline-block;line-height: 1.2em;}#sk-container-id-8 div.sk-label-container {text-align: center;}#sk-container-id-8 div.sk-container {/* jupyter's `normalize.less` sets `[hidden] { display: none; }` but bootstrap.min.css set `[hidden] { display: none !important; }` so we also need the `!important` here to be able to override the default hidden behavior on the sphinx rendered scikit-learn.org. See: https://github.com/scikit-learn/scikit-learn/issues/21755 */display: inline-block !important;position: relative;}#sk-container-id-8 div.sk-text-repr-fallback {display: none;}</style><div id=\"sk-container-id-8\" class=\"sk-top-container\"><div class=\"sk-text-repr-fallback\"><pre>GridSearchCV(cv=10,\n",
       "             estimator=Pipeline(steps=[(&#x27;preprocessing&#x27;,\n",
       "                                        ColumnTransformer(transformers=[(&#x27;ohe&#x27;,\n",
       "                                                                         OneHotEncoder(handle_unknown=&#x27;ignore&#x27;),\n",
       "                                                                         [&#x27;Tier&#x27;,\n",
       "                                                                          &#x27;Partner &#x27;\n",
       "                                                                          &#x27;Bin&#x27;]),\n",
       "                                                                        (&#x27;scaling&#x27;,\n",
       "                                                                         StandardScaler(),\n",
       "                                                                         [&#x27;FICO&#x27;,\n",
       "                                                                          &#x27;Term&#x27;,\n",
       "                                                                          &#x27;Amount&#x27;,\n",
       "                                                                          &#x27;Previous_Rate&#x27;,\n",
       "                                                                          &#x27;Competition_rate&#x27;,\n",
       "                                                                          &#x27;Cost_Funds&#x27;]),\n",
       "                                                                        (&#x27;pass&#x27;,\n",
       "                                                                         &#x27;passthrough&#x27;,\n",
       "                                                                         [&#x27;Rate&#x27;,\n",
       "                                                                          &#x27;Car_Type_N&#x27;,\n",
       "                                                                          &#x27;Car_Type_R&#x27;,\n",
       "                                                                          &#x27;Car_Type_U&#x27;])])),\n",
       "                                       (&#x27;model&#x27;,...\n",
       "       1.00000000e-01, 3.16227766e-01, 1.00000000e+00, 3.16227766e+00,\n",
       "       1.00000000e+01, 3.16227766e+01, 1.00000000e+02, 3.16227766e+02,\n",
       "       1.00000000e+03, 3.16227766e+03, 1.00000000e+04, 3.16227766e+04,\n",
       "       1.00000000e+05, 3.16227766e+05, 1.00000000e+06]),\n",
       "                         &#x27;model__max_iter&#x27;: [100000], &#x27;model__penalty&#x27;: [&#x27;l1&#x27;],\n",
       "                         &#x27;model__random_state&#x27;: [19],\n",
       "                         &#x27;model__solver&#x27;: [&#x27;liblinear&#x27;, &#x27;saga&#x27;]},\n",
       "             scoring=&#x27;roc_auc&#x27;)</pre><b>In a Jupyter environment, please rerun this cell to show the HTML representation or trust the notebook. <br />On GitHub, the HTML representation is unable to render, please try loading this page with nbviewer.org.</b></div><div class=\"sk-container\" hidden><div class=\"sk-item sk-dashed-wrapped\"><div class=\"sk-label-container\"><div class=\"sk-label sk-toggleable\"><input class=\"sk-toggleable__control sk-hidden--visually\" id=\"sk-estimator-id-71\" type=\"checkbox\" ><label for=\"sk-estimator-id-71\" class=\"sk-toggleable__label sk-toggleable__label-arrow\">GridSearchCV</label><div class=\"sk-toggleable__content\"><pre>GridSearchCV(cv=10,\n",
       "             estimator=Pipeline(steps=[(&#x27;preprocessing&#x27;,\n",
       "                                        ColumnTransformer(transformers=[(&#x27;ohe&#x27;,\n",
       "                                                                         OneHotEncoder(handle_unknown=&#x27;ignore&#x27;),\n",
       "                                                                         [&#x27;Tier&#x27;,\n",
       "                                                                          &#x27;Partner &#x27;\n",
       "                                                                          &#x27;Bin&#x27;]),\n",
       "                                                                        (&#x27;scaling&#x27;,\n",
       "                                                                         StandardScaler(),\n",
       "                                                                         [&#x27;FICO&#x27;,\n",
       "                                                                          &#x27;Term&#x27;,\n",
       "                                                                          &#x27;Amount&#x27;,\n",
       "                                                                          &#x27;Previous_Rate&#x27;,\n",
       "                                                                          &#x27;Competition_rate&#x27;,\n",
       "                                                                          &#x27;Cost_Funds&#x27;]),\n",
       "                                                                        (&#x27;pass&#x27;,\n",
       "                                                                         &#x27;passthrough&#x27;,\n",
       "                                                                         [&#x27;Rate&#x27;,\n",
       "                                                                          &#x27;Car_Type_N&#x27;,\n",
       "                                                                          &#x27;Car_Type_R&#x27;,\n",
       "                                                                          &#x27;Car_Type_U&#x27;])])),\n",
       "                                       (&#x27;model&#x27;,...\n",
       "       1.00000000e-01, 3.16227766e-01, 1.00000000e+00, 3.16227766e+00,\n",
       "       1.00000000e+01, 3.16227766e+01, 1.00000000e+02, 3.16227766e+02,\n",
       "       1.00000000e+03, 3.16227766e+03, 1.00000000e+04, 3.16227766e+04,\n",
       "       1.00000000e+05, 3.16227766e+05, 1.00000000e+06]),\n",
       "                         &#x27;model__max_iter&#x27;: [100000], &#x27;model__penalty&#x27;: [&#x27;l1&#x27;],\n",
       "                         &#x27;model__random_state&#x27;: [19],\n",
       "                         &#x27;model__solver&#x27;: [&#x27;liblinear&#x27;, &#x27;saga&#x27;]},\n",
       "             scoring=&#x27;roc_auc&#x27;)</pre></div></div></div><div class=\"sk-parallel\"><div class=\"sk-parallel-item\"><div class=\"sk-item\"><div class=\"sk-label-container\"><div class=\"sk-label sk-toggleable\"><input class=\"sk-toggleable__control sk-hidden--visually\" id=\"sk-estimator-id-72\" type=\"checkbox\" ><label for=\"sk-estimator-id-72\" class=\"sk-toggleable__label sk-toggleable__label-arrow\">estimator: Pipeline</label><div class=\"sk-toggleable__content\"><pre>Pipeline(steps=[(&#x27;preprocessing&#x27;,\n",
       "                 ColumnTransformer(transformers=[(&#x27;ohe&#x27;,\n",
       "                                                  OneHotEncoder(handle_unknown=&#x27;ignore&#x27;),\n",
       "                                                  [&#x27;Tier&#x27;, &#x27;Partner Bin&#x27;]),\n",
       "                                                 (&#x27;scaling&#x27;, StandardScaler(),\n",
       "                                                  [&#x27;FICO&#x27;, &#x27;Term&#x27;, &#x27;Amount&#x27;,\n",
       "                                                   &#x27;Previous_Rate&#x27;,\n",
       "                                                   &#x27;Competition_rate&#x27;,\n",
       "                                                   &#x27;Cost_Funds&#x27;]),\n",
       "                                                 (&#x27;pass&#x27;, &#x27;passthrough&#x27;,\n",
       "                                                  [&#x27;Rate&#x27;, &#x27;Car_Type_N&#x27;,\n",
       "                                                   &#x27;Car_Type_R&#x27;,\n",
       "                                                   &#x27;Car_Type_U&#x27;])])),\n",
       "                (&#x27;model&#x27;, LogisticRegression())])</pre></div></div></div><div class=\"sk-serial\"><div class=\"sk-item\"><div class=\"sk-serial\"><div class=\"sk-item sk-dashed-wrapped\"><div class=\"sk-label-container\"><div class=\"sk-label sk-toggleable\"><input class=\"sk-toggleable__control sk-hidden--visually\" id=\"sk-estimator-id-73\" type=\"checkbox\" ><label for=\"sk-estimator-id-73\" class=\"sk-toggleable__label sk-toggleable__label-arrow\">preprocessing: ColumnTransformer</label><div class=\"sk-toggleable__content\"><pre>ColumnTransformer(transformers=[(&#x27;ohe&#x27;, OneHotEncoder(handle_unknown=&#x27;ignore&#x27;),\n",
       "                                 [&#x27;Tier&#x27;, &#x27;Partner Bin&#x27;]),\n",
       "                                (&#x27;scaling&#x27;, StandardScaler(),\n",
       "                                 [&#x27;FICO&#x27;, &#x27;Term&#x27;, &#x27;Amount&#x27;, &#x27;Previous_Rate&#x27;,\n",
       "                                  &#x27;Competition_rate&#x27;, &#x27;Cost_Funds&#x27;]),\n",
       "                                (&#x27;pass&#x27;, &#x27;passthrough&#x27;,\n",
       "                                 [&#x27;Rate&#x27;, &#x27;Car_Type_N&#x27;, &#x27;Car_Type_R&#x27;,\n",
       "                                  &#x27;Car_Type_U&#x27;])])</pre></div></div></div><div class=\"sk-parallel\"><div class=\"sk-parallel-item\"><div class=\"sk-item\"><div class=\"sk-label-container\"><div class=\"sk-label sk-toggleable\"><input class=\"sk-toggleable__control sk-hidden--visually\" id=\"sk-estimator-id-74\" type=\"checkbox\" ><label for=\"sk-estimator-id-74\" class=\"sk-toggleable__label sk-toggleable__label-arrow\">ohe</label><div class=\"sk-toggleable__content\"><pre>[&#x27;Tier&#x27;, &#x27;Partner Bin&#x27;]</pre></div></div></div><div class=\"sk-serial\"><div class=\"sk-item\"><div class=\"sk-estimator sk-toggleable\"><input class=\"sk-toggleable__control sk-hidden--visually\" id=\"sk-estimator-id-75\" type=\"checkbox\" ><label for=\"sk-estimator-id-75\" class=\"sk-toggleable__label sk-toggleable__label-arrow\">OneHotEncoder</label><div class=\"sk-toggleable__content\"><pre>OneHotEncoder(handle_unknown=&#x27;ignore&#x27;)</pre></div></div></div></div></div></div><div class=\"sk-parallel-item\"><div class=\"sk-item\"><div class=\"sk-label-container\"><div class=\"sk-label sk-toggleable\"><input class=\"sk-toggleable__control sk-hidden--visually\" id=\"sk-estimator-id-76\" type=\"checkbox\" ><label for=\"sk-estimator-id-76\" class=\"sk-toggleable__label sk-toggleable__label-arrow\">scaling</label><div class=\"sk-toggleable__content\"><pre>[&#x27;FICO&#x27;, &#x27;Term&#x27;, &#x27;Amount&#x27;, &#x27;Previous_Rate&#x27;, &#x27;Competition_rate&#x27;, &#x27;Cost_Funds&#x27;]</pre></div></div></div><div class=\"sk-serial\"><div class=\"sk-item\"><div class=\"sk-estimator sk-toggleable\"><input class=\"sk-toggleable__control sk-hidden--visually\" id=\"sk-estimator-id-77\" type=\"checkbox\" ><label for=\"sk-estimator-id-77\" class=\"sk-toggleable__label sk-toggleable__label-arrow\">StandardScaler</label><div class=\"sk-toggleable__content\"><pre>StandardScaler()</pre></div></div></div></div></div></div><div class=\"sk-parallel-item\"><div class=\"sk-item\"><div class=\"sk-label-container\"><div class=\"sk-label sk-toggleable\"><input class=\"sk-toggleable__control sk-hidden--visually\" id=\"sk-estimator-id-78\" type=\"checkbox\" ><label for=\"sk-estimator-id-78\" class=\"sk-toggleable__label sk-toggleable__label-arrow\">pass</label><div class=\"sk-toggleable__content\"><pre>[&#x27;Rate&#x27;, &#x27;Car_Type_N&#x27;, &#x27;Car_Type_R&#x27;, &#x27;Car_Type_U&#x27;]</pre></div></div></div><div class=\"sk-serial\"><div class=\"sk-item\"><div class=\"sk-estimator sk-toggleable\"><input class=\"sk-toggleable__control sk-hidden--visually\" id=\"sk-estimator-id-79\" type=\"checkbox\" ><label for=\"sk-estimator-id-79\" class=\"sk-toggleable__label sk-toggleable__label-arrow\">passthrough</label><div class=\"sk-toggleable__content\"><pre>passthrough</pre></div></div></div></div></div></div></div></div><div class=\"sk-item\"><div class=\"sk-estimator sk-toggleable\"><input class=\"sk-toggleable__control sk-hidden--visually\" id=\"sk-estimator-id-80\" type=\"checkbox\" ><label for=\"sk-estimator-id-80\" class=\"sk-toggleable__label sk-toggleable__label-arrow\">LogisticRegression</label><div class=\"sk-toggleable__content\"><pre>LogisticRegression()</pre></div></div></div></div></div></div></div></div></div></div></div></div>"
      ],
      "text/plain": [
       "GridSearchCV(cv=10,\n",
       "             estimator=Pipeline(steps=[('preprocessing',\n",
       "                                        ColumnTransformer(transformers=[('ohe',\n",
       "                                                                         OneHotEncoder(handle_unknown='ignore'),\n",
       "                                                                         ['Tier',\n",
       "                                                                          'Partner '\n",
       "                                                                          'Bin']),\n",
       "                                                                        ('scaling',\n",
       "                                                                         StandardScaler(),\n",
       "                                                                         ['FICO',\n",
       "                                                                          'Term',\n",
       "                                                                          'Amount',\n",
       "                                                                          'Previous_Rate',\n",
       "                                                                          'Competition_rate',\n",
       "                                                                          'Cost_Funds']),\n",
       "                                                                        ('pass',\n",
       "                                                                         'passthrough',\n",
       "                                                                         ['Rate',\n",
       "                                                                          'Car_Type_N',\n",
       "                                                                          'Car_Type_R',\n",
       "                                                                          'Car_Type_U'])])),\n",
       "                                       ('model',...\n",
       "       1.00000000e-01, 3.16227766e-01, 1.00000000e+00, 3.16227766e+00,\n",
       "       1.00000000e+01, 3.16227766e+01, 1.00000000e+02, 3.16227766e+02,\n",
       "       1.00000000e+03, 3.16227766e+03, 1.00000000e+04, 3.16227766e+04,\n",
       "       1.00000000e+05, 3.16227766e+05, 1.00000000e+06]),\n",
       "                         'model__max_iter': [100000], 'model__penalty': ['l1'],\n",
       "                         'model__random_state': [19],\n",
       "                         'model__solver': ['liblinear', 'saga']},\n",
       "             scoring='roc_auc')"
      ]
     },
     "execution_count": 34,
     "metadata": {},
     "output_type": "execute_result"
    }
   ],
   "source": [
    "%%time\n",
    "\n",
    "logreg_l1_params = {\n",
    "    'model__C': np.logspace(-5, 6, 23),\n",
    "    'model__penalty': ['l1'],\n",
    "    'model__solver': ['liblinear', 'saga'],\n",
    "    'model__max_iter': [10**5],\n",
    "    'model__random_state': [19]\n",
    "}\n",
    "\n",
    "searcher_l1 = GridSearchCV(\n",
    "    pipeline_ohe, \n",
    "    param_grid=logreg_l1_params,\n",
    "    scoring='roc_auc',\n",
    "    cv=10,\n",
    "    n_jobs=-1\n",
    ")\n",
    "\n",
    "searcher_l1.fit(X_train, y_train)"
   ]
  },
  {
   "cell_type": "code",
   "execution_count": 35,
   "metadata": {
    "execution": {
     "iopub.execute_input": "2023-03-20T12:11:59.670917Z",
     "iopub.status.busy": "2023-03-20T12:11:59.670681Z",
     "iopub.status.idle": "2023-03-20T12:11:59.677274Z",
     "shell.execute_reply": "2023-03-20T12:11:59.676220Z",
     "shell.execute_reply.started": "2023-03-20T12:11:59.670876Z"
    },
    "tags": []
   },
   "outputs": [
    {
     "data": {
      "text/plain": [
       "(0.8484407024570491,\n",
       " {'model__C': 10.0,\n",
       "  'model__max_iter': 100000,\n",
       "  'model__penalty': 'l1',\n",
       "  'model__random_state': 19,\n",
       "  'model__solver': 'liblinear'})"
      ]
     },
     "execution_count": 35,
     "metadata": {},
     "output_type": "execute_result"
    }
   ],
   "source": [
    "searcher_l1.best_score_, searcher_l1.best_params_"
   ]
  },
  {
   "cell_type": "markdown",
   "metadata": {},
   "source": [
    "#### Обучение модели с лучшими параметрами:"
   ]
  },
  {
   "cell_type": "code",
   "execution_count": 36,
   "metadata": {
    "execution": {
     "iopub.execute_input": "2023-03-20T12:11:59.678607Z",
     "iopub.status.busy": "2023-03-20T12:11:59.678410Z",
     "iopub.status.idle": "2023-03-20T12:12:00.568839Z",
     "shell.execute_reply": "2023-03-20T12:12:00.568261Z",
     "shell.execute_reply.started": "2023-03-20T12:11:59.678570Z"
    },
    "tags": []
   },
   "outputs": [
    {
     "name": "stdout",
     "output_type": "stream",
     "text": [
      "Train ROC-AUC = 0.8485580595142357\n",
      "Valid ROC-AUC = 0.8509216037599909\n",
      "Test ROC-AUC = 0.8446378301660763\n"
     ]
    }
   ],
   "source": [
    "best_ohe_l2 = searcher_l2.best_params_\n",
    "pipeline_ohe_l2 = Pipeline(\n",
    "    steps=[\n",
    "        ('preprocessing', column_transformer_ohe),\n",
    "        ('model', LogisticRegression(**{key[7:]: best_ohe_l2[key] for key in best_ohe_l2}))\n",
    "    ]\n",
    ")\n",
    "pipeline_ohe_l2.fit(X_train, y_train)\n",
    "y_pred_train = pipeline_ohe_l2.predict_proba(X_train)[:, 1]\n",
    "y_pred_valid = pipeline_ohe_l2.predict_proba(X_valid)[:, 1]\n",
    "y_pred_test = pipeline_ohe_l2.predict_proba(X_test)[:, 1]\n",
    "print(f'Train ROC-AUC = {roc_auc_score(y_train, y_pred_train)}')\n",
    "print(f'Valid ROC-AUC = {roc_auc_score(y_valid, y_pred_valid)}')\n",
    "print(f'Test ROC-AUC = {roc_auc_score(y_test, y_pred_test)}')"
   ]
  },
  {
   "cell_type": "code",
   "execution_count": 37,
   "metadata": {
    "execution": {
     "iopub.execute_input": "2023-03-20T12:12:00.570369Z",
     "iopub.status.busy": "2023-03-20T12:12:00.569931Z",
     "iopub.status.idle": "2023-03-20T12:12:02.223584Z",
     "shell.execute_reply": "2023-03-20T12:12:02.222881Z",
     "shell.execute_reply.started": "2023-03-20T12:12:00.570323Z"
    },
    "tags": []
   },
   "outputs": [
    {
     "name": "stdout",
     "output_type": "stream",
     "text": [
      "Train ROC-AUC = 0.8485576733180547\n",
      "Valid ROC-AUC = 0.8509211072426994\n",
      "Test ROC-AUC = 0.8446382772315505\n"
     ]
    }
   ],
   "source": [
    "best_ohe_l1 = searcher_l1.best_params_\n",
    "pipeline_ohe_l1 = Pipeline(\n",
    "    steps=[\n",
    "        ('preprocessing', column_transformer_ohe),\n",
    "        ('model', LogisticRegression(**{key[7:]: best_ohe_l1[key] for key in best_ohe_l1}))\n",
    "    ]\n",
    ")\n",
    "pipeline_ohe_l1.fit(X_train, y_train)\n",
    "y_pred_train = pipeline_ohe_l1.predict_proba(X_train)[:, 1]\n",
    "y_pred_valid = pipeline_ohe_l1.predict_proba(X_valid)[:, 1]\n",
    "y_pred_test = pipeline_ohe_l1.predict_proba(X_test)[:, 1]\n",
    "print(f'Train ROC-AUC = {roc_auc_score(y_train, y_pred_train)}')\n",
    "print(f'Valid ROC-AUC = {roc_auc_score(y_valid, y_pred_valid)}')\n",
    "print(f'Test ROC-AUC = {roc_auc_score(y_test, y_pred_test)}')"
   ]
  },
  {
   "cell_type": "markdown",
   "metadata": {},
   "source": [
    "### Финальный предикт для логистической регрессии:"
   ]
  },
  {
   "cell_type": "markdown",
   "metadata": {},
   "source": [
    "Лучший скор показала L1 с OHE"
   ]
  },
  {
   "cell_type": "code",
   "execution_count": 38,
   "metadata": {
    "execution": {
     "iopub.execute_input": "2023-03-20T12:14:43.428221Z",
     "iopub.status.busy": "2023-03-20T12:14:43.427873Z",
     "iopub.status.idle": "2023-03-20T12:14:43.436776Z",
     "shell.execute_reply": "2023-03-20T12:14:43.436138Z",
     "shell.execute_reply.started": "2023-03-20T12:14:43.428172Z"
    },
    "tags": []
   },
   "outputs": [],
   "source": [
    "acceptance_model_name = 'acceptance_logreg_model'\n",
    "# acceptance_model_name = 'acceptance_logreg_new_data_model'\n",
    "joblib.dump(pipeline_ohe_l1, f'./acceptance_models/{acceptance_model_name}.pkl')\n",
    "acceptance_model = joblib.load(f'./acceptance_models/{acceptance_model_name}.pkl')"
   ]
  },
  {
   "cell_type": "code",
   "execution_count": 39,
   "metadata": {},
   "outputs": [
    {
     "data": {
      "text/html": [
       "<div>\n",
       "<style scoped>\n",
       "    .dataframe tbody tr th:only-of-type {\n",
       "        vertical-align: middle;\n",
       "    }\n",
       "\n",
       "    .dataframe tbody tr th {\n",
       "        vertical-align: top;\n",
       "    }\n",
       "\n",
       "    .dataframe thead th {\n",
       "        text-align: right;\n",
       "    }\n",
       "</style>\n",
       "<table border=\"1\" class=\"dataframe\">\n",
       "  <thead>\n",
       "    <tr style=\"text-align: right;\">\n",
       "      <th></th>\n",
       "      <th>coefs</th>\n",
       "      <th>columns</th>\n",
       "      <th>abs_coefs</th>\n",
       "    </tr>\n",
       "  </thead>\n",
       "  <tbody>\n",
       "    <tr>\n",
       "      <th>16</th>\n",
       "      <td>3.288830</td>\n",
       "      <td>pass__Car_Type_U</td>\n",
       "      <td>3.288830</td>\n",
       "    </tr>\n",
       "    <tr>\n",
       "      <th>10</th>\n",
       "      <td>1.496659</td>\n",
       "      <td>scaling__Previous_Rate</td>\n",
       "      <td>1.496659</td>\n",
       "    </tr>\n",
       "    <tr>\n",
       "      <th>14</th>\n",
       "      <td>1.073560</td>\n",
       "      <td>pass__Car_Type_N</td>\n",
       "      <td>1.073560</td>\n",
       "    </tr>\n",
       "    <tr>\n",
       "      <th>9</th>\n",
       "      <td>-0.916080</td>\n",
       "      <td>scaling__Amount</td>\n",
       "      <td>0.916080</td>\n",
       "    </tr>\n",
       "    <tr>\n",
       "      <th>4</th>\n",
       "      <td>0.677197</td>\n",
       "      <td>ohe__Partner Bin_1</td>\n",
       "      <td>0.677197</td>\n",
       "    </tr>\n",
       "    <tr>\n",
       "      <th>5</th>\n",
       "      <td>-0.655562</td>\n",
       "      <td>ohe__Partner Bin_2</td>\n",
       "      <td>0.655562</td>\n",
       "    </tr>\n",
       "    <tr>\n",
       "      <th>15</th>\n",
       "      <td>-0.647939</td>\n",
       "      <td>pass__Car_Type_R</td>\n",
       "      <td>0.647939</td>\n",
       "    </tr>\n",
       "    <tr>\n",
       "      <th>13</th>\n",
       "      <td>-0.602898</td>\n",
       "      <td>pass__Rate</td>\n",
       "      <td>0.602898</td>\n",
       "    </tr>\n",
       "    <tr>\n",
       "      <th>3</th>\n",
       "      <td>0.510392</td>\n",
       "      <td>ohe__Tier_4</td>\n",
       "      <td>0.510392</td>\n",
       "    </tr>\n",
       "    <tr>\n",
       "      <th>8</th>\n",
       "      <td>0.428902</td>\n",
       "      <td>scaling__Term</td>\n",
       "      <td>0.428902</td>\n",
       "    </tr>\n",
       "    <tr>\n",
       "      <th>6</th>\n",
       "      <td>0.353985</td>\n",
       "      <td>ohe__Partner Bin_3</td>\n",
       "      <td>0.353985</td>\n",
       "    </tr>\n",
       "    <tr>\n",
       "      <th>0</th>\n",
       "      <td>0.337558</td>\n",
       "      <td>ohe__Tier_1</td>\n",
       "      <td>0.337558</td>\n",
       "    </tr>\n",
       "    <tr>\n",
       "      <th>7</th>\n",
       "      <td>-0.290538</td>\n",
       "      <td>scaling__FICO</td>\n",
       "      <td>0.290538</td>\n",
       "    </tr>\n",
       "    <tr>\n",
       "      <th>2</th>\n",
       "      <td>0.211577</td>\n",
       "      <td>ohe__Tier_3</td>\n",
       "      <td>0.211577</td>\n",
       "    </tr>\n",
       "    <tr>\n",
       "      <th>11</th>\n",
       "      <td>0.202573</td>\n",
       "      <td>scaling__Competition_rate</td>\n",
       "      <td>0.202573</td>\n",
       "    </tr>\n",
       "    <tr>\n",
       "      <th>1</th>\n",
       "      <td>0.091036</td>\n",
       "      <td>ohe__Tier_2</td>\n",
       "      <td>0.091036</td>\n",
       "    </tr>\n",
       "    <tr>\n",
       "      <th>12</th>\n",
       "      <td>0.067221</td>\n",
       "      <td>scaling__Cost_Funds</td>\n",
       "      <td>0.067221</td>\n",
       "    </tr>\n",
       "  </tbody>\n",
       "</table>\n",
       "</div>"
      ],
      "text/plain": [
       "       coefs                    columns  abs_coefs\n",
       "16  3.288830           pass__Car_Type_U   3.288830\n",
       "10  1.496659     scaling__Previous_Rate   1.496659\n",
       "14  1.073560           pass__Car_Type_N   1.073560\n",
       "9  -0.916080            scaling__Amount   0.916080\n",
       "4   0.677197         ohe__Partner Bin_1   0.677197\n",
       "5  -0.655562         ohe__Partner Bin_2   0.655562\n",
       "15 -0.647939           pass__Car_Type_R   0.647939\n",
       "13 -0.602898                 pass__Rate   0.602898\n",
       "3   0.510392                ohe__Tier_4   0.510392\n",
       "8   0.428902              scaling__Term   0.428902\n",
       "6   0.353985         ohe__Partner Bin_3   0.353985\n",
       "0   0.337558                ohe__Tier_1   0.337558\n",
       "7  -0.290538              scaling__FICO   0.290538\n",
       "2   0.211577                ohe__Tier_3   0.211577\n",
       "11  0.202573  scaling__Competition_rate   0.202573\n",
       "1   0.091036                ohe__Tier_2   0.091036\n",
       "12  0.067221        scaling__Cost_Funds   0.067221"
      ]
     },
     "execution_count": 39,
     "metadata": {},
     "output_type": "execute_result"
    }
   ],
   "source": [
    "imp_df = pd.DataFrame(\n",
    "    {'coefs': acceptance_model.steps[-1][-1].coef_[0], 'columns': acceptance_model.steps[0][-1].get_feature_names_out()}\n",
    ")\n",
    "imp_df['abs_coefs'] = np.abs(imp_df['coefs'])\n",
    "imp_df.sort_values(by='abs_coefs', ascending=False)"
   ]
  },
  {
   "cell_type": "code",
   "execution_count": 40,
   "metadata": {},
   "outputs": [
    {
     "data": {
      "image/png": "[encoded data removed]",
      "text/plain": [
       "<Figure size 400x400 with 1 Axes>"
      ]
     },
     "metadata": {},
     "output_type": "display_data"
    }
   ],
   "source": [
    "plt.figure(figsize=(4, 4))\n",
    "prob_true, prob_pred = calibration_curve(y_valid, y_pred_valid, n_bins=20)\n",
    "plt.plot(prob_true, prob_pred, 'b', label='My classifier')\n",
    "plt.plot([0, 1], [0, 1], '--r', label='Ideal')\n",
    "plt.legend(loc=2)\n",
    "plt.show()"
   ]
  },
  {
   "cell_type": "code",
   "execution_count": null,
   "metadata": {},
   "outputs": [],
   "source": []
  },
  {
   "cell_type": "markdown",
   "metadata": {},
   "source": [
    "## LightGBM на Accept:"
   ]
  },
  {
   "cell_type": "code",
   "execution_count": 41,
   "metadata": {},
   "outputs": [],
   "source": [
    "def optimize_lgbm(X, y, n_trials=100):\n",
    "    def objective(trial):\n",
    "        params = {\n",
    "            'min_child_samples': trial.suggest_int('min_child_samples', 2, 100),\n",
    "            'min_data_in_bin': trial.suggest_int('min_data_in_bin', 1, 256),\n",
    "            'min_split_gain': trial.suggest_discrete_uniform('min_split_gain', 0.1, 5, 0.01),\n",
    "            'max_depth': trial.suggest_int('max_depth', 1, 9),\n",
    "            'n_estimators': trial.suggest_int('n_estimators', 100, 600),\n",
    "            'learning_rate': trial.suggest_float('learning_rate', 0.001, 0.1),\n",
    "            'boosting_type': trial.suggest_categorical('boosting_type', ['gbdt', 'dart']),\n",
    "            'reg_alpha': trial.suggest_float('reg_alpha', 1e-8, 10.0),\n",
    "            'reg_lambda': trial.suggest_float('reg_lambda', 1e-8, 10.0),\n",
    "            'num_leaves': trial.suggest_int('num_leaves', 2, 256),\n",
    "            'colsample_bytree': trial.suggest_uniform('colsample_bytree', 0.4, 1.0),\n",
    "            'subsample': trial.suggest_uniform('subsample', 0.4, 1.0),\n",
    "            'subsample_freq': trial.suggest_int('subsample_freq', 1, 7),\n",
    "            'max_bin': trial.suggest_int('max_bin', 32, 255),\n",
    "            'random_state': 19,\n",
    "            'class_weight': 'balanced',\n",
    "        }\n",
    "\n",
    "        cv = StratifiedKFold(n_splits=5)\n",
    "        model = LGBMClassifier(**params)\n",
    "        scores = cross_val_score(model, X, y, cv=cv, scoring='roc_auc', verbose=False)\n",
    "        score = np.mean(scores)\n",
    "\n",
    "        return score\n",
    "\n",
    "    sampler = TPESampler(seed=19)\n",
    "    study = create_study(direction='maximize', study_name=\"LGBM Classifier\", sampler=sampler)\n",
    "    study.optimize(objective, n_trials=n_trials, show_progress_bar=True)\n",
    "    best_pars_mass = study.best_params\n",
    "    print(f'Best score: {study.best_value}')\n",
    "    return best_pars_mass"
   ]
  },
  {
   "cell_type": "code",
   "execution_count": 42,
   "metadata": {},
   "outputs": [],
   "source": [
    "column_transformer_mean_target = ColumnTransformer([\n",
    "    ('mean_target', TargetEncoder(cols=cat_cols), cat_cols),\n",
    "    ('pass', 'passthrough', num_cols + other),\n",
    "])"
   ]
  },
  {
   "cell_type": "code",
   "execution_count": 43,
   "metadata": {},
   "outputs": [],
   "source": [
    "X_train_enc = column_transformer_mean_target.fit_transform(X_train, y_train)"
   ]
  },
  {
   "cell_type": "code",
   "execution_count": 44,
   "metadata": {},
   "outputs": [
    {
     "name": "stderr",
     "output_type": "stream",
     "text": [
      "\u001b[32m[I 2023-05-01 00:56:57,071]\u001b[0m A new study created in memory with name: LGBM Classifier\u001b[0m\n"
     ]
    },
    {
     "data": {
      "application/vnd.jupyter.widget-view+json": {
       "model_id": "33d933be8d8a454e9137f55149d8f04d",
       "version_major": 2,
       "version_minor": 0
      },
      "text/plain": [
       "  0%|          | 0/30 [00:00<?, ?it/s]"
      ]
     },
     "metadata": {},
     "output_type": "display_data"
    },
    {
     "name": "stdout",
     "output_type": "stream",
     "text": [
      "\u001b[32m[I 2023-05-01 00:57:08,825]\u001b[0m Trial 0 finished with value: 0.8315536304971068 and parameters: {'min_child_samples': 11, 'min_data_in_bin': 195, 'min_split_gain': 1.31, 'max_depth': 2, 'n_estimators': 266, 'learning_rate': 0.009216956935682395, 'boosting_type': 'dart', 'reg_alpha': 9.827419145614721, 'reg_lambda': 6.356607351611918, 'num_leaves': 57, 'colsample_bytree': 0.7294164592505679, 'subsample': 0.7273359748055357, 'subsample_freq': 2, 'max_bin': 57}. Best is trial 0 with value: 0.8315536304971068.\u001b[0m\n",
      "\u001b[32m[I 2023-05-01 00:57:16,595]\u001b[0m Trial 1 finished with value: 0.8889874972676874 and parameters: {'min_child_samples': 51, 'min_data_in_bin': 39, 'min_split_gain': 2.71, 'max_depth': 4, 'n_estimators': 444, 'learning_rate': 0.0379197884844309, 'boosting_type': 'gbdt', 'reg_alpha': 6.0803430345942004, 'reg_lambda': 6.152320369708368, 'num_leaves': 165, 'colsample_bytree': 0.5610901042782008, 'subsample': 0.850093689161936, 'subsample_freq': 3, 'max_bin': 190}. Best is trial 1 with value: 0.8889874972676874.\u001b[0m\n",
      "\u001b[32m[I 2023-05-01 00:57:22,249]\u001b[0m Trial 2 finished with value: 0.8715809011924284 and parameters: {'min_child_samples': 8, 'min_data_in_bin': 177, 'min_split_gain': 2.81, 'max_depth': 5, 'n_estimators': 273, 'learning_rate': 0.018088683048335573, 'boosting_type': 'gbdt', 'reg_alpha': 8.255576135786526, 'reg_lambda': 7.110669705203426, 'num_leaves': 13, 'colsample_bytree': 0.44592193692137716, 'subsample': 0.40620633706614745, 'subsample_freq': 7, 'max_bin': 166}. Best is trial 1 with value: 0.8889874972676874.\u001b[0m\n",
      "\u001b[32m[I 2023-05-01 00:58:56,166]\u001b[0m Trial 3 finished with value: 0.8694161946357379 and parameters: {'min_child_samples': 19, 'min_data_in_bin': 94, 'min_split_gain': 4.34, 'max_depth': 5, 'n_estimators': 586, 'learning_rate': 0.014430317894805526, 'boosting_type': 'dart', 'reg_alpha': 9.353644226124963, 'reg_lambda': 9.36302908931622, 'num_leaves': 173, 'colsample_bytree': 0.9633955812656375, 'subsample': 0.714536638129238, 'subsample_freq': 4, 'max_bin': 39}. Best is trial 1 with value: 0.8889874972676874.\u001b[0m\n",
      "\u001b[32m[I 2023-05-01 00:59:05,120]\u001b[0m Trial 4 finished with value: 0.9000200837656221 and parameters: {'min_child_samples': 87, 'min_data_in_bin': 47, 'min_split_gain': 3.6700000000000004, 'max_depth': 9, 'n_estimators': 550, 'learning_rate': 0.08360277877630101, 'boosting_type': 'gbdt', 'reg_alpha': 1.6483069759918714, 'reg_lambda': 4.4021176100115476, 'num_leaves': 195, 'colsample_bytree': 0.6653642997236018, 'subsample': 0.47831403514200765, 'subsample_freq': 2, 'max_bin': 255}. Best is trial 4 with value: 0.9000200837656221.\u001b[0m\n",
      "\u001b[32m[I 2023-05-01 00:59:16,301]\u001b[0m Trial 5 finished with value: 0.8973387774197068 and parameters: {'min_child_samples': 28, 'min_data_in_bin': 225, 'min_split_gain': 0.9, 'max_depth': 9, 'n_estimators': 300, 'learning_rate': 0.06561525850139244, 'boosting_type': 'gbdt', 'reg_alpha': 9.118263402140597, 'reg_lambda': 0.5391789566270133, 'num_leaves': 128, 'colsample_bytree': 0.5497831843518831, 'subsample': 0.6090825169480402, 'subsample_freq': 6, 'max_bin': 112}. Best is trial 4 with value: 0.9000200837656221.\u001b[0m\n",
      "\u001b[32m[I 2023-05-01 00:59:18,187]\u001b[0m Trial 6 finished with value: 0.7969072621186994 and parameters: {'min_child_samples': 64, 'min_data_in_bin': 250, 'min_split_gain': 2.17, 'max_depth': 1, 'n_estimators': 139, 'learning_rate': 0.021380756120874662, 'boosting_type': 'dart', 'reg_alpha': 8.351873453467743, 'reg_lambda': 0.8207576877941918, 'num_leaves': 211, 'colsample_bytree': 0.8899943653971252, 'subsample': 0.5998574196901831, 'subsample_freq': 5, 'max_bin': 252}. Best is trial 4 with value: 0.9000200837656221.\u001b[0m\n",
      "\u001b[32m[I 2023-05-01 00:59:56,267]\u001b[0m Trial 7 finished with value: 0.8660702048183007 and parameters: {'min_child_samples': 96, 'min_data_in_bin': 172, 'min_split_gain': 4.4799999999999995, 'max_depth': 4, 'n_estimators': 416, 'learning_rate': 0.01966082632363605, 'boosting_type': 'dart', 'reg_alpha': 7.516312393395998, 'reg_lambda': 8.33060043552086, 'num_leaves': 38, 'colsample_bytree': 0.4089875185979382, 'subsample': 0.9143646831106572, 'subsample_freq': 5, 'max_bin': 223}. Best is trial 4 with value: 0.9000200837656221.\u001b[0m\n",
      "\u001b[32m[I 2023-05-01 00:59:59,273]\u001b[0m Trial 8 finished with value: 0.8486898231058302 and parameters: {'min_child_samples': 87, 'min_data_in_bin': 204, 'min_split_gain': 2.44, 'max_depth': 1, 'n_estimators': 257, 'learning_rate': 0.06448102675876187, 'boosting_type': 'gbdt', 'reg_alpha': 0.565533895114156, 'reg_lambda': 9.1025211177921, 'num_leaves': 79, 'colsample_bytree': 0.5988575812913118, 'subsample': 0.43401175979633044, 'subsample_freq': 1, 'max_bin': 60}. Best is trial 4 with value: 0.9000200837656221.\u001b[0m\n",
      "\u001b[32m[I 2023-05-01 01:00:23,542]\u001b[0m Trial 9 finished with value: 0.8651502776765984 and parameters: {'min_child_samples': 11, 'min_data_in_bin': 42, 'min_split_gain': 0.84, 'max_depth': 3, 'n_estimators': 380, 'learning_rate': 0.035456347128443845, 'boosting_type': 'dart', 'reg_alpha': 0.702296434028543, 'reg_lambda': 5.975705769777456, 'num_leaves': 81, 'colsample_bytree': 0.5512920717999882, 'subsample': 0.7152795450823419, 'subsample_freq': 4, 'max_bin': 165}. Best is trial 4 with value: 0.9000200837656221.\u001b[0m\n",
      "\u001b[32m[I 2023-05-01 01:00:32,337]\u001b[0m Trial 10 finished with value: 0.8965216576882629 and parameters: {'min_child_samples': 77, 'min_data_in_bin': 104, 'min_split_gain': 3.54, 'max_depth': 9, 'n_estimators': 588, 'learning_rate': 0.09963362087253223, 'boosting_type': 'gbdt', 'reg_alpha': 2.945107474851065, 'reg_lambda': 3.8368153656836856, 'num_leaves': 254, 'colsample_bytree': 0.7553842759261811, 'subsample': 0.5096449357146007, 'subsample_freq': 1, 'max_bin': 113}. Best is trial 4 with value: 0.9000200837656221.\u001b[0m\n",
      "\u001b[32m[I 2023-05-01 01:00:57,430]\u001b[0m Trial 11 finished with value: 0.8979454519416601 and parameters: {'min_child_samples': 38, 'min_data_in_bin': 10, 'min_split_gain': 0.12000000000000001, 'max_depth': 9, 'n_estimators': 466, 'learning_rate': 0.06952627191537028, 'boosting_type': 'gbdt', 'reg_alpha': 4.606777916496035, 'reg_lambda': 0.7240642383291149, 'num_leaves': 129, 'colsample_bytree': 0.6697312487661542, 'subsample': 0.5797513151081259, 'subsample_freq': 7, 'max_bin': 121}. Best is trial 4 with value: 0.9000200837656221.\u001b[0m\n",
      "\u001b[32m[I 2023-05-01 01:01:16,438]\u001b[0m Trial 12 finished with value: 0.8971462531770878 and parameters: {'min_child_samples': 43, 'min_data_in_bin': 3, 'min_split_gain': 0.25, 'max_depth': 7, 'n_estimators': 498, 'learning_rate': 0.08527857985509994, 'boosting_type': 'gbdt', 'reg_alpha': 3.552560103563132, 'reg_lambda': 3.2341901260323187, 'num_leaves': 119, 'colsample_bytree': 0.6686814310609644, 'subsample': 0.5183766767265955, 'subsample_freq': 3, 'max_bin': 114}. Best is trial 4 with value: 0.9000200837656221.\u001b[0m\n",
      "\u001b[32m[I 2023-05-01 01:01:23,723]\u001b[0m Trial 13 finished with value: 0.8953329787217893 and parameters: {'min_child_samples': 37, 'min_data_in_bin': 58, 'min_split_gain': 3.5900000000000003, 'max_depth': 7, 'n_estimators': 505, 'learning_rate': 0.0747014683975886, 'boosting_type': 'gbdt', 'reg_alpha': 4.862643118317813, 'reg_lambda': 2.562355364709815, 'num_leaves': 184, 'colsample_bytree': 0.8218046063806262, 'subsample': 0.5889234769322418, 'subsample_freq': 7, 'max_bin': 206}. Best is trial 4 with value: 0.9000200837656221.\u001b[0m\n",
      "\u001b[32m[I 2023-05-01 01:01:31,948]\u001b[0m Trial 14 finished with value: 0.8963280572225573 and parameters: {'min_child_samples': 66, 'min_data_in_bin': 2, 'min_split_gain': 3.64, 'max_depth': 7, 'n_estimators': 492, 'learning_rate': 0.054325509733537385, 'boosting_type': 'gbdt', 'reg_alpha': 2.248501606134296, 'reg_lambda': 4.834118247715732, 'num_leaves': 226, 'colsample_bytree': 0.6602889680078651, 'subsample': 0.49480024098685577, 'subsample_freq': 2, 'max_bin': 141}. Best is trial 4 with value: 0.9000200837656221.\u001b[0m\n",
      "\u001b[32m[I 2023-05-01 01:01:39,134]\u001b[0m Trial 15 finished with value: 0.8905210310532368 and parameters: {'min_child_samples': 64, 'min_data_in_bin': 76, 'min_split_gain': 4.989999999999999, 'max_depth': 8, 'n_estimators': 535, 'learning_rate': 0.08694402257821797, 'boosting_type': 'gbdt', 'reg_alpha': 4.624466776701829, 'reg_lambda': 1.7661604163115907, 'num_leaves': 140, 'colsample_bytree': 0.7851703328735044, 'subsample': 0.6379421352206844, 'subsample_freq': 6, 'max_bin': 87}. Best is trial 4 with value: 0.9000200837656221.\u001b[0m\n"
     ]
    },
    {
     "name": "stdout",
     "output_type": "stream",
     "text": [
      "\u001b[32m[I 2023-05-01 01:01:58,563]\u001b[0m Trial 16 finished with value: 0.9018607532413657 and parameters: {'min_child_samples': 98, 'min_data_in_bin': 136, 'min_split_gain': 1.4800000000000002, 'max_depth': 8, 'n_estimators': 439, 'learning_rate': 0.07572592027203692, 'boosting_type': 'gbdt', 'reg_alpha': 2.2432253142414127, 'reg_lambda': 0.16614580871834939, 'num_leaves': 107, 'colsample_bytree': 0.6766228250390632, 'subsample': 0.46484680675121093, 'subsample_freq': 3, 'max_bin': 244}. Best is trial 16 with value: 0.9018607532413657.\u001b[0m\n",
      "\u001b[32m[I 2023-05-01 01:02:13,958]\u001b[0m Trial 17 finished with value: 0.9008491515114561 and parameters: {'min_child_samples': 99, 'min_data_in_bin': 141, 'min_split_gain': 1.84, 'max_depth': 8, 'n_estimators': 351, 'learning_rate': 0.07961481398744581, 'boosting_type': 'gbdt', 'reg_alpha': 1.7293313401456976, 'reg_lambda': 0.004039083270676563, 'num_leaves': 96, 'colsample_bytree': 0.834461813654884, 'subsample': 0.40126344228780525, 'subsample_freq': 2, 'max_bin': 254}. Best is trial 16 with value: 0.9018607532413657.\u001b[0m\n",
      "\u001b[32m[I 2023-05-01 01:02:26,188]\u001b[0m Trial 18 finished with value: 0.8982421879102314 and parameters: {'min_child_samples': 98, 'min_data_in_bin': 141, 'min_split_gain': 1.7300000000000002, 'max_depth': 6, 'n_estimators': 352, 'learning_rate': 0.05622061178671285, 'boosting_type': 'gbdt', 'reg_alpha': 0.22286399094947162, 'reg_lambda': 1.8419520900438333, 'num_leaves': 94, 'colsample_bytree': 0.847535328510872, 'subsample': 0.4036435414023382, 'subsample_freq': 3, 'max_bin': 233}. Best is trial 16 with value: 0.9018607532413657.\u001b[0m\n",
      "\u001b[32m[I 2023-05-01 01:02:36,058]\u001b[0m Trial 19 finished with value: 0.8987430424738043 and parameters: {'min_child_samples': 79, 'min_data_in_bin': 141, 'min_split_gain': 1.8, 'max_depth': 8, 'n_estimators': 193, 'learning_rate': 0.07757270315321145, 'boosting_type': 'gbdt', 'reg_alpha': 1.708737726161837, 'reg_lambda': 0.0018593767415788776, 'num_leaves': 102, 'colsample_bytree': 0.9428391278675713, 'subsample': 0.4429487384711877, 'subsample_freq': 2, 'max_bin': 198}. Best is trial 16 with value: 0.9018607532413657.\u001b[0m\n",
      "\u001b[32m[I 2023-05-01 01:02:49,576]\u001b[0m Trial 20 finished with value: 0.9007496207686708 and parameters: {'min_child_samples': 100, 'min_data_in_bin': 111, 'min_split_gain': 1.28, 'max_depth': 6, 'n_estimators': 400, 'learning_rate': 0.09545938290577832, 'boosting_type': 'gbdt', 'reg_alpha': 3.4325616620698867, 'reg_lambda': 1.85053659049988, 'num_leaves': 50, 'colsample_bytree': 0.7905940843183825, 'subsample': 0.5463189644072578, 'subsample_freq': 3, 'max_bin': 227}. Best is trial 16 with value: 0.9018607532413657.\u001b[0m\n",
      "\u001b[32m[I 2023-05-01 01:03:02,997]\u001b[0m Trial 21 finished with value: 0.9010872189724616 and parameters: {'min_child_samples': 100, 'min_data_in_bin': 120, 'min_split_gain': 1.26, 'max_depth': 6, 'n_estimators': 395, 'learning_rate': 0.09507790383660103, 'boosting_type': 'gbdt', 'reg_alpha': 3.1091059090551063, 'reg_lambda': 1.7393452038222204, 'num_leaves': 49, 'colsample_bytree': 0.7800049207172571, 'subsample': 0.5320060749769416, 'subsample_freq': 3, 'max_bin': 226}. Best is trial 16 with value: 0.9018607532413657.\u001b[0m\n",
      "\u001b[32m[I 2023-05-01 01:03:09,288]\u001b[0m Trial 22 finished with value: 0.8948799850506216 and parameters: {'min_child_samples': 84, 'min_data_in_bin': 128, 'min_split_gain': 1.8, 'max_depth': 8, 'n_estimators': 329, 'learning_rate': 0.09376984689079484, 'boosting_type': 'gbdt', 'reg_alpha': 2.264830213658475, 'reg_lambda': 0.2833571871142462, 'num_leaves': 8, 'colsample_bytree': 0.8697490369161489, 'subsample': 0.46976072295984356, 'subsample_freq': 4, 'max_bin': 239}. Best is trial 16 with value: 0.9018607532413657.\u001b[0m\n",
      "\u001b[32m[I 2023-05-01 01:03:23,094]\u001b[0m Trial 23 finished with value: 0.9004676475825206 and parameters: {'min_child_samples': 92, 'min_data_in_bin': 162, 'min_split_gain': 0.77, 'max_depth': 6, 'n_estimators': 361, 'learning_rate': 0.07966058319313835, 'boosting_type': 'gbdt', 'reg_alpha': 1.132754723552828, 'reg_lambda': 1.202658415076221, 'num_leaves': 70, 'colsample_bytree': 0.7320938145906515, 'subsample': 0.4458077396174945, 'subsample_freq': 1, 'max_bin': 215}. Best is trial 16 with value: 0.9018607532413657.\u001b[0m\n",
      "\u001b[32m[I 2023-05-01 01:03:37,081]\u001b[0m Trial 24 finished with value: 0.9001429959000365 and parameters: {'min_child_samples': 75, 'min_data_in_bin': 130, 'min_split_gain': 1.4400000000000002, 'max_depth': 7, 'n_estimators': 432, 'learning_rate': 0.09291305756905062, 'boosting_type': 'gbdt', 'reg_alpha': 0.0016069784433194734, 'reg_lambda': 0.060599746276497335, 'num_leaves': 31, 'colsample_bytree': 0.8170528098380903, 'subsample': 0.4004744417824812, 'subsample_freq': 3, 'max_bin': 255}. Best is trial 16 with value: 0.9018607532413657.\u001b[0m\n",
      "\u001b[32m[I 2023-05-01 01:03:47,783]\u001b[0m Trial 25 finished with value: 0.9006965133356368 and parameters: {'min_child_samples': 91, 'min_data_in_bin': 155, 'min_split_gain': 2.23, 'max_depth': 8, 'n_estimators': 319, 'learning_rate': 0.08844749851585093, 'boosting_type': 'gbdt', 'reg_alpha': 2.8492599934010743, 'reg_lambda': 1.2877118093516178, 'num_leaves': 100, 'colsample_bytree': 0.8943401939623123, 'subsample': 0.5340474621609451, 'subsample_freq': 2, 'max_bin': 180}. Best is trial 16 with value: 0.9018607532413657.\u001b[0m\n",
      "\u001b[32m[I 2023-05-01 01:03:55,218]\u001b[0m Trial 26 finished with value: 0.8963556449619713 and parameters: {'min_child_samples': 100, 'min_data_in_bin': 82, 'min_split_gain': 0.5, 'max_depth': 6, 'n_estimators': 199, 'learning_rate': 0.0732728471806548, 'boosting_type': 'gbdt', 'reg_alpha': 1.3462493200742534, 'reg_lambda': 2.6169249464925755, 'num_leaves': 154, 'colsample_bytree': 0.9946244508334707, 'subsample': 0.48606995104396744, 'subsample_freq': 4, 'max_bin': 237}. Best is trial 16 with value: 0.9018607532413657.\u001b[0m\n",
      "\u001b[32m[I 2023-05-01 01:05:13,082]\u001b[0m Trial 27 finished with value: 0.8971651011743529 and parameters: {'min_child_samples': 69, 'min_data_in_bin': 112, 'min_split_gain': 3.0300000000000002, 'max_depth': 8, 'n_estimators': 393, 'learning_rate': 0.08285459401099839, 'boosting_type': 'dart', 'reg_alpha': 4.031817462716289, 'reg_lambda': 1.17681446419723, 'num_leaves': 113, 'colsample_bytree': 0.7620344275720837, 'subsample': 0.4537851936030508, 'subsample_freq': 5, 'max_bin': 213}. Best is trial 16 with value: 0.9018607532413657.\u001b[0m\n",
      "\u001b[32m[I 2023-05-01 01:05:21,526]\u001b[0m Trial 28 finished with value: 0.8982544127883203 and parameters: {'min_child_samples': 56, 'min_data_in_bin': 197, 'min_split_gain': 2.06, 'max_depth': 4, 'n_estimators': 463, 'learning_rate': 0.0990288631390091, 'boosting_type': 'gbdt', 'reg_alpha': 2.406157884087512, 'reg_lambda': 2.5948813415464063, 'num_leaves': 52, 'colsample_bytree': 0.709410188697568, 'subsample': 0.5459693127981164, 'subsample_freq': 3, 'max_bin': 181}. Best is trial 16 with value: 0.9018607532413657.\u001b[0m\n",
      "\u001b[32m[I 2023-05-01 01:06:00,091]\u001b[0m Trial 29 finished with value: 0.897078903222394 and parameters: {'min_child_samples': 85, 'min_data_in_bin': 123, 'min_split_gain': 1.27, 'max_depth': 7, 'n_estimators': 249, 'learning_rate': 0.07760435405560462, 'boosting_type': 'dart', 'reg_alpha': 1.7771665643709902, 'reg_lambda': 0.045121152502262445, 'num_leaves': 67, 'colsample_bytree': 0.730494885371847, 'subsample': 0.7612238298942973, 'subsample_freq': 2, 'max_bin': 240}. Best is trial 16 with value: 0.9018607532413657.\u001b[0m\n",
      "Best score: 0.9018607532413657\n"
     ]
    }
   ],
   "source": [
    "best_params = optimize_lgbm(X_train_enc, y_train, 30)"
   ]
  },
  {
   "cell_type": "code",
   "execution_count": 45,
   "metadata": {},
   "outputs": [
    {
     "data": {
      "text/html": [
       "<style>#sk-container-id-9 {color: black;background-color: white;}#sk-container-id-9 pre{padding: 0;}#sk-container-id-9 div.sk-toggleable {background-color: white;}#sk-container-id-9 label.sk-toggleable__label {cursor: pointer;display: block;width: 100%;margin-bottom: 0;padding: 0.3em;box-sizing: border-box;text-align: center;}#sk-container-id-9 label.sk-toggleable__label-arrow:before {content: \"▸\";float: left;margin-right: 0.25em;color: #696969;}#sk-container-id-9 label.sk-toggleable__label-arrow:hover:before {color: black;}#sk-container-id-9 div.sk-estimator:hover label.sk-toggleable__label-arrow:before {color: black;}#sk-container-id-9 div.sk-toggleable__content {max-height: 0;max-width: 0;overflow: hidden;text-align: left;background-color: #f0f8ff;}#sk-container-id-9 div.sk-toggleable__content pre {margin: 0.2em;color: black;border-radius: 0.25em;background-color: #f0f8ff;}#sk-container-id-9 input.sk-toggleable__control:checked~div.sk-toggleable__content {max-height: 200px;max-width: 100%;overflow: auto;}#sk-container-id-9 input.sk-toggleable__control:checked~label.sk-toggleable__label-arrow:before {content: \"▾\";}#sk-container-id-9 div.sk-estimator input.sk-toggleable__control:checked~label.sk-toggleable__label {background-color: #d4ebff;}#sk-container-id-9 div.sk-label input.sk-toggleable__control:checked~label.sk-toggleable__label {background-color: #d4ebff;}#sk-container-id-9 input.sk-hidden--visually {border: 0;clip: rect(1px 1px 1px 1px);clip: rect(1px, 1px, 1px, 1px);height: 1px;margin: -1px;overflow: hidden;padding: 0;position: absolute;width: 1px;}#sk-container-id-9 div.sk-estimator {font-family: monospace;background-color: #f0f8ff;border: 1px dotted black;border-radius: 0.25em;box-sizing: border-box;margin-bottom: 0.5em;}#sk-container-id-9 div.sk-estimator:hover {background-color: #d4ebff;}#sk-container-id-9 div.sk-parallel-item::after {content: \"\";width: 100%;border-bottom: 1px solid gray;flex-grow: 1;}#sk-container-id-9 div.sk-label:hover label.sk-toggleable__label {background-color: #d4ebff;}#sk-container-id-9 div.sk-serial::before {content: \"\";position: absolute;border-left: 1px solid gray;box-sizing: border-box;top: 0;bottom: 0;left: 50%;z-index: 0;}#sk-container-id-9 div.sk-serial {display: flex;flex-direction: column;align-items: center;background-color: white;padding-right: 0.2em;padding-left: 0.2em;position: relative;}#sk-container-id-9 div.sk-item {position: relative;z-index: 1;}#sk-container-id-9 div.sk-parallel {display: flex;align-items: stretch;justify-content: center;background-color: white;position: relative;}#sk-container-id-9 div.sk-item::before, #sk-container-id-9 div.sk-parallel-item::before {content: \"\";position: absolute;border-left: 1px solid gray;box-sizing: border-box;top: 0;bottom: 0;left: 50%;z-index: -1;}#sk-container-id-9 div.sk-parallel-item {display: flex;flex-direction: column;z-index: 1;position: relative;background-color: white;}#sk-container-id-9 div.sk-parallel-item:first-child::after {align-self: flex-end;width: 50%;}#sk-container-id-9 div.sk-parallel-item:last-child::after {align-self: flex-start;width: 50%;}#sk-container-id-9 div.sk-parallel-item:only-child::after {width: 0;}#sk-container-id-9 div.sk-dashed-wrapped {border: 1px dashed gray;margin: 0 0.4em 0.5em 0.4em;box-sizing: border-box;padding-bottom: 0.4em;background-color: white;}#sk-container-id-9 div.sk-label label {font-family: monospace;font-weight: bold;display: inline-block;line-height: 1.2em;}#sk-container-id-9 div.sk-label-container {text-align: center;}#sk-container-id-9 div.sk-container {/* jupyter's `normalize.less` sets `[hidden] { display: none; }` but bootstrap.min.css set `[hidden] { display: none !important; }` so we also need the `!important` here to be able to override the default hidden behavior on the sphinx rendered scikit-learn.org. See: https://github.com/scikit-learn/scikit-learn/issues/21755 */display: inline-block !important;position: relative;}#sk-container-id-9 div.sk-text-repr-fallback {display: none;}</style><div id=\"sk-container-id-9\" class=\"sk-top-container\"><div class=\"sk-text-repr-fallback\"><pre>Pipeline(steps=[(&#x27;preprocessing&#x27;,\n",
       "                 ColumnTransformer(transformers=[(&#x27;mean_target&#x27;,\n",
       "                                                  TargetEncoder(cols=[&#x27;Tier&#x27;,\n",
       "                                                                      &#x27;Partner &#x27;\n",
       "                                                                      &#x27;Bin&#x27;]),\n",
       "                                                  [&#x27;Tier&#x27;, &#x27;Partner Bin&#x27;]),\n",
       "                                                 (&#x27;pass&#x27;, &#x27;passthrough&#x27;,\n",
       "                                                  [&#x27;FICO&#x27;, &#x27;Term&#x27;, &#x27;Amount&#x27;,\n",
       "                                                   &#x27;Previous_Rate&#x27;,\n",
       "                                                   &#x27;Competition_rate&#x27;,\n",
       "                                                   &#x27;Cost_Funds&#x27;, &#x27;Rate&#x27;,\n",
       "                                                   &#x27;Car_Type_N&#x27;, &#x27;Car_Type_R&#x27;,\n",
       "                                                   &#x27;Car_Type_U&#x27;])])),\n",
       "                (&#x27;model&#x27;,\n",
       "                 LGBMClassifier(colsample_bytree=0.6766228250390632,\n",
       "                                learning_rate=0.07572592027203692, max_bin=244,\n",
       "                                max_depth=8, min_child_samples=98,\n",
       "                                min_data_in_bin=136,\n",
       "                                min_split_gain=1.4800000000000002,\n",
       "                                n_estimators=439, num_leaves=107,\n",
       "                                reg_alpha=2.2432253142414127,\n",
       "                                reg_lambda=0.16614580871834939,\n",
       "                                subsample=0.46484680675121093,\n",
       "                                subsample_freq=3))])</pre><b>In a Jupyter environment, please rerun this cell to show the HTML representation or trust the notebook. <br />On GitHub, the HTML representation is unable to render, please try loading this page with nbviewer.org.</b></div><div class=\"sk-container\" hidden><div class=\"sk-item sk-dashed-wrapped\"><div class=\"sk-label-container\"><div class=\"sk-label sk-toggleable\"><input class=\"sk-toggleable__control sk-hidden--visually\" id=\"sk-estimator-id-81\" type=\"checkbox\" ><label for=\"sk-estimator-id-81\" class=\"sk-toggleable__label sk-toggleable__label-arrow\">Pipeline</label><div class=\"sk-toggleable__content\"><pre>Pipeline(steps=[(&#x27;preprocessing&#x27;,\n",
       "                 ColumnTransformer(transformers=[(&#x27;mean_target&#x27;,\n",
       "                                                  TargetEncoder(cols=[&#x27;Tier&#x27;,\n",
       "                                                                      &#x27;Partner &#x27;\n",
       "                                                                      &#x27;Bin&#x27;]),\n",
       "                                                  [&#x27;Tier&#x27;, &#x27;Partner Bin&#x27;]),\n",
       "                                                 (&#x27;pass&#x27;, &#x27;passthrough&#x27;,\n",
       "                                                  [&#x27;FICO&#x27;, &#x27;Term&#x27;, &#x27;Amount&#x27;,\n",
       "                                                   &#x27;Previous_Rate&#x27;,\n",
       "                                                   &#x27;Competition_rate&#x27;,\n",
       "                                                   &#x27;Cost_Funds&#x27;, &#x27;Rate&#x27;,\n",
       "                                                   &#x27;Car_Type_N&#x27;, &#x27;Car_Type_R&#x27;,\n",
       "                                                   &#x27;Car_Type_U&#x27;])])),\n",
       "                (&#x27;model&#x27;,\n",
       "                 LGBMClassifier(colsample_bytree=0.6766228250390632,\n",
       "                                learning_rate=0.07572592027203692, max_bin=244,\n",
       "                                max_depth=8, min_child_samples=98,\n",
       "                                min_data_in_bin=136,\n",
       "                                min_split_gain=1.4800000000000002,\n",
       "                                n_estimators=439, num_leaves=107,\n",
       "                                reg_alpha=2.2432253142414127,\n",
       "                                reg_lambda=0.16614580871834939,\n",
       "                                subsample=0.46484680675121093,\n",
       "                                subsample_freq=3))])</pre></div></div></div><div class=\"sk-serial\"><div class=\"sk-item sk-dashed-wrapped\"><div class=\"sk-label-container\"><div class=\"sk-label sk-toggleable\"><input class=\"sk-toggleable__control sk-hidden--visually\" id=\"sk-estimator-id-82\" type=\"checkbox\" ><label for=\"sk-estimator-id-82\" class=\"sk-toggleable__label sk-toggleable__label-arrow\">preprocessing: ColumnTransformer</label><div class=\"sk-toggleable__content\"><pre>ColumnTransformer(transformers=[(&#x27;mean_target&#x27;,\n",
       "                                 TargetEncoder(cols=[&#x27;Tier&#x27;, &#x27;Partner Bin&#x27;]),\n",
       "                                 [&#x27;Tier&#x27;, &#x27;Partner Bin&#x27;]),\n",
       "                                (&#x27;pass&#x27;, &#x27;passthrough&#x27;,\n",
       "                                 [&#x27;FICO&#x27;, &#x27;Term&#x27;, &#x27;Amount&#x27;, &#x27;Previous_Rate&#x27;,\n",
       "                                  &#x27;Competition_rate&#x27;, &#x27;Cost_Funds&#x27;, &#x27;Rate&#x27;,\n",
       "                                  &#x27;Car_Type_N&#x27;, &#x27;Car_Type_R&#x27;, &#x27;Car_Type_U&#x27;])])</pre></div></div></div><div class=\"sk-parallel\"><div class=\"sk-parallel-item\"><div class=\"sk-item\"><div class=\"sk-label-container\"><div class=\"sk-label sk-toggleable\"><input class=\"sk-toggleable__control sk-hidden--visually\" id=\"sk-estimator-id-83\" type=\"checkbox\" ><label for=\"sk-estimator-id-83\" class=\"sk-toggleable__label sk-toggleable__label-arrow\">mean_target</label><div class=\"sk-toggleable__content\"><pre>[&#x27;Tier&#x27;, &#x27;Partner Bin&#x27;]</pre></div></div></div><div class=\"sk-serial\"><div class=\"sk-item\"><div class=\"sk-estimator sk-toggleable\"><input class=\"sk-toggleable__control sk-hidden--visually\" id=\"sk-estimator-id-84\" type=\"checkbox\" ><label for=\"sk-estimator-id-84\" class=\"sk-toggleable__label sk-toggleable__label-arrow\">TargetEncoder</label><div class=\"sk-toggleable__content\"><pre>TargetEncoder(cols=[&#x27;Tier&#x27;, &#x27;Partner Bin&#x27;])</pre></div></div></div></div></div></div><div class=\"sk-parallel-item\"><div class=\"sk-item\"><div class=\"sk-label-container\"><div class=\"sk-label sk-toggleable\"><input class=\"sk-toggleable__control sk-hidden--visually\" id=\"sk-estimator-id-85\" type=\"checkbox\" ><label for=\"sk-estimator-id-85\" class=\"sk-toggleable__label sk-toggleable__label-arrow\">pass</label><div class=\"sk-toggleable__content\"><pre>[&#x27;FICO&#x27;, &#x27;Term&#x27;, &#x27;Amount&#x27;, &#x27;Previous_Rate&#x27;, &#x27;Competition_rate&#x27;, &#x27;Cost_Funds&#x27;, &#x27;Rate&#x27;, &#x27;Car_Type_N&#x27;, &#x27;Car_Type_R&#x27;, &#x27;Car_Type_U&#x27;]</pre></div></div></div><div class=\"sk-serial\"><div class=\"sk-item\"><div class=\"sk-estimator sk-toggleable\"><input class=\"sk-toggleable__control sk-hidden--visually\" id=\"sk-estimator-id-86\" type=\"checkbox\" ><label for=\"sk-estimator-id-86\" class=\"sk-toggleable__label sk-toggleable__label-arrow\">passthrough</label><div class=\"sk-toggleable__content\"><pre>passthrough</pre></div></div></div></div></div></div></div></div><div class=\"sk-item\"><div class=\"sk-estimator sk-toggleable\"><input class=\"sk-toggleable__control sk-hidden--visually\" id=\"sk-estimator-id-87\" type=\"checkbox\" ><label for=\"sk-estimator-id-87\" class=\"sk-toggleable__label sk-toggleable__label-arrow\">LGBMClassifier</label><div class=\"sk-toggleable__content\"><pre>LGBMClassifier(colsample_bytree=0.6766228250390632,\n",
       "               learning_rate=0.07572592027203692, max_bin=244, max_depth=8,\n",
       "               min_child_samples=98, min_data_in_bin=136,\n",
       "               min_split_gain=1.4800000000000002, n_estimators=439,\n",
       "               num_leaves=107, reg_alpha=2.2432253142414127,\n",
       "               reg_lambda=0.16614580871834939, subsample=0.46484680675121093,\n",
       "               subsample_freq=3)</pre></div></div></div></div></div></div></div>"
      ],
      "text/plain": [
       "Pipeline(steps=[('preprocessing',\n",
       "                 ColumnTransformer(transformers=[('mean_target',\n",
       "                                                  TargetEncoder(cols=['Tier',\n",
       "                                                                      'Partner '\n",
       "                                                                      'Bin']),\n",
       "                                                  ['Tier', 'Partner Bin']),\n",
       "                                                 ('pass', 'passthrough',\n",
       "                                                  ['FICO', 'Term', 'Amount',\n",
       "                                                   'Previous_Rate',\n",
       "                                                   'Competition_rate',\n",
       "                                                   'Cost_Funds', 'Rate',\n",
       "                                                   'Car_Type_N', 'Car_Type_R',\n",
       "                                                   'Car_Type_U'])])),\n",
       "                ('model',\n",
       "                 LGBMClassifier(colsample_bytree=0.6766228250390632,\n",
       "                                learning_rate=0.07572592027203692, max_bin=244,\n",
       "                                max_depth=8, min_child_samples=98,\n",
       "                                min_data_in_bin=136,\n",
       "                                min_split_gain=1.4800000000000002,\n",
       "                                n_estimators=439, num_leaves=107,\n",
       "                                reg_alpha=2.2432253142414127,\n",
       "                                reg_lambda=0.16614580871834939,\n",
       "                                subsample=0.46484680675121093,\n",
       "                                subsample_freq=3))])"
      ]
     },
     "execution_count": 45,
     "metadata": {},
     "output_type": "execute_result"
    }
   ],
   "source": [
    "pipeline_lgbm = Pipeline(\n",
    "    steps=[\n",
    "        ('preprocessing', column_transformer_mean_target),\n",
    "        ('model', LGBMClassifier(**best_params))\n",
    "    ]\n",
    ")\n",
    "pipeline_lgbm.fit(X_train, y_train)"
   ]
  },
  {
   "cell_type": "code",
   "execution_count": 46,
   "metadata": {},
   "outputs": [
    {
     "name": "stdout",
     "output_type": "stream",
     "text": [
      "Train ROC-AUC = 0.9167296417884243\n",
      "Valid ROC-AUC = 0.9055458744936281\n",
      "Test ROC-AUC = 0.9015632608710473\n"
     ]
    }
   ],
   "source": [
    "y_pred_train = pipeline_lgbm.predict_proba(X_train)[:, 1]\n",
    "y_pred_valid = pipeline_lgbm.predict_proba(X_valid)[:, 1]\n",
    "y_pred_test = pipeline_lgbm.predict_proba(X_test)[:, 1]\n",
    "print(f'Train ROC-AUC = {roc_auc_score(y_train, y_pred_train)}')\n",
    "print(f'Valid ROC-AUC = {roc_auc_score(y_valid, y_pred_valid)}')\n",
    "print(f'Test ROC-AUC = {roc_auc_score(y_test, y_pred_test)}')"
   ]
  },
  {
   "cell_type": "code",
   "execution_count": 47,
   "metadata": {},
   "outputs": [
    {
     "data": {
      "image/png": "[encoded data removed]",
      "text/plain": [
       "<Figure size 400x400 with 1 Axes>"
      ]
     },
     "metadata": {},
     "output_type": "display_data"
    }
   ],
   "source": [
    "plt.figure(figsize=(4, 4))\n",
    "prob_true, prob_pred = calibration_curve(y_valid, y_pred_valid, n_bins=20)\n",
    "plt.plot(prob_true, prob_pred, 'b', label='My classifier')\n",
    "plt.plot([0, 1], [0, 1], '--r', label='Ideal')\n",
    "plt.legend(loc=2)\n",
    "plt.show()"
   ]
  },
  {
   "cell_type": "code",
   "execution_count": 48,
   "metadata": {},
   "outputs": [],
   "source": [
    "acceptance_model_name = 'acceptance_lgbm_model'\n",
    "joblib.dump(pipeline_lgbm, f'./acceptance_models/{acceptance_model_name}.pkl')\n",
    "acceptance_model = joblib.load(f'./acceptance_models/{acceptance_model_name}.pkl')"
   ]
  },
  {
   "cell_type": "code",
   "execution_count": null,
   "metadata": {},
   "outputs": [],
   "source": []
  },
  {
   "cell_type": "markdown",
   "metadata": {},
   "source": [
    "## RandomForest на Accept:"
   ]
  },
  {
   "cell_type": "code",
   "execution_count": 49,
   "metadata": {},
   "outputs": [],
   "source": [
    "def optimize_rf(X, y, n_trials=100):\n",
    "    def objective(trial):\n",
    "        params = {\n",
    "            'max_depth': trial.suggest_int('max_depth', 2, 32, log=True),\n",
    "            'n_estimators': trial.suggest_int('n_estimators', 50, 500),\n",
    "            'max_features': trial.suggest_categorical('max_features', ['sqrt', 'log2', None]),\n",
    "            'min_samples_leaf': trial.suggest_int('min_samples_leaf', 1, 20),\n",
    "            'n_jobs': -1,\n",
    "            'random_state': 19,\n",
    "        }\n",
    "\n",
    "        cv = StratifiedKFold(n_splits=5)\n",
    "        model = RandomForestClassifier(**params)\n",
    "        scores = cross_val_score(model, X, y, cv=cv, scoring='roc_auc', verbose=False)\n",
    "        score = np.mean(scores)\n",
    "\n",
    "        return score\n",
    "\n",
    "    sampler = TPESampler(seed=19)\n",
    "    study = create_study(direction='maximize', study_name=\"RF Classifier\", sampler=sampler)\n",
    "    study.optimize(objective, n_trials=n_trials, show_progress_bar=True)\n",
    "    best_pars_mass = study.best_params\n",
    "    print(f'Best score {study.best_value}')\n",
    "    return best_pars_mass"
   ]
  },
  {
   "cell_type": "code",
   "execution_count": 50,
   "metadata": {},
   "outputs": [],
   "source": [
    "column_transformer_mean_target = ColumnTransformer([\n",
    "    ('mean_target', TargetEncoder(cols=cat_cols), cat_cols),\n",
    "    ('pass', 'passthrough', num_cols + other),\n",
    "])"
   ]
  },
  {
   "cell_type": "code",
   "execution_count": 51,
   "metadata": {},
   "outputs": [],
   "source": [
    "X_train_enc = column_transformer_mean_target.fit_transform(X_train, y_train)"
   ]
  },
  {
   "cell_type": "code",
   "execution_count": 52,
   "metadata": {},
   "outputs": [
    {
     "name": "stderr",
     "output_type": "stream",
     "text": [
      "\u001b[32m[I 2023-05-01 01:07:23,569]\u001b[0m A new study created in memory with name: RF Classifier\u001b[0m\n"
     ]
    },
    {
     "data": {
      "application/vnd.jupyter.widget-view+json": {
       "model_id": "da97c31f521d44c9841e35818151f5ad",
       "version_major": 2,
       "version_minor": 0
      },
      "text/plain": [
       "  0%|          | 0/30 [00:00<?, ?it/s]"
      ]
     },
     "metadata": {},
     "output_type": "display_data"
    },
    {
     "name": "stdout",
     "output_type": "stream",
     "text": [
      "\u001b[32m[I 2023-05-01 01:07:39,007]\u001b[0m Trial 0 finished with value: 0.7908770335655813 and parameters: {'max_depth': 2, 'n_estimators': 393, 'max_features': None, 'min_samples_leaf': 2}. Best is trial 0 with value: 0.7908770335655813.\u001b[0m\n",
      "\u001b[32m[I 2023-05-01 01:07:57,061]\u001b[0m Trial 1 finished with value: 0.8832458364889831 and parameters: {'max_depth': 12, 'n_estimators': 413, 'max_features': 'sqrt', 'min_samples_leaf': 11}. Best is trial 1 with value: 0.8832458364889831.\u001b[0m\n",
      "\u001b[32m[I 2023-05-01 01:08:02,988]\u001b[0m Trial 2 finished with value: 0.8731777240351798 and parameters: {'max_depth': 8, 'n_estimators': 155, 'max_features': 'log2', 'min_samples_leaf': 11}. Best is trial 1 with value: 0.8832458364889831.\u001b[0m\n",
      "\u001b[32m[I 2023-05-01 01:08:12,371]\u001b[0m Trial 3 finished with value: 0.8560361691978067 and parameters: {'max_depth': 5, 'n_estimators': 360, 'max_features': 'log2', 'min_samples_leaf': 13}. Best is trial 1 with value: 0.8832458364889831.\u001b[0m\n",
      "\u001b[32m[I 2023-05-01 01:08:25,905]\u001b[0m Trial 4 finished with value: 0.8796489719378595 and parameters: {'max_depth': 10, 'n_estimators': 339, 'max_features': 'log2', 'min_samples_leaf': 15}. Best is trial 1 with value: 0.8832458364889831.\u001b[0m\n",
      "\u001b[32m[I 2023-05-01 01:08:32,196]\u001b[0m Trial 5 finished with value: 0.8285046953808679 and parameters: {'max_depth': 2, 'n_estimators': 361, 'max_features': 'log2', 'min_samples_leaf': 4}. Best is trial 1 with value: 0.8832458364889831.\u001b[0m\n",
      "\u001b[32m[I 2023-05-01 01:08:35,500]\u001b[0m Trial 6 finished with value: 0.872735213104947 and parameters: {'max_depth': 8, 'n_estimators': 73, 'max_features': 'sqrt', 'min_samples_leaf': 2}. Best is trial 1 with value: 0.8832458364889831.\u001b[0m\n",
      "\u001b[32m[I 2023-05-01 01:08:43,587]\u001b[0m Trial 7 finished with value: 0.8281458799819437 and parameters: {'max_depth': 2, 'n_estimators': 498, 'max_features': 'sqrt', 'min_samples_leaf': 18}. Best is trial 1 with value: 0.8832458364889831.\u001b[0m\n",
      "\u001b[32m[I 2023-05-01 01:09:20,593]\u001b[0m Trial 8 finished with value: 0.8630778712181405 and parameters: {'max_depth': 6, 'n_estimators': 488, 'max_features': None, 'min_samples_leaf': 19}. Best is trial 1 with value: 0.8832458364889831.\u001b[0m\n",
      "\u001b[32m[I 2023-05-01 01:09:44,384]\u001b[0m Trial 9 finished with value: 0.8757465086892265 and parameters: {'max_depth': 27, 'n_estimators': 353, 'max_features': 'sqrt', 'min_samples_leaf': 1}. Best is trial 1 with value: 0.8832458364889831.\u001b[0m\n",
      "\u001b[32m[I 2023-05-01 01:09:57,065]\u001b[0m Trial 10 finished with value: 0.8844811341506909 and parameters: {'max_depth': 21, 'n_estimators': 232, 'max_features': 'sqrt', 'min_samples_leaf': 8}. Best is trial 10 with value: 0.8844811341506909.\u001b[0m\n",
      "\u001b[32m[I 2023-05-01 01:10:09,549]\u001b[0m Trial 11 finished with value: 0.8843416289397483 and parameters: {'max_depth': 26, 'n_estimators': 226, 'max_features': 'sqrt', 'min_samples_leaf': 8}. Best is trial 10 with value: 0.8844811341506909.\u001b[0m\n",
      "\u001b[32m[I 2023-05-01 01:10:22,636]\u001b[0m Trial 12 finished with value: 0.8842680171477764 and parameters: {'max_depth': 30, 'n_estimators': 233, 'max_features': 'sqrt', 'min_samples_leaf': 7}. Best is trial 10 with value: 0.8844811341506909.\u001b[0m\n",
      "\u001b[32m[I 2023-05-01 01:10:35,602]\u001b[0m Trial 13 finished with value: 0.884533148216625 and parameters: {'max_depth': 19, 'n_estimators': 240, 'max_features': 'sqrt', 'min_samples_leaf': 8}. Best is trial 13 with value: 0.884533148216625.\u001b[0m\n",
      "\u001b[32m[I 2023-05-01 01:10:44,756]\u001b[0m Trial 14 finished with value: 0.8847114172013267 and parameters: {'max_depth': 18, 'n_estimators': 160, 'max_features': 'sqrt', 'min_samples_leaf': 6}. Best is trial 14 with value: 0.8847114172013267.\u001b[0m\n",
      "\u001b[32m[I 2023-05-01 01:10:52,417]\u001b[0m Trial 15 finished with value: 0.8844572768309629 and parameters: {'max_depth': 17, 'n_estimators': 130, 'max_features': 'sqrt', 'min_samples_leaf': 5}. Best is trial 14 with value: 0.8847114172013267.\u001b[0m\n",
      "\u001b[32m[I 2023-05-01 01:11:18,128]\u001b[0m Trial 16 finished with value: 0.8885386611019062 and parameters: {'max_depth': 15, 'n_estimators': 172, 'max_features': None, 'min_samples_leaf': 6}. Best is trial 16 with value: 0.8885386611019062.\u001b[0m\n",
      "\u001b[32m[I 2023-05-01 01:11:40,330]\u001b[0m Trial 17 finished with value: 0.8882672032892447 and parameters: {'max_depth': 14, 'n_estimators': 152, 'max_features': None, 'min_samples_leaf': 5}. Best is trial 16 with value: 0.8885386611019062.\u001b[0m\n",
      "\u001b[32m[I 2023-05-01 01:11:50,071]\u001b[0m Trial 18 finished with value: 0.8872954136048335 and parameters: {'max_depth': 14, 'n_estimators': 61, 'max_features': None, 'min_samples_leaf': 4}. Best is trial 16 with value: 0.8885386611019062.\u001b[0m\n",
      "\u001b[32m[I 2023-05-01 01:12:05,458]\u001b[0m Trial 19 finished with value: 0.8880269875207875 and parameters: {'max_depth': 13, 'n_estimators': 110, 'max_features': None, 'min_samples_leaf': 9}. Best is trial 16 with value: 0.8885386611019062.\u001b[0m\n",
      "\u001b[32m[I 2023-05-01 01:12:26,411]\u001b[0m Trial 20 finished with value: 0.8829493146962134 and parameters: {'max_depth': 10, 'n_estimators': 183, 'max_features': None, 'min_samples_leaf': 4}. Best is trial 16 with value: 0.8885386611019062.\u001b[0m\n",
      "\u001b[32m[I 2023-05-01 01:12:41,845]\u001b[0m Trial 21 finished with value: 0.8884575927481306 and parameters: {'max_depth': 14, 'n_estimators': 106, 'max_features': None, 'min_samples_leaf': 10}. Best is trial 16 with value: 0.8885386611019062.\u001b[0m\n",
      "\u001b[32m[I 2023-05-01 01:12:55,548]\u001b[0m Trial 22 finished with value: 0.8886035394704891 and parameters: {'max_depth': 15, 'n_estimators': 92, 'max_features': None, 'min_samples_leaf': 13}. Best is trial 22 with value: 0.8886035394704891.\u001b[0m\n",
      "\u001b[32m[I 2023-05-01 01:13:11,799]\u001b[0m Trial 23 finished with value: 0.8888424506623505 and parameters: {'max_depth': 23, 'n_estimators': 105, 'max_features': None, 'min_samples_leaf': 14}. Best is trial 23 with value: 0.8888424506623505.\u001b[0m\n",
      "\u001b[32m[I 2023-05-01 01:13:20,448]\u001b[0m Trial 24 finished with value: 0.8881962725623461 and parameters: {'max_depth': 24, 'n_estimators': 52, 'max_features': None, 'min_samples_leaf': 15}. Best is trial 23 with value: 0.8888424506623505.\u001b[0m\n",
      "\u001b[32m[I 2023-05-01 01:13:49,707]\u001b[0m Trial 25 finished with value: 0.889099262249672 and parameters: {'max_depth': 22, 'n_estimators': 194, 'max_features': None, 'min_samples_leaf': 13}. Best is trial 25 with value: 0.889099262249672.\u001b[0m\n",
      "\u001b[32m[I 2023-05-01 01:14:04,828]\u001b[0m Trial 26 finished with value: 0.8887247225070745 and parameters: {'max_depth': 31, 'n_estimators': 95, 'max_features': None, 'min_samples_leaf': 13}. Best is trial 25 with value: 0.889099262249672.\u001b[0m\n",
      "\u001b[32m[I 2023-05-01 01:14:48,108]\u001b[0m Trial 27 finished with value: 0.8892417469934502 and parameters: {'max_depth': 24, 'n_estimators': 297, 'max_features': None, 'min_samples_leaf': 16}. Best is trial 27 with value: 0.8892417469934502.\u001b[0m\n",
      "\u001b[32m[I 2023-05-01 01:15:34,643]\u001b[0m Trial 28 finished with value: 0.8892299302794218 and parameters: {'max_depth': 23, 'n_estimators': 322, 'max_features': None, 'min_samples_leaf': 17}. Best is trial 27 with value: 0.8892417469934502.\u001b[0m\n",
      "\u001b[32m[I 2023-05-01 01:16:17,226]\u001b[0m Trial 29 finished with value: 0.889228129681104 and parameters: {'max_depth': 32, 'n_estimators': 293, 'max_features': None, 'min_samples_leaf': 17}. Best is trial 27 with value: 0.8892417469934502.\u001b[0m\n",
      "Best score 0.8892417469934502\n"
     ]
    }
   ],
   "source": [
    "best_params = optimize_rf(X_train_enc, y_train, 30)"
   ]
  },
  {
   "cell_type": "code",
   "execution_count": 54,
   "metadata": {},
   "outputs": [
    {
     "data": {
      "text/html": [
       "<style>#sk-container-id-10 {color: black;background-color: white;}#sk-container-id-10 pre{padding: 0;}#sk-container-id-10 div.sk-toggleable {background-color: white;}#sk-container-id-10 label.sk-toggleable__label {cursor: pointer;display: block;width: 100%;margin-bottom: 0;padding: 0.3em;box-sizing: border-box;text-align: center;}#sk-container-id-10 label.sk-toggleable__label-arrow:before {content: \"▸\";float: left;margin-right: 0.25em;color: #696969;}#sk-container-id-10 label.sk-toggleable__label-arrow:hover:before {color: black;}#sk-container-id-10 div.sk-estimator:hover label.sk-toggleable__label-arrow:before {color: black;}#sk-container-id-10 div.sk-toggleable__content {max-height: 0;max-width: 0;overflow: hidden;text-align: left;background-color: #f0f8ff;}#sk-container-id-10 div.sk-toggleable__content pre {margin: 0.2em;color: black;border-radius: 0.25em;background-color: #f0f8ff;}#sk-container-id-10 input.sk-toggleable__control:checked~div.sk-toggleable__content {max-height: 200px;max-width: 100%;overflow: auto;}#sk-container-id-10 input.sk-toggleable__control:checked~label.sk-toggleable__label-arrow:before {content: \"▾\";}#sk-container-id-10 div.sk-estimator input.sk-toggleable__control:checked~label.sk-toggleable__label {background-color: #d4ebff;}#sk-container-id-10 div.sk-label input.sk-toggleable__control:checked~label.sk-toggleable__label {background-color: #d4ebff;}#sk-container-id-10 input.sk-hidden--visually {border: 0;clip: rect(1px 1px 1px 1px);clip: rect(1px, 1px, 1px, 1px);height: 1px;margin: -1px;overflow: hidden;padding: 0;position: absolute;width: 1px;}#sk-container-id-10 div.sk-estimator {font-family: monospace;background-color: #f0f8ff;border: 1px dotted black;border-radius: 0.25em;box-sizing: border-box;margin-bottom: 0.5em;}#sk-container-id-10 div.sk-estimator:hover {background-color: #d4ebff;}#sk-container-id-10 div.sk-parallel-item::after {content: \"\";width: 100%;border-bottom: 1px solid gray;flex-grow: 1;}#sk-container-id-10 div.sk-label:hover label.sk-toggleable__label {background-color: #d4ebff;}#sk-container-id-10 div.sk-serial::before {content: \"\";position: absolute;border-left: 1px solid gray;box-sizing: border-box;top: 0;bottom: 0;left: 50%;z-index: 0;}#sk-container-id-10 div.sk-serial {display: flex;flex-direction: column;align-items: center;background-color: white;padding-right: 0.2em;padding-left: 0.2em;position: relative;}#sk-container-id-10 div.sk-item {position: relative;z-index: 1;}#sk-container-id-10 div.sk-parallel {display: flex;align-items: stretch;justify-content: center;background-color: white;position: relative;}#sk-container-id-10 div.sk-item::before, #sk-container-id-10 div.sk-parallel-item::before {content: \"\";position: absolute;border-left: 1px solid gray;box-sizing: border-box;top: 0;bottom: 0;left: 50%;z-index: -1;}#sk-container-id-10 div.sk-parallel-item {display: flex;flex-direction: column;z-index: 1;position: relative;background-color: white;}#sk-container-id-10 div.sk-parallel-item:first-child::after {align-self: flex-end;width: 50%;}#sk-container-id-10 div.sk-parallel-item:last-child::after {align-self: flex-start;width: 50%;}#sk-container-id-10 div.sk-parallel-item:only-child::after {width: 0;}#sk-container-id-10 div.sk-dashed-wrapped {border: 1px dashed gray;margin: 0 0.4em 0.5em 0.4em;box-sizing: border-box;padding-bottom: 0.4em;background-color: white;}#sk-container-id-10 div.sk-label label {font-family: monospace;font-weight: bold;display: inline-block;line-height: 1.2em;}#sk-container-id-10 div.sk-label-container {text-align: center;}#sk-container-id-10 div.sk-container {/* jupyter's `normalize.less` sets `[hidden] { display: none; }` but bootstrap.min.css set `[hidden] { display: none !important; }` so we also need the `!important` here to be able to override the default hidden behavior on the sphinx rendered scikit-learn.org. See: https://github.com/scikit-learn/scikit-learn/issues/21755 */display: inline-block !important;position: relative;}#sk-container-id-10 div.sk-text-repr-fallback {display: none;}</style><div id=\"sk-container-id-10\" class=\"sk-top-container\"><div class=\"sk-text-repr-fallback\"><pre>Pipeline(steps=[(&#x27;preprocessing&#x27;,\n",
       "                 ColumnTransformer(transformers=[(&#x27;mean_target&#x27;,\n",
       "                                                  TargetEncoder(cols=[&#x27;Tier&#x27;,\n",
       "                                                                      &#x27;Partner &#x27;\n",
       "                                                                      &#x27;Bin&#x27;]),\n",
       "                                                  [&#x27;Tier&#x27;, &#x27;Partner Bin&#x27;]),\n",
       "                                                 (&#x27;pass&#x27;, &#x27;passthrough&#x27;,\n",
       "                                                  [&#x27;FICO&#x27;, &#x27;Term&#x27;, &#x27;Amount&#x27;,\n",
       "                                                   &#x27;Previous_Rate&#x27;,\n",
       "                                                   &#x27;Competition_rate&#x27;,\n",
       "                                                   &#x27;Cost_Funds&#x27;, &#x27;Rate&#x27;,\n",
       "                                                   &#x27;Car_Type_N&#x27;, &#x27;Car_Type_R&#x27;,\n",
       "                                                   &#x27;Car_Type_U&#x27;])])),\n",
       "                (&#x27;model&#x27;,\n",
       "                 RandomForestClassifier(max_depth=22, max_features=None,\n",
       "                                        min_samples_leaf=13, n_estimators=194,\n",
       "                                        n_jobs=-1, random_state=19))])</pre><b>In a Jupyter environment, please rerun this cell to show the HTML representation or trust the notebook. <br />On GitHub, the HTML representation is unable to render, please try loading this page with nbviewer.org.</b></div><div class=\"sk-container\" hidden><div class=\"sk-item sk-dashed-wrapped\"><div class=\"sk-label-container\"><div class=\"sk-label sk-toggleable\"><input class=\"sk-toggleable__control sk-hidden--visually\" id=\"sk-estimator-id-88\" type=\"checkbox\" ><label for=\"sk-estimator-id-88\" class=\"sk-toggleable__label sk-toggleable__label-arrow\">Pipeline</label><div class=\"sk-toggleable__content\"><pre>Pipeline(steps=[(&#x27;preprocessing&#x27;,\n",
       "                 ColumnTransformer(transformers=[(&#x27;mean_target&#x27;,\n",
       "                                                  TargetEncoder(cols=[&#x27;Tier&#x27;,\n",
       "                                                                      &#x27;Partner &#x27;\n",
       "                                                                      &#x27;Bin&#x27;]),\n",
       "                                                  [&#x27;Tier&#x27;, &#x27;Partner Bin&#x27;]),\n",
       "                                                 (&#x27;pass&#x27;, &#x27;passthrough&#x27;,\n",
       "                                                  [&#x27;FICO&#x27;, &#x27;Term&#x27;, &#x27;Amount&#x27;,\n",
       "                                                   &#x27;Previous_Rate&#x27;,\n",
       "                                                   &#x27;Competition_rate&#x27;,\n",
       "                                                   &#x27;Cost_Funds&#x27;, &#x27;Rate&#x27;,\n",
       "                                                   &#x27;Car_Type_N&#x27;, &#x27;Car_Type_R&#x27;,\n",
       "                                                   &#x27;Car_Type_U&#x27;])])),\n",
       "                (&#x27;model&#x27;,\n",
       "                 RandomForestClassifier(max_depth=22, max_features=None,\n",
       "                                        min_samples_leaf=13, n_estimators=194,\n",
       "                                        n_jobs=-1, random_state=19))])</pre></div></div></div><div class=\"sk-serial\"><div class=\"sk-item sk-dashed-wrapped\"><div class=\"sk-label-container\"><div class=\"sk-label sk-toggleable\"><input class=\"sk-toggleable__control sk-hidden--visually\" id=\"sk-estimator-id-89\" type=\"checkbox\" ><label for=\"sk-estimator-id-89\" class=\"sk-toggleable__label sk-toggleable__label-arrow\">preprocessing: ColumnTransformer</label><div class=\"sk-toggleable__content\"><pre>ColumnTransformer(transformers=[(&#x27;mean_target&#x27;,\n",
       "                                 TargetEncoder(cols=[&#x27;Tier&#x27;, &#x27;Partner Bin&#x27;]),\n",
       "                                 [&#x27;Tier&#x27;, &#x27;Partner Bin&#x27;]),\n",
       "                                (&#x27;pass&#x27;, &#x27;passthrough&#x27;,\n",
       "                                 [&#x27;FICO&#x27;, &#x27;Term&#x27;, &#x27;Amount&#x27;, &#x27;Previous_Rate&#x27;,\n",
       "                                  &#x27;Competition_rate&#x27;, &#x27;Cost_Funds&#x27;, &#x27;Rate&#x27;,\n",
       "                                  &#x27;Car_Type_N&#x27;, &#x27;Car_Type_R&#x27;, &#x27;Car_Type_U&#x27;])])</pre></div></div></div><div class=\"sk-parallel\"><div class=\"sk-parallel-item\"><div class=\"sk-item\"><div class=\"sk-label-container\"><div class=\"sk-label sk-toggleable\"><input class=\"sk-toggleable__control sk-hidden--visually\" id=\"sk-estimator-id-90\" type=\"checkbox\" ><label for=\"sk-estimator-id-90\" class=\"sk-toggleable__label sk-toggleable__label-arrow\">mean_target</label><div class=\"sk-toggleable__content\"><pre>[&#x27;Tier&#x27;, &#x27;Partner Bin&#x27;]</pre></div></div></div><div class=\"sk-serial\"><div class=\"sk-item\"><div class=\"sk-estimator sk-toggleable\"><input class=\"sk-toggleable__control sk-hidden--visually\" id=\"sk-estimator-id-91\" type=\"checkbox\" ><label for=\"sk-estimator-id-91\" class=\"sk-toggleable__label sk-toggleable__label-arrow\">TargetEncoder</label><div class=\"sk-toggleable__content\"><pre>TargetEncoder(cols=[&#x27;Tier&#x27;, &#x27;Partner Bin&#x27;])</pre></div></div></div></div></div></div><div class=\"sk-parallel-item\"><div class=\"sk-item\"><div class=\"sk-label-container\"><div class=\"sk-label sk-toggleable\"><input class=\"sk-toggleable__control sk-hidden--visually\" id=\"sk-estimator-id-92\" type=\"checkbox\" ><label for=\"sk-estimator-id-92\" class=\"sk-toggleable__label sk-toggleable__label-arrow\">pass</label><div class=\"sk-toggleable__content\"><pre>[&#x27;FICO&#x27;, &#x27;Term&#x27;, &#x27;Amount&#x27;, &#x27;Previous_Rate&#x27;, &#x27;Competition_rate&#x27;, &#x27;Cost_Funds&#x27;, &#x27;Rate&#x27;, &#x27;Car_Type_N&#x27;, &#x27;Car_Type_R&#x27;, &#x27;Car_Type_U&#x27;]</pre></div></div></div><div class=\"sk-serial\"><div class=\"sk-item\"><div class=\"sk-estimator sk-toggleable\"><input class=\"sk-toggleable__control sk-hidden--visually\" id=\"sk-estimator-id-93\" type=\"checkbox\" ><label for=\"sk-estimator-id-93\" class=\"sk-toggleable__label sk-toggleable__label-arrow\">passthrough</label><div class=\"sk-toggleable__content\"><pre>passthrough</pre></div></div></div></div></div></div></div></div><div class=\"sk-item\"><div class=\"sk-estimator sk-toggleable\"><input class=\"sk-toggleable__control sk-hidden--visually\" id=\"sk-estimator-id-94\" type=\"checkbox\" ><label for=\"sk-estimator-id-94\" class=\"sk-toggleable__label sk-toggleable__label-arrow\">RandomForestClassifier</label><div class=\"sk-toggleable__content\"><pre>RandomForestClassifier(max_depth=22, max_features=None, min_samples_leaf=13,\n",
       "                       n_estimators=194, n_jobs=-1, random_state=19)</pre></div></div></div></div></div></div></div>"
      ],
      "text/plain": [
       "Pipeline(steps=[('preprocessing',\n",
       "                 ColumnTransformer(transformers=[('mean_target',\n",
       "                                                  TargetEncoder(cols=['Tier',\n",
       "                                                                      'Partner '\n",
       "                                                                      'Bin']),\n",
       "                                                  ['Tier', 'Partner Bin']),\n",
       "                                                 ('pass', 'passthrough',\n",
       "                                                  ['FICO', 'Term', 'Amount',\n",
       "                                                   'Previous_Rate',\n",
       "                                                   'Competition_rate',\n",
       "                                                   'Cost_Funds', 'Rate',\n",
       "                                                   'Car_Type_N', 'Car_Type_R',\n",
       "                                                   'Car_Type_U'])])),\n",
       "                ('model',\n",
       "                 RandomForestClassifier(max_depth=22, max_features=None,\n",
       "                                        min_samples_leaf=13, n_estimators=194,\n",
       "                                        n_jobs=-1, random_state=19))])"
      ]
     },
     "execution_count": 54,
     "metadata": {},
     "output_type": "execute_result"
    }
   ],
   "source": [
    "pipeline_rf = Pipeline(\n",
    "    steps=[\n",
    "        ('preprocessing', column_transformer_mean_target),\n",
    "        ('model', RandomForestClassifier(**best_params))\n",
    "    ]\n",
    ")\n",
    "pipeline_rf.fit(X_train, y_train)"
   ]
  },
  {
   "cell_type": "code",
   "execution_count": 55,
   "metadata": {},
   "outputs": [
    {
     "name": "stdout",
     "output_type": "stream",
     "text": [
      "Train ROC-AUC = 0.9462736615979779\n",
      "Valid ROC-AUC = 0.8929277399579532\n",
      "Test ROC-AUC = 0.8896112098841721\n"
     ]
    }
   ],
   "source": [
    "y_pred_train = pipeline_rf.predict_proba(X_train)[:, 1]\n",
    "y_pred_valid = pipeline_rf.predict_proba(X_valid)[:, 1]\n",
    "y_pred_test = pipeline_rf.predict_proba(X_test)[:, 1]\n",
    "print(f'Train ROC-AUC = {roc_auc_score(y_train, y_pred_train)}')\n",
    "print(f'Valid ROC-AUC = {roc_auc_score(y_valid, y_pred_valid)}')\n",
    "print(f'Test ROC-AUC = {roc_auc_score(y_test, y_pred_test)}')"
   ]
  },
  {
   "cell_type": "code",
   "execution_count": 56,
   "metadata": {},
   "outputs": [
    {
     "data": {
      "image/png": "[encoded data removed]",
      "text/plain": [
       "<Figure size 400x400 with 1 Axes>"
      ]
     },
     "metadata": {},
     "output_type": "display_data"
    }
   ],
   "source": [
    "plt.figure(figsize=(4, 4))\n",
    "prob_true, prob_pred = calibration_curve(y_valid, y_pred_valid, n_bins=20)\n",
    "plt.plot(prob_true, prob_pred, 'b', label='My classifier')\n",
    "plt.plot([0, 1], [0, 1], '--r', label='Ideal')\n",
    "plt.legend(loc=2)\n",
    "plt.show()"
   ]
  },
  {
   "cell_type": "code",
   "execution_count": 57,
   "metadata": {},
   "outputs": [],
   "source": [
    "acceptance_model_name = 'acceptance_rf_model'\n",
    "joblib.dump(pipeline_rf, f'./acceptance_models/{acceptance_model_name}.pkl')\n",
    "acceptance_model = joblib.load(f'./acceptance_models/{acceptance_model_name}.pkl')"
   ]
  },
  {
   "cell_type": "code",
   "execution_count": null,
   "metadata": {},
   "outputs": [],
   "source": []
  }
 ],
 "metadata": {
  "kernelspec": {
   "display_name": "kernel_38",
   "language": "python",
   "name": "kernel_38"
  },
  "language_info": {
   "codemirror_mode": {
    "name": "ipython",
    "version": 3
   },
   "file_extension": ".py",
   "mimetype": "text/x-python",
   "name": "python",
   "nbconvert_exporter": "python",
   "pygments_lexer": "ipython3",
   "version": "3.8.15"
  }
 },
 "nbformat": 4,
 "nbformat_minor": 4
}
