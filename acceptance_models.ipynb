{
 "cells": [
  {
   "cell_type": "code",
   "execution_count": null,
   "metadata": {
    "execution": {
     "iopub.execute_input": "2023-01-20T08:36:45.512862Z",
     "iopub.status.busy": "2023-01-20T08:36:45.512561Z",
     "iopub.status.idle": "2023-01-20T08:36:45.857169Z",
     "shell.execute_reply": "2023-01-20T08:36:45.855963Z",
     "shell.execute_reply.started": "2023-01-20T08:36:45.512828Z"
    }
   },
   "outputs": [
    {
     "name": "stdout",
     "output_type": "stream",
     "text": [
      "Archive:  archive.zip\r\n",
      "replace test_data.csv? [y]es, [n]o, [A]ll, [N]one, [r]ename: "
     ]
    }
   ],
   "source": [
    "!unzip archive.zip"
   ]
  },
  {
   "cell_type": "code",
   "execution_count": 1,
   "metadata": {
    "execution": {
     "iopub.execute_input": "2023-03-20T11:50:16.641362Z",
     "iopub.status.busy": "2023-03-20T11:50:16.640948Z",
     "iopub.status.idle": "2023-03-20T11:50:21.618896Z",
     "shell.execute_reply": "2023-03-20T11:50:21.617464Z",
     "shell.execute_reply.started": "2023-03-20T11:50:16.641236Z"
    },
    "tags": []
   },
   "outputs": [],
   "source": [
    "import numpy as np\n",
    "import pandas as pd\n",
    "import matplotlib.pyplot as plt\n",
    "import seaborn as sns\n",
    "\n",
    "from sklearn.model_selection import train_test_split, GridSearchCV, cross_val_score, StratifiedKFold\n",
    "from sklearn.metrics import roc_auc_score\n",
    "from sklearn.preprocessing import StandardScaler, OneHotEncoder\n",
    "from category_encoders.target_encoder import TargetEncoder\n",
    "from sklearn.linear_model import LogisticRegression\n",
    "from sklearn.ensemble import RandomForestClassifier\n",
    "from sklearn.compose import ColumnTransformer\n",
    "from sklearn.pipeline import Pipeline\n",
    "from sklearn.calibration import calibration_curve\n",
    "\n",
    "from lightgbm import LGBMClassifier\n",
    "from optuna import create_study\n",
    "from optuna.samplers import TPESampler\n",
    "from optuna.visualization.matplotlib import plot_optimization_history, plot_param_importances\n",
    "\n",
    "from scipy.optimize import minimize_scalar, minimize\n",
    "\n",
    "from tqdm import tqdm_notebook\n",
    "import joblib\n",
    "\n",
    "import warnings\n",
    "warnings.filterwarnings('ignore')"
   ]
  },
  {
   "cell_type": "code",
   "execution_count": 2,
   "metadata": {
    "execution": {
     "iopub.execute_input": "2023-03-20T11:50:21.630334Z",
     "iopub.status.busy": "2023-03-20T11:50:21.630020Z",
     "iopub.status.idle": "2023-03-20T11:50:21.830584Z",
     "shell.execute_reply": "2023-03-20T11:50:21.829657Z",
     "shell.execute_reply.started": "2023-03-20T11:50:21.630280Z"
    },
    "tags": []
   },
   "outputs": [
    {
     "data": {
      "text/html": [
       "<div>\n",
       "<style scoped>\n",
       "    .dataframe tbody tr th:only-of-type {\n",
       "        vertical-align: middle;\n",
       "    }\n",
       "\n",
       "    .dataframe tbody tr th {\n",
       "        vertical-align: top;\n",
       "    }\n",
       "\n",
       "    .dataframe thead th {\n",
       "        text-align: right;\n",
       "    }\n",
       "</style>\n",
       "<table border=\"1\" class=\"dataframe\">\n",
       "  <thead>\n",
       "    <tr style=\"text-align: right;\">\n",
       "      <th></th>\n",
       "      <th>Tier</th>\n",
       "      <th>FICO</th>\n",
       "      <th>Term</th>\n",
       "      <th>Amount</th>\n",
       "      <th>Previous_Rate</th>\n",
       "      <th>Competition_rate</th>\n",
       "      <th>Rate</th>\n",
       "      <th>Cost_Funds</th>\n",
       "      <th>Partner Bin</th>\n",
       "      <th>Car_Type_N</th>\n",
       "      <th>Car_Type_R</th>\n",
       "      <th>Car_Type_U</th>\n",
       "      <th>Accept</th>\n",
       "    </tr>\n",
       "  </thead>\n",
       "  <tbody>\n",
       "    <tr>\n",
       "      <th>0</th>\n",
       "      <td>2</td>\n",
       "      <td>725</td>\n",
       "      <td>72</td>\n",
       "      <td>30500.0</td>\n",
       "      <td>5</td>\n",
       "      <td>6.09</td>\n",
       "      <td>4.99</td>\n",
       "      <td>1.1200</td>\n",
       "      <td>2</td>\n",
       "      <td>0</td>\n",
       "      <td>1</td>\n",
       "      <td>0</td>\n",
       "      <td>0</td>\n",
       "    </tr>\n",
       "    <tr>\n",
       "      <th>1</th>\n",
       "      <td>1</td>\n",
       "      <td>739</td>\n",
       "      <td>60</td>\n",
       "      <td>25995.0</td>\n",
       "      <td>-10</td>\n",
       "      <td>4.79</td>\n",
       "      <td>4.79</td>\n",
       "      <td>1.9590</td>\n",
       "      <td>2</td>\n",
       "      <td>0</td>\n",
       "      <td>0</td>\n",
       "      <td>1</td>\n",
       "      <td>0</td>\n",
       "    </tr>\n",
       "    <tr>\n",
       "      <th>2</th>\n",
       "      <td>1</td>\n",
       "      <td>781</td>\n",
       "      <td>60</td>\n",
       "      <td>39000.0</td>\n",
       "      <td>-10</td>\n",
       "      <td>4.25</td>\n",
       "      <td>4.25</td>\n",
       "      <td>1.1200</td>\n",
       "      <td>2</td>\n",
       "      <td>1</td>\n",
       "      <td>0</td>\n",
       "      <td>0</td>\n",
       "      <td>0</td>\n",
       "    </tr>\n",
       "    <tr>\n",
       "      <th>3</th>\n",
       "      <td>2</td>\n",
       "      <td>718</td>\n",
       "      <td>72</td>\n",
       "      <td>30000.0</td>\n",
       "      <td>-10</td>\n",
       "      <td>5.39</td>\n",
       "      <td>5.44</td>\n",
       "      <td>1.3363</td>\n",
       "      <td>1</td>\n",
       "      <td>1</td>\n",
       "      <td>0</td>\n",
       "      <td>0</td>\n",
       "      <td>1</td>\n",
       "    </tr>\n",
       "    <tr>\n",
       "      <th>4</th>\n",
       "      <td>2</td>\n",
       "      <td>703</td>\n",
       "      <td>72</td>\n",
       "      <td>38000.0</td>\n",
       "      <td>-10</td>\n",
       "      <td>5.75</td>\n",
       "      <td>6.29</td>\n",
       "      <td>1.1338</td>\n",
       "      <td>1</td>\n",
       "      <td>0</td>\n",
       "      <td>0</td>\n",
       "      <td>1</td>\n",
       "      <td>0</td>\n",
       "    </tr>\n",
       "  </tbody>\n",
       "</table>\n",
       "</div>"
      ],
      "text/plain": [
       "   Tier  FICO  Term   Amount  Previous_Rate  Competition_rate  Rate  \\\n",
       "0     2   725    72  30500.0              5              6.09  4.99   \n",
       "1     1   739    60  25995.0            -10              4.79  4.79   \n",
       "2     1   781    60  39000.0            -10              4.25  4.25   \n",
       "3     2   718    72  30000.0            -10              5.39  5.44   \n",
       "4     2   703    72  38000.0            -10              5.75  6.29   \n",
       "\n",
       "   Cost_Funds  Partner Bin  Car_Type_N  Car_Type_R  Car_Type_U  Accept  \n",
       "0      1.1200            2           0           1           0       0  \n",
       "1      1.9590            2           0           0           1       0  \n",
       "2      1.1200            2           1           0           0       0  \n",
       "3      1.3363            1           1           0           0       1  \n",
       "4      1.1338            1           0           0           1       0  "
      ]
     },
     "execution_count": 2,
     "metadata": {},
     "output_type": "execute_result"
    }
   ],
   "source": [
    "train_data = pd.read_csv('train_data.csv')\n",
    "train_data.head()"
   ]
  },
  {
   "cell_type": "code",
   "execution_count": 3,
   "metadata": {
    "execution": {
     "iopub.execute_input": "2023-03-20T11:50:21.832161Z",
     "iopub.status.busy": "2023-03-20T11:50:21.831931Z",
     "iopub.status.idle": "2023-03-20T11:50:22.006194Z",
     "shell.execute_reply": "2023-03-20T11:50:22.005219Z",
     "shell.execute_reply.started": "2023-03-20T11:50:21.832121Z"
    },
    "tags": []
   },
   "outputs": [
    {
     "data": {
      "text/html": [
       "<div>\n",
       "<style scoped>\n",
       "    .dataframe tbody tr th:only-of-type {\n",
       "        vertical-align: middle;\n",
       "    }\n",
       "\n",
       "    .dataframe tbody tr th {\n",
       "        vertical-align: top;\n",
       "    }\n",
       "\n",
       "    .dataframe thead th {\n",
       "        text-align: right;\n",
       "    }\n",
       "</style>\n",
       "<table border=\"1\" class=\"dataframe\">\n",
       "  <thead>\n",
       "    <tr style=\"text-align: right;\">\n",
       "      <th></th>\n",
       "      <th>Tier</th>\n",
       "      <th>FICO</th>\n",
       "      <th>Term</th>\n",
       "      <th>Amount</th>\n",
       "      <th>Previous_Rate</th>\n",
       "      <th>Competition_rate</th>\n",
       "      <th>Rate</th>\n",
       "      <th>Cost_Funds</th>\n",
       "      <th>Partner Bin</th>\n",
       "      <th>Car_Type_N</th>\n",
       "      <th>Car_Type_R</th>\n",
       "      <th>Car_Type_U</th>\n",
       "      <th>Accept</th>\n",
       "    </tr>\n",
       "  </thead>\n",
       "  <tbody>\n",
       "    <tr>\n",
       "      <th>count</th>\n",
       "      <td>145659.000000</td>\n",
       "      <td>145659.000000</td>\n",
       "      <td>145659.000000</td>\n",
       "      <td>145659.000000</td>\n",
       "      <td>145659.000000</td>\n",
       "      <td>145659.000000</td>\n",
       "      <td>145659.000000</td>\n",
       "      <td>145659.000000</td>\n",
       "      <td>145659.000000</td>\n",
       "      <td>145659.000000</td>\n",
       "      <td>145659.000000</td>\n",
       "      <td>145659.000000</td>\n",
       "      <td>145659.000000</td>\n",
       "    </tr>\n",
       "    <tr>\n",
       "      <th>mean</th>\n",
       "      <td>1.928429</td>\n",
       "      <td>726.695556</td>\n",
       "      <td>56.822441</td>\n",
       "      <td>25996.819760</td>\n",
       "      <td>-6.001435</td>\n",
       "      <td>4.807957</td>\n",
       "      <td>5.623998</td>\n",
       "      <td>1.329209</td>\n",
       "      <td>2.029473</td>\n",
       "      <td>0.571815</td>\n",
       "      <td>0.226865</td>\n",
       "      <td>0.201320</td>\n",
       "      <td>0.220041</td>\n",
       "    </tr>\n",
       "    <tr>\n",
       "      <th>std</th>\n",
       "      <td>1.050519</td>\n",
       "      <td>44.727756</td>\n",
       "      <td>11.201037</td>\n",
       "      <td>11125.968255</td>\n",
       "      <td>7.499216</td>\n",
       "      <td>0.586018</td>\n",
       "      <td>1.545418</td>\n",
       "      <td>0.278368</td>\n",
       "      <td>0.911097</td>\n",
       "      <td>0.494817</td>\n",
       "      <td>0.418806</td>\n",
       "      <td>0.400988</td>\n",
       "      <td>0.414276</td>\n",
       "    </tr>\n",
       "    <tr>\n",
       "      <th>min</th>\n",
       "      <td>1.000000</td>\n",
       "      <td>594.000000</td>\n",
       "      <td>36.000000</td>\n",
       "      <td>4526.620000</td>\n",
       "      <td>-10.000000</td>\n",
       "      <td>2.990000</td>\n",
       "      <td>2.450000</td>\n",
       "      <td>1.020000</td>\n",
       "      <td>1.000000</td>\n",
       "      <td>0.000000</td>\n",
       "      <td>0.000000</td>\n",
       "      <td>0.000000</td>\n",
       "      <td>0.000000</td>\n",
       "    </tr>\n",
       "    <tr>\n",
       "      <th>25%</th>\n",
       "      <td>1.000000</td>\n",
       "      <td>692.000000</td>\n",
       "      <td>48.000000</td>\n",
       "      <td>17753.450000</td>\n",
       "      <td>-10.000000</td>\n",
       "      <td>4.390000</td>\n",
       "      <td>4.490000</td>\n",
       "      <td>1.110000</td>\n",
       "      <td>1.000000</td>\n",
       "      <td>0.000000</td>\n",
       "      <td>0.000000</td>\n",
       "      <td>0.000000</td>\n",
       "      <td>0.000000</td>\n",
       "    </tr>\n",
       "    <tr>\n",
       "      <th>50%</th>\n",
       "      <td>2.000000</td>\n",
       "      <td>726.000000</td>\n",
       "      <td>60.000000</td>\n",
       "      <td>25000.000000</td>\n",
       "      <td>-10.000000</td>\n",
       "      <td>4.790000</td>\n",
       "      <td>5.090000</td>\n",
       "      <td>1.262500</td>\n",
       "      <td>2.000000</td>\n",
       "      <td>1.000000</td>\n",
       "      <td>0.000000</td>\n",
       "      <td>0.000000</td>\n",
       "      <td>0.000000</td>\n",
       "    </tr>\n",
       "    <tr>\n",
       "      <th>75%</th>\n",
       "      <td>3.000000</td>\n",
       "      <td>762.000000</td>\n",
       "      <td>60.000000</td>\n",
       "      <td>33000.000000</td>\n",
       "      <td>-10.000000</td>\n",
       "      <td>5.190000</td>\n",
       "      <td>6.390000</td>\n",
       "      <td>1.419400</td>\n",
       "      <td>3.000000</td>\n",
       "      <td>1.000000</td>\n",
       "      <td>0.000000</td>\n",
       "      <td>0.000000</td>\n",
       "      <td>0.000000</td>\n",
       "    </tr>\n",
       "    <tr>\n",
       "      <th>max</th>\n",
       "      <td>4.000000</td>\n",
       "      <td>852.000000</td>\n",
       "      <td>72.000000</td>\n",
       "      <td>100000.000000</td>\n",
       "      <td>24.000000</td>\n",
       "      <td>6.450000</td>\n",
       "      <td>15.530000</td>\n",
       "      <td>2.127000</td>\n",
       "      <td>3.000000</td>\n",
       "      <td>1.000000</td>\n",
       "      <td>1.000000</td>\n",
       "      <td>1.000000</td>\n",
       "      <td>1.000000</td>\n",
       "    </tr>\n",
       "  </tbody>\n",
       "</table>\n",
       "</div>"
      ],
      "text/plain": [
       "                Tier           FICO           Term         Amount  \\\n",
       "count  145659.000000  145659.000000  145659.000000  145659.000000   \n",
       "mean        1.928429     726.695556      56.822441   25996.819760   \n",
       "std         1.050519      44.727756      11.201037   11125.968255   \n",
       "min         1.000000     594.000000      36.000000    4526.620000   \n",
       "25%         1.000000     692.000000      48.000000   17753.450000   \n",
       "50%         2.000000     726.000000      60.000000   25000.000000   \n",
       "75%         3.000000     762.000000      60.000000   33000.000000   \n",
       "max         4.000000     852.000000      72.000000  100000.000000   \n",
       "\n",
       "       Previous_Rate  Competition_rate           Rate     Cost_Funds  \\\n",
       "count  145659.000000     145659.000000  145659.000000  145659.000000   \n",
       "mean       -6.001435          4.807957       5.623998       1.329209   \n",
       "std         7.499216          0.586018       1.545418       0.278368   \n",
       "min       -10.000000          2.990000       2.450000       1.020000   \n",
       "25%       -10.000000          4.390000       4.490000       1.110000   \n",
       "50%       -10.000000          4.790000       5.090000       1.262500   \n",
       "75%       -10.000000          5.190000       6.390000       1.419400   \n",
       "max        24.000000          6.450000      15.530000       2.127000   \n",
       "\n",
       "         Partner Bin     Car_Type_N     Car_Type_R     Car_Type_U  \\\n",
       "count  145659.000000  145659.000000  145659.000000  145659.000000   \n",
       "mean        2.029473       0.571815       0.226865       0.201320   \n",
       "std         0.911097       0.494817       0.418806       0.400988   \n",
       "min         1.000000       0.000000       0.000000       0.000000   \n",
       "25%         1.000000       0.000000       0.000000       0.000000   \n",
       "50%         2.000000       1.000000       0.000000       0.000000   \n",
       "75%         3.000000       1.000000       0.000000       0.000000   \n",
       "max         3.000000       1.000000       1.000000       1.000000   \n",
       "\n",
       "              Accept  \n",
       "count  145659.000000  \n",
       "mean        0.220041  \n",
       "std         0.414276  \n",
       "min         0.000000  \n",
       "25%         0.000000  \n",
       "50%         0.000000  \n",
       "75%         0.000000  \n",
       "max         1.000000  "
      ]
     },
     "execution_count": 3,
     "metadata": {},
     "output_type": "execute_result"
    }
   ],
   "source": [
    "train_data.describe()"
   ]
  },
  {
   "cell_type": "code",
   "execution_count": 4,
   "metadata": {
    "execution": {
     "iopub.execute_input": "2023-03-20T11:50:22.007520Z",
     "iopub.status.busy": "2023-03-20T11:50:22.007314Z",
     "iopub.status.idle": "2023-03-20T11:50:22.091107Z",
     "shell.execute_reply": "2023-03-20T11:50:22.090268Z",
     "shell.execute_reply.started": "2023-03-20T11:50:22.007482Z"
    },
    "tags": []
   },
   "outputs": [
    {
     "data": {
      "text/html": [
       "<div>\n",
       "<style scoped>\n",
       "    .dataframe tbody tr th:only-of-type {\n",
       "        vertical-align: middle;\n",
       "    }\n",
       "\n",
       "    .dataframe tbody tr th {\n",
       "        vertical-align: top;\n",
       "    }\n",
       "\n",
       "    .dataframe thead th {\n",
       "        text-align: right;\n",
       "    }\n",
       "</style>\n",
       "<table border=\"1\" class=\"dataframe\">\n",
       "  <thead>\n",
       "    <tr style=\"text-align: right;\">\n",
       "      <th></th>\n",
       "      <th>Tier</th>\n",
       "      <th>FICO</th>\n",
       "      <th>Term</th>\n",
       "      <th>Amount</th>\n",
       "      <th>Previous_Rate</th>\n",
       "      <th>Competition_rate</th>\n",
       "      <th>Rate</th>\n",
       "      <th>Cost_Funds</th>\n",
       "      <th>Partner Bin</th>\n",
       "      <th>Car_Type_N</th>\n",
       "      <th>Car_Type_R</th>\n",
       "      <th>Car_Type_U</th>\n",
       "      <th>Accept</th>\n",
       "    </tr>\n",
       "  </thead>\n",
       "  <tbody>\n",
       "    <tr>\n",
       "      <th>0</th>\n",
       "      <td>4</td>\n",
       "      <td>656</td>\n",
       "      <td>60</td>\n",
       "      <td>19600.0</td>\n",
       "      <td>-10</td>\n",
       "      <td>5.49</td>\n",
       "      <td>7.89</td>\n",
       "      <td>1.80</td>\n",
       "      <td>1</td>\n",
       "      <td>1</td>\n",
       "      <td>0</td>\n",
       "      <td>0</td>\n",
       "      <td>0</td>\n",
       "    </tr>\n",
       "    <tr>\n",
       "      <th>1</th>\n",
       "      <td>2</td>\n",
       "      <td>708</td>\n",
       "      <td>60</td>\n",
       "      <td>25921.0</td>\n",
       "      <td>8</td>\n",
       "      <td>5.49</td>\n",
       "      <td>7.02</td>\n",
       "      <td>1.99</td>\n",
       "      <td>2</td>\n",
       "      <td>0</td>\n",
       "      <td>1</td>\n",
       "      <td>0</td>\n",
       "      <td>0</td>\n",
       "    </tr>\n",
       "    <tr>\n",
       "      <th>2</th>\n",
       "      <td>4</td>\n",
       "      <td>666</td>\n",
       "      <td>60</td>\n",
       "      <td>18542.0</td>\n",
       "      <td>-10</td>\n",
       "      <td>5.75</td>\n",
       "      <td>7.89</td>\n",
       "      <td>1.82</td>\n",
       "      <td>3</td>\n",
       "      <td>0</td>\n",
       "      <td>0</td>\n",
       "      <td>1</td>\n",
       "      <td>0</td>\n",
       "    </tr>\n",
       "    <tr>\n",
       "      <th>3</th>\n",
       "      <td>1</td>\n",
       "      <td>749</td>\n",
       "      <td>48</td>\n",
       "      <td>18000.0</td>\n",
       "      <td>-10</td>\n",
       "      <td>4.89</td>\n",
       "      <td>4.14</td>\n",
       "      <td>1.34</td>\n",
       "      <td>1</td>\n",
       "      <td>1</td>\n",
       "      <td>0</td>\n",
       "      <td>0</td>\n",
       "      <td>1</td>\n",
       "    </tr>\n",
       "    <tr>\n",
       "      <th>4</th>\n",
       "      <td>2</td>\n",
       "      <td>709</td>\n",
       "      <td>60</td>\n",
       "      <td>25000.0</td>\n",
       "      <td>-10</td>\n",
       "      <td>4.25</td>\n",
       "      <td>4.69</td>\n",
       "      <td>1.11</td>\n",
       "      <td>1</td>\n",
       "      <td>1</td>\n",
       "      <td>0</td>\n",
       "      <td>0</td>\n",
       "      <td>0</td>\n",
       "    </tr>\n",
       "  </tbody>\n",
       "</table>\n",
       "</div>"
      ],
      "text/plain": [
       "   Tier  FICO  Term   Amount  Previous_Rate  Competition_rate  Rate  \\\n",
       "0     4   656    60  19600.0            -10              5.49  7.89   \n",
       "1     2   708    60  25921.0              8              5.49  7.02   \n",
       "2     4   666    60  18542.0            -10              5.75  7.89   \n",
       "3     1   749    48  18000.0            -10              4.89  4.14   \n",
       "4     2   709    60  25000.0            -10              4.25  4.69   \n",
       "\n",
       "   Cost_Funds  Partner Bin  Car_Type_N  Car_Type_R  Car_Type_U  Accept  \n",
       "0        1.80            1           1           0           0       0  \n",
       "1        1.99            2           0           1           0       0  \n",
       "2        1.82            3           0           0           1       0  \n",
       "3        1.34            1           1           0           0       1  \n",
       "4        1.11            1           1           0           0       0  "
      ]
     },
     "execution_count": 4,
     "metadata": {},
     "output_type": "execute_result"
    }
   ],
   "source": [
    "test_data = pd.read_csv('test_data.csv')\n",
    "test_data.head()"
   ]
  },
  {
   "cell_type": "code",
   "execution_count": 5,
   "metadata": {
    "execution": {
     "iopub.execute_input": "2023-03-20T11:50:22.092464Z",
     "iopub.status.busy": "2023-03-20T11:50:22.092252Z",
     "iopub.status.idle": "2023-03-20T11:50:22.174770Z",
     "shell.execute_reply": "2023-03-20T11:50:22.173792Z",
     "shell.execute_reply.started": "2023-03-20T11:50:22.092425Z"
    },
    "tags": []
   },
   "outputs": [
    {
     "data": {
      "text/html": [
       "<div>\n",
       "<style scoped>\n",
       "    .dataframe tbody tr th:only-of-type {\n",
       "        vertical-align: middle;\n",
       "    }\n",
       "\n",
       "    .dataframe tbody tr th {\n",
       "        vertical-align: top;\n",
       "    }\n",
       "\n",
       "    .dataframe thead th {\n",
       "        text-align: right;\n",
       "    }\n",
       "</style>\n",
       "<table border=\"1\" class=\"dataframe\">\n",
       "  <thead>\n",
       "    <tr style=\"text-align: right;\">\n",
       "      <th></th>\n",
       "      <th>Tier</th>\n",
       "      <th>FICO</th>\n",
       "      <th>Term</th>\n",
       "      <th>Amount</th>\n",
       "      <th>Previous_Rate</th>\n",
       "      <th>Competition_rate</th>\n",
       "      <th>Rate</th>\n",
       "      <th>Cost_Funds</th>\n",
       "      <th>Partner Bin</th>\n",
       "      <th>Car_Type_N</th>\n",
       "      <th>Car_Type_R</th>\n",
       "      <th>Car_Type_U</th>\n",
       "      <th>Accept</th>\n",
       "    </tr>\n",
       "  </thead>\n",
       "  <tbody>\n",
       "    <tr>\n",
       "      <th>count</th>\n",
       "      <td>62426.000000</td>\n",
       "      <td>62426.000000</td>\n",
       "      <td>62426.000000</td>\n",
       "      <td>62426.000000</td>\n",
       "      <td>62426.000000</td>\n",
       "      <td>62426.000000</td>\n",
       "      <td>62426.000000</td>\n",
       "      <td>62426.000000</td>\n",
       "      <td>62426.000000</td>\n",
       "      <td>62426.000000</td>\n",
       "      <td>62426.000000</td>\n",
       "      <td>62426.000000</td>\n",
       "      <td>62426.000000</td>\n",
       "    </tr>\n",
       "    <tr>\n",
       "      <th>mean</th>\n",
       "      <td>1.924679</td>\n",
       "      <td>726.815061</td>\n",
       "      <td>56.777689</td>\n",
       "      <td>26039.140706</td>\n",
       "      <td>-5.993320</td>\n",
       "      <td>4.805026</td>\n",
       "      <td>5.620835</td>\n",
       "      <td>1.327908</td>\n",
       "      <td>2.030132</td>\n",
       "      <td>0.572982</td>\n",
       "      <td>0.226909</td>\n",
       "      <td>0.200109</td>\n",
       "      <td>0.220037</td>\n",
       "    </tr>\n",
       "    <tr>\n",
       "      <th>std</th>\n",
       "      <td>1.052197</td>\n",
       "      <td>44.913758</td>\n",
       "      <td>11.211280</td>\n",
       "      <td>11068.667027</td>\n",
       "      <td>7.513858</td>\n",
       "      <td>0.586453</td>\n",
       "      <td>1.550624</td>\n",
       "      <td>0.277319</td>\n",
       "      <td>0.910987</td>\n",
       "      <td>0.494649</td>\n",
       "      <td>0.418836</td>\n",
       "      <td>0.400085</td>\n",
       "      <td>0.414274</td>\n",
       "    </tr>\n",
       "    <tr>\n",
       "      <th>min</th>\n",
       "      <td>1.000000</td>\n",
       "      <td>587.000000</td>\n",
       "      <td>36.000000</td>\n",
       "      <td>5.000000</td>\n",
       "      <td>-10.000000</td>\n",
       "      <td>2.990000</td>\n",
       "      <td>2.590000</td>\n",
       "      <td>1.020000</td>\n",
       "      <td>1.000000</td>\n",
       "      <td>0.000000</td>\n",
       "      <td>0.000000</td>\n",
       "      <td>0.000000</td>\n",
       "      <td>0.000000</td>\n",
       "    </tr>\n",
       "    <tr>\n",
       "      <th>25%</th>\n",
       "      <td>1.000000</td>\n",
       "      <td>692.000000</td>\n",
       "      <td>48.000000</td>\n",
       "      <td>17843.192500</td>\n",
       "      <td>-10.000000</td>\n",
       "      <td>4.390000</td>\n",
       "      <td>4.490000</td>\n",
       "      <td>1.110000</td>\n",
       "      <td>1.000000</td>\n",
       "      <td>0.000000</td>\n",
       "      <td>0.000000</td>\n",
       "      <td>0.000000</td>\n",
       "      <td>0.000000</td>\n",
       "    </tr>\n",
       "    <tr>\n",
       "      <th>50%</th>\n",
       "      <td>2.000000</td>\n",
       "      <td>726.000000</td>\n",
       "      <td>60.000000</td>\n",
       "      <td>25000.000000</td>\n",
       "      <td>-10.000000</td>\n",
       "      <td>4.790000</td>\n",
       "      <td>5.090000</td>\n",
       "      <td>1.252500</td>\n",
       "      <td>2.000000</td>\n",
       "      <td>1.000000</td>\n",
       "      <td>0.000000</td>\n",
       "      <td>0.000000</td>\n",
       "      <td>0.000000</td>\n",
       "    </tr>\n",
       "    <tr>\n",
       "      <th>75%</th>\n",
       "      <td>3.000000</td>\n",
       "      <td>763.000000</td>\n",
       "      <td>60.000000</td>\n",
       "      <td>33000.000000</td>\n",
       "      <td>-10.000000</td>\n",
       "      <td>5.190000</td>\n",
       "      <td>6.340000</td>\n",
       "      <td>1.417500</td>\n",
       "      <td>3.000000</td>\n",
       "      <td>1.000000</td>\n",
       "      <td>0.000000</td>\n",
       "      <td>0.000000</td>\n",
       "      <td>0.000000</td>\n",
       "    </tr>\n",
       "    <tr>\n",
       "      <th>max</th>\n",
       "      <td>4.000000</td>\n",
       "      <td>854.000000</td>\n",
       "      <td>72.000000</td>\n",
       "      <td>100000.000000</td>\n",
       "      <td>24.000000</td>\n",
       "      <td>6.450000</td>\n",
       "      <td>13.900000</td>\n",
       "      <td>2.127000</td>\n",
       "      <td>3.000000</td>\n",
       "      <td>1.000000</td>\n",
       "      <td>1.000000</td>\n",
       "      <td>1.000000</td>\n",
       "      <td>1.000000</td>\n",
       "    </tr>\n",
       "  </tbody>\n",
       "</table>\n",
       "</div>"
      ],
      "text/plain": [
       "               Tier          FICO          Term         Amount  Previous_Rate  \\\n",
       "count  62426.000000  62426.000000  62426.000000   62426.000000   62426.000000   \n",
       "mean       1.924679    726.815061     56.777689   26039.140706      -5.993320   \n",
       "std        1.052197     44.913758     11.211280   11068.667027       7.513858   \n",
       "min        1.000000    587.000000     36.000000       5.000000     -10.000000   \n",
       "25%        1.000000    692.000000     48.000000   17843.192500     -10.000000   \n",
       "50%        2.000000    726.000000     60.000000   25000.000000     -10.000000   \n",
       "75%        3.000000    763.000000     60.000000   33000.000000     -10.000000   \n",
       "max        4.000000    854.000000     72.000000  100000.000000      24.000000   \n",
       "\n",
       "       Competition_rate          Rate    Cost_Funds   Partner Bin  \\\n",
       "count      62426.000000  62426.000000  62426.000000  62426.000000   \n",
       "mean           4.805026      5.620835      1.327908      2.030132   \n",
       "std            0.586453      1.550624      0.277319      0.910987   \n",
       "min            2.990000      2.590000      1.020000      1.000000   \n",
       "25%            4.390000      4.490000      1.110000      1.000000   \n",
       "50%            4.790000      5.090000      1.252500      2.000000   \n",
       "75%            5.190000      6.340000      1.417500      3.000000   \n",
       "max            6.450000     13.900000      2.127000      3.000000   \n",
       "\n",
       "         Car_Type_N    Car_Type_R    Car_Type_U        Accept  \n",
       "count  62426.000000  62426.000000  62426.000000  62426.000000  \n",
       "mean       0.572982      0.226909      0.200109      0.220037  \n",
       "std        0.494649      0.418836      0.400085      0.414274  \n",
       "min        0.000000      0.000000      0.000000      0.000000  \n",
       "25%        0.000000      0.000000      0.000000      0.000000  \n",
       "50%        1.000000      0.000000      0.000000      0.000000  \n",
       "75%        1.000000      0.000000      0.000000      0.000000  \n",
       "max        1.000000      1.000000      1.000000      1.000000  "
      ]
     },
     "execution_count": 5,
     "metadata": {},
     "output_type": "execute_result"
    }
   ],
   "source": [
    "test_data.describe()"
   ]
  },
  {
   "cell_type": "code",
   "execution_count": null,
   "metadata": {},
   "outputs": [],
   "source": []
  },
  {
   "cell_type": "markdown",
   "metadata": {
    "jp-MarkdownHeadingCollapsed": true,
    "tags": []
   },
   "source": [
    "## Acceptance modeling:"
   ]
  },
  {
   "cell_type": "code",
   "execution_count": 6,
   "metadata": {
    "execution": {
     "iopub.execute_input": "2023-03-20T11:50:22.176501Z",
     "iopub.status.busy": "2023-03-20T11:50:22.176204Z",
     "iopub.status.idle": "2023-03-20T11:50:22.181629Z",
     "shell.execute_reply": "2023-03-20T11:50:22.180696Z",
     "shell.execute_reply.started": "2023-03-20T11:50:22.176446Z"
    },
    "tags": []
   },
   "outputs": [],
   "source": [
    "num_cols = [\n",
    "    'FICO',\n",
    "    'Term',\n",
    "    'Amount',\n",
    "    'Previous_Rate',\n",
    "    'Competition_rate',\n",
    "#     'Rate',\n",
    "    'Cost_Funds'\n",
    "]\n",
    "\n",
    "cat_cols = [\n",
    "    'Tier',\n",
    "    'Partner Bin'\n",
    "]\n",
    "\n",
    "other = [\n",
    "    'Rate',\n",
    "    'Car_Type_N',\n",
    "    'Car_Type_R',\n",
    "    'Car_Type_U'\n",
    "]\n",
    "\n",
    "target_col = 'Accept'\n"
   ]
  },
  {
   "cell_type": "code",
   "execution_count": 7,
   "metadata": {
    "execution": {
     "iopub.execute_input": "2023-03-20T11:50:22.183217Z",
     "iopub.status.busy": "2023-03-20T11:50:22.182988Z",
     "iopub.status.idle": "2023-03-20T11:50:22.387110Z",
     "shell.execute_reply": "2023-03-20T11:50:22.386442Z",
     "shell.execute_reply.started": "2023-03-20T11:50:22.183177Z"
    },
    "tags": []
   },
   "outputs": [],
   "source": [
    "X, y = train_data.drop(target_col, axis=1), train_data[target_col]\n",
    "X_test, y_test = test_data.drop(target_col, axis=1), test_data[target_col]\n",
    "\n",
    "X_train, X_valid, y_train, y_valid = train_test_split(X, y, shuffle=True, stratify=y)"
   ]
  },
  {
   "cell_type": "code",
   "execution_count": 29,
   "metadata": {
    "execution": {
     "iopub.execute_input": "2023-03-20T11:50:22.388302Z",
     "iopub.status.busy": "2023-03-20T11:50:22.387985Z",
     "iopub.status.idle": "2023-03-20T11:50:22.393827Z",
     "shell.execute_reply": "2023-03-20T11:50:22.393335Z",
     "shell.execute_reply.started": "2023-03-20T11:50:22.388269Z"
    },
    "tags": []
   },
   "outputs": [],
   "source": [
    "column_transformer_mean_target = ColumnTransformer([\n",
    "    ('mean_target', TargetEncoder(cols=cat_cols), cat_cols),\n",
    "    ('scaling', StandardScaler(), num_cols),\n",
    "    ('pass', 'passthrough', other),\n",
    "])\n",
    "column_transformer_ohe = ColumnTransformer([\n",
    "    ('ohe', OneHotEncoder(handle_unknown='ignore'), cat_cols),\n",
    "    ('scaling', StandardScaler(), num_cols),\n",
    "    ('pass', 'passthrough', other),\n",
    "])\n",
    "\n",
    "pipeline_mean_target = Pipeline(\n",
    "    steps=[\n",
    "        ('preprocessing', column_transformer_mean_target),\n",
    "        ('model', LogisticRegression())\n",
    "    ]\n",
    ")\n",
    "pipeline_ohe = Pipeline(\n",
    "    steps=[\n",
    "        ('preprocessing', column_transformer_ohe),\n",
    "        ('model', LogisticRegression())\n",
    "    ]\n",
    ")"
   ]
  },
  {
   "cell_type": "markdown",
   "metadata": {},
   "source": [
    "### Target Encoding:"
   ]
  },
  {
   "cell_type": "markdown",
   "metadata": {
    "execution": {
     "iopub.execute_input": "2023-01-20T12:20:09.349232Z",
     "iopub.status.busy": "2023-01-20T12:20:09.348745Z",
     "iopub.status.idle": "2023-01-20T12:20:09.353021Z",
     "shell.execute_reply": "2023-01-20T12:20:09.352205Z",
     "shell.execute_reply.started": "2023-01-20T12:20:09.349013Z"
    },
    "tags": []
   },
   "source": [
    "#### Подбор гиперпараметров:"
   ]
  },
  {
   "cell_type": "code",
   "execution_count": 9,
   "metadata": {
    "execution": {
     "iopub.execute_input": "2023-03-20T11:50:22.394808Z",
     "iopub.status.busy": "2023-03-20T11:50:22.394536Z",
     "iopub.status.idle": "2023-03-20T11:56:01.228725Z",
     "shell.execute_reply": "2023-03-20T11:56:01.227516Z",
     "shell.execute_reply.started": "2023-03-20T11:50:22.394777Z"
    },
    "tags": []
   },
   "outputs": [
    {
     "name": "stderr",
     "output_type": "stream",
     "text": [
      "/Users/vsglamazdin/opt/anaconda3/envs/notebookkernel/lib/python3.10/site-packages/scipy/optimize/_linesearch.py:306: LineSearchWarning: The line search algorithm did not converge\n",
      "  warn('The line search algorithm did not converge', LineSearchWarning)\n",
      "/Users/vsglamazdin/opt/anaconda3/envs/notebookkernel/lib/python3.10/site-packages/sklearn/utils/optimize.py:203: UserWarning: Line Search failed\n",
      "  warnings.warn(\"Line Search failed\")\n",
      "/Users/vsglamazdin/opt/anaconda3/envs/notebookkernel/lib/python3.10/site-packages/scipy/optimize/_linesearch.py:306: LineSearchWarning: The line search algorithm did not converge\n",
      "  warn('The line search algorithm did not converge', LineSearchWarning)\n",
      "/Users/vsglamazdin/opt/anaconda3/envs/notebookkernel/lib/python3.10/site-packages/sklearn/utils/optimize.py:203: UserWarning: Line Search failed\n",
      "  warnings.warn(\"Line Search failed\")\n",
      "/Users/vsglamazdin/opt/anaconda3/envs/notebookkernel/lib/python3.10/site-packages/scipy/optimize/_linesearch.py:306: LineSearchWarning: The line search algorithm did not converge\n",
      "  warn('The line search algorithm did not converge', LineSearchWarning)\n",
      "/Users/vsglamazdin/opt/anaconda3/envs/notebookkernel/lib/python3.10/site-packages/sklearn/utils/optimize.py:203: UserWarning: Line Search failed\n",
      "  warnings.warn(\"Line Search failed\")\n",
      "/Users/vsglamazdin/opt/anaconda3/envs/notebookkernel/lib/python3.10/site-packages/scipy/optimize/_linesearch.py:306: LineSearchWarning: The line search algorithm did not converge\n",
      "  warn('The line search algorithm did not converge', LineSearchWarning)\n",
      "/Users/vsglamazdin/opt/anaconda3/envs/notebookkernel/lib/python3.10/site-packages/sklearn/utils/optimize.py:203: UserWarning: Line Search failed\n",
      "  warnings.warn(\"Line Search failed\")\n",
      "/Users/vsglamazdin/opt/anaconda3/envs/notebookkernel/lib/python3.10/site-packages/scipy/optimize/_linesearch.py:306: LineSearchWarning: The line search algorithm did not converge\n",
      "  warn('The line search algorithm did not converge', LineSearchWarning)\n",
      "/Users/vsglamazdin/opt/anaconda3/envs/notebookkernel/lib/python3.10/site-packages/sklearn/utils/optimize.py:203: UserWarning: Line Search failed\n",
      "  warnings.warn(\"Line Search failed\")\n"
     ]
    },
    {
     "name": "stdout",
     "output_type": "stream",
     "text": [
      "CPU times: user 5.49 s, sys: 4.64 s, total: 10.1 s\n",
      "Wall time: 5min 49s\n"
     ]
    },
    {
     "data": {
      "text/html": [
       "<style>#sk-container-id-1 {color: black;background-color: white;}#sk-container-id-1 pre{padding: 0;}#sk-container-id-1 div.sk-toggleable {background-color: white;}#sk-container-id-1 label.sk-toggleable__label {cursor: pointer;display: block;width: 100%;margin-bottom: 0;padding: 0.3em;box-sizing: border-box;text-align: center;}#sk-container-id-1 label.sk-toggleable__label-arrow:before {content: \"▸\";float: left;margin-right: 0.25em;color: #696969;}#sk-container-id-1 label.sk-toggleable__label-arrow:hover:before {color: black;}#sk-container-id-1 div.sk-estimator:hover label.sk-toggleable__label-arrow:before {color: black;}#sk-container-id-1 div.sk-toggleable__content {max-height: 0;max-width: 0;overflow: hidden;text-align: left;background-color: #f0f8ff;}#sk-container-id-1 div.sk-toggleable__content pre {margin: 0.2em;color: black;border-radius: 0.25em;background-color: #f0f8ff;}#sk-container-id-1 input.sk-toggleable__control:checked~div.sk-toggleable__content {max-height: 200px;max-width: 100%;overflow: auto;}#sk-container-id-1 input.sk-toggleable__control:checked~label.sk-toggleable__label-arrow:before {content: \"▾\";}#sk-container-id-1 div.sk-estimator input.sk-toggleable__control:checked~label.sk-toggleable__label {background-color: #d4ebff;}#sk-container-id-1 div.sk-label input.sk-toggleable__control:checked~label.sk-toggleable__label {background-color: #d4ebff;}#sk-container-id-1 input.sk-hidden--visually {border: 0;clip: rect(1px 1px 1px 1px);clip: rect(1px, 1px, 1px, 1px);height: 1px;margin: -1px;overflow: hidden;padding: 0;position: absolute;width: 1px;}#sk-container-id-1 div.sk-estimator {font-family: monospace;background-color: #f0f8ff;border: 1px dotted black;border-radius: 0.25em;box-sizing: border-box;margin-bottom: 0.5em;}#sk-container-id-1 div.sk-estimator:hover {background-color: #d4ebff;}#sk-container-id-1 div.sk-parallel-item::after {content: \"\";width: 100%;border-bottom: 1px solid gray;flex-grow: 1;}#sk-container-id-1 div.sk-label:hover label.sk-toggleable__label {background-color: #d4ebff;}#sk-container-id-1 div.sk-serial::before {content: \"\";position: absolute;border-left: 1px solid gray;box-sizing: border-box;top: 0;bottom: 0;left: 50%;z-index: 0;}#sk-container-id-1 div.sk-serial {display: flex;flex-direction: column;align-items: center;background-color: white;padding-right: 0.2em;padding-left: 0.2em;position: relative;}#sk-container-id-1 div.sk-item {position: relative;z-index: 1;}#sk-container-id-1 div.sk-parallel {display: flex;align-items: stretch;justify-content: center;background-color: white;position: relative;}#sk-container-id-1 div.sk-item::before, #sk-container-id-1 div.sk-parallel-item::before {content: \"\";position: absolute;border-left: 1px solid gray;box-sizing: border-box;top: 0;bottom: 0;left: 50%;z-index: -1;}#sk-container-id-1 div.sk-parallel-item {display: flex;flex-direction: column;z-index: 1;position: relative;background-color: white;}#sk-container-id-1 div.sk-parallel-item:first-child::after {align-self: flex-end;width: 50%;}#sk-container-id-1 div.sk-parallel-item:last-child::after {align-self: flex-start;width: 50%;}#sk-container-id-1 div.sk-parallel-item:only-child::after {width: 0;}#sk-container-id-1 div.sk-dashed-wrapped {border: 1px dashed gray;margin: 0 0.4em 0.5em 0.4em;box-sizing: border-box;padding-bottom: 0.4em;background-color: white;}#sk-container-id-1 div.sk-label label {font-family: monospace;font-weight: bold;display: inline-block;line-height: 1.2em;}#sk-container-id-1 div.sk-label-container {text-align: center;}#sk-container-id-1 div.sk-container {/* jupyter's `normalize.less` sets `[hidden] { display: none; }` but bootstrap.min.css set `[hidden] { display: none !important; }` so we also need the `!important` here to be able to override the default hidden behavior on the sphinx rendered scikit-learn.org. See: https://github.com/scikit-learn/scikit-learn/issues/21755 */display: inline-block !important;position: relative;}#sk-container-id-1 div.sk-text-repr-fallback {display: none;}</style><div id=\"sk-container-id-1\" class=\"sk-top-container\"><div class=\"sk-text-repr-fallback\"><pre>GridSearchCV(cv=10,\n",
       "             estimator=Pipeline(steps=[(&#x27;preprocessing&#x27;,\n",
       "                                        ColumnTransformer(transformers=[(&#x27;mean_target&#x27;,\n",
       "                                                                         TargetEncoder(cols=[&#x27;Tier&#x27;,\n",
       "                                                                                             &#x27;Partner &#x27;\n",
       "                                                                                             &#x27;Bin&#x27;]),\n",
       "                                                                         [&#x27;Tier&#x27;,\n",
       "                                                                          &#x27;Partner &#x27;\n",
       "                                                                          &#x27;Bin&#x27;]),\n",
       "                                                                        (&#x27;scaling&#x27;,\n",
       "                                                                         StandardScaler(),\n",
       "                                                                         [&#x27;FICO&#x27;,\n",
       "                                                                          &#x27;Term&#x27;,\n",
       "                                                                          &#x27;Amount&#x27;,\n",
       "                                                                          &#x27;Previous_Rate&#x27;,\n",
       "                                                                          &#x27;Competition_rate&#x27;,\n",
       "                                                                          &#x27;Cost_Funds&#x27;]),\n",
       "                                                                        (&#x27;pass&#x27;,\n",
       "                                                                         &#x27;passthrough&#x27;,\n",
       "                                                                         [&#x27;Rate&#x27;,\n",
       "                                                                          &#x27;Car_Type_N&#x27;,\n",
       "                                                                          &#x27;Car_Type_R&#x27;,\n",
       "                                                                          &#x27;Car_Type_U&#x27;])...\n",
       "       1.00000000e-01, 3.16227766e-01, 1.00000000e+00, 3.16227766e+00,\n",
       "       1.00000000e+01, 3.16227766e+01, 1.00000000e+02, 3.16227766e+02,\n",
       "       1.00000000e+03, 3.16227766e+03, 1.00000000e+04, 3.16227766e+04,\n",
       "       1.00000000e+05, 3.16227766e+05, 1.00000000e+06]),\n",
       "                         &#x27;model__max_iter&#x27;: [100000], &#x27;model__penalty&#x27;: [&#x27;l2&#x27;],\n",
       "                         &#x27;model__random_state&#x27;: [19],\n",
       "                         &#x27;model__solver&#x27;: [&#x27;newton-cg&#x27;, &#x27;lbfgs&#x27;, &#x27;liblinear&#x27;,\n",
       "                                           &#x27;sag&#x27;, &#x27;saga&#x27;]},\n",
       "             scoring=&#x27;roc_auc&#x27;)</pre><b>In a Jupyter environment, please rerun this cell to show the HTML representation or trust the notebook. <br />On GitHub, the HTML representation is unable to render, please try loading this page with nbviewer.org.</b></div><div class=\"sk-container\" hidden><div class=\"sk-item sk-dashed-wrapped\"><div class=\"sk-label-container\"><div class=\"sk-label sk-toggleable\"><input class=\"sk-toggleable__control sk-hidden--visually\" id=\"sk-estimator-id-1\" type=\"checkbox\" ><label for=\"sk-estimator-id-1\" class=\"sk-toggleable__label sk-toggleable__label-arrow\">GridSearchCV</label><div class=\"sk-toggleable__content\"><pre>GridSearchCV(cv=10,\n",
       "             estimator=Pipeline(steps=[(&#x27;preprocessing&#x27;,\n",
       "                                        ColumnTransformer(transformers=[(&#x27;mean_target&#x27;,\n",
       "                                                                         TargetEncoder(cols=[&#x27;Tier&#x27;,\n",
       "                                                                                             &#x27;Partner &#x27;\n",
       "                                                                                             &#x27;Bin&#x27;]),\n",
       "                                                                         [&#x27;Tier&#x27;,\n",
       "                                                                          &#x27;Partner &#x27;\n",
       "                                                                          &#x27;Bin&#x27;]),\n",
       "                                                                        (&#x27;scaling&#x27;,\n",
       "                                                                         StandardScaler(),\n",
       "                                                                         [&#x27;FICO&#x27;,\n",
       "                                                                          &#x27;Term&#x27;,\n",
       "                                                                          &#x27;Amount&#x27;,\n",
       "                                                                          &#x27;Previous_Rate&#x27;,\n",
       "                                                                          &#x27;Competition_rate&#x27;,\n",
       "                                                                          &#x27;Cost_Funds&#x27;]),\n",
       "                                                                        (&#x27;pass&#x27;,\n",
       "                                                                         &#x27;passthrough&#x27;,\n",
       "                                                                         [&#x27;Rate&#x27;,\n",
       "                                                                          &#x27;Car_Type_N&#x27;,\n",
       "                                                                          &#x27;Car_Type_R&#x27;,\n",
       "                                                                          &#x27;Car_Type_U&#x27;])...\n",
       "       1.00000000e-01, 3.16227766e-01, 1.00000000e+00, 3.16227766e+00,\n",
       "       1.00000000e+01, 3.16227766e+01, 1.00000000e+02, 3.16227766e+02,\n",
       "       1.00000000e+03, 3.16227766e+03, 1.00000000e+04, 3.16227766e+04,\n",
       "       1.00000000e+05, 3.16227766e+05, 1.00000000e+06]),\n",
       "                         &#x27;model__max_iter&#x27;: [100000], &#x27;model__penalty&#x27;: [&#x27;l2&#x27;],\n",
       "                         &#x27;model__random_state&#x27;: [19],\n",
       "                         &#x27;model__solver&#x27;: [&#x27;newton-cg&#x27;, &#x27;lbfgs&#x27;, &#x27;liblinear&#x27;,\n",
       "                                           &#x27;sag&#x27;, &#x27;saga&#x27;]},\n",
       "             scoring=&#x27;roc_auc&#x27;)</pre></div></div></div><div class=\"sk-parallel\"><div class=\"sk-parallel-item\"><div class=\"sk-item\"><div class=\"sk-label-container\"><div class=\"sk-label sk-toggleable\"><input class=\"sk-toggleable__control sk-hidden--visually\" id=\"sk-estimator-id-2\" type=\"checkbox\" ><label for=\"sk-estimator-id-2\" class=\"sk-toggleable__label sk-toggleable__label-arrow\">estimator: Pipeline</label><div class=\"sk-toggleable__content\"><pre>Pipeline(steps=[(&#x27;preprocessing&#x27;,\n",
       "                 ColumnTransformer(transformers=[(&#x27;mean_target&#x27;,\n",
       "                                                  TargetEncoder(cols=[&#x27;Tier&#x27;,\n",
       "                                                                      &#x27;Partner &#x27;\n",
       "                                                                      &#x27;Bin&#x27;]),\n",
       "                                                  [&#x27;Tier&#x27;, &#x27;Partner Bin&#x27;]),\n",
       "                                                 (&#x27;scaling&#x27;, StandardScaler(),\n",
       "                                                  [&#x27;FICO&#x27;, &#x27;Term&#x27;, &#x27;Amount&#x27;,\n",
       "                                                   &#x27;Previous_Rate&#x27;,\n",
       "                                                   &#x27;Competition_rate&#x27;,\n",
       "                                                   &#x27;Cost_Funds&#x27;]),\n",
       "                                                 (&#x27;pass&#x27;, &#x27;passthrough&#x27;,\n",
       "                                                  [&#x27;Rate&#x27;, &#x27;Car_Type_N&#x27;,\n",
       "                                                   &#x27;Car_Type_R&#x27;,\n",
       "                                                   &#x27;Car_Type_U&#x27;])])),\n",
       "                (&#x27;model&#x27;, LogisticRegression())])</pre></div></div></div><div class=\"sk-serial\"><div class=\"sk-item\"><div class=\"sk-serial\"><div class=\"sk-item sk-dashed-wrapped\"><div class=\"sk-label-container\"><div class=\"sk-label sk-toggleable\"><input class=\"sk-toggleable__control sk-hidden--visually\" id=\"sk-estimator-id-3\" type=\"checkbox\" ><label for=\"sk-estimator-id-3\" class=\"sk-toggleable__label sk-toggleable__label-arrow\">preprocessing: ColumnTransformer</label><div class=\"sk-toggleable__content\"><pre>ColumnTransformer(transformers=[(&#x27;mean_target&#x27;,\n",
       "                                 TargetEncoder(cols=[&#x27;Tier&#x27;, &#x27;Partner Bin&#x27;]),\n",
       "                                 [&#x27;Tier&#x27;, &#x27;Partner Bin&#x27;]),\n",
       "                                (&#x27;scaling&#x27;, StandardScaler(),\n",
       "                                 [&#x27;FICO&#x27;, &#x27;Term&#x27;, &#x27;Amount&#x27;, &#x27;Previous_Rate&#x27;,\n",
       "                                  &#x27;Competition_rate&#x27;, &#x27;Cost_Funds&#x27;]),\n",
       "                                (&#x27;pass&#x27;, &#x27;passthrough&#x27;,\n",
       "                                 [&#x27;Rate&#x27;, &#x27;Car_Type_N&#x27;, &#x27;Car_Type_R&#x27;,\n",
       "                                  &#x27;Car_Type_U&#x27;])])</pre></div></div></div><div class=\"sk-parallel\"><div class=\"sk-parallel-item\"><div class=\"sk-item\"><div class=\"sk-label-container\"><div class=\"sk-label sk-toggleable\"><input class=\"sk-toggleable__control sk-hidden--visually\" id=\"sk-estimator-id-4\" type=\"checkbox\" ><label for=\"sk-estimator-id-4\" class=\"sk-toggleable__label sk-toggleable__label-arrow\">mean_target</label><div class=\"sk-toggleable__content\"><pre>[&#x27;Tier&#x27;, &#x27;Partner Bin&#x27;]</pre></div></div></div><div class=\"sk-serial\"><div class=\"sk-item\"><div class=\"sk-estimator sk-toggleable\"><input class=\"sk-toggleable__control sk-hidden--visually\" id=\"sk-estimator-id-5\" type=\"checkbox\" ><label for=\"sk-estimator-id-5\" class=\"sk-toggleable__label sk-toggleable__label-arrow\">TargetEncoder</label><div class=\"sk-toggleable__content\"><pre>TargetEncoder(cols=[&#x27;Tier&#x27;, &#x27;Partner Bin&#x27;])</pre></div></div></div></div></div></div><div class=\"sk-parallel-item\"><div class=\"sk-item\"><div class=\"sk-label-container\"><div class=\"sk-label sk-toggleable\"><input class=\"sk-toggleable__control sk-hidden--visually\" id=\"sk-estimator-id-6\" type=\"checkbox\" ><label for=\"sk-estimator-id-6\" class=\"sk-toggleable__label sk-toggleable__label-arrow\">scaling</label><div class=\"sk-toggleable__content\"><pre>[&#x27;FICO&#x27;, &#x27;Term&#x27;, &#x27;Amount&#x27;, &#x27;Previous_Rate&#x27;, &#x27;Competition_rate&#x27;, &#x27;Cost_Funds&#x27;]</pre></div></div></div><div class=\"sk-serial\"><div class=\"sk-item\"><div class=\"sk-estimator sk-toggleable\"><input class=\"sk-toggleable__control sk-hidden--visually\" id=\"sk-estimator-id-7\" type=\"checkbox\" ><label for=\"sk-estimator-id-7\" class=\"sk-toggleable__label sk-toggleable__label-arrow\">StandardScaler</label><div class=\"sk-toggleable__content\"><pre>StandardScaler()</pre></div></div></div></div></div></div><div class=\"sk-parallel-item\"><div class=\"sk-item\"><div class=\"sk-label-container\"><div class=\"sk-label sk-toggleable\"><input class=\"sk-toggleable__control sk-hidden--visually\" id=\"sk-estimator-id-8\" type=\"checkbox\" ><label for=\"sk-estimator-id-8\" class=\"sk-toggleable__label sk-toggleable__label-arrow\">pass</label><div class=\"sk-toggleable__content\"><pre>[&#x27;Rate&#x27;, &#x27;Car_Type_N&#x27;, &#x27;Car_Type_R&#x27;, &#x27;Car_Type_U&#x27;]</pre></div></div></div><div class=\"sk-serial\"><div class=\"sk-item\"><div class=\"sk-estimator sk-toggleable\"><input class=\"sk-toggleable__control sk-hidden--visually\" id=\"sk-estimator-id-9\" type=\"checkbox\" ><label for=\"sk-estimator-id-9\" class=\"sk-toggleable__label sk-toggleable__label-arrow\">passthrough</label><div class=\"sk-toggleable__content\"><pre>passthrough</pre></div></div></div></div></div></div></div></div><div class=\"sk-item\"><div class=\"sk-estimator sk-toggleable\"><input class=\"sk-toggleable__control sk-hidden--visually\" id=\"sk-estimator-id-10\" type=\"checkbox\" ><label for=\"sk-estimator-id-10\" class=\"sk-toggleable__label sk-toggleable__label-arrow\">LogisticRegression</label><div class=\"sk-toggleable__content\"><pre>LogisticRegression()</pre></div></div></div></div></div></div></div></div></div></div></div></div>"
      ],
      "text/plain": [
       "GridSearchCV(cv=10,\n",
       "             estimator=Pipeline(steps=[('preprocessing',\n",
       "                                        ColumnTransformer(transformers=[('mean_target',\n",
       "                                                                         TargetEncoder(cols=['Tier',\n",
       "                                                                                             'Partner '\n",
       "                                                                                             'Bin']),\n",
       "                                                                         ['Tier',\n",
       "                                                                          'Partner '\n",
       "                                                                          'Bin']),\n",
       "                                                                        ('scaling',\n",
       "                                                                         StandardScaler(),\n",
       "                                                                         ['FICO',\n",
       "                                                                          'Term',\n",
       "                                                                          'Amount',\n",
       "                                                                          'Previous_Rate',\n",
       "                                                                          'Competition_rate',\n",
       "                                                                          'Cost_Funds']),\n",
       "                                                                        ('pass',\n",
       "                                                                         'passthrough',\n",
       "                                                                         ['Rate',\n",
       "                                                                          'Car_Type_N',\n",
       "                                                                          'Car_Type_R',\n",
       "                                                                          'Car_Type_U'])...\n",
       "       1.00000000e-01, 3.16227766e-01, 1.00000000e+00, 3.16227766e+00,\n",
       "       1.00000000e+01, 3.16227766e+01, 1.00000000e+02, 3.16227766e+02,\n",
       "       1.00000000e+03, 3.16227766e+03, 1.00000000e+04, 3.16227766e+04,\n",
       "       1.00000000e+05, 3.16227766e+05, 1.00000000e+06]),\n",
       "                         'model__max_iter': [100000], 'model__penalty': ['l2'],\n",
       "                         'model__random_state': [19],\n",
       "                         'model__solver': ['newton-cg', 'lbfgs', 'liblinear',\n",
       "                                           'sag', 'saga']},\n",
       "             scoring='roc_auc')"
      ]
     },
     "execution_count": 9,
     "metadata": {},
     "output_type": "execute_result"
    }
   ],
   "source": [
    "%%time\n",
    "\n",
    "logreg_l2_params = {\n",
    "    'model__C': np.logspace(-5, 6, 23),\n",
    "    'model__penalty': ['l2'],\n",
    "    'model__solver': ['newton-cg', 'lbfgs', 'liblinear', 'sag', 'saga'],\n",
    "    'model__max_iter': [10**5],\n",
    "    'model__random_state': [19]\n",
    "}\n",
    "\n",
    "searcher_l2 = GridSearchCV(\n",
    "    pipeline_mean_target, \n",
    "    param_grid=logreg_l2_params,\n",
    "    scoring='roc_auc',\n",
    "    cv=10,\n",
    "    n_jobs=-1\n",
    ")\n",
    "\n",
    "searcher_l2.fit(X_train, y_train)"
   ]
  },
  {
   "cell_type": "code",
   "execution_count": 10,
   "metadata": {
    "execution": {
     "iopub.execute_input": "2023-03-20T11:56:01.231021Z",
     "iopub.status.busy": "2023-03-20T11:56:01.230555Z",
     "iopub.status.idle": "2023-03-20T11:56:01.236620Z",
     "shell.execute_reply": "2023-03-20T11:56:01.235744Z",
     "shell.execute_reply.started": "2023-03-20T11:56:01.230810Z"
    },
    "tags": []
   },
   "outputs": [
    {
     "data": {
      "text/plain": [
       "(0.8488575934745797,\n",
       " {'model__C': 31622.776601683792,\n",
       "  'model__max_iter': 100000,\n",
       "  'model__penalty': 'l2',\n",
       "  'model__random_state': 19,\n",
       "  'model__solver': 'liblinear'})"
      ]
     },
     "execution_count": 10,
     "metadata": {},
     "output_type": "execute_result"
    }
   ],
   "source": [
    "searcher_l2.best_score_, searcher_l2.best_params_"
   ]
  },
  {
   "cell_type": "code",
   "execution_count": 11,
   "metadata": {
    "execution": {
     "iopub.execute_input": "2023-03-20T11:56:01.238109Z",
     "iopub.status.busy": "2023-03-20T11:56:01.237866Z",
     "iopub.status.idle": "2023-03-20T12:02:35.728399Z",
     "shell.execute_reply": "2023-03-20T12:02:35.727641Z",
     "shell.execute_reply.started": "2023-03-20T11:56:01.238055Z"
    },
    "tags": []
   },
   "outputs": [
    {
     "name": "stdout",
     "output_type": "stream",
     "text": [
      "CPU times: user 10.2 s, sys: 2.03 s, total: 12.3 s\n",
      "Wall time: 4min 47s\n"
     ]
    },
    {
     "data": {
      "text/html": [
       "<style>#sk-container-id-2 {color: black;background-color: white;}#sk-container-id-2 pre{padding: 0;}#sk-container-id-2 div.sk-toggleable {background-color: white;}#sk-container-id-2 label.sk-toggleable__label {cursor: pointer;display: block;width: 100%;margin-bottom: 0;padding: 0.3em;box-sizing: border-box;text-align: center;}#sk-container-id-2 label.sk-toggleable__label-arrow:before {content: \"▸\";float: left;margin-right: 0.25em;color: #696969;}#sk-container-id-2 label.sk-toggleable__label-arrow:hover:before {color: black;}#sk-container-id-2 div.sk-estimator:hover label.sk-toggleable__label-arrow:before {color: black;}#sk-container-id-2 div.sk-toggleable__content {max-height: 0;max-width: 0;overflow: hidden;text-align: left;background-color: #f0f8ff;}#sk-container-id-2 div.sk-toggleable__content pre {margin: 0.2em;color: black;border-radius: 0.25em;background-color: #f0f8ff;}#sk-container-id-2 input.sk-toggleable__control:checked~div.sk-toggleable__content {max-height: 200px;max-width: 100%;overflow: auto;}#sk-container-id-2 input.sk-toggleable__control:checked~label.sk-toggleable__label-arrow:before {content: \"▾\";}#sk-container-id-2 div.sk-estimator input.sk-toggleable__control:checked~label.sk-toggleable__label {background-color: #d4ebff;}#sk-container-id-2 div.sk-label input.sk-toggleable__control:checked~label.sk-toggleable__label {background-color: #d4ebff;}#sk-container-id-2 input.sk-hidden--visually {border: 0;clip: rect(1px 1px 1px 1px);clip: rect(1px, 1px, 1px, 1px);height: 1px;margin: -1px;overflow: hidden;padding: 0;position: absolute;width: 1px;}#sk-container-id-2 div.sk-estimator {font-family: monospace;background-color: #f0f8ff;border: 1px dotted black;border-radius: 0.25em;box-sizing: border-box;margin-bottom: 0.5em;}#sk-container-id-2 div.sk-estimator:hover {background-color: #d4ebff;}#sk-container-id-2 div.sk-parallel-item::after {content: \"\";width: 100%;border-bottom: 1px solid gray;flex-grow: 1;}#sk-container-id-2 div.sk-label:hover label.sk-toggleable__label {background-color: #d4ebff;}#sk-container-id-2 div.sk-serial::before {content: \"\";position: absolute;border-left: 1px solid gray;box-sizing: border-box;top: 0;bottom: 0;left: 50%;z-index: 0;}#sk-container-id-2 div.sk-serial {display: flex;flex-direction: column;align-items: center;background-color: white;padding-right: 0.2em;padding-left: 0.2em;position: relative;}#sk-container-id-2 div.sk-item {position: relative;z-index: 1;}#sk-container-id-2 div.sk-parallel {display: flex;align-items: stretch;justify-content: center;background-color: white;position: relative;}#sk-container-id-2 div.sk-item::before, #sk-container-id-2 div.sk-parallel-item::before {content: \"\";position: absolute;border-left: 1px solid gray;box-sizing: border-box;top: 0;bottom: 0;left: 50%;z-index: -1;}#sk-container-id-2 div.sk-parallel-item {display: flex;flex-direction: column;z-index: 1;position: relative;background-color: white;}#sk-container-id-2 div.sk-parallel-item:first-child::after {align-self: flex-end;width: 50%;}#sk-container-id-2 div.sk-parallel-item:last-child::after {align-self: flex-start;width: 50%;}#sk-container-id-2 div.sk-parallel-item:only-child::after {width: 0;}#sk-container-id-2 div.sk-dashed-wrapped {border: 1px dashed gray;margin: 0 0.4em 0.5em 0.4em;box-sizing: border-box;padding-bottom: 0.4em;background-color: white;}#sk-container-id-2 div.sk-label label {font-family: monospace;font-weight: bold;display: inline-block;line-height: 1.2em;}#sk-container-id-2 div.sk-label-container {text-align: center;}#sk-container-id-2 div.sk-container {/* jupyter's `normalize.less` sets `[hidden] { display: none; }` but bootstrap.min.css set `[hidden] { display: none !important; }` so we also need the `!important` here to be able to override the default hidden behavior on the sphinx rendered scikit-learn.org. See: https://github.com/scikit-learn/scikit-learn/issues/21755 */display: inline-block !important;position: relative;}#sk-container-id-2 div.sk-text-repr-fallback {display: none;}</style><div id=\"sk-container-id-2\" class=\"sk-top-container\"><div class=\"sk-text-repr-fallback\"><pre>GridSearchCV(cv=10,\n",
       "             estimator=Pipeline(steps=[(&#x27;preprocessing&#x27;,\n",
       "                                        ColumnTransformer(transformers=[(&#x27;mean_target&#x27;,\n",
       "                                                                         TargetEncoder(cols=[&#x27;Tier&#x27;,\n",
       "                                                                                             &#x27;Partner &#x27;\n",
       "                                                                                             &#x27;Bin&#x27;]),\n",
       "                                                                         [&#x27;Tier&#x27;,\n",
       "                                                                          &#x27;Partner &#x27;\n",
       "                                                                          &#x27;Bin&#x27;]),\n",
       "                                                                        (&#x27;scaling&#x27;,\n",
       "                                                                         StandardScaler(),\n",
       "                                                                         [&#x27;FICO&#x27;,\n",
       "                                                                          &#x27;Term&#x27;,\n",
       "                                                                          &#x27;Amount&#x27;,\n",
       "                                                                          &#x27;Previous_Rate&#x27;,\n",
       "                                                                          &#x27;Competition_rate&#x27;,\n",
       "                                                                          &#x27;Cost_Funds&#x27;]),\n",
       "                                                                        (&#x27;pass&#x27;,\n",
       "                                                                         &#x27;passthrough&#x27;,\n",
       "                                                                         [&#x27;Rate&#x27;,\n",
       "                                                                          &#x27;Car_Type_N&#x27;,\n",
       "                                                                          &#x27;Car_Type_R&#x27;,\n",
       "                                                                          &#x27;Car_Type_U&#x27;])...\n",
       "       1.00000000e-01, 3.16227766e-01, 1.00000000e+00, 3.16227766e+00,\n",
       "       1.00000000e+01, 3.16227766e+01, 1.00000000e+02, 3.16227766e+02,\n",
       "       1.00000000e+03, 3.16227766e+03, 1.00000000e+04, 3.16227766e+04,\n",
       "       1.00000000e+05, 3.16227766e+05, 1.00000000e+06]),\n",
       "                         &#x27;model__max_iter&#x27;: [100000], &#x27;model__penalty&#x27;: [&#x27;l1&#x27;],\n",
       "                         &#x27;model__random_state&#x27;: [19],\n",
       "                         &#x27;model__solver&#x27;: [&#x27;liblinear&#x27;, &#x27;saga&#x27;]},\n",
       "             scoring=&#x27;roc_auc&#x27;)</pre><b>In a Jupyter environment, please rerun this cell to show the HTML representation or trust the notebook. <br />On GitHub, the HTML representation is unable to render, please try loading this page with nbviewer.org.</b></div><div class=\"sk-container\" hidden><div class=\"sk-item sk-dashed-wrapped\"><div class=\"sk-label-container\"><div class=\"sk-label sk-toggleable\"><input class=\"sk-toggleable__control sk-hidden--visually\" id=\"sk-estimator-id-11\" type=\"checkbox\" ><label for=\"sk-estimator-id-11\" class=\"sk-toggleable__label sk-toggleable__label-arrow\">GridSearchCV</label><div class=\"sk-toggleable__content\"><pre>GridSearchCV(cv=10,\n",
       "             estimator=Pipeline(steps=[(&#x27;preprocessing&#x27;,\n",
       "                                        ColumnTransformer(transformers=[(&#x27;mean_target&#x27;,\n",
       "                                                                         TargetEncoder(cols=[&#x27;Tier&#x27;,\n",
       "                                                                                             &#x27;Partner &#x27;\n",
       "                                                                                             &#x27;Bin&#x27;]),\n",
       "                                                                         [&#x27;Tier&#x27;,\n",
       "                                                                          &#x27;Partner &#x27;\n",
       "                                                                          &#x27;Bin&#x27;]),\n",
       "                                                                        (&#x27;scaling&#x27;,\n",
       "                                                                         StandardScaler(),\n",
       "                                                                         [&#x27;FICO&#x27;,\n",
       "                                                                          &#x27;Term&#x27;,\n",
       "                                                                          &#x27;Amount&#x27;,\n",
       "                                                                          &#x27;Previous_Rate&#x27;,\n",
       "                                                                          &#x27;Competition_rate&#x27;,\n",
       "                                                                          &#x27;Cost_Funds&#x27;]),\n",
       "                                                                        (&#x27;pass&#x27;,\n",
       "                                                                         &#x27;passthrough&#x27;,\n",
       "                                                                         [&#x27;Rate&#x27;,\n",
       "                                                                          &#x27;Car_Type_N&#x27;,\n",
       "                                                                          &#x27;Car_Type_R&#x27;,\n",
       "                                                                          &#x27;Car_Type_U&#x27;])...\n",
       "       1.00000000e-01, 3.16227766e-01, 1.00000000e+00, 3.16227766e+00,\n",
       "       1.00000000e+01, 3.16227766e+01, 1.00000000e+02, 3.16227766e+02,\n",
       "       1.00000000e+03, 3.16227766e+03, 1.00000000e+04, 3.16227766e+04,\n",
       "       1.00000000e+05, 3.16227766e+05, 1.00000000e+06]),\n",
       "                         &#x27;model__max_iter&#x27;: [100000], &#x27;model__penalty&#x27;: [&#x27;l1&#x27;],\n",
       "                         &#x27;model__random_state&#x27;: [19],\n",
       "                         &#x27;model__solver&#x27;: [&#x27;liblinear&#x27;, &#x27;saga&#x27;]},\n",
       "             scoring=&#x27;roc_auc&#x27;)</pre></div></div></div><div class=\"sk-parallel\"><div class=\"sk-parallel-item\"><div class=\"sk-item\"><div class=\"sk-label-container\"><div class=\"sk-label sk-toggleable\"><input class=\"sk-toggleable__control sk-hidden--visually\" id=\"sk-estimator-id-12\" type=\"checkbox\" ><label for=\"sk-estimator-id-12\" class=\"sk-toggleable__label sk-toggleable__label-arrow\">estimator: Pipeline</label><div class=\"sk-toggleable__content\"><pre>Pipeline(steps=[(&#x27;preprocessing&#x27;,\n",
       "                 ColumnTransformer(transformers=[(&#x27;mean_target&#x27;,\n",
       "                                                  TargetEncoder(cols=[&#x27;Tier&#x27;,\n",
       "                                                                      &#x27;Partner &#x27;\n",
       "                                                                      &#x27;Bin&#x27;]),\n",
       "                                                  [&#x27;Tier&#x27;, &#x27;Partner Bin&#x27;]),\n",
       "                                                 (&#x27;scaling&#x27;, StandardScaler(),\n",
       "                                                  [&#x27;FICO&#x27;, &#x27;Term&#x27;, &#x27;Amount&#x27;,\n",
       "                                                   &#x27;Previous_Rate&#x27;,\n",
       "                                                   &#x27;Competition_rate&#x27;,\n",
       "                                                   &#x27;Cost_Funds&#x27;]),\n",
       "                                                 (&#x27;pass&#x27;, &#x27;passthrough&#x27;,\n",
       "                                                  [&#x27;Rate&#x27;, &#x27;Car_Type_N&#x27;,\n",
       "                                                   &#x27;Car_Type_R&#x27;,\n",
       "                                                   &#x27;Car_Type_U&#x27;])])),\n",
       "                (&#x27;model&#x27;, LogisticRegression())])</pre></div></div></div><div class=\"sk-serial\"><div class=\"sk-item\"><div class=\"sk-serial\"><div class=\"sk-item sk-dashed-wrapped\"><div class=\"sk-label-container\"><div class=\"sk-label sk-toggleable\"><input class=\"sk-toggleable__control sk-hidden--visually\" id=\"sk-estimator-id-13\" type=\"checkbox\" ><label for=\"sk-estimator-id-13\" class=\"sk-toggleable__label sk-toggleable__label-arrow\">preprocessing: ColumnTransformer</label><div class=\"sk-toggleable__content\"><pre>ColumnTransformer(transformers=[(&#x27;mean_target&#x27;,\n",
       "                                 TargetEncoder(cols=[&#x27;Tier&#x27;, &#x27;Partner Bin&#x27;]),\n",
       "                                 [&#x27;Tier&#x27;, &#x27;Partner Bin&#x27;]),\n",
       "                                (&#x27;scaling&#x27;, StandardScaler(),\n",
       "                                 [&#x27;FICO&#x27;, &#x27;Term&#x27;, &#x27;Amount&#x27;, &#x27;Previous_Rate&#x27;,\n",
       "                                  &#x27;Competition_rate&#x27;, &#x27;Cost_Funds&#x27;]),\n",
       "                                (&#x27;pass&#x27;, &#x27;passthrough&#x27;,\n",
       "                                 [&#x27;Rate&#x27;, &#x27;Car_Type_N&#x27;, &#x27;Car_Type_R&#x27;,\n",
       "                                  &#x27;Car_Type_U&#x27;])])</pre></div></div></div><div class=\"sk-parallel\"><div class=\"sk-parallel-item\"><div class=\"sk-item\"><div class=\"sk-label-container\"><div class=\"sk-label sk-toggleable\"><input class=\"sk-toggleable__control sk-hidden--visually\" id=\"sk-estimator-id-14\" type=\"checkbox\" ><label for=\"sk-estimator-id-14\" class=\"sk-toggleable__label sk-toggleable__label-arrow\">mean_target</label><div class=\"sk-toggleable__content\"><pre>[&#x27;Tier&#x27;, &#x27;Partner Bin&#x27;]</pre></div></div></div><div class=\"sk-serial\"><div class=\"sk-item\"><div class=\"sk-estimator sk-toggleable\"><input class=\"sk-toggleable__control sk-hidden--visually\" id=\"sk-estimator-id-15\" type=\"checkbox\" ><label for=\"sk-estimator-id-15\" class=\"sk-toggleable__label sk-toggleable__label-arrow\">TargetEncoder</label><div class=\"sk-toggleable__content\"><pre>TargetEncoder(cols=[&#x27;Tier&#x27;, &#x27;Partner Bin&#x27;])</pre></div></div></div></div></div></div><div class=\"sk-parallel-item\"><div class=\"sk-item\"><div class=\"sk-label-container\"><div class=\"sk-label sk-toggleable\"><input class=\"sk-toggleable__control sk-hidden--visually\" id=\"sk-estimator-id-16\" type=\"checkbox\" ><label for=\"sk-estimator-id-16\" class=\"sk-toggleable__label sk-toggleable__label-arrow\">scaling</label><div class=\"sk-toggleable__content\"><pre>[&#x27;FICO&#x27;, &#x27;Term&#x27;, &#x27;Amount&#x27;, &#x27;Previous_Rate&#x27;, &#x27;Competition_rate&#x27;, &#x27;Cost_Funds&#x27;]</pre></div></div></div><div class=\"sk-serial\"><div class=\"sk-item\"><div class=\"sk-estimator sk-toggleable\"><input class=\"sk-toggleable__control sk-hidden--visually\" id=\"sk-estimator-id-17\" type=\"checkbox\" ><label for=\"sk-estimator-id-17\" class=\"sk-toggleable__label sk-toggleable__label-arrow\">StandardScaler</label><div class=\"sk-toggleable__content\"><pre>StandardScaler()</pre></div></div></div></div></div></div><div class=\"sk-parallel-item\"><div class=\"sk-item\"><div class=\"sk-label-container\"><div class=\"sk-label sk-toggleable\"><input class=\"sk-toggleable__control sk-hidden--visually\" id=\"sk-estimator-id-18\" type=\"checkbox\" ><label for=\"sk-estimator-id-18\" class=\"sk-toggleable__label sk-toggleable__label-arrow\">pass</label><div class=\"sk-toggleable__content\"><pre>[&#x27;Rate&#x27;, &#x27;Car_Type_N&#x27;, &#x27;Car_Type_R&#x27;, &#x27;Car_Type_U&#x27;]</pre></div></div></div><div class=\"sk-serial\"><div class=\"sk-item\"><div class=\"sk-estimator sk-toggleable\"><input class=\"sk-toggleable__control sk-hidden--visually\" id=\"sk-estimator-id-19\" type=\"checkbox\" ><label for=\"sk-estimator-id-19\" class=\"sk-toggleable__label sk-toggleable__label-arrow\">passthrough</label><div class=\"sk-toggleable__content\"><pre>passthrough</pre></div></div></div></div></div></div></div></div><div class=\"sk-item\"><div class=\"sk-estimator sk-toggleable\"><input class=\"sk-toggleable__control sk-hidden--visually\" id=\"sk-estimator-id-20\" type=\"checkbox\" ><label for=\"sk-estimator-id-20\" class=\"sk-toggleable__label sk-toggleable__label-arrow\">LogisticRegression</label><div class=\"sk-toggleable__content\"><pre>LogisticRegression()</pre></div></div></div></div></div></div></div></div></div></div></div></div>"
      ],
      "text/plain": [
       "GridSearchCV(cv=10,\n",
       "             estimator=Pipeline(steps=[('preprocessing',\n",
       "                                        ColumnTransformer(transformers=[('mean_target',\n",
       "                                                                         TargetEncoder(cols=['Tier',\n",
       "                                                                                             'Partner '\n",
       "                                                                                             'Bin']),\n",
       "                                                                         ['Tier',\n",
       "                                                                          'Partner '\n",
       "                                                                          'Bin']),\n",
       "                                                                        ('scaling',\n",
       "                                                                         StandardScaler(),\n",
       "                                                                         ['FICO',\n",
       "                                                                          'Term',\n",
       "                                                                          'Amount',\n",
       "                                                                          'Previous_Rate',\n",
       "                                                                          'Competition_rate',\n",
       "                                                                          'Cost_Funds']),\n",
       "                                                                        ('pass',\n",
       "                                                                         'passthrough',\n",
       "                                                                         ['Rate',\n",
       "                                                                          'Car_Type_N',\n",
       "                                                                          'Car_Type_R',\n",
       "                                                                          'Car_Type_U'])...\n",
       "       1.00000000e-01, 3.16227766e-01, 1.00000000e+00, 3.16227766e+00,\n",
       "       1.00000000e+01, 3.16227766e+01, 1.00000000e+02, 3.16227766e+02,\n",
       "       1.00000000e+03, 3.16227766e+03, 1.00000000e+04, 3.16227766e+04,\n",
       "       1.00000000e+05, 3.16227766e+05, 1.00000000e+06]),\n",
       "                         'model__max_iter': [100000], 'model__penalty': ['l1'],\n",
       "                         'model__random_state': [19],\n",
       "                         'model__solver': ['liblinear', 'saga']},\n",
       "             scoring='roc_auc')"
      ]
     },
     "execution_count": 11,
     "metadata": {},
     "output_type": "execute_result"
    }
   ],
   "source": [
    "%%time\n",
    "\n",
    "logreg_l1_params = {\n",
    "    'model__C': np.logspace(-5, 6, 23),\n",
    "    'model__penalty': ['l1'],\n",
    "    'model__solver': ['liblinear', 'saga'],\n",
    "    'model__max_iter': [10**5],\n",
    "    'model__random_state': [19]\n",
    "}\n",
    "\n",
    "searcher_l1 = GridSearchCV(\n",
    "    pipeline_mean_target, \n",
    "    param_grid=logreg_l1_params,\n",
    "    scoring='roc_auc',\n",
    "    cv=10,\n",
    "    n_jobs=-1\n",
    ")\n",
    "\n",
    "searcher_l1.fit(X_train, y_train)"
   ]
  },
  {
   "cell_type": "code",
   "execution_count": 12,
   "metadata": {
    "execution": {
     "iopub.execute_input": "2023-03-20T12:02:35.730246Z",
     "iopub.status.busy": "2023-03-20T12:02:35.729928Z",
     "iopub.status.idle": "2023-03-20T12:02:35.736319Z",
     "shell.execute_reply": "2023-03-20T12:02:35.735569Z",
     "shell.execute_reply.started": "2023-03-20T12:02:35.730201Z"
    },
    "tags": []
   },
   "outputs": [
    {
     "data": {
      "text/plain": [
       "(0.8488555131793964,\n",
       " {'model__C': 1000.0,\n",
       "  'model__max_iter': 100000,\n",
       "  'model__penalty': 'l1',\n",
       "  'model__random_state': 19,\n",
       "  'model__solver': 'saga'})"
      ]
     },
     "execution_count": 12,
     "metadata": {},
     "output_type": "execute_result"
    }
   ],
   "source": [
    "searcher_l1.best_score_, searcher_l1.best_params_"
   ]
  },
  {
   "cell_type": "markdown",
   "metadata": {},
   "source": [
    "#### Обучение модели с лучшими параметрами:"
   ]
  },
  {
   "cell_type": "code",
   "execution_count": 13,
   "metadata": {
    "execution": {
     "iopub.execute_input": "2023-03-20T12:02:35.738148Z",
     "iopub.status.busy": "2023-03-20T12:02:35.737827Z",
     "iopub.status.idle": "2023-03-20T12:02:37.581677Z",
     "shell.execute_reply": "2023-03-20T12:02:37.580519Z",
     "shell.execute_reply.started": "2023-03-20T12:02:35.738099Z"
    },
    "tags": []
   },
   "outputs": [
    {
     "name": "stdout",
     "output_type": "stream",
     "text": [
      "Train ROC-AUC = 0.8490013595121106\n",
      "Valid ROC-AUC = 0.8452456509633011\n",
      "Test ROC-AUC = 0.8437384764762221\n"
     ]
    }
   ],
   "source": [
    "best_mt_l2 = searcher_l2.best_params_\n",
    "pipeline_mt_l2 = Pipeline(\n",
    "    steps=[\n",
    "        ('preprocessing', column_transformer_mean_target),\n",
    "        ('model', LogisticRegression(**{key[7:]: best_mt_l2[key] for key in best_mt_l2}))\n",
    "    ]\n",
    ")\n",
    "pipeline_mt_l2.fit(X_train, y_train)\n",
    "y_pred_train = pipeline_mt_l2.predict_proba(X_train)[:, 1]\n",
    "y_pred_valid = pipeline_mt_l2.predict_proba(X_valid)[:, 1]\n",
    "y_pred_test = pipeline_mt_l2.predict_proba(X_test)[:, 1]\n",
    "print(f'Train ROC-AUC = {roc_auc_score(y_train, y_pred_train)}')\n",
    "print(f'Valid ROC-AUC = {roc_auc_score(y_valid, y_pred_valid)}')\n",
    "print(f'Test ROC-AUC = {roc_auc_score(y_test, y_pred_test)}')"
   ]
  },
  {
   "cell_type": "code",
   "execution_count": 14,
   "metadata": {
    "execution": {
     "iopub.execute_input": "2023-03-20T12:02:37.582746Z",
     "iopub.status.busy": "2023-03-20T12:02:37.582552Z",
     "iopub.status.idle": "2023-03-20T12:02:50.522810Z",
     "shell.execute_reply": "2023-03-20T12:02:50.521527Z",
     "shell.execute_reply.started": "2023-03-20T12:02:37.582715Z"
    },
    "tags": []
   },
   "outputs": [
    {
     "name": "stdout",
     "output_type": "stream",
     "text": [
      "Train ROC-AUC = 0.8490001496585879\n",
      "Valid ROC-AUC = 0.8452455542962178\n",
      "Test ROC-AUC = 0.8437368601625848\n"
     ]
    }
   ],
   "source": [
    "best_mt_l1 = searcher_l1.best_params_\n",
    "pipeline_mt_l1 = Pipeline(\n",
    "    steps=[\n",
    "        ('preprocessing', column_transformer_mean_target),\n",
    "        ('model', LogisticRegression(**{key[7:]: best_mt_l1[key] for key in best_mt_l1}))\n",
    "    ]\n",
    ")\n",
    "pipeline_mt_l1.fit(X_train, y_train)\n",
    "y_pred_train = pipeline_mt_l1.predict_proba(X_train)[:, 1]\n",
    "y_pred_valid = pipeline_mt_l1.predict_proba(X_valid)[:, 1]\n",
    "y_pred_test = pipeline_mt_l1.predict_proba(X_test)[:, 1]\n",
    "print(f'Train ROC-AUC = {roc_auc_score(y_train, y_pred_train)}')\n",
    "print(f'Valid ROC-AUC = {roc_auc_score(y_valid, y_pred_valid)}')\n",
    "print(f'Test ROC-AUC = {roc_auc_score(y_test, y_pred_test)}')"
   ]
  },
  {
   "cell_type": "code",
   "execution_count": null,
   "metadata": {},
   "outputs": [],
   "source": []
  },
  {
   "cell_type": "markdown",
   "metadata": {},
   "source": [
    "### OHE:"
   ]
  },
  {
   "cell_type": "markdown",
   "metadata": {
    "execution": {
     "iopub.execute_input": "2023-01-20T12:20:09.349232Z",
     "iopub.status.busy": "2023-01-20T12:20:09.348745Z",
     "iopub.status.idle": "2023-01-20T12:20:09.353021Z",
     "shell.execute_reply": "2023-01-20T12:20:09.352205Z",
     "shell.execute_reply.started": "2023-01-20T12:20:09.349013Z"
    },
    "tags": []
   },
   "source": [
    "#### Подбор гиперпараметров:"
   ]
  },
  {
   "cell_type": "code",
   "execution_count": 15,
   "metadata": {
    "execution": {
     "iopub.execute_input": "2023-03-20T12:02:50.784754Z",
     "iopub.status.busy": "2023-03-20T12:02:50.784468Z",
     "iopub.status.idle": "2023-03-20T12:07:01.529310Z",
     "shell.execute_reply": "2023-03-20T12:07:01.528212Z",
     "shell.execute_reply.started": "2023-03-20T12:02:50.784708Z"
    },
    "tags": []
   },
   "outputs": [
    {
     "name": "stderr",
     "output_type": "stream",
     "text": [
      "/Users/vsglamazdin/opt/anaconda3/envs/notebookkernel/lib/python3.10/site-packages/scipy/optimize/_linesearch.py:416: LineSearchWarning: Rounding errors prevent the line search from converging\n",
      "  warn(msg, LineSearchWarning)\n",
      "/Users/vsglamazdin/opt/anaconda3/envs/notebookkernel/lib/python3.10/site-packages/scipy/optimize/_linesearch.py:306: LineSearchWarning: The line search algorithm did not converge\n",
      "  warn('The line search algorithm did not converge', LineSearchWarning)\n",
      "/Users/vsglamazdin/opt/anaconda3/envs/notebookkernel/lib/python3.10/site-packages/sklearn/utils/optimize.py:203: UserWarning: Line Search failed\n",
      "  warnings.warn(\"Line Search failed\")\n",
      "/Users/vsglamazdin/opt/anaconda3/envs/notebookkernel/lib/python3.10/site-packages/scipy/optimize/_linesearch.py:306: LineSearchWarning: The line search algorithm did not converge\n",
      "  warn('The line search algorithm did not converge', LineSearchWarning)\n",
      "/Users/vsglamazdin/opt/anaconda3/envs/notebookkernel/lib/python3.10/site-packages/sklearn/utils/optimize.py:203: UserWarning: Line Search failed\n",
      "  warnings.warn(\"Line Search failed\")\n",
      "/Users/vsglamazdin/opt/anaconda3/envs/notebookkernel/lib/python3.10/site-packages/scipy/optimize/_linesearch.py:306: LineSearchWarning: The line search algorithm did not converge\n",
      "  warn('The line search algorithm did not converge', LineSearchWarning)\n",
      "/Users/vsglamazdin/opt/anaconda3/envs/notebookkernel/lib/python3.10/site-packages/sklearn/utils/optimize.py:203: UserWarning: Line Search failed\n",
      "  warnings.warn(\"Line Search failed\")\n",
      "/Users/vsglamazdin/opt/anaconda3/envs/notebookkernel/lib/python3.10/site-packages/scipy/optimize/_linesearch.py:306: LineSearchWarning: The line search algorithm did not converge\n",
      "  warn('The line search algorithm did not converge', LineSearchWarning)\n",
      "/Users/vsglamazdin/opt/anaconda3/envs/notebookkernel/lib/python3.10/site-packages/sklearn/utils/optimize.py:203: UserWarning: Line Search failed\n",
      "  warnings.warn(\"Line Search failed\")\n",
      "/Users/vsglamazdin/opt/anaconda3/envs/notebookkernel/lib/python3.10/site-packages/scipy/optimize/_linesearch.py:306: LineSearchWarning: The line search algorithm did not converge\n",
      "  warn('The line search algorithm did not converge', LineSearchWarning)\n",
      "/Users/vsglamazdin/opt/anaconda3/envs/notebookkernel/lib/python3.10/site-packages/sklearn/utils/optimize.py:203: UserWarning: Line Search failed\n",
      "  warnings.warn(\"Line Search failed\")\n",
      "/Users/vsglamazdin/opt/anaconda3/envs/notebookkernel/lib/python3.10/site-packages/scipy/optimize/_linesearch.py:306: LineSearchWarning: The line search algorithm did not converge\n",
      "  warn('The line search algorithm did not converge', LineSearchWarning)\n",
      "/Users/vsglamazdin/opt/anaconda3/envs/notebookkernel/lib/python3.10/site-packages/sklearn/utils/optimize.py:203: UserWarning: Line Search failed\n",
      "  warnings.warn(\"Line Search failed\")\n",
      "/Users/vsglamazdin/opt/anaconda3/envs/notebookkernel/lib/python3.10/site-packages/scipy/optimize/_linesearch.py:306: LineSearchWarning: The line search algorithm did not converge\n",
      "  warn('The line search algorithm did not converge', LineSearchWarning)\n",
      "/Users/vsglamazdin/opt/anaconda3/envs/notebookkernel/lib/python3.10/site-packages/sklearn/utils/optimize.py:203: UserWarning: Line Search failed\n",
      "  warnings.warn(\"Line Search failed\")\n",
      "/Users/vsglamazdin/opt/anaconda3/envs/notebookkernel/lib/python3.10/site-packages/scipy/optimize/_linesearch.py:306: LineSearchWarning: The line search algorithm did not converge\n",
      "  warn('The line search algorithm did not converge', LineSearchWarning)\n",
      "/Users/vsglamazdin/opt/anaconda3/envs/notebookkernel/lib/python3.10/site-packages/sklearn/utils/optimize.py:203: UserWarning: Line Search failed\n",
      "  warnings.warn(\"Line Search failed\")\n",
      "/Users/vsglamazdin/opt/anaconda3/envs/notebookkernel/lib/python3.10/site-packages/scipy/optimize/_linesearch.py:306: LineSearchWarning: The line search algorithm did not converge\n",
      "  warn('The line search algorithm did not converge', LineSearchWarning)\n",
      "/Users/vsglamazdin/opt/anaconda3/envs/notebookkernel/lib/python3.10/site-packages/sklearn/utils/optimize.py:203: UserWarning: Line Search failed\n",
      "  warnings.warn(\"Line Search failed\")\n"
     ]
    },
    {
     "name": "stdout",
     "output_type": "stream",
     "text": [
      "CPU times: user 5.51 s, sys: 7.29 s, total: 12.8 s\n",
      "Wall time: 2min 26s\n"
     ]
    },
    {
     "data": {
      "text/html": [
       "<style>#sk-container-id-3 {color: black;background-color: white;}#sk-container-id-3 pre{padding: 0;}#sk-container-id-3 div.sk-toggleable {background-color: white;}#sk-container-id-3 label.sk-toggleable__label {cursor: pointer;display: block;width: 100%;margin-bottom: 0;padding: 0.3em;box-sizing: border-box;text-align: center;}#sk-container-id-3 label.sk-toggleable__label-arrow:before {content: \"▸\";float: left;margin-right: 0.25em;color: #696969;}#sk-container-id-3 label.sk-toggleable__label-arrow:hover:before {color: black;}#sk-container-id-3 div.sk-estimator:hover label.sk-toggleable__label-arrow:before {color: black;}#sk-container-id-3 div.sk-toggleable__content {max-height: 0;max-width: 0;overflow: hidden;text-align: left;background-color: #f0f8ff;}#sk-container-id-3 div.sk-toggleable__content pre {margin: 0.2em;color: black;border-radius: 0.25em;background-color: #f0f8ff;}#sk-container-id-3 input.sk-toggleable__control:checked~div.sk-toggleable__content {max-height: 200px;max-width: 100%;overflow: auto;}#sk-container-id-3 input.sk-toggleable__control:checked~label.sk-toggleable__label-arrow:before {content: \"▾\";}#sk-container-id-3 div.sk-estimator input.sk-toggleable__control:checked~label.sk-toggleable__label {background-color: #d4ebff;}#sk-container-id-3 div.sk-label input.sk-toggleable__control:checked~label.sk-toggleable__label {background-color: #d4ebff;}#sk-container-id-3 input.sk-hidden--visually {border: 0;clip: rect(1px 1px 1px 1px);clip: rect(1px, 1px, 1px, 1px);height: 1px;margin: -1px;overflow: hidden;padding: 0;position: absolute;width: 1px;}#sk-container-id-3 div.sk-estimator {font-family: monospace;background-color: #f0f8ff;border: 1px dotted black;border-radius: 0.25em;box-sizing: border-box;margin-bottom: 0.5em;}#sk-container-id-3 div.sk-estimator:hover {background-color: #d4ebff;}#sk-container-id-3 div.sk-parallel-item::after {content: \"\";width: 100%;border-bottom: 1px solid gray;flex-grow: 1;}#sk-container-id-3 div.sk-label:hover label.sk-toggleable__label {background-color: #d4ebff;}#sk-container-id-3 div.sk-serial::before {content: \"\";position: absolute;border-left: 1px solid gray;box-sizing: border-box;top: 0;bottom: 0;left: 50%;z-index: 0;}#sk-container-id-3 div.sk-serial {display: flex;flex-direction: column;align-items: center;background-color: white;padding-right: 0.2em;padding-left: 0.2em;position: relative;}#sk-container-id-3 div.sk-item {position: relative;z-index: 1;}#sk-container-id-3 div.sk-parallel {display: flex;align-items: stretch;justify-content: center;background-color: white;position: relative;}#sk-container-id-3 div.sk-item::before, #sk-container-id-3 div.sk-parallel-item::before {content: \"\";position: absolute;border-left: 1px solid gray;box-sizing: border-box;top: 0;bottom: 0;left: 50%;z-index: -1;}#sk-container-id-3 div.sk-parallel-item {display: flex;flex-direction: column;z-index: 1;position: relative;background-color: white;}#sk-container-id-3 div.sk-parallel-item:first-child::after {align-self: flex-end;width: 50%;}#sk-container-id-3 div.sk-parallel-item:last-child::after {align-self: flex-start;width: 50%;}#sk-container-id-3 div.sk-parallel-item:only-child::after {width: 0;}#sk-container-id-3 div.sk-dashed-wrapped {border: 1px dashed gray;margin: 0 0.4em 0.5em 0.4em;box-sizing: border-box;padding-bottom: 0.4em;background-color: white;}#sk-container-id-3 div.sk-label label {font-family: monospace;font-weight: bold;display: inline-block;line-height: 1.2em;}#sk-container-id-3 div.sk-label-container {text-align: center;}#sk-container-id-3 div.sk-container {/* jupyter's `normalize.less` sets `[hidden] { display: none; }` but bootstrap.min.css set `[hidden] { display: none !important; }` so we also need the `!important` here to be able to override the default hidden behavior on the sphinx rendered scikit-learn.org. See: https://github.com/scikit-learn/scikit-learn/issues/21755 */display: inline-block !important;position: relative;}#sk-container-id-3 div.sk-text-repr-fallback {display: none;}</style><div id=\"sk-container-id-3\" class=\"sk-top-container\"><div class=\"sk-text-repr-fallback\"><pre>GridSearchCV(cv=10,\n",
       "             estimator=Pipeline(steps=[(&#x27;preprocessing&#x27;,\n",
       "                                        ColumnTransformer(transformers=[(&#x27;ohe&#x27;,\n",
       "                                                                         OneHotEncoder(handle_unknown=&#x27;ignore&#x27;),\n",
       "                                                                         [&#x27;Tier&#x27;,\n",
       "                                                                          &#x27;Partner &#x27;\n",
       "                                                                          &#x27;Bin&#x27;]),\n",
       "                                                                        (&#x27;scaling&#x27;,\n",
       "                                                                         StandardScaler(),\n",
       "                                                                         [&#x27;FICO&#x27;,\n",
       "                                                                          &#x27;Term&#x27;,\n",
       "                                                                          &#x27;Amount&#x27;,\n",
       "                                                                          &#x27;Previous_Rate&#x27;,\n",
       "                                                                          &#x27;Competition_rate&#x27;,\n",
       "                                                                          &#x27;Cost_Funds&#x27;]),\n",
       "                                                                        (&#x27;pass&#x27;,\n",
       "                                                                         &#x27;passthrough&#x27;,\n",
       "                                                                         [&#x27;Rate&#x27;,\n",
       "                                                                          &#x27;Car_Type_N&#x27;,\n",
       "                                                                          &#x27;Car_Type_R&#x27;,\n",
       "                                                                          &#x27;Car_Type_U&#x27;])])),\n",
       "                                       (&#x27;model&#x27;,...\n",
       "       1.00000000e-01, 3.16227766e-01, 1.00000000e+00, 3.16227766e+00,\n",
       "       1.00000000e+01, 3.16227766e+01, 1.00000000e+02, 3.16227766e+02,\n",
       "       1.00000000e+03, 3.16227766e+03, 1.00000000e+04, 3.16227766e+04,\n",
       "       1.00000000e+05, 3.16227766e+05, 1.00000000e+06]),\n",
       "                         &#x27;model__max_iter&#x27;: [100000], &#x27;model__penalty&#x27;: [&#x27;l2&#x27;],\n",
       "                         &#x27;model__random_state&#x27;: [19],\n",
       "                         &#x27;model__solver&#x27;: [&#x27;newton-cg&#x27;, &#x27;lbfgs&#x27;, &#x27;liblinear&#x27;,\n",
       "                                           &#x27;sag&#x27;, &#x27;saga&#x27;]},\n",
       "             scoring=&#x27;roc_auc&#x27;)</pre><b>In a Jupyter environment, please rerun this cell to show the HTML representation or trust the notebook. <br />On GitHub, the HTML representation is unable to render, please try loading this page with nbviewer.org.</b></div><div class=\"sk-container\" hidden><div class=\"sk-item sk-dashed-wrapped\"><div class=\"sk-label-container\"><div class=\"sk-label sk-toggleable\"><input class=\"sk-toggleable__control sk-hidden--visually\" id=\"sk-estimator-id-21\" type=\"checkbox\" ><label for=\"sk-estimator-id-21\" class=\"sk-toggleable__label sk-toggleable__label-arrow\">GridSearchCV</label><div class=\"sk-toggleable__content\"><pre>GridSearchCV(cv=10,\n",
       "             estimator=Pipeline(steps=[(&#x27;preprocessing&#x27;,\n",
       "                                        ColumnTransformer(transformers=[(&#x27;ohe&#x27;,\n",
       "                                                                         OneHotEncoder(handle_unknown=&#x27;ignore&#x27;),\n",
       "                                                                         [&#x27;Tier&#x27;,\n",
       "                                                                          &#x27;Partner &#x27;\n",
       "                                                                          &#x27;Bin&#x27;]),\n",
       "                                                                        (&#x27;scaling&#x27;,\n",
       "                                                                         StandardScaler(),\n",
       "                                                                         [&#x27;FICO&#x27;,\n",
       "                                                                          &#x27;Term&#x27;,\n",
       "                                                                          &#x27;Amount&#x27;,\n",
       "                                                                          &#x27;Previous_Rate&#x27;,\n",
       "                                                                          &#x27;Competition_rate&#x27;,\n",
       "                                                                          &#x27;Cost_Funds&#x27;]),\n",
       "                                                                        (&#x27;pass&#x27;,\n",
       "                                                                         &#x27;passthrough&#x27;,\n",
       "                                                                         [&#x27;Rate&#x27;,\n",
       "                                                                          &#x27;Car_Type_N&#x27;,\n",
       "                                                                          &#x27;Car_Type_R&#x27;,\n",
       "                                                                          &#x27;Car_Type_U&#x27;])])),\n",
       "                                       (&#x27;model&#x27;,...\n",
       "       1.00000000e-01, 3.16227766e-01, 1.00000000e+00, 3.16227766e+00,\n",
       "       1.00000000e+01, 3.16227766e+01, 1.00000000e+02, 3.16227766e+02,\n",
       "       1.00000000e+03, 3.16227766e+03, 1.00000000e+04, 3.16227766e+04,\n",
       "       1.00000000e+05, 3.16227766e+05, 1.00000000e+06]),\n",
       "                         &#x27;model__max_iter&#x27;: [100000], &#x27;model__penalty&#x27;: [&#x27;l2&#x27;],\n",
       "                         &#x27;model__random_state&#x27;: [19],\n",
       "                         &#x27;model__solver&#x27;: [&#x27;newton-cg&#x27;, &#x27;lbfgs&#x27;, &#x27;liblinear&#x27;,\n",
       "                                           &#x27;sag&#x27;, &#x27;saga&#x27;]},\n",
       "             scoring=&#x27;roc_auc&#x27;)</pre></div></div></div><div class=\"sk-parallel\"><div class=\"sk-parallel-item\"><div class=\"sk-item\"><div class=\"sk-label-container\"><div class=\"sk-label sk-toggleable\"><input class=\"sk-toggleable__control sk-hidden--visually\" id=\"sk-estimator-id-22\" type=\"checkbox\" ><label for=\"sk-estimator-id-22\" class=\"sk-toggleable__label sk-toggleable__label-arrow\">estimator: Pipeline</label><div class=\"sk-toggleable__content\"><pre>Pipeline(steps=[(&#x27;preprocessing&#x27;,\n",
       "                 ColumnTransformer(transformers=[(&#x27;ohe&#x27;,\n",
       "                                                  OneHotEncoder(handle_unknown=&#x27;ignore&#x27;),\n",
       "                                                  [&#x27;Tier&#x27;, &#x27;Partner Bin&#x27;]),\n",
       "                                                 (&#x27;scaling&#x27;, StandardScaler(),\n",
       "                                                  [&#x27;FICO&#x27;, &#x27;Term&#x27;, &#x27;Amount&#x27;,\n",
       "                                                   &#x27;Previous_Rate&#x27;,\n",
       "                                                   &#x27;Competition_rate&#x27;,\n",
       "                                                   &#x27;Cost_Funds&#x27;]),\n",
       "                                                 (&#x27;pass&#x27;, &#x27;passthrough&#x27;,\n",
       "                                                  [&#x27;Rate&#x27;, &#x27;Car_Type_N&#x27;,\n",
       "                                                   &#x27;Car_Type_R&#x27;,\n",
       "                                                   &#x27;Car_Type_U&#x27;])])),\n",
       "                (&#x27;model&#x27;, LogisticRegression())])</pre></div></div></div><div class=\"sk-serial\"><div class=\"sk-item\"><div class=\"sk-serial\"><div class=\"sk-item sk-dashed-wrapped\"><div class=\"sk-label-container\"><div class=\"sk-label sk-toggleable\"><input class=\"sk-toggleable__control sk-hidden--visually\" id=\"sk-estimator-id-23\" type=\"checkbox\" ><label for=\"sk-estimator-id-23\" class=\"sk-toggleable__label sk-toggleable__label-arrow\">preprocessing: ColumnTransformer</label><div class=\"sk-toggleable__content\"><pre>ColumnTransformer(transformers=[(&#x27;ohe&#x27;, OneHotEncoder(handle_unknown=&#x27;ignore&#x27;),\n",
       "                                 [&#x27;Tier&#x27;, &#x27;Partner Bin&#x27;]),\n",
       "                                (&#x27;scaling&#x27;, StandardScaler(),\n",
       "                                 [&#x27;FICO&#x27;, &#x27;Term&#x27;, &#x27;Amount&#x27;, &#x27;Previous_Rate&#x27;,\n",
       "                                  &#x27;Competition_rate&#x27;, &#x27;Cost_Funds&#x27;]),\n",
       "                                (&#x27;pass&#x27;, &#x27;passthrough&#x27;,\n",
       "                                 [&#x27;Rate&#x27;, &#x27;Car_Type_N&#x27;, &#x27;Car_Type_R&#x27;,\n",
       "                                  &#x27;Car_Type_U&#x27;])])</pre></div></div></div><div class=\"sk-parallel\"><div class=\"sk-parallel-item\"><div class=\"sk-item\"><div class=\"sk-label-container\"><div class=\"sk-label sk-toggleable\"><input class=\"sk-toggleable__control sk-hidden--visually\" id=\"sk-estimator-id-24\" type=\"checkbox\" ><label for=\"sk-estimator-id-24\" class=\"sk-toggleable__label sk-toggleable__label-arrow\">ohe</label><div class=\"sk-toggleable__content\"><pre>[&#x27;Tier&#x27;, &#x27;Partner Bin&#x27;]</pre></div></div></div><div class=\"sk-serial\"><div class=\"sk-item\"><div class=\"sk-estimator sk-toggleable\"><input class=\"sk-toggleable__control sk-hidden--visually\" id=\"sk-estimator-id-25\" type=\"checkbox\" ><label for=\"sk-estimator-id-25\" class=\"sk-toggleable__label sk-toggleable__label-arrow\">OneHotEncoder</label><div class=\"sk-toggleable__content\"><pre>OneHotEncoder(handle_unknown=&#x27;ignore&#x27;)</pre></div></div></div></div></div></div><div class=\"sk-parallel-item\"><div class=\"sk-item\"><div class=\"sk-label-container\"><div class=\"sk-label sk-toggleable\"><input class=\"sk-toggleable__control sk-hidden--visually\" id=\"sk-estimator-id-26\" type=\"checkbox\" ><label for=\"sk-estimator-id-26\" class=\"sk-toggleable__label sk-toggleable__label-arrow\">scaling</label><div class=\"sk-toggleable__content\"><pre>[&#x27;FICO&#x27;, &#x27;Term&#x27;, &#x27;Amount&#x27;, &#x27;Previous_Rate&#x27;, &#x27;Competition_rate&#x27;, &#x27;Cost_Funds&#x27;]</pre></div></div></div><div class=\"sk-serial\"><div class=\"sk-item\"><div class=\"sk-estimator sk-toggleable\"><input class=\"sk-toggleable__control sk-hidden--visually\" id=\"sk-estimator-id-27\" type=\"checkbox\" ><label for=\"sk-estimator-id-27\" class=\"sk-toggleable__label sk-toggleable__label-arrow\">StandardScaler</label><div class=\"sk-toggleable__content\"><pre>StandardScaler()</pre></div></div></div></div></div></div><div class=\"sk-parallel-item\"><div class=\"sk-item\"><div class=\"sk-label-container\"><div class=\"sk-label sk-toggleable\"><input class=\"sk-toggleable__control sk-hidden--visually\" id=\"sk-estimator-id-28\" type=\"checkbox\" ><label for=\"sk-estimator-id-28\" class=\"sk-toggleable__label sk-toggleable__label-arrow\">pass</label><div class=\"sk-toggleable__content\"><pre>[&#x27;Rate&#x27;, &#x27;Car_Type_N&#x27;, &#x27;Car_Type_R&#x27;, &#x27;Car_Type_U&#x27;]</pre></div></div></div><div class=\"sk-serial\"><div class=\"sk-item\"><div class=\"sk-estimator sk-toggleable\"><input class=\"sk-toggleable__control sk-hidden--visually\" id=\"sk-estimator-id-29\" type=\"checkbox\" ><label for=\"sk-estimator-id-29\" class=\"sk-toggleable__label sk-toggleable__label-arrow\">passthrough</label><div class=\"sk-toggleable__content\"><pre>passthrough</pre></div></div></div></div></div></div></div></div><div class=\"sk-item\"><div class=\"sk-estimator sk-toggleable\"><input class=\"sk-toggleable__control sk-hidden--visually\" id=\"sk-estimator-id-30\" type=\"checkbox\" ><label for=\"sk-estimator-id-30\" class=\"sk-toggleable__label sk-toggleable__label-arrow\">LogisticRegression</label><div class=\"sk-toggleable__content\"><pre>LogisticRegression()</pre></div></div></div></div></div></div></div></div></div></div></div></div>"
      ],
      "text/plain": [
       "GridSearchCV(cv=10,\n",
       "             estimator=Pipeline(steps=[('preprocessing',\n",
       "                                        ColumnTransformer(transformers=[('ohe',\n",
       "                                                                         OneHotEncoder(handle_unknown='ignore'),\n",
       "                                                                         ['Tier',\n",
       "                                                                          'Partner '\n",
       "                                                                          'Bin']),\n",
       "                                                                        ('scaling',\n",
       "                                                                         StandardScaler(),\n",
       "                                                                         ['FICO',\n",
       "                                                                          'Term',\n",
       "                                                                          'Amount',\n",
       "                                                                          'Previous_Rate',\n",
       "                                                                          'Competition_rate',\n",
       "                                                                          'Cost_Funds']),\n",
       "                                                                        ('pass',\n",
       "                                                                         'passthrough',\n",
       "                                                                         ['Rate',\n",
       "                                                                          'Car_Type_N',\n",
       "                                                                          'Car_Type_R',\n",
       "                                                                          'Car_Type_U'])])),\n",
       "                                       ('model',...\n",
       "       1.00000000e-01, 3.16227766e-01, 1.00000000e+00, 3.16227766e+00,\n",
       "       1.00000000e+01, 3.16227766e+01, 1.00000000e+02, 3.16227766e+02,\n",
       "       1.00000000e+03, 3.16227766e+03, 1.00000000e+04, 3.16227766e+04,\n",
       "       1.00000000e+05, 3.16227766e+05, 1.00000000e+06]),\n",
       "                         'model__max_iter': [100000], 'model__penalty': ['l2'],\n",
       "                         'model__random_state': [19],\n",
       "                         'model__solver': ['newton-cg', 'lbfgs', 'liblinear',\n",
       "                                           'sag', 'saga']},\n",
       "             scoring='roc_auc')"
      ]
     },
     "execution_count": 15,
     "metadata": {},
     "output_type": "execute_result"
    }
   ],
   "source": [
    "%%time\n",
    "\n",
    "logreg_l2_params = {\n",
    "    'model__C': np.logspace(-5, 6, 23),\n",
    "    'model__penalty': ['l2'],\n",
    "    'model__solver': ['newton-cg', 'lbfgs', 'liblinear', 'sag', 'saga'],\n",
    "    'model__max_iter': [10**5],\n",
    "    'model__random_state': [19]\n",
    "}\n",
    "\n",
    "searcher_l2 = GridSearchCV(\n",
    "    pipeline_ohe, \n",
    "    param_grid=logreg_l2_params,\n",
    "    scoring='roc_auc',\n",
    "    cv=10,\n",
    "    n_jobs=-1\n",
    ")\n",
    "\n",
    "searcher_l2.fit(X_train, y_train)"
   ]
  },
  {
   "cell_type": "code",
   "execution_count": 16,
   "metadata": {
    "execution": {
     "iopub.execute_input": "2023-03-20T12:07:01.530654Z",
     "iopub.status.busy": "2023-03-20T12:07:01.530424Z",
     "iopub.status.idle": "2023-03-20T12:07:01.535837Z",
     "shell.execute_reply": "2023-03-20T12:07:01.535051Z",
     "shell.execute_reply.started": "2023-03-20T12:07:01.530612Z"
    },
    "tags": []
   },
   "outputs": [
    {
     "data": {
      "text/plain": [
       "(0.8501564270271109,\n",
       " {'model__C': 1000.0,\n",
       "  'model__max_iter': 100000,\n",
       "  'model__penalty': 'l2',\n",
       "  'model__random_state': 19,\n",
       "  'model__solver': 'saga'})"
      ]
     },
     "execution_count": 16,
     "metadata": {},
     "output_type": "execute_result"
    }
   ],
   "source": [
    "searcher_l2.best_score_, searcher_l2.best_params_"
   ]
  },
  {
   "cell_type": "code",
   "execution_count": 30,
   "metadata": {
    "execution": {
     "iopub.execute_input": "2023-03-20T12:07:02.989455Z",
     "iopub.status.busy": "2023-03-20T12:07:02.989049Z",
     "iopub.status.idle": "2023-03-20T12:11:59.669213Z",
     "shell.execute_reply": "2023-03-20T12:11:59.668249Z",
     "shell.execute_reply.started": "2023-03-20T12:07:02.989419Z"
    },
    "tags": []
   },
   "outputs": [
    {
     "name": "stdout",
     "output_type": "stream",
     "text": [
      "CPU times: user 3.09 s, sys: 2.36 s, total: 5.45 s\n",
      "Wall time: 1min 56s\n"
     ]
    },
    {
     "data": {
      "text/html": [
       "<style>#sk-container-id-2 {color: black;background-color: white;}#sk-container-id-2 pre{padding: 0;}#sk-container-id-2 div.sk-toggleable {background-color: white;}#sk-container-id-2 label.sk-toggleable__label {cursor: pointer;display: block;width: 100%;margin-bottom: 0;padding: 0.3em;box-sizing: border-box;text-align: center;}#sk-container-id-2 label.sk-toggleable__label-arrow:before {content: \"▸\";float: left;margin-right: 0.25em;color: #696969;}#sk-container-id-2 label.sk-toggleable__label-arrow:hover:before {color: black;}#sk-container-id-2 div.sk-estimator:hover label.sk-toggleable__label-arrow:before {color: black;}#sk-container-id-2 div.sk-toggleable__content {max-height: 0;max-width: 0;overflow: hidden;text-align: left;background-color: #f0f8ff;}#sk-container-id-2 div.sk-toggleable__content pre {margin: 0.2em;color: black;border-radius: 0.25em;background-color: #f0f8ff;}#sk-container-id-2 input.sk-toggleable__control:checked~div.sk-toggleable__content {max-height: 200px;max-width: 100%;overflow: auto;}#sk-container-id-2 input.sk-toggleable__control:checked~label.sk-toggleable__label-arrow:before {content: \"▾\";}#sk-container-id-2 div.sk-estimator input.sk-toggleable__control:checked~label.sk-toggleable__label {background-color: #d4ebff;}#sk-container-id-2 div.sk-label input.sk-toggleable__control:checked~label.sk-toggleable__label {background-color: #d4ebff;}#sk-container-id-2 input.sk-hidden--visually {border: 0;clip: rect(1px 1px 1px 1px);clip: rect(1px, 1px, 1px, 1px);height: 1px;margin: -1px;overflow: hidden;padding: 0;position: absolute;width: 1px;}#sk-container-id-2 div.sk-estimator {font-family: monospace;background-color: #f0f8ff;border: 1px dotted black;border-radius: 0.25em;box-sizing: border-box;margin-bottom: 0.5em;}#sk-container-id-2 div.sk-estimator:hover {background-color: #d4ebff;}#sk-container-id-2 div.sk-parallel-item::after {content: \"\";width: 100%;border-bottom: 1px solid gray;flex-grow: 1;}#sk-container-id-2 div.sk-label:hover label.sk-toggleable__label {background-color: #d4ebff;}#sk-container-id-2 div.sk-serial::before {content: \"\";position: absolute;border-left: 1px solid gray;box-sizing: border-box;top: 0;bottom: 0;left: 50%;z-index: 0;}#sk-container-id-2 div.sk-serial {display: flex;flex-direction: column;align-items: center;background-color: white;padding-right: 0.2em;padding-left: 0.2em;position: relative;}#sk-container-id-2 div.sk-item {position: relative;z-index: 1;}#sk-container-id-2 div.sk-parallel {display: flex;align-items: stretch;justify-content: center;background-color: white;position: relative;}#sk-container-id-2 div.sk-item::before, #sk-container-id-2 div.sk-parallel-item::before {content: \"\";position: absolute;border-left: 1px solid gray;box-sizing: border-box;top: 0;bottom: 0;left: 50%;z-index: -1;}#sk-container-id-2 div.sk-parallel-item {display: flex;flex-direction: column;z-index: 1;position: relative;background-color: white;}#sk-container-id-2 div.sk-parallel-item:first-child::after {align-self: flex-end;width: 50%;}#sk-container-id-2 div.sk-parallel-item:last-child::after {align-self: flex-start;width: 50%;}#sk-container-id-2 div.sk-parallel-item:only-child::after {width: 0;}#sk-container-id-2 div.sk-dashed-wrapped {border: 1px dashed gray;margin: 0 0.4em 0.5em 0.4em;box-sizing: border-box;padding-bottom: 0.4em;background-color: white;}#sk-container-id-2 div.sk-label label {font-family: monospace;font-weight: bold;display: inline-block;line-height: 1.2em;}#sk-container-id-2 div.sk-label-container {text-align: center;}#sk-container-id-2 div.sk-container {/* jupyter's `normalize.less` sets `[hidden] { display: none; }` but bootstrap.min.css set `[hidden] { display: none !important; }` so we also need the `!important` here to be able to override the default hidden behavior on the sphinx rendered scikit-learn.org. See: https://github.com/scikit-learn/scikit-learn/issues/21755 */display: inline-block !important;position: relative;}#sk-container-id-2 div.sk-text-repr-fallback {display: none;}</style><div id=\"sk-container-id-2\" class=\"sk-top-container\"><div class=\"sk-text-repr-fallback\"><pre>GridSearchCV(cv=10,\n",
       "             estimator=Pipeline(steps=[(&#x27;preprocessing&#x27;,\n",
       "                                        ColumnTransformer(transformers=[(&#x27;ohe&#x27;,\n",
       "                                                                         OneHotEncoder(handle_unknown=&#x27;ignore&#x27;),\n",
       "                                                                         [&#x27;Tier&#x27;,\n",
       "                                                                          &#x27;Partner &#x27;\n",
       "                                                                          &#x27;Bin&#x27;]),\n",
       "                                                                        (&#x27;scaling&#x27;,\n",
       "                                                                         StandardScaler(),\n",
       "                                                                         [&#x27;FICO&#x27;,\n",
       "                                                                          &#x27;Term&#x27;,\n",
       "                                                                          &#x27;Amount&#x27;,\n",
       "                                                                          &#x27;Previous_Rate&#x27;,\n",
       "                                                                          &#x27;Competition_rate&#x27;,\n",
       "                                                                          &#x27;Cost_Funds&#x27;]),\n",
       "                                                                        (&#x27;pass&#x27;,\n",
       "                                                                         &#x27;passthrough&#x27;,\n",
       "                                                                         [&#x27;Rate&#x27;,\n",
       "                                                                          &#x27;Car_Type_N&#x27;,\n",
       "                                                                          &#x27;Car_Type_R&#x27;,\n",
       "                                                                          &#x27;Car_Type_U&#x27;])])),\n",
       "                                       (&#x27;model&#x27;,...\n",
       "       1.00000000e-01, 3.16227766e-01, 1.00000000e+00, 3.16227766e+00,\n",
       "       1.00000000e+01, 3.16227766e+01, 1.00000000e+02, 3.16227766e+02,\n",
       "       1.00000000e+03, 3.16227766e+03, 1.00000000e+04, 3.16227766e+04,\n",
       "       1.00000000e+05, 3.16227766e+05, 1.00000000e+06]),\n",
       "                         &#x27;model__max_iter&#x27;: [100000], &#x27;model__penalty&#x27;: [&#x27;l1&#x27;],\n",
       "                         &#x27;model__random_state&#x27;: [19],\n",
       "                         &#x27;model__solver&#x27;: [&#x27;liblinear&#x27;, &#x27;saga&#x27;]},\n",
       "             scoring=&#x27;roc_auc&#x27;)</pre><b>In a Jupyter environment, please rerun this cell to show the HTML representation or trust the notebook. <br />On GitHub, the HTML representation is unable to render, please try loading this page with nbviewer.org.</b></div><div class=\"sk-container\" hidden><div class=\"sk-item sk-dashed-wrapped\"><div class=\"sk-label-container\"><div class=\"sk-label sk-toggleable\"><input class=\"sk-toggleable__control sk-hidden--visually\" id=\"sk-estimator-id-8\" type=\"checkbox\" ><label for=\"sk-estimator-id-8\" class=\"sk-toggleable__label sk-toggleable__label-arrow\">GridSearchCV</label><div class=\"sk-toggleable__content\"><pre>GridSearchCV(cv=10,\n",
       "             estimator=Pipeline(steps=[(&#x27;preprocessing&#x27;,\n",
       "                                        ColumnTransformer(transformers=[(&#x27;ohe&#x27;,\n",
       "                                                                         OneHotEncoder(handle_unknown=&#x27;ignore&#x27;),\n",
       "                                                                         [&#x27;Tier&#x27;,\n",
       "                                                                          &#x27;Partner &#x27;\n",
       "                                                                          &#x27;Bin&#x27;]),\n",
       "                                                                        (&#x27;scaling&#x27;,\n",
       "                                                                         StandardScaler(),\n",
       "                                                                         [&#x27;FICO&#x27;,\n",
       "                                                                          &#x27;Term&#x27;,\n",
       "                                                                          &#x27;Amount&#x27;,\n",
       "                                                                          &#x27;Previous_Rate&#x27;,\n",
       "                                                                          &#x27;Competition_rate&#x27;,\n",
       "                                                                          &#x27;Cost_Funds&#x27;]),\n",
       "                                                                        (&#x27;pass&#x27;,\n",
       "                                                                         &#x27;passthrough&#x27;,\n",
       "                                                                         [&#x27;Rate&#x27;,\n",
       "                                                                          &#x27;Car_Type_N&#x27;,\n",
       "                                                                          &#x27;Car_Type_R&#x27;,\n",
       "                                                                          &#x27;Car_Type_U&#x27;])])),\n",
       "                                       (&#x27;model&#x27;,...\n",
       "       1.00000000e-01, 3.16227766e-01, 1.00000000e+00, 3.16227766e+00,\n",
       "       1.00000000e+01, 3.16227766e+01, 1.00000000e+02, 3.16227766e+02,\n",
       "       1.00000000e+03, 3.16227766e+03, 1.00000000e+04, 3.16227766e+04,\n",
       "       1.00000000e+05, 3.16227766e+05, 1.00000000e+06]),\n",
       "                         &#x27;model__max_iter&#x27;: [100000], &#x27;model__penalty&#x27;: [&#x27;l1&#x27;],\n",
       "                         &#x27;model__random_state&#x27;: [19],\n",
       "                         &#x27;model__solver&#x27;: [&#x27;liblinear&#x27;, &#x27;saga&#x27;]},\n",
       "             scoring=&#x27;roc_auc&#x27;)</pre></div></div></div><div class=\"sk-parallel\"><div class=\"sk-parallel-item\"><div class=\"sk-item\"><div class=\"sk-label-container\"><div class=\"sk-label sk-toggleable\"><input class=\"sk-toggleable__control sk-hidden--visually\" id=\"sk-estimator-id-9\" type=\"checkbox\" ><label for=\"sk-estimator-id-9\" class=\"sk-toggleable__label sk-toggleable__label-arrow\">estimator: Pipeline</label><div class=\"sk-toggleable__content\"><pre>Pipeline(steps=[(&#x27;preprocessing&#x27;,\n",
       "                 ColumnTransformer(transformers=[(&#x27;ohe&#x27;,\n",
       "                                                  OneHotEncoder(handle_unknown=&#x27;ignore&#x27;),\n",
       "                                                  [&#x27;Tier&#x27;, &#x27;Partner Bin&#x27;]),\n",
       "                                                 (&#x27;scaling&#x27;, StandardScaler(),\n",
       "                                                  [&#x27;FICO&#x27;, &#x27;Term&#x27;, &#x27;Amount&#x27;,\n",
       "                                                   &#x27;Previous_Rate&#x27;,\n",
       "                                                   &#x27;Competition_rate&#x27;,\n",
       "                                                   &#x27;Cost_Funds&#x27;]),\n",
       "                                                 (&#x27;pass&#x27;, &#x27;passthrough&#x27;,\n",
       "                                                  [&#x27;Rate&#x27;, &#x27;Car_Type_N&#x27;,\n",
       "                                                   &#x27;Car_Type_R&#x27;,\n",
       "                                                   &#x27;Car_Type_U&#x27;])])),\n",
       "                (&#x27;model&#x27;, LogisticRegression())])</pre></div></div></div><div class=\"sk-serial\"><div class=\"sk-item\"><div class=\"sk-serial\"><div class=\"sk-item sk-dashed-wrapped\"><div class=\"sk-label-container\"><div class=\"sk-label sk-toggleable\"><input class=\"sk-toggleable__control sk-hidden--visually\" id=\"sk-estimator-id-10\" type=\"checkbox\" ><label for=\"sk-estimator-id-10\" class=\"sk-toggleable__label sk-toggleable__label-arrow\">preprocessing: ColumnTransformer</label><div class=\"sk-toggleable__content\"><pre>ColumnTransformer(transformers=[(&#x27;ohe&#x27;, OneHotEncoder(handle_unknown=&#x27;ignore&#x27;),\n",
       "                                 [&#x27;Tier&#x27;, &#x27;Partner Bin&#x27;]),\n",
       "                                (&#x27;scaling&#x27;, StandardScaler(),\n",
       "                                 [&#x27;FICO&#x27;, &#x27;Term&#x27;, &#x27;Amount&#x27;, &#x27;Previous_Rate&#x27;,\n",
       "                                  &#x27;Competition_rate&#x27;, &#x27;Cost_Funds&#x27;]),\n",
       "                                (&#x27;pass&#x27;, &#x27;passthrough&#x27;,\n",
       "                                 [&#x27;Rate&#x27;, &#x27;Car_Type_N&#x27;, &#x27;Car_Type_R&#x27;,\n",
       "                                  &#x27;Car_Type_U&#x27;])])</pre></div></div></div><div class=\"sk-parallel\"><div class=\"sk-parallel-item\"><div class=\"sk-item\"><div class=\"sk-label-container\"><div class=\"sk-label sk-toggleable\"><input class=\"sk-toggleable__control sk-hidden--visually\" id=\"sk-estimator-id-11\" type=\"checkbox\" ><label for=\"sk-estimator-id-11\" class=\"sk-toggleable__label sk-toggleable__label-arrow\">ohe</label><div class=\"sk-toggleable__content\"><pre>[&#x27;Tier&#x27;, &#x27;Partner Bin&#x27;]</pre></div></div></div><div class=\"sk-serial\"><div class=\"sk-item\"><div class=\"sk-estimator sk-toggleable\"><input class=\"sk-toggleable__control sk-hidden--visually\" id=\"sk-estimator-id-12\" type=\"checkbox\" ><label for=\"sk-estimator-id-12\" class=\"sk-toggleable__label sk-toggleable__label-arrow\">OneHotEncoder</label><div class=\"sk-toggleable__content\"><pre>OneHotEncoder(handle_unknown=&#x27;ignore&#x27;)</pre></div></div></div></div></div></div><div class=\"sk-parallel-item\"><div class=\"sk-item\"><div class=\"sk-label-container\"><div class=\"sk-label sk-toggleable\"><input class=\"sk-toggleable__control sk-hidden--visually\" id=\"sk-estimator-id-13\" type=\"checkbox\" ><label for=\"sk-estimator-id-13\" class=\"sk-toggleable__label sk-toggleable__label-arrow\">scaling</label><div class=\"sk-toggleable__content\"><pre>[&#x27;FICO&#x27;, &#x27;Term&#x27;, &#x27;Amount&#x27;, &#x27;Previous_Rate&#x27;, &#x27;Competition_rate&#x27;, &#x27;Cost_Funds&#x27;]</pre></div></div></div><div class=\"sk-serial\"><div class=\"sk-item\"><div class=\"sk-estimator sk-toggleable\"><input class=\"sk-toggleable__control sk-hidden--visually\" id=\"sk-estimator-id-14\" type=\"checkbox\" ><label for=\"sk-estimator-id-14\" class=\"sk-toggleable__label sk-toggleable__label-arrow\">StandardScaler</label><div class=\"sk-toggleable__content\"><pre>StandardScaler()</pre></div></div></div></div></div></div><div class=\"sk-parallel-item\"><div class=\"sk-item\"><div class=\"sk-label-container\"><div class=\"sk-label sk-toggleable\"><input class=\"sk-toggleable__control sk-hidden--visually\" id=\"sk-estimator-id-15\" type=\"checkbox\" ><label for=\"sk-estimator-id-15\" class=\"sk-toggleable__label sk-toggleable__label-arrow\">pass</label><div class=\"sk-toggleable__content\"><pre>[&#x27;Rate&#x27;, &#x27;Car_Type_N&#x27;, &#x27;Car_Type_R&#x27;, &#x27;Car_Type_U&#x27;]</pre></div></div></div><div class=\"sk-serial\"><div class=\"sk-item\"><div class=\"sk-estimator sk-toggleable\"><input class=\"sk-toggleable__control sk-hidden--visually\" id=\"sk-estimator-id-16\" type=\"checkbox\" ><label for=\"sk-estimator-id-16\" class=\"sk-toggleable__label sk-toggleable__label-arrow\">passthrough</label><div class=\"sk-toggleable__content\"><pre>passthrough</pre></div></div></div></div></div></div></div></div><div class=\"sk-item\"><div class=\"sk-estimator sk-toggleable\"><input class=\"sk-toggleable__control sk-hidden--visually\" id=\"sk-estimator-id-17\" type=\"checkbox\" ><label for=\"sk-estimator-id-17\" class=\"sk-toggleable__label sk-toggleable__label-arrow\">LogisticRegression</label><div class=\"sk-toggleable__content\"><pre>LogisticRegression()</pre></div></div></div></div></div></div></div></div></div></div></div></div>"
      ],
      "text/plain": [
       "GridSearchCV(cv=10,\n",
       "             estimator=Pipeline(steps=[('preprocessing',\n",
       "                                        ColumnTransformer(transformers=[('ohe',\n",
       "                                                                         OneHotEncoder(handle_unknown='ignore'),\n",
       "                                                                         ['Tier',\n",
       "                                                                          'Partner '\n",
       "                                                                          'Bin']),\n",
       "                                                                        ('scaling',\n",
       "                                                                         StandardScaler(),\n",
       "                                                                         ['FICO',\n",
       "                                                                          'Term',\n",
       "                                                                          'Amount',\n",
       "                                                                          'Previous_Rate',\n",
       "                                                                          'Competition_rate',\n",
       "                                                                          'Cost_Funds']),\n",
       "                                                                        ('pass',\n",
       "                                                                         'passthrough',\n",
       "                                                                         ['Rate',\n",
       "                                                                          'Car_Type_N',\n",
       "                                                                          'Car_Type_R',\n",
       "                                                                          'Car_Type_U'])])),\n",
       "                                       ('model',...\n",
       "       1.00000000e-01, 3.16227766e-01, 1.00000000e+00, 3.16227766e+00,\n",
       "       1.00000000e+01, 3.16227766e+01, 1.00000000e+02, 3.16227766e+02,\n",
       "       1.00000000e+03, 3.16227766e+03, 1.00000000e+04, 3.16227766e+04,\n",
       "       1.00000000e+05, 3.16227766e+05, 1.00000000e+06]),\n",
       "                         'model__max_iter': [100000], 'model__penalty': ['l1'],\n",
       "                         'model__random_state': [19],\n",
       "                         'model__solver': ['liblinear', 'saga']},\n",
       "             scoring='roc_auc')"
      ]
     },
     "execution_count": 30,
     "metadata": {},
     "output_type": "execute_result"
    }
   ],
   "source": [
    "%%time\n",
    "\n",
    "logreg_l1_params = {\n",
    "    'model__C': np.logspace(-5, 6, 23),\n",
    "    'model__penalty': ['l1'],\n",
    "    'model__solver': ['liblinear', 'saga'],\n",
    "    'model__max_iter': [10**5],\n",
    "    'model__random_state': [19]\n",
    "}\n",
    "\n",
    "searcher_l1 = GridSearchCV(\n",
    "    pipeline_ohe, \n",
    "    param_grid=logreg_l1_params,\n",
    "    scoring='roc_auc',\n",
    "    cv=10,\n",
    "    n_jobs=-1\n",
    ")\n",
    "\n",
    "searcher_l1.fit(X_train, y_train)"
   ]
  },
  {
   "cell_type": "code",
   "execution_count": 31,
   "metadata": {
    "execution": {
     "iopub.execute_input": "2023-03-20T12:11:59.670917Z",
     "iopub.status.busy": "2023-03-20T12:11:59.670681Z",
     "iopub.status.idle": "2023-03-20T12:11:59.677274Z",
     "shell.execute_reply": "2023-03-20T12:11:59.676220Z",
     "shell.execute_reply.started": "2023-03-20T12:11:59.670876Z"
    },
    "tags": []
   },
   "outputs": [
    {
     "data": {
      "text/plain": [
       "(0.8494536168327528,\n",
       " {'model__C': 100.0,\n",
       "  'model__max_iter': 100000,\n",
       "  'model__penalty': 'l1',\n",
       "  'model__random_state': 19,\n",
       "  'model__solver': 'liblinear'})"
      ]
     },
     "execution_count": 31,
     "metadata": {},
     "output_type": "execute_result"
    }
   ],
   "source": [
    "searcher_l1.best_score_, searcher_l1.best_params_"
   ]
  },
  {
   "cell_type": "markdown",
   "metadata": {},
   "source": [
    "#### Обучение модели с лучшими параметрами:"
   ]
  },
  {
   "cell_type": "code",
   "execution_count": 19,
   "metadata": {
    "execution": {
     "iopub.execute_input": "2023-03-20T12:11:59.678607Z",
     "iopub.status.busy": "2023-03-20T12:11:59.678410Z",
     "iopub.status.idle": "2023-03-20T12:12:00.568839Z",
     "shell.execute_reply": "2023-03-20T12:12:00.568261Z",
     "shell.execute_reply.started": "2023-03-20T12:11:59.678570Z"
    },
    "tags": []
   },
   "outputs": [
    {
     "name": "stdout",
     "output_type": "stream",
     "text": [
      "Train ROC-AUC = 0.850304257996766\n",
      "Valid ROC-AUC = 0.8461757860327894\n",
      "Test ROC-AUC = 0.8448121079504928\n"
     ]
    }
   ],
   "source": [
    "best_ohe_l2 = searcher_l2.best_params_\n",
    "pipeline_ohe_l2 = Pipeline(\n",
    "    steps=[\n",
    "        ('preprocessing', column_transformer_ohe),\n",
    "        ('model', LogisticRegression(**{key[7:]: best_ohe_l2[key] for key in best_ohe_l2}))\n",
    "    ]\n",
    ")\n",
    "pipeline_ohe_l2.fit(X_train, y_train)\n",
    "y_pred_train = pipeline_ohe_l2.predict_proba(X_train)[:, 1]\n",
    "y_pred_valid = pipeline_ohe_l2.predict_proba(X_valid)[:, 1]\n",
    "y_pred_test = pipeline_ohe_l2.predict_proba(X_test)[:, 1]\n",
    "print(f'Train ROC-AUC = {roc_auc_score(y_train, y_pred_train)}')\n",
    "print(f'Valid ROC-AUC = {roc_auc_score(y_valid, y_pred_valid)}')\n",
    "print(f'Test ROC-AUC = {roc_auc_score(y_test, y_pred_test)}')"
   ]
  },
  {
   "cell_type": "code",
   "execution_count": 94,
   "metadata": {
    "execution": {
     "iopub.execute_input": "2023-03-20T12:12:00.570369Z",
     "iopub.status.busy": "2023-03-20T12:12:00.569931Z",
     "iopub.status.idle": "2023-03-20T12:12:02.223584Z",
     "shell.execute_reply": "2023-03-20T12:12:02.222881Z",
     "shell.execute_reply.started": "2023-03-20T12:12:00.570323Z"
    },
    "tags": []
   },
   "outputs": [
    {
     "name": "stdout",
     "output_type": "stream",
     "text": [
      "Train ROC-AUC = 0.8495677418440606\n",
      "Valid ROC-AUC = 0.8480391209577023\n",
      "Test ROC-AUC = 0.8446798647870659\n"
     ]
    }
   ],
   "source": [
    "best_ohe_l1 = searcher_l1.best_params_\n",
    "pipeline_ohe_l1 = Pipeline(\n",
    "    steps=[\n",
    "        ('preprocessing', column_transformer_ohe),\n",
    "        ('model', LogisticRegression(**{key[7:]: best_ohe_l1[key] for key in best_ohe_l1}))\n",
    "    ]\n",
    ")\n",
    "pipeline_ohe_l1.fit(X_train, y_train)\n",
    "y_pred_train = pipeline_ohe_l1.predict_proba(X_train)[:, 1]\n",
    "y_pred_valid = pipeline_ohe_l1.predict_proba(X_valid)[:, 1]\n",
    "y_pred_test = pipeline_ohe_l1.predict_proba(X_test)[:, 1]\n",
    "print(f'Train ROC-AUC = {roc_auc_score(y_train, y_pred_train)}')\n",
    "print(f'Valid ROC-AUC = {roc_auc_score(y_valid, y_pred_valid)}')\n",
    "print(f'Test ROC-AUC = {roc_auc_score(y_test, y_pred_test)}')"
   ]
  },
  {
   "cell_type": "markdown",
   "metadata": {},
   "source": [
    "### Финальный предикт для логистической регрессии:"
   ]
  },
  {
   "cell_type": "markdown",
   "metadata": {},
   "source": [
    "Лучший скор показала L1 с OHE"
   ]
  },
  {
   "cell_type": "code",
   "execution_count": 33,
   "metadata": {
    "execution": {
     "iopub.execute_input": "2023-03-20T12:14:43.428221Z",
     "iopub.status.busy": "2023-03-20T12:14:43.427873Z",
     "iopub.status.idle": "2023-03-20T12:14:43.436776Z",
     "shell.execute_reply": "2023-03-20T12:14:43.436138Z",
     "shell.execute_reply.started": "2023-03-20T12:14:43.428172Z"
    },
    "tags": []
   },
   "outputs": [],
   "source": [
    "acceptance_model_name = 'acceptance_logreg_model'\n",
    "joblib.dump(pipeline_ohe_l1, f'./{acceptance_model_name}.pkl')\n",
    "acceptance_model = joblib.load(f'./{acceptance_model_name}.pkl')"
   ]
  },
  {
   "cell_type": "code",
   "execution_count": 34,
   "metadata": {},
   "outputs": [
    {
     "data": {
      "text/html": [
       "<div>\n",
       "<style scoped>\n",
       "    .dataframe tbody tr th:only-of-type {\n",
       "        vertical-align: middle;\n",
       "    }\n",
       "\n",
       "    .dataframe tbody tr th {\n",
       "        vertical-align: top;\n",
       "    }\n",
       "\n",
       "    .dataframe thead th {\n",
       "        text-align: right;\n",
       "    }\n",
       "</style>\n",
       "<table border=\"1\" class=\"dataframe\">\n",
       "  <thead>\n",
       "    <tr style=\"text-align: right;\">\n",
       "      <th></th>\n",
       "      <th>coefs</th>\n",
       "      <th>columns</th>\n",
       "      <th>abs_coefs</th>\n",
       "    </tr>\n",
       "  </thead>\n",
       "  <tbody>\n",
       "    <tr>\n",
       "      <th>16</th>\n",
       "      <td>3.301587</td>\n",
       "      <td>pass__Car_Type_U</td>\n",
       "      <td>3.301587</td>\n",
       "    </tr>\n",
       "    <tr>\n",
       "      <th>10</th>\n",
       "      <td>1.507545</td>\n",
       "      <td>scaling__Previous_Rate</td>\n",
       "      <td>1.507545</td>\n",
       "    </tr>\n",
       "    <tr>\n",
       "      <th>14</th>\n",
       "      <td>1.087697</td>\n",
       "      <td>pass__Car_Type_N</td>\n",
       "      <td>1.087697</td>\n",
       "    </tr>\n",
       "    <tr>\n",
       "      <th>9</th>\n",
       "      <td>-0.933419</td>\n",
       "      <td>scaling__Amount</td>\n",
       "      <td>0.933419</td>\n",
       "    </tr>\n",
       "    <tr>\n",
       "      <th>4</th>\n",
       "      <td>0.678367</td>\n",
       "      <td>ohe__Partner Bin_1</td>\n",
       "      <td>0.678367</td>\n",
       "    </tr>\n",
       "    <tr>\n",
       "      <th>15</th>\n",
       "      <td>-0.665116</td>\n",
       "      <td>pass__Car_Type_R</td>\n",
       "      <td>0.665116</td>\n",
       "    </tr>\n",
       "    <tr>\n",
       "      <th>5</th>\n",
       "      <td>-0.647879</td>\n",
       "      <td>ohe__Partner Bin_2</td>\n",
       "      <td>0.647879</td>\n",
       "    </tr>\n",
       "    <tr>\n",
       "      <th>13</th>\n",
       "      <td>-0.607620</td>\n",
       "      <td>pass__Rate</td>\n",
       "      <td>0.607620</td>\n",
       "    </tr>\n",
       "    <tr>\n",
       "      <th>3</th>\n",
       "      <td>0.595043</td>\n",
       "      <td>ohe__Tier_4</td>\n",
       "      <td>0.595043</td>\n",
       "    </tr>\n",
       "    <tr>\n",
       "      <th>8</th>\n",
       "      <td>0.436169</td>\n",
       "      <td>scaling__Term</td>\n",
       "      <td>0.436169</td>\n",
       "    </tr>\n",
       "    <tr>\n",
       "      <th>6</th>\n",
       "      <td>0.360505</td>\n",
       "      <td>ohe__Partner Bin_3</td>\n",
       "      <td>0.360505</td>\n",
       "    </tr>\n",
       "    <tr>\n",
       "      <th>0</th>\n",
       "      <td>0.314673</td>\n",
       "      <td>ohe__Tier_1</td>\n",
       "      <td>0.314673</td>\n",
       "    </tr>\n",
       "    <tr>\n",
       "      <th>7</th>\n",
       "      <td>-0.257852</td>\n",
       "      <td>scaling__FICO</td>\n",
       "      <td>0.257852</td>\n",
       "    </tr>\n",
       "    <tr>\n",
       "      <th>2</th>\n",
       "      <td>0.248128</td>\n",
       "      <td>ohe__Tier_3</td>\n",
       "      <td>0.248128</td>\n",
       "    </tr>\n",
       "    <tr>\n",
       "      <th>11</th>\n",
       "      <td>0.201227</td>\n",
       "      <td>scaling__Competition_rate</td>\n",
       "      <td>0.201227</td>\n",
       "    </tr>\n",
       "    <tr>\n",
       "      <th>1</th>\n",
       "      <td>0.124314</td>\n",
       "      <td>ohe__Tier_2</td>\n",
       "      <td>0.124314</td>\n",
       "    </tr>\n",
       "    <tr>\n",
       "      <th>12</th>\n",
       "      <td>0.066839</td>\n",
       "      <td>scaling__Cost_Funds</td>\n",
       "      <td>0.066839</td>\n",
       "    </tr>\n",
       "  </tbody>\n",
       "</table>\n",
       "</div>"
      ],
      "text/plain": [
       "       coefs                    columns  abs_coefs\n",
       "16  3.301587           pass__Car_Type_U   3.301587\n",
       "10  1.507545     scaling__Previous_Rate   1.507545\n",
       "14  1.087697           pass__Car_Type_N   1.087697\n",
       "9  -0.933419            scaling__Amount   0.933419\n",
       "4   0.678367         ohe__Partner Bin_1   0.678367\n",
       "15 -0.665116           pass__Car_Type_R   0.665116\n",
       "5  -0.647879         ohe__Partner Bin_2   0.647879\n",
       "13 -0.607620                 pass__Rate   0.607620\n",
       "3   0.595043                ohe__Tier_4   0.595043\n",
       "8   0.436169              scaling__Term   0.436169\n",
       "6   0.360505         ohe__Partner Bin_3   0.360505\n",
       "0   0.314673                ohe__Tier_1   0.314673\n",
       "7  -0.257852              scaling__FICO   0.257852\n",
       "2   0.248128                ohe__Tier_3   0.248128\n",
       "11  0.201227  scaling__Competition_rate   0.201227\n",
       "1   0.124314                ohe__Tier_2   0.124314\n",
       "12  0.066839        scaling__Cost_Funds   0.066839"
      ]
     },
     "execution_count": 34,
     "metadata": {},
     "output_type": "execute_result"
    }
   ],
   "source": [
    "imp_df = pd.DataFrame(\n",
    "    {'coefs': acceptance_model.steps[-1][-1].coef_[0], 'columns': acceptance_model.steps[0][-1].get_feature_names_out()}\n",
    ")\n",
    "imp_df['abs_coefs'] = np.abs(imp_df['coefs'])\n",
    "imp_df.sort_values(by='abs_coefs', ascending=False)"
   ]
  },
  {
   "cell_type": "code",
   "execution_count": 109,
   "metadata": {},
   "outputs": [
    {
     "data": {
      "image/png": "[encoded data removed]",
      "text/plain": [
       "<Figure size 400x400 with 1 Axes>"
      ]
     },
     "metadata": {},
     "output_type": "display_data"
    }
   ],
   "source": [
    "plt.figure(figsize=(4, 4))\n",
    "prob_true, prob_pred = calibration_curve(y_valid, y_pred_valid, n_bins=20)\n",
    "plt.plot(prob_true, prob_pred, 'b', label='My classifier')\n",
    "plt.plot([0, 1], [0, 1], '--r', label='Ideal')\n",
    "plt.legend(loc=2)\n",
    "plt.show()"
   ]
  },
  {
   "cell_type": "code",
   "execution_count": 35,
   "metadata": {
    "execution": {
     "iopub.execute_input": "2023-03-20T13:33:27.513705Z",
     "iopub.status.busy": "2023-03-20T13:33:27.513381Z",
     "iopub.status.idle": "2023-03-20T13:33:27.786184Z",
     "shell.execute_reply": "2023-03-20T13:33:27.784852Z",
     "shell.execute_reply.started": "2023-03-20T13:33:27.513659Z"
    },
    "tags": []
   },
   "outputs": [
    {
     "name": "stdout",
     "output_type": "stream",
     "text": [
      "Check ROC-AUC = 0.8491945045537781\n",
      "Check ROC-AUC = 0.8446798647870659\n"
     ]
    }
   ],
   "source": [
    "train_data['accept_prob'] = acceptance_model.predict_proba(X)[:, 1]\n",
    "print(f\"Check ROC-AUC = {roc_auc_score(train_data['Accept'], train_data['accept_prob'])}\")\n",
    "test_data['accept_prob'] = acceptance_model.predict_proba(X_test)[:, 1]\n",
    "print(f\"Check ROC-AUC = {roc_auc_score(test_data['Accept'], test_data['accept_prob'])}\")\n",
    "# train_data.to_csv('train_data_new.csv', index=False)\n",
    "# test_data.to_csv('test_data_new.csv', index=False)"
   ]
  },
  {
   "cell_type": "code",
   "execution_count": 29,
   "metadata": {
    "execution": {
     "iopub.execute_input": "2023-01-20T13:37:27.011623Z",
     "iopub.status.busy": "2023-01-20T13:37:27.011310Z",
     "iopub.status.idle": "2023-01-20T13:37:28.385889Z",
     "shell.execute_reply": "2023-01-20T13:37:28.384803Z",
     "shell.execute_reply.started": "2023-01-20T13:37:27.011581Z"
    },
    "tags": []
   },
   "outputs": [
    {
     "name": "stdout",
     "output_type": "stream",
     "text": [
      "  adding: train_data_new.csv (deflated 68%)\n",
      "  adding: test_data_new.csv (deflated 68%)\n"
     ]
    }
   ],
   "source": [
    "# !zip archive_new.zip train_data_new.csv test_data_new.csv"
   ]
  },
  {
   "cell_type": "code",
   "execution_count": null,
   "metadata": {},
   "outputs": [],
   "source": []
  },
  {
   "cell_type": "markdown",
   "metadata": {},
   "source": [
    "### LightGBM на Accept:"
   ]
  },
  {
   "cell_type": "code",
   "execution_count": 14,
   "metadata": {},
   "outputs": [],
   "source": [
    "def optimize_lgbm(X, y, n_trials=100):\n",
    "    def objective(trial):\n",
    "        params = {\n",
    "            'min_child_samples': trial.suggest_int('min_child_samples', 2, 100),\n",
    "            'min_data_in_bin': trial.suggest_int('min_data_in_bin', 1, 256),\n",
    "            'min_split_gain': trial.suggest_discrete_uniform('min_split_gain', 0.1, 5, 0.01),\n",
    "            'max_depth': trial.suggest_int('max_depth', 1, 9),\n",
    "            'n_estimators': trial.suggest_int('n_estimators', 100, 600),\n",
    "            'learning_rate': trial.suggest_float('learning_rate', 0.001, 0.1),\n",
    "            'boosting_type': trial.suggest_categorical('boosting_type', ['gbdt', 'dart']),\n",
    "            'reg_alpha': trial.suggest_float('reg_alpha', 1e-8, 10.0),\n",
    "            'reg_lambda': trial.suggest_float('reg_lambda', 1e-8, 10.0),\n",
    "            'num_leaves': trial.suggest_int('num_leaves', 2, 256),\n",
    "            'colsample_bytree': trial.suggest_uniform('colsample_bytree', 0.4, 1.0),\n",
    "            'subsample': trial.suggest_uniform('subsample', 0.4, 1.0),\n",
    "            'subsample_freq': trial.suggest_int('subsample_freq', 1, 7),\n",
    "            'max_bin': trial.suggest_int('max_bin', 32, 255),\n",
    "            'random_state': 19,\n",
    "            'class_weight': 'balanced',\n",
    "        }\n",
    "\n",
    "        cv = StratifiedKFold(n_splits=5)\n",
    "        model = LGBMClassifier(**params)\n",
    "        scores = cross_val_score(model, X, y, cv=cv, scoring='roc_auc', verbose=False)\n",
    "        score = np.mean(scores)\n",
    "\n",
    "        return score\n",
    "\n",
    "    sampler = TPESampler(seed=19)\n",
    "    study = create_study(direction='maximize', study_name=\"LGBM Classifier\", sampler=sampler)\n",
    "    study.optimize(objective, n_trials=n_trials, show_progress_bar=True)\n",
    "    best_pars_mass = study.best_params\n",
    "    print(f'Best score: {study.best_value}')\n",
    "    return best_pars_mass"
   ]
  },
  {
   "cell_type": "code",
   "execution_count": 10,
   "metadata": {},
   "outputs": [],
   "source": [
    "column_transformer_mean_target = ColumnTransformer([\n",
    "    ('mean_target', TargetEncoder(cols=cat_cols), cat_cols),\n",
    "    ('pass', 'passthrough', num_cols + other),\n",
    "])"
   ]
  },
  {
   "cell_type": "code",
   "execution_count": 12,
   "metadata": {},
   "outputs": [],
   "source": [
    "X_train_enc = column_transformer_mean_target.fit_transform(X_train, y_train)"
   ]
  },
  {
   "cell_type": "code",
   "execution_count": 15,
   "metadata": {},
   "outputs": [
    {
     "name": "stderr",
     "output_type": "stream",
     "text": [
      "\u001b[32m[I 2023-04-22 22:56:22,360]\u001b[0m A new study created in memory with name: LGBM Classifier\u001b[0m\n"
     ]
    },
    {
     "data": {
      "application/vnd.jupyter.widget-view+json": {
       "model_id": "6a35828798d84a0ca84e0006808aa38b",
       "version_major": 2,
       "version_minor": 0
      },
      "text/plain": [
       "  0%|          | 0/50 [00:00<?, ?it/s]"
      ]
     },
     "metadata": {},
     "output_type": "display_data"
    },
    {
     "name": "stdout",
     "output_type": "stream",
     "text": [
      "\u001b[32m[I 2023-04-22 22:56:48,094]\u001b[0m Trial 0 finished with value: 0.8325097030483268 and parameters: {'min_child_samples': 11, 'min_data_in_bin': 195, 'min_split_gain': 1.31, 'max_depth': 2, 'n_estimators': 266, 'learning_rate': 0.009216956935682395, 'boosting_type': 'dart', 'reg_alpha': 9.827419145614721, 'reg_lambda': 6.356607351611918, 'num_leaves': 57, 'colsample_bytree': 0.7294164592505679, 'subsample': 0.7273359748055357, 'subsample_freq': 2, 'max_bin': 57}. Best is trial 0 with value: 0.8325097030483268.\u001b[0m\n",
      "\u001b[32m[I 2023-04-22 22:57:43,874]\u001b[0m Trial 1 finished with value: 0.889205704461199 and parameters: {'min_child_samples': 51, 'min_data_in_bin': 39, 'min_split_gain': 2.71, 'max_depth': 4, 'n_estimators': 444, 'learning_rate': 0.0379197884844309, 'boosting_type': 'gbdt', 'reg_alpha': 6.0803430345942004, 'reg_lambda': 6.152320369708368, 'num_leaves': 165, 'colsample_bytree': 0.5610901042782008, 'subsample': 0.850093689161936, 'subsample_freq': 3, 'max_bin': 190}. Best is trial 1 with value: 0.889205704461199.\u001b[0m\n",
      "\u001b[32m[I 2023-04-22 22:58:16,317]\u001b[0m Trial 2 finished with value: 0.8720522537284726 and parameters: {'min_child_samples': 8, 'min_data_in_bin': 177, 'min_split_gain': 2.81, 'max_depth': 5, 'n_estimators': 273, 'learning_rate': 0.018088683048335573, 'boosting_type': 'gbdt', 'reg_alpha': 8.255576135786526, 'reg_lambda': 7.110669705203426, 'num_leaves': 13, 'colsample_bytree': 0.44592193692137716, 'subsample': 0.40620633706614745, 'subsample_freq': 7, 'max_bin': 166}. Best is trial 1 with value: 0.889205704461199.\u001b[0m\n",
      "\u001b[32m[I 2023-04-22 23:01:05,151]\u001b[0m Trial 3 finished with value: 0.8710094931787943 and parameters: {'min_child_samples': 19, 'min_data_in_bin': 94, 'min_split_gain': 4.34, 'max_depth': 5, 'n_estimators': 586, 'learning_rate': 0.014430317894805526, 'boosting_type': 'dart', 'reg_alpha': 9.353644226124963, 'reg_lambda': 9.36302908931622, 'num_leaves': 173, 'colsample_bytree': 0.9633955812656375, 'subsample': 0.714536638129238, 'subsample_freq': 4, 'max_bin': 39}. Best is trial 1 with value: 0.889205704461199.\u001b[0m\n",
      "\u001b[32m[I 2023-04-22 23:01:24,843]\u001b[0m Trial 4 finished with value: 0.9004958040059643 and parameters: {'min_child_samples': 87, 'min_data_in_bin': 47, 'min_split_gain': 3.6700000000000004, 'max_depth': 9, 'n_estimators': 550, 'learning_rate': 0.08360277877630101, 'boosting_type': 'gbdt', 'reg_alpha': 1.6483069759918714, 'reg_lambda': 4.4021176100115476, 'num_leaves': 195, 'colsample_bytree': 0.6653642997236018, 'subsample': 0.47831403514200765, 'subsample_freq': 2, 'max_bin': 255}. Best is trial 4 with value: 0.9004958040059643.\u001b[0m\n",
      "\u001b[32m[I 2023-04-22 23:01:55,272]\u001b[0m Trial 5 finished with value: 0.8975836900036438 and parameters: {'min_child_samples': 28, 'min_data_in_bin': 225, 'min_split_gain': 0.9, 'max_depth': 9, 'n_estimators': 300, 'learning_rate': 0.06561525850139244, 'boosting_type': 'gbdt', 'reg_alpha': 9.118263402140597, 'reg_lambda': 0.5391789566270133, 'num_leaves': 128, 'colsample_bytree': 0.5497831843518831, 'subsample': 0.6090825169480402, 'subsample_freq': 6, 'max_bin': 112}. Best is trial 4 with value: 0.9004958040059643.\u001b[0m\n",
      "\u001b[32m[I 2023-04-22 23:02:00,107]\u001b[0m Trial 6 finished with value: 0.7973582723570855 and parameters: {'min_child_samples': 64, 'min_data_in_bin': 250, 'min_split_gain': 2.17, 'max_depth': 1, 'n_estimators': 139, 'learning_rate': 0.021380756120874662, 'boosting_type': 'dart', 'reg_alpha': 8.351873453467743, 'reg_lambda': 0.8207576877941918, 'num_leaves': 211, 'colsample_bytree': 0.8899943653971252, 'subsample': 0.5998574196901831, 'subsample_freq': 5, 'max_bin': 252}. Best is trial 4 with value: 0.9004958040059643.\u001b[0m\n",
      "\u001b[32m[I 2023-04-22 23:03:08,034]\u001b[0m Trial 7 finished with value: 0.8667500385691417 and parameters: {'min_child_samples': 96, 'min_data_in_bin': 172, 'min_split_gain': 4.4799999999999995, 'max_depth': 4, 'n_estimators': 416, 'learning_rate': 0.01966082632363605, 'boosting_type': 'dart', 'reg_alpha': 7.516312393395998, 'reg_lambda': 8.33060043552086, 'num_leaves': 38, 'colsample_bytree': 0.4089875185979382, 'subsample': 0.9143646831106572, 'subsample_freq': 5, 'max_bin': 223}. Best is trial 4 with value: 0.9004958040059643.\u001b[0m\n",
      "\u001b[32m[I 2023-04-22 23:03:13,175]\u001b[0m Trial 8 finished with value: 0.8498760588055522 and parameters: {'min_child_samples': 87, 'min_data_in_bin': 204, 'min_split_gain': 2.44, 'max_depth': 1, 'n_estimators': 257, 'learning_rate': 0.06448102675876187, 'boosting_type': 'gbdt', 'reg_alpha': 0.565533895114156, 'reg_lambda': 9.1025211177921, 'num_leaves': 79, 'colsample_bytree': 0.5988575812913118, 'subsample': 0.43401175979633044, 'subsample_freq': 1, 'max_bin': 60}. Best is trial 4 with value: 0.9004958040059643.\u001b[0m\n",
      "\u001b[32m[I 2023-04-22 23:04:07,798]\u001b[0m Trial 9 finished with value: 0.8661981790853052 and parameters: {'min_child_samples': 11, 'min_data_in_bin': 42, 'min_split_gain': 0.84, 'max_depth': 3, 'n_estimators': 380, 'learning_rate': 0.035456347128443845, 'boosting_type': 'dart', 'reg_alpha': 0.702296434028543, 'reg_lambda': 5.975705769777456, 'num_leaves': 81, 'colsample_bytree': 0.5512920717999882, 'subsample': 0.7152795450823419, 'subsample_freq': 4, 'max_bin': 165}. Best is trial 4 with value: 0.9004958040059643.\u001b[0m\n",
      "\u001b[32m[I 2023-04-22 23:04:33,863]\u001b[0m Trial 10 finished with value: 0.8978649176241029 and parameters: {'min_child_samples': 77, 'min_data_in_bin': 104, 'min_split_gain': 3.54, 'max_depth': 9, 'n_estimators': 588, 'learning_rate': 0.09963362087253223, 'boosting_type': 'gbdt', 'reg_alpha': 2.945107474851065, 'reg_lambda': 3.8368153656836856, 'num_leaves': 254, 'colsample_bytree': 0.7553842759261811, 'subsample': 0.5096449357146007, 'subsample_freq': 1, 'max_bin': 113}. Best is trial 4 with value: 0.9004958040059643.\u001b[0m\n",
      "\u001b[32m[I 2023-04-22 23:04:56,646]\u001b[0m Trial 11 finished with value: 0.899198896096023 and parameters: {'min_child_samples': 77, 'min_data_in_bin': 95, 'min_split_gain': 3.68, 'max_depth': 9, 'n_estimators': 577, 'learning_rate': 0.09963468472478106, 'boosting_type': 'gbdt', 'reg_alpha': 2.8577671886325158, 'reg_lambda': 3.7088405943042364, 'num_leaves': 256, 'colsample_bytree': 0.750847064920141, 'subsample': 0.5097879833056649, 'subsample_freq': 1, 'max_bin': 122}. Best is trial 4 with value: 0.9004958040059643.\u001b[0m\n",
      "\u001b[32m[I 2023-04-22 23:05:12,247]\u001b[0m Trial 12 finished with value: 0.8957103934031874 and parameters: {'min_child_samples': 68, 'min_data_in_bin': 13, 'min_split_gain': 3.6500000000000004, 'max_depth': 7, 'n_estimators': 494, 'learning_rate': 0.09840672414918636, 'boosting_type': 'gbdt', 'reg_alpha': 3.0208396988880075, 'reg_lambda': 3.7810264475503668, 'num_leaves': 249, 'colsample_bytree': 0.7959866864266936, 'subsample': 0.5162684639205303, 'subsample_freq': 2, 'max_bin': 114}. Best is trial 4 with value: 0.9004958040059643.\u001b[0m\n",
      "\u001b[32m[I 2023-04-22 23:05:26,884]\u001b[0m Trial 13 finished with value: 0.8956364620582173 and parameters: {'min_child_samples': 100, 'min_data_in_bin': 71, 'min_split_gain': 4.989999999999999, 'max_depth': 7, 'n_estimators': 545, 'learning_rate': 0.08355959317593115, 'boosting_type': 'gbdt', 'reg_alpha': 2.888669586418745, 'reg_lambda': 4.0640867886383125, 'num_leaves': 197, 'colsample_bytree': 0.6641825795197024, 'subsample': 0.5127543554587344, 'subsample_freq': 2, 'max_bin': 206}. Best is trial 4 with value: 0.9004958040059643.\u001b[0m\n",
      "\u001b[32m[I 2023-04-22 23:05:46,990]\u001b[0m Trial 14 finished with value: 0.8973513621171396 and parameters: {'min_child_samples': 48, 'min_data_in_bin': 138, 'min_split_gain': 3.5900000000000003, 'max_depth': 7, 'n_estimators': 501, 'learning_rate': 0.08300637006261354, 'boosting_type': 'gbdt', 'reg_alpha': 4.540603170642986, 'reg_lambda': 2.539308590212595, 'num_leaves': 222, 'colsample_bytree': 0.8220832473504214, 'subsample': 0.4119816246966089, 'subsample_freq': 1, 'max_bin': 142}. Best is trial 4 with value: 0.9004958040059643.\u001b[0m\n",
      "\u001b[32m[I 2023-04-22 23:06:02,839]\u001b[0m Trial 15 finished with value: 0.8930884587081783 and parameters: {'min_child_samples': 82, 'min_data_in_bin': 138, 'min_split_gain': 3.99, 'max_depth': 8, 'n_estimators': 513, 'learning_rate': 0.08471463025534978, 'boosting_type': 'gbdt', 'reg_alpha': 1.7015912901748393, 'reg_lambda': 4.931231996876864, 'num_leaves': 138, 'colsample_bytree': 0.6719835431342613, 'subsample': 0.5990868646734355, 'subsample_freq': 3, 'max_bin': 87}. Best is trial 4 with value: 0.9004958040059643.\u001b[0m\n"
     ]
    },
    {
     "name": "stdout",
     "output_type": "stream",
     "text": [
      "\u001b[32m[I 2023-04-22 23:06:24,097]\u001b[0m Trial 16 finished with value: 0.8995718825875679 and parameters: {'min_child_samples': 66, 'min_data_in_bin': 71, 'min_split_gain': 3.04, 'max_depth': 8, 'n_estimators': 446, 'learning_rate': 0.06988564094438844, 'boosting_type': 'gbdt', 'reg_alpha': 4.21505976926518, 'reg_lambda': 1.9894511379521682, 'num_leaves': 229, 'colsample_bytree': 0.8486173686066003, 'subsample': 0.47610752212083524, 'subsample_freq': 3, 'max_bin': 244}. Best is trial 4 with value: 0.9004958040059643.\u001b[0m\n",
      "\u001b[32m[I 2023-04-22 23:06:58,632]\u001b[0m Trial 17 finished with value: 0.9024459548227929 and parameters: {'min_child_samples': 40, 'min_data_in_bin': 12, 'min_split_gain': 1.7500000000000002, 'max_depth': 8, 'n_estimators': 453, 'learning_rate': 0.06303878469141456, 'boosting_type': 'gbdt', 'reg_alpha': 4.618113036614872, 'reg_lambda': 2.1125821569067034, 'num_leaves': 180, 'colsample_bytree': 0.86653045382639, 'subsample': 0.6281227540503689, 'subsample_freq': 3, 'max_bin': 254}. Best is trial 17 with value: 0.9024459548227929.\u001b[0m\n",
      "\u001b[32m[I 2023-04-22 23:07:24,106]\u001b[0m Trial 18 finished with value: 0.8987914118085456 and parameters: {'min_child_samples': 36, 'min_data_in_bin': 6, 'min_split_gain': 1.7300000000000002, 'max_depth': 6, 'n_estimators': 345, 'learning_rate': 0.05047009898395613, 'boosting_type': 'gbdt', 'reg_alpha': 5.872640000844724, 'reg_lambda': 2.2511613860502977, 'num_leaves': 182, 'colsample_bytree': 0.9869800622660586, 'subsample': 0.6546686733837086, 'subsample_freq': 3, 'max_bin': 216}. Best is trial 17 with value: 0.9024459548227929.\u001b[0m\n",
      "\u001b[32m[I 2023-04-22 23:07:59,957]\u001b[0m Trial 19 finished with value: 0.8993151846893916 and parameters: {'min_child_samples': 37, 'min_data_in_bin': 30, 'min_split_gain': 0.21000000000000002, 'max_depth': 8, 'n_estimators': 156, 'learning_rate': 0.0548035819462028, 'boosting_type': 'gbdt', 'reg_alpha': 0.15211082676732413, 'reg_lambda': 0.0018593767415788776, 'num_leaves': 141, 'colsample_bytree': 0.8755460540384277, 'subsample': 0.7879497157312083, 'subsample_freq': 2, 'max_bin': 236}. Best is trial 17 with value: 0.9024459548227929.\u001b[0m\n",
      "\u001b[32m[I 2023-04-22 23:08:21,141]\u001b[0m Trial 20 finished with value: 0.8969904162271142 and parameters: {'min_child_samples': 52, 'min_data_in_bin': 61, 'min_split_gain': 1.9700000000000002, 'max_depth': 6, 'n_estimators': 469, 'learning_rate': 0.07443374302445735, 'boosting_type': 'gbdt', 'reg_alpha': 1.7103895919259826, 'reg_lambda': 1.5676155087281236, 'num_leaves': 117, 'colsample_bytree': 0.9264173114594353, 'subsample': 0.9866092736343504, 'subsample_freq': 5, 'max_bin': 183}. Best is trial 17 with value: 0.9024459548227929.\u001b[0m\n",
      "\u001b[32m[I 2023-04-22 23:08:41,656]\u001b[0m Trial 21 finished with value: 0.8994359573044497 and parameters: {'min_child_samples': 61, 'min_data_in_bin': 57, 'min_split_gain': 2.9000000000000004, 'max_depth': 8, 'n_estimators': 416, 'learning_rate': 0.07194375378252862, 'boosting_type': 'gbdt', 'reg_alpha': 4.081515721093244, 'reg_lambda': 2.3572664468190774, 'num_leaves': 226, 'colsample_bytree': 0.8341444233640573, 'subsample': 0.46245779392315944, 'subsample_freq': 3, 'max_bin': 254}. Best is trial 17 with value: 0.9024459548227929.\u001b[0m\n",
      "\u001b[32m[I 2023-04-22 23:09:02,975]\u001b[0m Trial 22 finished with value: 0.8964082221570304 and parameters: {'min_child_samples': 89, 'min_data_in_bin': 4, 'min_split_gain': 3.33, 'max_depth': 8, 'n_estimators': 366, 'learning_rate': 0.05635915126762837, 'boosting_type': 'gbdt', 'reg_alpha': 5.336582840557742, 'reg_lambda': 2.826174643686385, 'num_leaves': 197, 'colsample_bytree': 0.8697490369161489, 'subsample': 0.5566742988629059, 'subsample_freq': 4, 'max_bin': 236}. Best is trial 17 with value: 0.9024459548227929.\u001b[0m\n",
      "\u001b[32m[I 2023-04-22 23:09:24,453]\u001b[0m Trial 23 finished with value: 0.9001039034588745 and parameters: {'min_child_samples': 71, 'min_data_in_bin': 70, 'min_split_gain': 3.08, 'max_depth': 9, 'n_estimators': 527, 'learning_rate': 0.0749082367762455, 'boosting_type': 'gbdt', 'reg_alpha': 3.89373151306559, 'reg_lambda': 1.3737756309437774, 'num_leaves': 155, 'colsample_bytree': 0.7978165001649506, 'subsample': 0.4703021326096088, 'subsample_freq': 3, 'max_bin': 239}. Best is trial 17 with value: 0.9024459548227929.\u001b[0m\n",
      "\u001b[32m[I 2023-04-22 23:10:11,515]\u001b[0m Trial 24 finished with value: 0.9024214473345991 and parameters: {'min_child_samples': 72, 'min_data_in_bin': 27, 'min_split_gain': 1.53, 'max_depth': 9, 'n_estimators': 531, 'learning_rate': 0.08156220644473434, 'boosting_type': 'gbdt', 'reg_alpha': 3.6249083335842878, 'reg_lambda': 1.1855782003904287, 'num_leaves': 159, 'colsample_bytree': 0.7086742822552601, 'subsample': 0.571132023398238, 'subsample_freq': 2, 'max_bin': 212}. Best is trial 17 with value: 0.9024459548227929.\u001b[0m\n",
      "\u001b[32m[I 2023-04-22 23:10:45,172]\u001b[0m Trial 25 finished with value: 0.9024546865625054 and parameters: {'min_child_samples': 40, 'min_data_in_bin': 29, 'min_split_gain': 1.3900000000000001, 'max_depth': 9, 'n_estimators': 564, 'learning_rate': 0.08978400973897956, 'boosting_type': 'gbdt', 'reg_alpha': 5.080423287276542, 'reg_lambda': 2.998954720438477, 'num_leaves': 112, 'colsample_bytree': 0.6937264445315211, 'subsample': 0.6484009238529228, 'subsample_freq': 2, 'max_bin': 202}. Best is trial 25 with value: 0.9024546865625054.\u001b[0m\n",
      "\u001b[32m[I 2023-04-22 23:11:11,955]\u001b[0m Trial 26 finished with value: 0.9022192206933817 and parameters: {'min_child_samples': 39, 'min_data_in_bin': 27, 'min_split_gain': 1.37, 'max_depth': 6, 'n_estimators': 489, 'learning_rate': 0.09047208829119865, 'boosting_type': 'gbdt', 'reg_alpha': 5.3235217372858274, 'reg_lambda': 2.901203756199585, 'num_leaves': 105, 'colsample_bytree': 0.701873823671301, 'subsample': 0.6529393685781276, 'subsample_freq': 2, 'max_bin': 200}. Best is trial 25 with value: 0.9024546865625054.\u001b[0m\n",
      "\u001b[32m[I 2023-04-22 23:14:24,706]\u001b[0m Trial 27 finished with value: 0.9008526931535579 and parameters: {'min_child_samples': 57, 'min_data_in_bin': 19, 'min_split_gain': 0.43000000000000005, 'max_depth': 7, 'n_estimators': 544, 'learning_rate': 0.09088059070117316, 'boosting_type': 'dart', 'reg_alpha': 6.7749021942689645, 'reg_lambda': 1.4108449030721295, 'num_leaves': 98, 'colsample_bytree': 0.7784494885323332, 'subsample': 0.662726361386388, 'subsample_freq': 2, 'max_bin': 173}. Best is trial 25 with value: 0.9024546865625054.\u001b[0m\n",
      "\u001b[32m[I 2023-04-22 23:15:10,065]\u001b[0m Trial 28 finished with value: 0.9021648484328022 and parameters: {'min_child_samples': 28, 'min_data_in_bin': 121, 'min_split_gain': 1.59, 'max_depth': 9, 'n_estimators': 449, 'learning_rate': 0.07794153214105004, 'boosting_type': 'gbdt', 'reg_alpha': 5.095253443427906, 'reg_lambda': 3.2146569869042554, 'num_leaves': 150, 'colsample_bytree': 0.918970027997147, 'subsample': 0.5547697392808612, 'subsample_freq': 1, 'max_bin': 220}. Best is trial 25 with value: 0.9024546865625054.\u001b[0m\n",
      "\u001b[32m[I 2023-04-22 23:17:11,822]\u001b[0m Trial 29 finished with value: 0.8987974480893716 and parameters: {'min_child_samples': 45, 'min_data_in_bin': 82, 'min_split_gain': 0.98, 'max_depth': 8, 'n_estimators': 410, 'learning_rate': 0.0641853822820726, 'boosting_type': 'dart', 'reg_alpha': 4.718905148288878, 'reg_lambda': 1.9472277972968335, 'num_leaves': 67, 'colsample_bytree': 0.7407872303571894, 'subsample': 0.7535861247640596, 'subsample_freq': 4, 'max_bin': 151}. Best is trial 25 with value: 0.9024546865625054.\u001b[0m\n",
      "\u001b[32m[I 2023-04-22 23:17:33,941]\u001b[0m Trial 30 finished with value: 0.9000507834808328 and parameters: {'min_child_samples': 29, 'min_data_in_bin': 1, 'min_split_gain': 2.3000000000000003, 'max_depth': 7, 'n_estimators': 599, 'learning_rate': 0.07819341060408187, 'boosting_type': 'gbdt', 'reg_alpha': 3.561000873244292, 'reg_lambda': 3.0910848910539768, 'num_leaves': 121, 'colsample_bytree': 0.7234396276276954, 'subsample': 0.6767366160726322, 'subsample_freq': 3, 'max_bin': 202}. Best is trial 25 with value: 0.9024546865625054.\u001b[0m\n",
      "\u001b[32m[I 2023-04-22 23:18:02,127]\u001b[0m Trial 31 finished with value: 0.9021137942740868 and parameters: {'min_child_samples': 41, 'min_data_in_bin': 25, 'min_split_gain': 1.33, 'max_depth': 6, 'n_estimators': 481, 'learning_rate': 0.09046023225171486, 'boosting_type': 'gbdt', 'reg_alpha': 5.525958017887775, 'reg_lambda': 2.6268813420318935, 'num_leaves': 106, 'colsample_bytree': 0.719892534796863, 'subsample': 0.6312957008958751, 'subsample_freq': 2, 'max_bin': 193}. Best is trial 25 with value: 0.9024546865625054.\u001b[0m\n"
     ]
    },
    {
     "name": "stdout",
     "output_type": "stream",
     "text": [
      "\u001b[32m[I 2023-04-22 23:18:22,216]\u001b[0m Trial 32 finished with value: 0.9001268825819319 and parameters: {'min_child_samples': 34, 'min_data_in_bin': 33, 'min_split_gain': 1.31, 'max_depth': 4, 'n_estimators': 559, 'learning_rate': 0.09196015366297842, 'boosting_type': 'gbdt', 'reg_alpha': 6.241599072772862, 'reg_lambda': 3.00699439767091, 'num_leaves': 95, 'colsample_bytree': 0.6983201331056106, 'subsample': 0.6801811377153665, 'subsample_freq': 2, 'max_bin': 207}. Best is trial 25 with value: 0.9024546865625054.\u001b[0m\n",
      "\u001b[32m[I 2023-04-22 23:18:43,977]\u001b[0m Trial 33 finished with value: 0.9014915335876978 and parameters: {'min_child_samples': 19, 'min_data_in_bin': 51, 'min_split_gain': 1.86, 'max_depth': 6, 'n_estimators': 527, 'learning_rate': 0.0915839600398036, 'boosting_type': 'gbdt', 'reg_alpha': 4.632122967447247, 'reg_lambda': 1.0745276233820646, 'num_leaves': 169, 'colsample_bytree': 0.6195157009681914, 'subsample': 0.6264189470894124, 'subsample_freq': 2, 'max_bin': 228}. Best is trial 25 with value: 0.9024546865625054.\u001b[0m\n",
      "\u001b[32m[I 2023-04-22 23:19:12,795]\u001b[0m Trial 34 finished with value: 0.9015537598702185 and parameters: {'min_child_samples': 56, 'min_data_in_bin': 36, 'min_split_gain': 1.56, 'max_depth': 8, 'n_estimators': 479, 'learning_rate': 0.08133842720308905, 'boosting_type': 'gbdt', 'reg_alpha': 5.245886300818275, 'reg_lambda': 1.9250797502780128, 'num_leaves': 50, 'colsample_bytree': 0.7740166752483408, 'subsample': 0.5668637314440175, 'subsample_freq': 3, 'max_bin': 183}. Best is trial 25 with value: 0.9024546865625054.\u001b[0m\n",
      "\u001b[32m[I 2023-04-22 23:19:36,515]\u001b[0m Trial 35 finished with value: 0.9013614211355702 and parameters: {'min_child_samples': 43, 'min_data_in_bin': 18, 'min_split_gain': 1.11, 'max_depth': 5, 'n_estimators': 460, 'learning_rate': 0.07816562589763947, 'boosting_type': 'gbdt', 'reg_alpha': 6.1229376664569894, 'reg_lambda': 0.49900749494558383, 'num_leaves': 151, 'colsample_bytree': 0.6941652936195288, 'subsample': 0.7040167688565458, 'subsample_freq': 2, 'max_bin': 196}. Best is trial 25 with value: 0.9024546865625054.\u001b[0m\n",
      "\u001b[32m[I 2023-04-22 23:19:59,436]\u001b[0m Trial 36 finished with value: 0.8998633227211478 and parameters: {'min_child_samples': 19, 'min_data_in_bin': 41, 'min_split_gain': 2.14, 'max_depth': 9, 'n_estimators': 511, 'learning_rate': 0.0881523784947098, 'boosting_type': 'gbdt', 'reg_alpha': 4.9878777640008485, 'reg_lambda': 3.422938896945568, 'num_leaves': 109, 'colsample_bytree': 0.6316956285793729, 'subsample': 0.6410011993874062, 'subsample_freq': 7, 'max_bin': 214}. Best is trial 25 with value: 0.9024546865625054.\u001b[0m\n",
      "\u001b[32m[I 2023-04-22 23:22:01,689]\u001b[0m Trial 37 finished with value: 0.8974603865684303 and parameters: {'min_child_samples': 2, 'min_data_in_bin': 19, 'min_split_gain': 0.7, 'max_depth': 5, 'n_estimators': 562, 'learning_rate': 0.09493388526062266, 'boosting_type': 'dart', 'reg_alpha': 6.780001539793489, 'reg_lambda': 1.6247959398191885, 'num_leaves': 180, 'colsample_bytree': 0.8187184730804555, 'subsample': 0.7466005045857164, 'subsample_freq': 1, 'max_bin': 160}. Best is trial 25 with value: 0.9024546865625054.\u001b[0m\n",
      "\u001b[32m[I 2023-04-22 23:22:10,625]\u001b[0m Trial 38 finished with value: 0.8876749508409809 and parameters: {'min_child_samples': 52, 'min_data_in_bin': 169, 'min_split_gain': 2.6, 'max_depth': 3, 'n_estimators': 314, 'learning_rate': 0.08712186412090624, 'boosting_type': 'gbdt', 'reg_alpha': 3.6083952697880286, 'reg_lambda': 4.595193062805697, 'num_leaves': 7, 'colsample_bytree': 0.7042510697761276, 'subsample': 0.582864068526986, 'subsample_freq': 2, 'max_bin': 182}. Best is trial 25 with value: 0.9024546865625054.\u001b[0m\n",
      "\u001b[32m[I 2023-04-22 23:23:13,307]\u001b[0m Trial 39 finished with value: 0.9000111306114305 and parameters: {'min_child_samples': 24, 'min_data_in_bin': 52, 'min_split_gain': 0.58, 'max_depth': 9, 'n_estimators': 432, 'learning_rate': 0.0854054084369174, 'boosting_type': 'gbdt', 'reg_alpha': 5.572527128305041, 'reg_lambda': 2.5855715192767517, 'num_leaves': 135, 'colsample_bytree': 0.5018080362028583, 'subsample': 0.6094537601214347, 'subsample_freq': 3, 'max_bin': 138}. Best is trial 25 with value: 0.9024546865625054.\u001b[0m\n",
      "\u001b[32m[I 2023-04-22 23:23:53,243]\u001b[0m Trial 40 finished with value: 0.8956888877106552 and parameters: {'min_child_samples': 39, 'min_data_in_bin': 80, 'min_split_gain': 1.36, 'max_depth': 7, 'n_estimators': 191, 'learning_rate': 0.09515425569740375, 'boosting_type': 'dart', 'reg_alpha': 4.504024987981253, 'reg_lambda': 1.0078330141675282, 'num_leaves': 160, 'colsample_bytree': 0.6578378372001924, 'subsample': 0.6446925125429015, 'subsample_freq': 1, 'max_bin': 234}. Best is trial 25 with value: 0.9024546865625054.\u001b[0m\n",
      "\u001b[32m[I 2023-04-22 23:24:28,617]\u001b[0m Trial 41 finished with value: 0.9018524776838864 and parameters: {'min_child_samples': 29, 'min_data_in_bin': 123, 'min_split_gain': 1.6300000000000001, 'max_depth': 9, 'n_estimators': 397, 'learning_rate': 0.07993242840085527, 'boosting_type': 'gbdt', 'reg_alpha': 5.067531927633148, 'reg_lambda': 3.4092965114226073, 'num_leaves': 146, 'colsample_bytree': 0.9217114194793679, 'subsample': 0.5677868860027554, 'subsample_freq': 1, 'max_bin': 216}. Best is trial 25 with value: 0.9024546865625054.\u001b[0m\n",
      "\u001b[32m[I 2023-04-22 23:25:16,790]\u001b[0m Trial 42 finished with value: 0.9022567465030644 and parameters: {'min_child_samples': 32, 'min_data_in_bin': 157, 'min_split_gain': 1.5000000000000002, 'max_depth': 9, 'n_estimators': 526, 'learning_rate': 0.06913261025155122, 'boosting_type': 'gbdt', 'reg_alpha': 4.964006355042601, 'reg_lambda': 3.0700005233205463, 'num_leaves': 126, 'colsample_bytree': 0.9137946917988076, 'subsample': 0.5543066144193711, 'subsample_freq': 1, 'max_bin': 220}. Best is trial 25 with value: 0.9024546865625054.\u001b[0m\n",
      "\u001b[32m[I 2023-04-22 23:25:53,842]\u001b[0m Trial 43 finished with value: 0.9035703262170319 and parameters: {'min_child_samples': 46, 'min_data_in_bin': 165, 'min_split_gain': 2.02, 'max_depth': 9, 'n_estimators': 532, 'learning_rate': 0.07007023535790373, 'boosting_type': 'gbdt', 'reg_alpha': 4.312521248845768, 'reg_lambda': 2.1223385113610878, 'num_leaves': 126, 'colsample_bytree': 0.9577472495500721, 'subsample': 0.6871967589002329, 'subsample_freq': 1, 'max_bin': 248}. Best is trial 43 with value: 0.9035703262170319.\u001b[0m\n",
      "\u001b[32m[I 2023-04-22 23:26:34,084]\u001b[0m Trial 44 finished with value: 0.9034841306123633 and parameters: {'min_child_samples': 48, 'min_data_in_bin': 187, 'min_split_gain': 2.07, 'max_depth': 9, 'n_estimators': 576, 'learning_rate': 0.06896608023952233, 'boosting_type': 'gbdt', 'reg_alpha': 4.1979229900339226, 'reg_lambda': 1.9523831471485535, 'num_leaves': 128, 'colsample_bytree': 0.9758373642379717, 'subsample': 0.6879563291209043, 'subsample_freq': 1, 'max_bin': 246}. Best is trial 43 with value: 0.9035703262170319.\u001b[0m\n",
      "\u001b[32m[I 2023-04-22 23:27:19,931]\u001b[0m Trial 45 finished with value: 0.9036307519568988 and parameters: {'min_child_samples': 47, 'min_data_in_bin': 197, 'min_split_gain': 2.03, 'max_depth': 9, 'n_estimators': 573, 'learning_rate': 0.06707142590628518, 'boosting_type': 'gbdt', 'reg_alpha': 3.419325855056987, 'reg_lambda': 2.145198023541925, 'num_leaves': 88, 'colsample_bytree': 0.9634958907484779, 'subsample': 0.6984360416766194, 'subsample_freq': 1, 'max_bin': 247}. Best is trial 45 with value: 0.9036307519568988.\u001b[0m\n",
      "\u001b[32m[I 2023-04-22 23:27:58,523]\u001b[0m Trial 46 finished with value: 0.903396879710316 and parameters: {'min_child_samples': 47, 'min_data_in_bin': 199, 'min_split_gain': 2.02, 'max_depth': 8, 'n_estimators': 573, 'learning_rate': 0.06328167378854313, 'boosting_type': 'gbdt', 'reg_alpha': 4.156274581580007, 'reg_lambda': 2.037542775195842, 'num_leaves': 80, 'colsample_bytree': 0.958823721066819, 'subsample': 0.6891456386260074, 'subsample_freq': 1, 'max_bin': 247}. Best is trial 45 with value: 0.9036307519568988.\u001b[0m\n",
      "\u001b[32m[I 2023-04-22 23:28:40,202]\u001b[0m Trial 47 finished with value: 0.9035774916107148 and parameters: {'min_child_samples': 49, 'min_data_in_bin': 205, 'min_split_gain': 2.06, 'max_depth': 9, 'n_estimators': 577, 'learning_rate': 0.06132244348712095, 'boosting_type': 'gbdt', 'reg_alpha': 4.233678135160504, 'reg_lambda': 1.7705839920417388, 'num_leaves': 84, 'colsample_bytree': 0.961276523875961, 'subsample': 0.7014470109441512, 'subsample_freq': 1, 'max_bin': 246}. Best is trial 45 with value: 0.9036307519568988.\u001b[0m\n"
     ]
    },
    {
     "name": "stdout",
     "output_type": "stream",
     "text": [
      "\u001b[32m[I 2023-04-22 23:31:28,265]\u001b[0m Trial 48 finished with value: 0.9000291518250398 and parameters: {'min_child_samples': 47, 'min_data_in_bin': 202, 'min_split_gain': 2.3600000000000003, 'max_depth': 8, 'n_estimators': 581, 'learning_rate': 0.06091092526304118, 'boosting_type': 'dart', 'reg_alpha': 3.278619583580455, 'reg_lambda': 0.6912731771074665, 'num_leaves': 29, 'colsample_bytree': 0.9983040688161755, 'subsample': 0.6997011702612052, 'subsample_freq': 1, 'max_bin': 245}. Best is trial 45 with value: 0.9036307519568988.\u001b[0m\n",
      "\u001b[32m[I 2023-04-22 23:32:09,820]\u001b[0m Trial 49 finished with value: 0.9032626395714495 and parameters: {'min_child_samples': 59, 'min_data_in_bin': 224, 'min_split_gain': 2.05, 'max_depth': 9, 'n_estimators': 587, 'learning_rate': 0.0679386366343322, 'boosting_type': 'gbdt', 'reg_alpha': 2.520042922895201, 'reg_lambda': 1.7642838917440364, 'num_leaves': 83, 'colsample_bytree': 0.9536393144726263, 'subsample': 0.7356858903067232, 'subsample_freq': 1, 'max_bin': 228}. Best is trial 45 with value: 0.9036307519568988.\u001b[0m\n",
      "Best score: 0.9036307519568988\n"
     ]
    }
   ],
   "source": [
    "best_params = optimize_lgbm(X_train_enc, y_train, 50)"
   ]
  },
  {
   "cell_type": "code",
   "execution_count": 17,
   "metadata": {},
   "outputs": [
    {
     "data": {
      "text/html": [
       "<style>#sk-container-id-1 {color: black;background-color: white;}#sk-container-id-1 pre{padding: 0;}#sk-container-id-1 div.sk-toggleable {background-color: white;}#sk-container-id-1 label.sk-toggleable__label {cursor: pointer;display: block;width: 100%;margin-bottom: 0;padding: 0.3em;box-sizing: border-box;text-align: center;}#sk-container-id-1 label.sk-toggleable__label-arrow:before {content: \"▸\";float: left;margin-right: 0.25em;color: #696969;}#sk-container-id-1 label.sk-toggleable__label-arrow:hover:before {color: black;}#sk-container-id-1 div.sk-estimator:hover label.sk-toggleable__label-arrow:before {color: black;}#sk-container-id-1 div.sk-toggleable__content {max-height: 0;max-width: 0;overflow: hidden;text-align: left;background-color: #f0f8ff;}#sk-container-id-1 div.sk-toggleable__content pre {margin: 0.2em;color: black;border-radius: 0.25em;background-color: #f0f8ff;}#sk-container-id-1 input.sk-toggleable__control:checked~div.sk-toggleable__content {max-height: 200px;max-width: 100%;overflow: auto;}#sk-container-id-1 input.sk-toggleable__control:checked~label.sk-toggleable__label-arrow:before {content: \"▾\";}#sk-container-id-1 div.sk-estimator input.sk-toggleable__control:checked~label.sk-toggleable__label {background-color: #d4ebff;}#sk-container-id-1 div.sk-label input.sk-toggleable__control:checked~label.sk-toggleable__label {background-color: #d4ebff;}#sk-container-id-1 input.sk-hidden--visually {border: 0;clip: rect(1px 1px 1px 1px);clip: rect(1px, 1px, 1px, 1px);height: 1px;margin: -1px;overflow: hidden;padding: 0;position: absolute;width: 1px;}#sk-container-id-1 div.sk-estimator {font-family: monospace;background-color: #f0f8ff;border: 1px dotted black;border-radius: 0.25em;box-sizing: border-box;margin-bottom: 0.5em;}#sk-container-id-1 div.sk-estimator:hover {background-color: #d4ebff;}#sk-container-id-1 div.sk-parallel-item::after {content: \"\";width: 100%;border-bottom: 1px solid gray;flex-grow: 1;}#sk-container-id-1 div.sk-label:hover label.sk-toggleable__label {background-color: #d4ebff;}#sk-container-id-1 div.sk-serial::before {content: \"\";position: absolute;border-left: 1px solid gray;box-sizing: border-box;top: 0;bottom: 0;left: 50%;z-index: 0;}#sk-container-id-1 div.sk-serial {display: flex;flex-direction: column;align-items: center;background-color: white;padding-right: 0.2em;padding-left: 0.2em;position: relative;}#sk-container-id-1 div.sk-item {position: relative;z-index: 1;}#sk-container-id-1 div.sk-parallel {display: flex;align-items: stretch;justify-content: center;background-color: white;position: relative;}#sk-container-id-1 div.sk-item::before, #sk-container-id-1 div.sk-parallel-item::before {content: \"\";position: absolute;border-left: 1px solid gray;box-sizing: border-box;top: 0;bottom: 0;left: 50%;z-index: -1;}#sk-container-id-1 div.sk-parallel-item {display: flex;flex-direction: column;z-index: 1;position: relative;background-color: white;}#sk-container-id-1 div.sk-parallel-item:first-child::after {align-self: flex-end;width: 50%;}#sk-container-id-1 div.sk-parallel-item:last-child::after {align-self: flex-start;width: 50%;}#sk-container-id-1 div.sk-parallel-item:only-child::after {width: 0;}#sk-container-id-1 div.sk-dashed-wrapped {border: 1px dashed gray;margin: 0 0.4em 0.5em 0.4em;box-sizing: border-box;padding-bottom: 0.4em;background-color: white;}#sk-container-id-1 div.sk-label label {font-family: monospace;font-weight: bold;display: inline-block;line-height: 1.2em;}#sk-container-id-1 div.sk-label-container {text-align: center;}#sk-container-id-1 div.sk-container {/* jupyter's `normalize.less` sets `[hidden] { display: none; }` but bootstrap.min.css set `[hidden] { display: none !important; }` so we also need the `!important` here to be able to override the default hidden behavior on the sphinx rendered scikit-learn.org. See: https://github.com/scikit-learn/scikit-learn/issues/21755 */display: inline-block !important;position: relative;}#sk-container-id-1 div.sk-text-repr-fallback {display: none;}</style><div id=\"sk-container-id-1\" class=\"sk-top-container\"><div class=\"sk-text-repr-fallback\"><pre>Pipeline(steps=[(&#x27;preprocessing&#x27;,\n",
       "                 ColumnTransformer(transformers=[(&#x27;mean_target&#x27;,\n",
       "                                                  TargetEncoder(cols=[&#x27;Tier&#x27;,\n",
       "                                                                      &#x27;Partner &#x27;\n",
       "                                                                      &#x27;Bin&#x27;]),\n",
       "                                                  [&#x27;Tier&#x27;, &#x27;Partner Bin&#x27;]),\n",
       "                                                 (&#x27;pass&#x27;, &#x27;passthrough&#x27;,\n",
       "                                                  [&#x27;FICO&#x27;, &#x27;Term&#x27;, &#x27;Amount&#x27;,\n",
       "                                                   &#x27;Previous_Rate&#x27;,\n",
       "                                                   &#x27;Competition_rate&#x27;,\n",
       "                                                   &#x27;Cost_Funds&#x27;, &#x27;Rate&#x27;,\n",
       "                                                   &#x27;Car_Type_N&#x27;, &#x27;Car_Type_R&#x27;,\n",
       "                                                   &#x27;Car_Type_U&#x27;])])),\n",
       "                (&#x27;model&#x27;,\n",
       "                 LGBMClassifier(colsample_bytree=0.9634958907484779,\n",
       "                                learning_rate=0.06707142590628518, max_bin=247,\n",
       "                                max_depth=9, min_child_samples=47,\n",
       "                                min_data_in_bin=197, min_split_gain=2.03,\n",
       "                                n_estimators=573, num_leaves=88,\n",
       "                                reg_alpha=3.419325855056987,\n",
       "                                reg_lambda=2.145198023541925,\n",
       "                                subsample=0.6984360416766194,\n",
       "                                subsample_freq=1))])</pre><b>In a Jupyter environment, please rerun this cell to show the HTML representation or trust the notebook. <br />On GitHub, the HTML representation is unable to render, please try loading this page with nbviewer.org.</b></div><div class=\"sk-container\" hidden><div class=\"sk-item sk-dashed-wrapped\"><div class=\"sk-label-container\"><div class=\"sk-label sk-toggleable\"><input class=\"sk-toggleable__control sk-hidden--visually\" id=\"sk-estimator-id-1\" type=\"checkbox\" ><label for=\"sk-estimator-id-1\" class=\"sk-toggleable__label sk-toggleable__label-arrow\">Pipeline</label><div class=\"sk-toggleable__content\"><pre>Pipeline(steps=[(&#x27;preprocessing&#x27;,\n",
       "                 ColumnTransformer(transformers=[(&#x27;mean_target&#x27;,\n",
       "                                                  TargetEncoder(cols=[&#x27;Tier&#x27;,\n",
       "                                                                      &#x27;Partner &#x27;\n",
       "                                                                      &#x27;Bin&#x27;]),\n",
       "                                                  [&#x27;Tier&#x27;, &#x27;Partner Bin&#x27;]),\n",
       "                                                 (&#x27;pass&#x27;, &#x27;passthrough&#x27;,\n",
       "                                                  [&#x27;FICO&#x27;, &#x27;Term&#x27;, &#x27;Amount&#x27;,\n",
       "                                                   &#x27;Previous_Rate&#x27;,\n",
       "                                                   &#x27;Competition_rate&#x27;,\n",
       "                                                   &#x27;Cost_Funds&#x27;, &#x27;Rate&#x27;,\n",
       "                                                   &#x27;Car_Type_N&#x27;, &#x27;Car_Type_R&#x27;,\n",
       "                                                   &#x27;Car_Type_U&#x27;])])),\n",
       "                (&#x27;model&#x27;,\n",
       "                 LGBMClassifier(colsample_bytree=0.9634958907484779,\n",
       "                                learning_rate=0.06707142590628518, max_bin=247,\n",
       "                                max_depth=9, min_child_samples=47,\n",
       "                                min_data_in_bin=197, min_split_gain=2.03,\n",
       "                                n_estimators=573, num_leaves=88,\n",
       "                                reg_alpha=3.419325855056987,\n",
       "                                reg_lambda=2.145198023541925,\n",
       "                                subsample=0.6984360416766194,\n",
       "                                subsample_freq=1))])</pre></div></div></div><div class=\"sk-serial\"><div class=\"sk-item sk-dashed-wrapped\"><div class=\"sk-label-container\"><div class=\"sk-label sk-toggleable\"><input class=\"sk-toggleable__control sk-hidden--visually\" id=\"sk-estimator-id-2\" type=\"checkbox\" ><label for=\"sk-estimator-id-2\" class=\"sk-toggleable__label sk-toggleable__label-arrow\">preprocessing: ColumnTransformer</label><div class=\"sk-toggleable__content\"><pre>ColumnTransformer(transformers=[(&#x27;mean_target&#x27;,\n",
       "                                 TargetEncoder(cols=[&#x27;Tier&#x27;, &#x27;Partner Bin&#x27;]),\n",
       "                                 [&#x27;Tier&#x27;, &#x27;Partner Bin&#x27;]),\n",
       "                                (&#x27;pass&#x27;, &#x27;passthrough&#x27;,\n",
       "                                 [&#x27;FICO&#x27;, &#x27;Term&#x27;, &#x27;Amount&#x27;, &#x27;Previous_Rate&#x27;,\n",
       "                                  &#x27;Competition_rate&#x27;, &#x27;Cost_Funds&#x27;, &#x27;Rate&#x27;,\n",
       "                                  &#x27;Car_Type_N&#x27;, &#x27;Car_Type_R&#x27;, &#x27;Car_Type_U&#x27;])])</pre></div></div></div><div class=\"sk-parallel\"><div class=\"sk-parallel-item\"><div class=\"sk-item\"><div class=\"sk-label-container\"><div class=\"sk-label sk-toggleable\"><input class=\"sk-toggleable__control sk-hidden--visually\" id=\"sk-estimator-id-3\" type=\"checkbox\" ><label for=\"sk-estimator-id-3\" class=\"sk-toggleable__label sk-toggleable__label-arrow\">mean_target</label><div class=\"sk-toggleable__content\"><pre>[&#x27;Tier&#x27;, &#x27;Partner Bin&#x27;]</pre></div></div></div><div class=\"sk-serial\"><div class=\"sk-item\"><div class=\"sk-estimator sk-toggleable\"><input class=\"sk-toggleable__control sk-hidden--visually\" id=\"sk-estimator-id-4\" type=\"checkbox\" ><label for=\"sk-estimator-id-4\" class=\"sk-toggleable__label sk-toggleable__label-arrow\">TargetEncoder</label><div class=\"sk-toggleable__content\"><pre>TargetEncoder(cols=[&#x27;Tier&#x27;, &#x27;Partner Bin&#x27;])</pre></div></div></div></div></div></div><div class=\"sk-parallel-item\"><div class=\"sk-item\"><div class=\"sk-label-container\"><div class=\"sk-label sk-toggleable\"><input class=\"sk-toggleable__control sk-hidden--visually\" id=\"sk-estimator-id-5\" type=\"checkbox\" ><label for=\"sk-estimator-id-5\" class=\"sk-toggleable__label sk-toggleable__label-arrow\">pass</label><div class=\"sk-toggleable__content\"><pre>[&#x27;FICO&#x27;, &#x27;Term&#x27;, &#x27;Amount&#x27;, &#x27;Previous_Rate&#x27;, &#x27;Competition_rate&#x27;, &#x27;Cost_Funds&#x27;, &#x27;Rate&#x27;, &#x27;Car_Type_N&#x27;, &#x27;Car_Type_R&#x27;, &#x27;Car_Type_U&#x27;]</pre></div></div></div><div class=\"sk-serial\"><div class=\"sk-item\"><div class=\"sk-estimator sk-toggleable\"><input class=\"sk-toggleable__control sk-hidden--visually\" id=\"sk-estimator-id-6\" type=\"checkbox\" ><label for=\"sk-estimator-id-6\" class=\"sk-toggleable__label sk-toggleable__label-arrow\">passthrough</label><div class=\"sk-toggleable__content\"><pre>passthrough</pre></div></div></div></div></div></div></div></div><div class=\"sk-item\"><div class=\"sk-estimator sk-toggleable\"><input class=\"sk-toggleable__control sk-hidden--visually\" id=\"sk-estimator-id-7\" type=\"checkbox\" ><label for=\"sk-estimator-id-7\" class=\"sk-toggleable__label sk-toggleable__label-arrow\">LGBMClassifier</label><div class=\"sk-toggleable__content\"><pre>LGBMClassifier(colsample_bytree=0.9634958907484779,\n",
       "               learning_rate=0.06707142590628518, max_bin=247, max_depth=9,\n",
       "               min_child_samples=47, min_data_in_bin=197, min_split_gain=2.03,\n",
       "               n_estimators=573, num_leaves=88, reg_alpha=3.419325855056987,\n",
       "               reg_lambda=2.145198023541925, subsample=0.6984360416766194,\n",
       "               subsample_freq=1)</pre></div></div></div></div></div></div></div>"
      ],
      "text/plain": [
       "Pipeline(steps=[('preprocessing',\n",
       "                 ColumnTransformer(transformers=[('mean_target',\n",
       "                                                  TargetEncoder(cols=['Tier',\n",
       "                                                                      'Partner '\n",
       "                                                                      'Bin']),\n",
       "                                                  ['Tier', 'Partner Bin']),\n",
       "                                                 ('pass', 'passthrough',\n",
       "                                                  ['FICO', 'Term', 'Amount',\n",
       "                                                   'Previous_Rate',\n",
       "                                                   'Competition_rate',\n",
       "                                                   'Cost_Funds', 'Rate',\n",
       "                                                   'Car_Type_N', 'Car_Type_R',\n",
       "                                                   'Car_Type_U'])])),\n",
       "                ('model',\n",
       "                 LGBMClassifier(colsample_bytree=0.9634958907484779,\n",
       "                                learning_rate=0.06707142590628518, max_bin=247,\n",
       "                                max_depth=9, min_child_samples=47,\n",
       "                                min_data_in_bin=197, min_split_gain=2.03,\n",
       "                                n_estimators=573, num_leaves=88,\n",
       "                                reg_alpha=3.419325855056987,\n",
       "                                reg_lambda=2.145198023541925,\n",
       "                                subsample=0.6984360416766194,\n",
       "                                subsample_freq=1))])"
      ]
     },
     "execution_count": 17,
     "metadata": {},
     "output_type": "execute_result"
    }
   ],
   "source": [
    "pipeline_lgbm = Pipeline(\n",
    "    steps=[\n",
    "        ('preprocessing', column_transformer_mean_target),\n",
    "        ('model', LGBMClassifier(**best_params))\n",
    "    ]\n",
    ")\n",
    "pipeline_lgbm.fit(X_train, y_train)"
   ]
  },
  {
   "cell_type": "code",
   "execution_count": 110,
   "metadata": {},
   "outputs": [
    {
     "name": "stdout",
     "output_type": "stream",
     "text": [
      "Train ROC-AUC = 0.9113388972514602\n",
      "Valid ROC-AUC = 0.9117439943135851\n",
      "Test ROC-AUC = 0.9009580500971702\n"
     ]
    }
   ],
   "source": [
    "y_pred_train = pipeline_lgbm.predict_proba(X_train)[:, 1]\n",
    "y_pred_valid = pipeline_lgbm.predict_proba(X_valid)[:, 1]\n",
    "y_pred_test = pipeline_lgbm.predict_proba(X_test)[:, 1]\n",
    "print(f'Train ROC-AUC = {roc_auc_score(y_train, y_pred_train)}')\n",
    "print(f'Valid ROC-AUC = {roc_auc_score(y_valid, y_pred_valid)}')\n",
    "print(f'Test ROC-AUC = {roc_auc_score(y_test, y_pred_test)}')"
   ]
  },
  {
   "cell_type": "code",
   "execution_count": 111,
   "metadata": {},
   "outputs": [
    {
     "data": {
      "image/png": "[encoded data removed]",
      "text/plain": [
       "<Figure size 400x400 with 1 Axes>"
      ]
     },
     "metadata": {},
     "output_type": "display_data"
    }
   ],
   "source": [
    "plt.figure(figsize=(4, 4))\n",
    "prob_true, prob_pred = calibration_curve(y_valid, y_pred_valid, n_bins=20)\n",
    "plt.plot(prob_true, prob_pred, 'b', label='My classifier')\n",
    "plt.plot([0, 1], [0, 1], '--r', label='Ideal')\n",
    "plt.legend(loc=2)\n",
    "plt.show()"
   ]
  },
  {
   "cell_type": "code",
   "execution_count": 19,
   "metadata": {},
   "outputs": [],
   "source": [
    "acceptance_model_name = 'acceptance_lgbm_model'\n",
    "joblib.dump(pipeline_lgbm, f'./{acceptance_model_name}.pkl')\n",
    "acceptance_model = joblib.load(f'./{acceptance_model_name}.pkl')"
   ]
  },
  {
   "cell_type": "code",
   "execution_count": null,
   "metadata": {},
   "outputs": [],
   "source": []
  },
  {
   "cell_type": "markdown",
   "metadata": {},
   "source": [
    "### RandomForest на Accept:"
   ]
  },
  {
   "cell_type": "code",
   "execution_count": 271,
   "metadata": {},
   "outputs": [],
   "source": [
    "def optimize_rf(X, y, n_trials=100):\n",
    "    def objective(trial):\n",
    "        params = {\n",
    "            'max_depth': trial.suggest_int('max_depth', 2, 32, log=True),\n",
    "            'n_estimators': trial.suggest_int('n_estimators', 50, 500),\n",
    "            'max_features': trial.suggest_categorical('max_features', ['sqrt', 'log2', None]),\n",
    "            'min_samples_leaf': trial.suggest_int('min_samples_leaf', 1, 20),\n",
    "            'n_jobs': -1,\n",
    "            'random_state': 19,\n",
    "        }\n",
    "\n",
    "        cv = StratifiedKFold(n_splits=5)\n",
    "        model = RandomForestClassifier(**params)\n",
    "        scores = cross_val_score(model, X, y, cv=cv, scoring='roc_auc', verbose=False)\n",
    "        score = np.mean(scores)\n",
    "\n",
    "        return score\n",
    "\n",
    "    sampler = TPESampler(seed=19)\n",
    "    study = create_study(direction='maximize', study_name=\"RF Classifier\", sampler=sampler)\n",
    "    study.optimize(objective, n_trials=n_trials, show_progress_bar=True)\n",
    "    best_pars_mass = study.best_params\n",
    "    print(f'Best score {study.best_value}')\n",
    "    return best_pars_mass"
   ]
  },
  {
   "cell_type": "code",
   "execution_count": 268,
   "metadata": {},
   "outputs": [],
   "source": [
    "column_transformer_mean_target = ColumnTransformer([\n",
    "    ('mean_target', TargetEncoder(cols=cat_cols), cat_cols),\n",
    "    ('pass', 'passthrough', num_cols + other),\n",
    "])"
   ]
  },
  {
   "cell_type": "code",
   "execution_count": 269,
   "metadata": {},
   "outputs": [],
   "source": [
    "X_train_enc = column_transformer_mean_target.fit_transform(X_train, y_train)"
   ]
  },
  {
   "cell_type": "code",
   "execution_count": 272,
   "metadata": {},
   "outputs": [
    {
     "name": "stderr",
     "output_type": "stream",
     "text": [
      "\u001b[32m[I 2023-04-24 22:16:54,653]\u001b[0m A new study created in memory with name: RF Classifier\u001b[0m\n"
     ]
    },
    {
     "data": {
      "application/vnd.jupyter.widget-view+json": {
       "model_id": "f0947a71552544108941528484b0b317",
       "version_major": 2,
       "version_minor": 0
      },
      "text/plain": [
       "  0%|          | 0/50 [00:00<?, ?it/s]"
      ]
     },
     "metadata": {},
     "output_type": "display_data"
    },
    {
     "name": "stdout",
     "output_type": "stream",
     "text": [
      "\u001b[32m[I 2023-04-24 22:17:09,407]\u001b[0m Trial 0 finished with value: 0.7903806230057342 and parameters: {'max_depth': 2, 'n_estimators': 393, 'max_features': None, 'min_samples_leaf': 2}. Best is trial 0 with value: 0.7903806230057342.\u001b[0m\n",
      "\u001b[32m[I 2023-04-24 22:17:25,062]\u001b[0m Trial 1 finished with value: 0.8826890345379367 and parameters: {'max_depth': 12, 'n_estimators': 413, 'max_features': 'sqrt', 'min_samples_leaf': 11}. Best is trial 1 with value: 0.8826890345379367.\u001b[0m\n",
      "\u001b[32m[I 2023-04-24 22:17:30,319]\u001b[0m Trial 2 finished with value: 0.8727366353404798 and parameters: {'max_depth': 8, 'n_estimators': 155, 'max_features': 'log2', 'min_samples_leaf': 11}. Best is trial 1 with value: 0.8826890345379367.\u001b[0m\n",
      "\u001b[32m[I 2023-04-24 22:17:38,597]\u001b[0m Trial 3 finished with value: 0.8552002012108956 and parameters: {'max_depth': 5, 'n_estimators': 360, 'max_features': 'log2', 'min_samples_leaf': 13}. Best is trial 1 with value: 0.8826890345379367.\u001b[0m\n",
      "\u001b[32m[I 2023-04-24 22:17:50,346]\u001b[0m Trial 4 finished with value: 0.879047642922614 and parameters: {'max_depth': 10, 'n_estimators': 339, 'max_features': 'log2', 'min_samples_leaf': 15}. Best is trial 1 with value: 0.8826890345379367.\u001b[0m\n",
      "\u001b[32m[I 2023-04-24 22:17:55,822]\u001b[0m Trial 5 finished with value: 0.8275667679511439 and parameters: {'max_depth': 2, 'n_estimators': 361, 'max_features': 'log2', 'min_samples_leaf': 4}. Best is trial 1 with value: 0.8826890345379367.\u001b[0m\n",
      "\u001b[32m[I 2023-04-24 22:17:58,746]\u001b[0m Trial 6 finished with value: 0.87214312896048 and parameters: {'max_depth': 8, 'n_estimators': 73, 'max_features': 'sqrt', 'min_samples_leaf': 2}. Best is trial 1 with value: 0.8826890345379367.\u001b[0m\n",
      "\u001b[32m[I 2023-04-24 22:18:05,838]\u001b[0m Trial 7 finished with value: 0.8271822548077747 and parameters: {'max_depth': 2, 'n_estimators': 498, 'max_features': 'sqrt', 'min_samples_leaf': 18}. Best is trial 1 with value: 0.8826890345379367.\u001b[0m\n",
      "\u001b[32m[I 2023-04-24 22:18:38,531]\u001b[0m Trial 8 finished with value: 0.8617020798619942 and parameters: {'max_depth': 6, 'n_estimators': 488, 'max_features': None, 'min_samples_leaf': 19}. Best is trial 1 with value: 0.8826890345379367.\u001b[0m\n",
      "\u001b[32m[I 2023-04-24 22:18:58,211]\u001b[0m Trial 9 finished with value: 0.8766417727162693 and parameters: {'max_depth': 27, 'n_estimators': 353, 'max_features': 'sqrt', 'min_samples_leaf': 1}. Best is trial 1 with value: 0.8826890345379367.\u001b[0m\n",
      "\u001b[32m[I 2023-04-24 22:19:09,121]\u001b[0m Trial 10 finished with value: 0.8843992215238969 and parameters: {'max_depth': 21, 'n_estimators': 232, 'max_features': 'sqrt', 'min_samples_leaf': 8}. Best is trial 10 with value: 0.8843992215238969.\u001b[0m\n",
      "\u001b[32m[I 2023-04-24 22:19:19,857]\u001b[0m Trial 11 finished with value: 0.8843448380068683 and parameters: {'max_depth': 26, 'n_estimators': 226, 'max_features': 'sqrt', 'min_samples_leaf': 8}. Best is trial 10 with value: 0.8843992215238969.\u001b[0m\n",
      "\u001b[32m[I 2023-04-24 22:19:31,094]\u001b[0m Trial 12 finished with value: 0.8843000918613626 and parameters: {'max_depth': 30, 'n_estimators': 233, 'max_features': 'sqrt', 'min_samples_leaf': 7}. Best is trial 10 with value: 0.8843992215238969.\u001b[0m\n",
      "\u001b[32m[I 2023-04-24 22:19:42,237]\u001b[0m Trial 13 finished with value: 0.8845933043779294 and parameters: {'max_depth': 19, 'n_estimators': 240, 'max_features': 'sqrt', 'min_samples_leaf': 8}. Best is trial 13 with value: 0.8845933043779294.\u001b[0m\n",
      "\u001b[32m[I 2023-04-24 22:19:50,202]\u001b[0m Trial 14 finished with value: 0.8845945664748698 and parameters: {'max_depth': 18, 'n_estimators': 160, 'max_features': 'sqrt', 'min_samples_leaf': 6}. Best is trial 14 with value: 0.8845945664748698.\u001b[0m\n",
      "\u001b[32m[I 2023-04-24 22:19:56,688]\u001b[0m Trial 15 finished with value: 0.8843647946704886 and parameters: {'max_depth': 17, 'n_estimators': 130, 'max_features': 'sqrt', 'min_samples_leaf': 5}. Best is trial 14 with value: 0.8845945664748698.\u001b[0m\n",
      "\u001b[32m[I 2023-04-24 22:20:20,466]\u001b[0m Trial 16 finished with value: 0.888351987723113 and parameters: {'max_depth': 15, 'n_estimators': 172, 'max_features': None, 'min_samples_leaf': 6}. Best is trial 16 with value: 0.888351987723113.\u001b[0m\n",
      "\u001b[32m[I 2023-04-24 22:20:41,868]\u001b[0m Trial 17 finished with value: 0.8877658707765631 and parameters: {'max_depth': 14, 'n_estimators': 152, 'max_features': None, 'min_samples_leaf': 5}. Best is trial 16 with value: 0.888351987723113.\u001b[0m\n",
      "\u001b[32m[I 2023-04-24 22:20:51,391]\u001b[0m Trial 18 finished with value: 0.8868376240423572 and parameters: {'max_depth': 14, 'n_estimators': 61, 'max_features': None, 'min_samples_leaf': 4}. Best is trial 16 with value: 0.888351987723113.\u001b[0m\n",
      "\u001b[32m[I 2023-04-24 22:21:05,313]\u001b[0m Trial 19 finished with value: 0.8873462494563713 and parameters: {'max_depth': 13, 'n_estimators': 110, 'max_features': None, 'min_samples_leaf': 9}. Best is trial 16 with value: 0.888351987723113.\u001b[0m\n",
      "\u001b[32m[I 2023-04-24 22:21:24,078]\u001b[0m Trial 20 finished with value: 0.8821829958925743 and parameters: {'max_depth': 10, 'n_estimators': 183, 'max_features': None, 'min_samples_leaf': 4}. Best is trial 16 with value: 0.888351987723113.\u001b[0m\n",
      "\u001b[32m[I 2023-04-24 22:21:37,631]\u001b[0m Trial 21 finished with value: 0.8879478131073719 and parameters: {'max_depth': 14, 'n_estimators': 106, 'max_features': None, 'min_samples_leaf': 10}. Best is trial 16 with value: 0.888351987723113.\u001b[0m\n",
      "\u001b[32m[I 2023-04-24 22:21:50,235]\u001b[0m Trial 22 finished with value: 0.8884626592561427 and parameters: {'max_depth': 15, 'n_estimators': 92, 'max_features': None, 'min_samples_leaf': 13}. Best is trial 22 with value: 0.8884626592561427.\u001b[0m\n",
      "\u001b[32m[I 2023-04-24 22:22:04,709]\u001b[0m Trial 23 finished with value: 0.889056827385672 and parameters: {'max_depth': 23, 'n_estimators': 105, 'max_features': None, 'min_samples_leaf': 14}. Best is trial 23 with value: 0.889056827385672.\u001b[0m\n",
      "\u001b[32m[I 2023-04-24 22:22:12,692]\u001b[0m Trial 24 finished with value: 0.8883628873412697 and parameters: {'max_depth': 24, 'n_estimators': 52, 'max_features': None, 'min_samples_leaf': 15}. Best is trial 23 with value: 0.889056827385672.\u001b[0m\n",
      "\u001b[32m[I 2023-04-24 22:22:24,449]\u001b[0m Trial 25 finished with value: 0.8888400145417013 and parameters: {'max_depth': 22, 'n_estimators': 83, 'max_features': None, 'min_samples_leaf': 16}. Best is trial 23 with value: 0.889056827385672.\u001b[0m\n",
      "\u001b[32m[I 2023-04-24 22:22:44,939]\u001b[0m Trial 26 finished with value: 0.8888822506934144 and parameters: {'max_depth': 31, 'n_estimators': 95, 'max_features': None, 'min_samples_leaf': 16}. Best is trial 23 with value: 0.889056827385672.\u001b[0m\n",
      "\u001b[32m[I 2023-04-24 22:24:23,192]\u001b[0m Trial 27 finished with value: 0.8890883523199712 and parameters: {'max_depth': 24, 'n_estimators': 297, 'max_features': None, 'min_samples_leaf': 17}. Best is trial 27 with value: 0.8890883523199712.\u001b[0m\n",
      "\u001b[32m[I 2023-04-24 22:25:08,758]\u001b[0m Trial 28 finished with value: 0.8889200994790318 and parameters: {'max_depth': 32, 'n_estimators': 294, 'max_features': None, 'min_samples_leaf': 20}. Best is trial 27 with value: 0.8890883523199712.\u001b[0m\n",
      "\u001b[32m[I 2023-04-24 22:25:55,871]\u001b[0m Trial 29 finished with value: 0.8889254455378595 and parameters: {'max_depth': 32, 'n_estimators': 297, 'max_features': None, 'min_samples_leaf': 20}. Best is trial 27 with value: 0.8890883523199712.\u001b[0m\n",
      "\u001b[32m[I 2023-04-24 22:26:41,355]\u001b[0m Trial 30 finished with value: 0.8890661715209314 and parameters: {'max_depth': 24, 'n_estimators': 292, 'max_features': None, 'min_samples_leaf': 18}. Best is trial 27 with value: 0.8890883523199712.\u001b[0m\n",
      "\u001b[32m[I 2023-04-24 22:27:26,158]\u001b[0m Trial 31 finished with value: 0.8890801740236455 and parameters: {'max_depth': 24, 'n_estimators': 296, 'max_features': None, 'min_samples_leaf': 18}. Best is trial 27 with value: 0.8890883523199712.\u001b[0m\n",
      "\u001b[32m[I 2023-04-24 22:28:07,015]\u001b[0m Trial 32 finished with value: 0.8890560471768874 and parameters: {'max_depth': 23, 'n_estimators': 273, 'max_features': None, 'min_samples_leaf': 18}. Best is trial 27 with value: 0.8890883523199712.\u001b[0m\n",
      "\u001b[32m[I 2023-04-24 22:29:06,200]\u001b[0m Trial 33 finished with value: 0.8891439183707188 and parameters: {'max_depth': 20, 'n_estimators': 396, 'max_features': None, 'min_samples_leaf': 17}. Best is trial 33 with value: 0.8891439183707188.\u001b[0m\n",
      "\u001b[32m[I 2023-04-24 22:30:08,584]\u001b[0m Trial 34 finished with value: 0.889123080281939 and parameters: {'max_depth': 19, 'n_estimators': 421, 'max_features': None, 'min_samples_leaf': 17}. Best is trial 33 with value: 0.8891439183707188.\u001b[0m\n"
     ]
    },
    {
     "name": "stdout",
     "output_type": "stream",
     "text": [
      "\u001b[32m[I 2023-04-24 22:30:30,096]\u001b[0m Trial 35 finished with value: 0.8840080824440847 and parameters: {'max_depth': 19, 'n_estimators': 434, 'max_features': 'log2', 'min_samples_leaf': 17}. Best is trial 33 with value: 0.8891439183707188.\u001b[0m\n",
      "\u001b[32m[I 2023-04-24 22:31:30,927]\u001b[0m Trial 36 finished with value: 0.88911591792568 and parameters: {'max_depth': 17, 'n_estimators': 406, 'max_features': None, 'min_samples_leaf': 12}. Best is trial 33 with value: 0.8891439183707188.\u001b[0m\n",
      "\u001b[32m[I 2023-04-24 22:31:48,129]\u001b[0m Trial 37 finished with value: 0.8811973113549918 and parameters: {'max_depth': 11, 'n_estimators': 408, 'max_features': 'log2', 'min_samples_leaf': 12}. Best is trial 33 with value: 0.8891439183707188.\u001b[0m\n",
      "\u001b[32m[I 2023-04-24 22:32:54,082]\u001b[0m Trial 38 finished with value: 0.8890273189347513 and parameters: {'max_depth': 17, 'n_estimators': 449, 'max_features': None, 'min_samples_leaf': 15}. Best is trial 33 with value: 0.8891439183707188.\u001b[0m\n",
      "\u001b[32m[I 2023-04-24 22:33:44,578]\u001b[0m Trial 39 finished with value: 0.8864633390061092 and parameters: {'max_depth': 12, 'n_estimators': 386, 'max_features': None, 'min_samples_leaf': 12}. Best is trial 33 with value: 0.8891439183707188.\u001b[0m\n",
      "\u001b[32m[I 2023-04-24 22:34:07,591]\u001b[0m Trial 40 finished with value: 0.8841056566749008 and parameters: {'max_depth': 20, 'n_estimators': 464, 'max_features': 'log2', 'min_samples_leaf': 16}. Best is trial 33 with value: 0.8891439183707188.\u001b[0m\n",
      "\u001b[32m[I 2023-04-24 22:34:57,447]\u001b[0m Trial 41 finished with value: 0.8890249050416221 and parameters: {'max_depth': 27, 'n_estimators': 331, 'max_features': None, 'min_samples_leaf': 19}. Best is trial 33 with value: 0.8891439183707188.\u001b[0m\n",
      "\u001b[32m[I 2023-04-24 22:35:53,124]\u001b[0m Trial 42 finished with value: 0.8889359980731841 and parameters: {'max_depth': 17, 'n_estimators': 376, 'max_features': None, 'min_samples_leaf': 17}. Best is trial 33 with value: 0.8891439183707188.\u001b[0m\n",
      "\u001b[32m[I 2023-04-24 22:36:57,594]\u001b[0m Trial 43 finished with value: 0.8893005229316241 and parameters: {'max_depth': 21, 'n_estimators': 419, 'max_features': None, 'min_samples_leaf': 14}. Best is trial 43 with value: 0.8893005229316241.\u001b[0m\n",
      "\u001b[32m[I 2023-04-24 22:38:01,427]\u001b[0m Trial 44 finished with value: 0.889294860905127 and parameters: {'max_depth': 20, 'n_estimators': 422, 'max_features': None, 'min_samples_leaf': 14}. Best is trial 43 with value: 0.8893005229316241.\u001b[0m\n",
      "\u001b[32m[I 2023-04-24 22:39:04,736]\u001b[0m Trial 45 finished with value: 0.889292011567324 and parameters: {'max_depth': 20, 'n_estimators': 417, 'max_features': None, 'min_samples_leaf': 14}. Best is trial 43 with value: 0.8893005229316241.\u001b[0m\n",
      "\u001b[32m[I 2023-04-24 22:40:10,339]\u001b[0m Trial 46 finished with value: 0.8892905817916098 and parameters: {'max_depth': 28, 'n_estimators': 429, 'max_features': None, 'min_samples_leaf': 14}. Best is trial 43 with value: 0.8893005229316241.\u001b[0m\n",
      "\u001b[32m[I 2023-04-24 22:40:34,872]\u001b[0m Trial 47 finished with value: 0.8842954007840754 and parameters: {'max_depth': 28, 'n_estimators': 473, 'max_features': 'log2', 'min_samples_leaf': 14}. Best is trial 43 with value: 0.8893005229316241.\u001b[0m\n",
      "\u001b[32m[I 2023-04-24 22:41:41,444]\u001b[0m Trial 48 finished with value: 0.8892869162681327 and parameters: {'max_depth': 21, 'n_estimators': 437, 'max_features': None, 'min_samples_leaf': 14}. Best is trial 43 with value: 0.8893005229316241.\u001b[0m\n",
      "\u001b[32m[I 2023-04-24 22:42:28,155]\u001b[0m Trial 49 finished with value: 0.8789921011902508 and parameters: {'max_depth': 9, 'n_estimators': 438, 'max_features': None, 'min_samples_leaf': 14}. Best is trial 43 with value: 0.8893005229316241.\u001b[0m\n",
      "Best score 0.8893005229316241\n"
     ]
    }
   ],
   "source": [
    "best_params = optimize_rf(X_train_enc, y_train, 50)"
   ]
  },
  {
   "cell_type": "code",
   "execution_count": 276,
   "metadata": {},
   "outputs": [
    {
     "data": {
      "text/html": [
       "<style>#sk-container-id-3 {color: black;background-color: white;}#sk-container-id-3 pre{padding: 0;}#sk-container-id-3 div.sk-toggleable {background-color: white;}#sk-container-id-3 label.sk-toggleable__label {cursor: pointer;display: block;width: 100%;margin-bottom: 0;padding: 0.3em;box-sizing: border-box;text-align: center;}#sk-container-id-3 label.sk-toggleable__label-arrow:before {content: \"▸\";float: left;margin-right: 0.25em;color: #696969;}#sk-container-id-3 label.sk-toggleable__label-arrow:hover:before {color: black;}#sk-container-id-3 div.sk-estimator:hover label.sk-toggleable__label-arrow:before {color: black;}#sk-container-id-3 div.sk-toggleable__content {max-height: 0;max-width: 0;overflow: hidden;text-align: left;background-color: #f0f8ff;}#sk-container-id-3 div.sk-toggleable__content pre {margin: 0.2em;color: black;border-radius: 0.25em;background-color: #f0f8ff;}#sk-container-id-3 input.sk-toggleable__control:checked~div.sk-toggleable__content {max-height: 200px;max-width: 100%;overflow: auto;}#sk-container-id-3 input.sk-toggleable__control:checked~label.sk-toggleable__label-arrow:before {content: \"▾\";}#sk-container-id-3 div.sk-estimator input.sk-toggleable__control:checked~label.sk-toggleable__label {background-color: #d4ebff;}#sk-container-id-3 div.sk-label input.sk-toggleable__control:checked~label.sk-toggleable__label {background-color: #d4ebff;}#sk-container-id-3 input.sk-hidden--visually {border: 0;clip: rect(1px 1px 1px 1px);clip: rect(1px, 1px, 1px, 1px);height: 1px;margin: -1px;overflow: hidden;padding: 0;position: absolute;width: 1px;}#sk-container-id-3 div.sk-estimator {font-family: monospace;background-color: #f0f8ff;border: 1px dotted black;border-radius: 0.25em;box-sizing: border-box;margin-bottom: 0.5em;}#sk-container-id-3 div.sk-estimator:hover {background-color: #d4ebff;}#sk-container-id-3 div.sk-parallel-item::after {content: \"\";width: 100%;border-bottom: 1px solid gray;flex-grow: 1;}#sk-container-id-3 div.sk-label:hover label.sk-toggleable__label {background-color: #d4ebff;}#sk-container-id-3 div.sk-serial::before {content: \"\";position: absolute;border-left: 1px solid gray;box-sizing: border-box;top: 0;bottom: 0;left: 50%;z-index: 0;}#sk-container-id-3 div.sk-serial {display: flex;flex-direction: column;align-items: center;background-color: white;padding-right: 0.2em;padding-left: 0.2em;position: relative;}#sk-container-id-3 div.sk-item {position: relative;z-index: 1;}#sk-container-id-3 div.sk-parallel {display: flex;align-items: stretch;justify-content: center;background-color: white;position: relative;}#sk-container-id-3 div.sk-item::before, #sk-container-id-3 div.sk-parallel-item::before {content: \"\";position: absolute;border-left: 1px solid gray;box-sizing: border-box;top: 0;bottom: 0;left: 50%;z-index: -1;}#sk-container-id-3 div.sk-parallel-item {display: flex;flex-direction: column;z-index: 1;position: relative;background-color: white;}#sk-container-id-3 div.sk-parallel-item:first-child::after {align-self: flex-end;width: 50%;}#sk-container-id-3 div.sk-parallel-item:last-child::after {align-self: flex-start;width: 50%;}#sk-container-id-3 div.sk-parallel-item:only-child::after {width: 0;}#sk-container-id-3 div.sk-dashed-wrapped {border: 1px dashed gray;margin: 0 0.4em 0.5em 0.4em;box-sizing: border-box;padding-bottom: 0.4em;background-color: white;}#sk-container-id-3 div.sk-label label {font-family: monospace;font-weight: bold;display: inline-block;line-height: 1.2em;}#sk-container-id-3 div.sk-label-container {text-align: center;}#sk-container-id-3 div.sk-container {/* jupyter's `normalize.less` sets `[hidden] { display: none; }` but bootstrap.min.css set `[hidden] { display: none !important; }` so we also need the `!important` here to be able to override the default hidden behavior on the sphinx rendered scikit-learn.org. See: https://github.com/scikit-learn/scikit-learn/issues/21755 */display: inline-block !important;position: relative;}#sk-container-id-3 div.sk-text-repr-fallback {display: none;}</style><div id=\"sk-container-id-3\" class=\"sk-top-container\"><div class=\"sk-text-repr-fallback\"><pre>Pipeline(steps=[(&#x27;preprocessing&#x27;,\n",
       "                 ColumnTransformer(transformers=[(&#x27;mean_target&#x27;,\n",
       "                                                  TargetEncoder(cols=[&#x27;Tier&#x27;,\n",
       "                                                                      &#x27;Partner &#x27;\n",
       "                                                                      &#x27;Bin&#x27;]),\n",
       "                                                  [&#x27;Tier&#x27;, &#x27;Partner Bin&#x27;]),\n",
       "                                                 (&#x27;pass&#x27;, &#x27;passthrough&#x27;,\n",
       "                                                  [&#x27;FICO&#x27;, &#x27;Term&#x27;, &#x27;Amount&#x27;,\n",
       "                                                   &#x27;Previous_Rate&#x27;,\n",
       "                                                   &#x27;Competition_rate&#x27;,\n",
       "                                                   &#x27;Cost_Funds&#x27;, &#x27;Rate&#x27;,\n",
       "                                                   &#x27;Car_Type_N&#x27;, &#x27;Car_Type_R&#x27;,\n",
       "                                                   &#x27;Car_Type_U&#x27;])])),\n",
       "                (&#x27;model&#x27;,\n",
       "                 RandomForestClassifier(max_depth=23, max_features=None,\n",
       "                                        min_samples_leaf=14, n_estimators=105,\n",
       "                                        n_jobs=-1, random_state=19))])</pre><b>In a Jupyter environment, please rerun this cell to show the HTML representation or trust the notebook. <br />On GitHub, the HTML representation is unable to render, please try loading this page with nbviewer.org.</b></div><div class=\"sk-container\" hidden><div class=\"sk-item sk-dashed-wrapped\"><div class=\"sk-label-container\"><div class=\"sk-label sk-toggleable\"><input class=\"sk-toggleable__control sk-hidden--visually\" id=\"sk-estimator-id-17\" type=\"checkbox\" ><label for=\"sk-estimator-id-17\" class=\"sk-toggleable__label sk-toggleable__label-arrow\">Pipeline</label><div class=\"sk-toggleable__content\"><pre>Pipeline(steps=[(&#x27;preprocessing&#x27;,\n",
       "                 ColumnTransformer(transformers=[(&#x27;mean_target&#x27;,\n",
       "                                                  TargetEncoder(cols=[&#x27;Tier&#x27;,\n",
       "                                                                      &#x27;Partner &#x27;\n",
       "                                                                      &#x27;Bin&#x27;]),\n",
       "                                                  [&#x27;Tier&#x27;, &#x27;Partner Bin&#x27;]),\n",
       "                                                 (&#x27;pass&#x27;, &#x27;passthrough&#x27;,\n",
       "                                                  [&#x27;FICO&#x27;, &#x27;Term&#x27;, &#x27;Amount&#x27;,\n",
       "                                                   &#x27;Previous_Rate&#x27;,\n",
       "                                                   &#x27;Competition_rate&#x27;,\n",
       "                                                   &#x27;Cost_Funds&#x27;, &#x27;Rate&#x27;,\n",
       "                                                   &#x27;Car_Type_N&#x27;, &#x27;Car_Type_R&#x27;,\n",
       "                                                   &#x27;Car_Type_U&#x27;])])),\n",
       "                (&#x27;model&#x27;,\n",
       "                 RandomForestClassifier(max_depth=23, max_features=None,\n",
       "                                        min_samples_leaf=14, n_estimators=105,\n",
       "                                        n_jobs=-1, random_state=19))])</pre></div></div></div><div class=\"sk-serial\"><div class=\"sk-item sk-dashed-wrapped\"><div class=\"sk-label-container\"><div class=\"sk-label sk-toggleable\"><input class=\"sk-toggleable__control sk-hidden--visually\" id=\"sk-estimator-id-18\" type=\"checkbox\" ><label for=\"sk-estimator-id-18\" class=\"sk-toggleable__label sk-toggleable__label-arrow\">preprocessing: ColumnTransformer</label><div class=\"sk-toggleable__content\"><pre>ColumnTransformer(transformers=[(&#x27;mean_target&#x27;,\n",
       "                                 TargetEncoder(cols=[&#x27;Tier&#x27;, &#x27;Partner Bin&#x27;]),\n",
       "                                 [&#x27;Tier&#x27;, &#x27;Partner Bin&#x27;]),\n",
       "                                (&#x27;pass&#x27;, &#x27;passthrough&#x27;,\n",
       "                                 [&#x27;FICO&#x27;, &#x27;Term&#x27;, &#x27;Amount&#x27;, &#x27;Previous_Rate&#x27;,\n",
       "                                  &#x27;Competition_rate&#x27;, &#x27;Cost_Funds&#x27;, &#x27;Rate&#x27;,\n",
       "                                  &#x27;Car_Type_N&#x27;, &#x27;Car_Type_R&#x27;, &#x27;Car_Type_U&#x27;])])</pre></div></div></div><div class=\"sk-parallel\"><div class=\"sk-parallel-item\"><div class=\"sk-item\"><div class=\"sk-label-container\"><div class=\"sk-label sk-toggleable\"><input class=\"sk-toggleable__control sk-hidden--visually\" id=\"sk-estimator-id-19\" type=\"checkbox\" ><label for=\"sk-estimator-id-19\" class=\"sk-toggleable__label sk-toggleable__label-arrow\">mean_target</label><div class=\"sk-toggleable__content\"><pre>[&#x27;Tier&#x27;, &#x27;Partner Bin&#x27;]</pre></div></div></div><div class=\"sk-serial\"><div class=\"sk-item\"><div class=\"sk-estimator sk-toggleable\"><input class=\"sk-toggleable__control sk-hidden--visually\" id=\"sk-estimator-id-20\" type=\"checkbox\" ><label for=\"sk-estimator-id-20\" class=\"sk-toggleable__label sk-toggleable__label-arrow\">TargetEncoder</label><div class=\"sk-toggleable__content\"><pre>TargetEncoder(cols=[&#x27;Tier&#x27;, &#x27;Partner Bin&#x27;])</pre></div></div></div></div></div></div><div class=\"sk-parallel-item\"><div class=\"sk-item\"><div class=\"sk-label-container\"><div class=\"sk-label sk-toggleable\"><input class=\"sk-toggleable__control sk-hidden--visually\" id=\"sk-estimator-id-21\" type=\"checkbox\" ><label for=\"sk-estimator-id-21\" class=\"sk-toggleable__label sk-toggleable__label-arrow\">pass</label><div class=\"sk-toggleable__content\"><pre>[&#x27;FICO&#x27;, &#x27;Term&#x27;, &#x27;Amount&#x27;, &#x27;Previous_Rate&#x27;, &#x27;Competition_rate&#x27;, &#x27;Cost_Funds&#x27;, &#x27;Rate&#x27;, &#x27;Car_Type_N&#x27;, &#x27;Car_Type_R&#x27;, &#x27;Car_Type_U&#x27;]</pre></div></div></div><div class=\"sk-serial\"><div class=\"sk-item\"><div class=\"sk-estimator sk-toggleable\"><input class=\"sk-toggleable__control sk-hidden--visually\" id=\"sk-estimator-id-22\" type=\"checkbox\" ><label for=\"sk-estimator-id-22\" class=\"sk-toggleable__label sk-toggleable__label-arrow\">passthrough</label><div class=\"sk-toggleable__content\"><pre>passthrough</pre></div></div></div></div></div></div></div></div><div class=\"sk-item\"><div class=\"sk-estimator sk-toggleable\"><input class=\"sk-toggleable__control sk-hidden--visually\" id=\"sk-estimator-id-23\" type=\"checkbox\" ><label for=\"sk-estimator-id-23\" class=\"sk-toggleable__label sk-toggleable__label-arrow\">RandomForestClassifier</label><div class=\"sk-toggleable__content\"><pre>RandomForestClassifier(max_depth=23, max_features=None, min_samples_leaf=14,\n",
       "                       n_estimators=105, n_jobs=-1, random_state=19)</pre></div></div></div></div></div></div></div>"
      ],
      "text/plain": [
       "Pipeline(steps=[('preprocessing',\n",
       "                 ColumnTransformer(transformers=[('mean_target',\n",
       "                                                  TargetEncoder(cols=['Tier',\n",
       "                                                                      'Partner '\n",
       "                                                                      'Bin']),\n",
       "                                                  ['Tier', 'Partner Bin']),\n",
       "                                                 ('pass', 'passthrough',\n",
       "                                                  ['FICO', 'Term', 'Amount',\n",
       "                                                   'Previous_Rate',\n",
       "                                                   'Competition_rate',\n",
       "                                                   'Cost_Funds', 'Rate',\n",
       "                                                   'Car_Type_N', 'Car_Type_R',\n",
       "                                                   'Car_Type_U'])])),\n",
       "                ('model',\n",
       "                 RandomForestClassifier(max_depth=23, max_features=None,\n",
       "                                        min_samples_leaf=14, n_estimators=105,\n",
       "                                        n_jobs=-1, random_state=19))])"
      ]
     },
     "execution_count": 276,
     "metadata": {},
     "output_type": "execute_result"
    }
   ],
   "source": [
    "pipeline_rf = Pipeline(\n",
    "    steps=[\n",
    "        ('preprocessing', column_transformer_mean_target),\n",
    "        ('model', RandomForestClassifier(**best_params))\n",
    "    ]\n",
    ")\n",
    "pipeline_rf.fit(X_train, y_train)"
   ]
  },
  {
   "cell_type": "code",
   "execution_count": 277,
   "metadata": {},
   "outputs": [
    {
     "name": "stdout",
     "output_type": "stream",
     "text": [
      "Train ROC-AUC = 0.9439416298736929\n",
      "Valid ROC-AUC = 0.8933848566250957\n",
      "Test ROC-AUC = 0.8887829336239049\n"
     ]
    }
   ],
   "source": [
    "y_pred_train = pipeline_rf.predict_proba(X_train)[:, 1]\n",
    "y_pred_valid = pipeline_rf.predict_proba(X_valid)[:, 1]\n",
    "y_pred_test = pipeline_rf.predict_proba(X_test)[:, 1]\n",
    "print(f'Train ROC-AUC = {roc_auc_score(y_train, y_pred_train)}')\n",
    "print(f'Valid ROC-AUC = {roc_auc_score(y_valid, y_pred_valid)}')\n",
    "print(f'Test ROC-AUC = {roc_auc_score(y_test, y_pred_test)}')"
   ]
  },
  {
   "cell_type": "code",
   "execution_count": 279,
   "metadata": {},
   "outputs": [
    {
     "data": {
      "image/png": "[encoded data removed]",
      "text/plain": [
       "<Figure size 400x400 with 1 Axes>"
      ]
     },
     "metadata": {},
     "output_type": "display_data"
    }
   ],
   "source": [
    "plt.figure(figsize=(4, 4))\n",
    "prob_true, prob_pred = calibration_curve(y_valid, y_pred_valid, n_bins=20)\n",
    "plt.plot(prob_true, prob_pred, 'b', label='My classifier')\n",
    "plt.plot([0, 1], [0, 1], '--r', label='Ideal')\n",
    "plt.legend(loc=2)\n",
    "plt.show()"
   ]
  },
  {
   "cell_type": "code",
   "execution_count": 280,
   "metadata": {},
   "outputs": [],
   "source": [
    "acceptance_model_name = 'acceptance_rf_model'\n",
    "joblib.dump(pipeline_rf, f'./{acceptance_model_name}.pkl')\n",
    "acceptance_model = joblib.load(f'./{acceptance_model_name}.pkl')"
   ]
  },
  {
   "cell_type": "code",
   "execution_count": null,
   "metadata": {},
   "outputs": [],
   "source": []
  }
 ],
 "metadata": {
  "kernelspec": {
   "display_name": "kernel_38",
   "language": "python",
   "name": "kernel_38"
  },
  "language_info": {
   "codemirror_mode": {
    "name": "ipython",
    "version": 3
   },
   "file_extension": ".py",
   "mimetype": "text/x-python",
   "name": "python",
   "nbconvert_exporter": "python",
   "pygments_lexer": "ipython3",
   "version": "3.8.15"
  }
 },
 "nbformat": 4,
 "nbformat_minor": 4
}
